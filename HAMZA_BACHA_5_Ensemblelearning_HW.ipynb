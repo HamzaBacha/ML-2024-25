{
  "cells": [
    {
      "cell_type": "markdown",
      "metadata": {
        "id": "P0tnOpaLBcqT"
      },
      "source": [
        "# Homework #5\n",
        "\n",
        "## Ensemble learning\n",
        "\n",
        "This colaboratory contains Homework #5 of the Machine Learning course, which is due **November 17, midnight (23:59 EEST time)**. To complete the homework, extract **(File -> Download .ipynb)** and submit to the course webpage.\n",
        "\n",
        "\n",
        "## Submission's rules:\n",
        "\n",
        "1.   Please, submit only .ipynb that you extract from the Colaboratory.\n",
        "2. Run your homework exercises before submitting (output should be present, preferably restart the kernel and press run all the cells).\n",
        "3. Do not change the description of tasks in red (even if there is a typo|mistake|etc).\n",
        "4. Please, make sure to avoid unnecessary long printouts.\n",
        "5. Each task should be solved right under the question of the task and not elsewhere.\n",
        "6. Solutions to both regular and bonus exercises should be submitted in one IPYNB file.\n",
        "\n",
        "Please, steer clear of copying someone else's work. If you discuss assignments with anyone in the course, please, mention their names here:\n",
        "\n",
        "Pooh"
      ]
    },
    {
      "cell_type": "markdown",
      "metadata": {
        "id": "69QmUc_2rfZT"
      },
      "source": [
        "##List of Homework's exercises:\n",
        "\n",
        "1.   [Ex1](#scrollTo=ux5PBYkbwewj) - 2 points\n",
        "2.   [Ex2](#scrollTo=Z5C3GX9eXFF_) - 4 points\n",
        "3.   [Ex3](#scrollTo=uHQscVCD7rM0) - 4 points\n",
        "4.   [Bonus 1](#scrollTo=iJeG56t9-jWI) - 1 point\n",
        "5.   [Bonus 2](#scrollTo=cLoHOqAcu0Q9) - up to 3 points\n",
        "6.   [Bonus 3](#scrollTo=jdZkblZW7bEp) - up to 3 points (based on quality of presentation)\n"
      ]
    },
    {
      "cell_type": "markdown",
      "metadata": {
        "id": "ux5PBYkbwewj"
      },
      "source": [
        "\n",
        "\n",
        "---\n",
        "\n",
        "\n",
        "## Homework exercise 1: implement and train a bagging classifier with 3 K-NN models as estimators (2 points)\n",
        "\n",
        "\n",
        "<font color='red'> In this exercise you will need to use `classify_knn` function from the first practice session to train three different KNN models on three resamples of this dataset. </font>\n"
      ]
    },
    {
      "cell_type": "code",
      "source": [
        "import pandas as pd\n",
        "import numpy as np"
      ],
      "metadata": {
        "id": "K2bnT-fnyXkc"
      },
      "execution_count": 1,
      "outputs": []
    },
    {
      "cell_type": "code",
      "source": [
        "def create_random_2c_data (D, N):\n",
        "  \"\"\"\n",
        "  Function create_random_2c_data generates two sets of D dimensional\n",
        "  points (N points each), one for each class. The first set is sampled from D\n",
        "  dimensional Gaussian distribution with mean 0 and standard deviation 1. The\n",
        "  second set is generated from the distribution, with mean 1 and standard\n",
        "  deviation 1.\n",
        "  \"\"\"\n",
        "  # Generating N points for the first class\n",
        "  mu_vec1 = np.zeros(D) # creates a vector of zeros, these are averages across each dimension\n",
        "  cov_mat1 = np.eye(D) # creates a diagonal matrix of size D x D, all values except diagonal are 0\n",
        "  class1_sample = np.random.multivariate_normal(mu_vec1, cov_mat1, N)\n",
        "\n",
        "  # The same stuff as above, just averages are shifted into 1\n",
        "  mu_vec2 = np.ones(D) # creates a vector of ones\n",
        "  cov_mat2 = np.eye(D)\n",
        "  class2_sample = np.random.multivariate_normal(mu_vec2, cov_mat2, N)\n",
        "\n",
        "  # a lot of boring things....\n",
        "  # gluing together two matrices generated above\n",
        "  data = pd.DataFrame(np.concatenate((class1_sample, class2_sample)))\n",
        "\n",
        "  # Create names for columns\n",
        "  data.columns = [ 'x' + str(i) for i in (np.arange(D)+1)]\n",
        "\n",
        "  # Create a class column\n",
        "  data['class'] = np.concatenate((np.repeat(0, N), np.repeat(1, N)))\n",
        "\n",
        "  # This is important for plotting and modelling\n",
        "  data['class'] = data['class'].astype('category')\n",
        "\n",
        "  return data"
      ],
      "metadata": {
        "id": "L3-FGHFoySZB"
      },
      "execution_count": 2,
      "outputs": []
    },
    {
      "cell_type": "code",
      "execution_count": 3,
      "metadata": {
        "id": "uTaUH_073gW7"
      },
      "outputs": [],
      "source": [
        "from sklearn.model_selection import train_test_split\n",
        "from sklearn.utils import resample\n",
        "np.random.seed(2342347823) # random seed, this number was random, no need to build conspiracies around it\n",
        "\n",
        "D = 2 # two dimensions\n",
        "N = 100 # points per class\n",
        "\n",
        "whole_data = create_random_2c_data(D, N)\n",
        "\n",
        "# Randomly splitting data into train (60%) and validation (40%)\n",
        "train, val = train_test_split(whole_data, random_state = 111, test_size = 0.40)\n",
        "\n",
        "n_bootstraps = 3\n",
        "np.random.seed(1111)\n",
        "\n",
        "# creating resamples\n",
        "resamples = [resample(train, n_samples = len(train), replace=True).index.values for i in range(n_bootstraps)]\n",
        "\n",
        "# first resample\n",
        "train_resample1 = train.loc[resamples[0]]\n",
        "\n",
        "# second resample\n",
        "train_resample2 = train.loc[resamples[1]]\n",
        "\n",
        "# third resample\n",
        "train_resample3 = train.loc[resamples[2]]"
      ]
    },
    {
      "cell_type": "markdown",
      "metadata": {
        "id": "312O_UNcJI8l"
      },
      "source": [
        "<font color='red'> Here, I just convert pandas DataFrame into Numpy arrays that are easier to use list comprehension mechanisms on. </font>"
      ]
    },
    {
      "cell_type": "code",
      "execution_count": 4,
      "metadata": {
        "id": "5q0MBD_RBQPh"
      },
      "outputs": [],
      "source": [
        "train1 = np.asarray(train_resample1[['x1','x2']])\n",
        "labels1 = np.asarray(train_resample1[['class']]).reshape((train_resample1.shape[0]))\n",
        "\n",
        "train2 = np.asarray(train_resample2[['x1','x2']])\n",
        "labels2 = np.asarray(train_resample2[['class']]).reshape((train_resample2.shape[0]))\n",
        "\n",
        "train3 = np.asarray(train_resample3[['x1','x2']])\n",
        "labels3 = np.asarray(train_resample3[['class']]).reshape((train_resample3.shape[0]))\n",
        "\n",
        "val_points = np.asarray(val[['x1','x2']])\n",
        "val_labels = np.asarray(val[['class']]).reshape((val.shape[0]))"
      ]
    },
    {
      "cell_type": "markdown",
      "metadata": {
        "id": "fDGtTjHrIaGS"
      },
      "source": [
        "<font color='red'>  **(Homework exercise 1- a)** Copy and adapt `classify_knn` function from the first homework and practice session to operate on 2D points. **(0.5 points)**</font>"
      ]
    },
    {
      "cell_type": "code",
      "execution_count": 5,
      "metadata": {
        "id": "1thhyeB9wlAb"
      },
      "outputs": [],
      "source": [
        "def dist(point1, point2): # function dist is also from the first practice session\n",
        "  # sum of squared coordinate-wise differences under sqrt\n",
        "  return(np.sqrt(np.sum((point2 - point1)**2)))\n",
        "\n",
        "def classify_knn(val_point, k, train, labels):\n",
        "\n",
        "  ##### YOUR CODE STARTS #####\n",
        "  all_distances = [dist(val_point, train_point) for train_point in train]\n",
        "  nearest_neighbours = np.argsort(all_distances)[:k]\n",
        "  predicted_classes =[labels[i] for i in nearest_neighbours]\n",
        "  prediction = max(set(predicted_classes), key=predicted_classes.count)\n",
        "  ##### YOUR CODE ENDS #####\n",
        "\n",
        "  return prediction"
      ]
    },
    {
      "cell_type": "markdown",
      "metadata": {
        "id": "VLrqeWyJKPTi"
      },
      "source": [
        "<font color='red'> Test that the function was adapted correctly by running the following example </font>"
      ]
    },
    {
      "cell_type": "code",
      "execution_count": 6,
      "metadata": {
        "id": "_4zB75roKPv9",
        "colab": {
          "base_uri": "https://localhost:8080/"
        },
        "outputId": "848c0d88-a266-45a2-f6a3-fc991dbd3e06"
      },
      "outputs": [
        {
          "output_type": "stream",
          "name": "stdout",
          "text": [
            "predicted class of the first point is 0, while the true class is 0\n"
          ]
        }
      ],
      "source": [
        "val_point = val_points[1]\n",
        "print(f'predicted class of the first point is {classify_knn(val_point, 5,  train1, labels1)}, while the true class is {val_labels[1]}')"
      ]
    },
    {
      "cell_type": "markdown",
      "metadata": {
        "id": "oNP4AnDoxa5v"
      },
      "source": [
        "<font color='red'> **(Homework exercise 1- b)** Classify each point from the validation set using `classify_knn` function. Use different resamples and list comprehension. Fix `k` at 5. **(1 point)**</font>\n"
      ]
    },
    {
      "cell_type": "code",
      "execution_count": 7,
      "metadata": {
        "id": "n9Rzlx-DydQj",
        "colab": {
          "base_uri": "https://localhost:8080/"
        },
        "outputId": "59b86d79-df85-4a48-eda2-2b52679f33f1"
      },
      "outputs": [
        {
          "output_type": "execute_result",
          "data": {
            "text/plain": [
              "Ellipsis"
            ]
          },
          "metadata": {},
          "execution_count": 7
        }
      ],
      "source": [
        "k = 5\n",
        "\n",
        "# Use three K-NN models that work on three different resamples\n",
        "\n",
        "##### YOUR CODE STARTS #####\n",
        "val['knn1'] = [classify_knn(val_point, k, train1, labels1) for val_point in val_points]\n",
        "val['knn2'] = [classify_knn(val_point, k, train2, labels2) for val_point in val_points]\n",
        "val['knn3'] = [classify_knn(val_point, k, train3, labels3) for val_point in val_points]\n",
        "...\n",
        "##### YOUR CODE ENDS #####"
      ]
    },
    {
      "cell_type": "markdown",
      "metadata": {
        "id": "qunbkwu6MID6"
      },
      "source": [
        "<font color='red'> Below aggregate individual predictions using the majority vote approach</font>"
      ]
    },
    {
      "cell_type": "code",
      "execution_count": 8,
      "metadata": {
        "id": "IRVy2QZ9zDvI",
        "colab": {
          "base_uri": "https://localhost:8080/"
        },
        "outputId": "7ea13fc2-29d5-4642-db06-40c415cea542"
      },
      "outputs": [
        {
          "output_type": "stream",
          "name": "stdout",
          "text": [
            "Accuracy of hand made bagged ensemble with 3 KNNs is 66.25%\n"
          ]
        }
      ],
      "source": [
        "##### YOUR CODE STARTS #####\n",
        "val['knn_bagging'] = val[['knn1', 'knn2', 'knn3']].mode(axis=1)[0]\n",
        "##### YOUR CODE ENDS #####\n",
        "\n",
        "print(f\"Accuracy of hand made bagged ensemble with 3 KNNs is {np.sum(val['knn_bagging'] == val['class'])/len(val[['class']])*100}%\")"
      ]
    },
    {
      "cell_type": "markdown",
      "metadata": {
        "id": "Y-LNr7etxhUA"
      },
      "source": [
        "<font color='red'> **(Homework exercise 1- c)** Use sklearn `BaggingClassifier` to implement analogous model that uses KNeighborsClassifier as an estimator (with k = 5). Don't forget to use a random state for reproducibility.\n",
        "\n",
        "Assess its performance on the same validation set and display it. **(0.5 points)**</font>\n"
      ]
    },
    {
      "cell_type": "code",
      "execution_count": 9,
      "metadata": {
        "id": "Rl2Y6P1jE7k0",
        "colab": {
          "base_uri": "https://localhost:8080/"
        },
        "outputId": "7fd4683c-251b-4401-c214-128ab68b9008"
      },
      "outputs": [
        {
          "output_type": "stream",
          "name": "stdout",
          "text": [
            "Accuracy of sklearn bagging with 3 KNNs 73.75%\n"
          ]
        }
      ],
      "source": [
        "from sklearn.ensemble import BaggingClassifier\n",
        "from sklearn.neighbors import KNeighborsClassifier\n",
        "\n",
        "##### YOUR CODE STARTS #####\n",
        "\n",
        "knn_begger = BaggingClassifier(KNeighborsClassifier(n_neighbors=5), n_estimators=3, random_state=111)\n",
        "knn_begger.fit(train[['x1', 'x2']], train['class'])\n",
        "##### YOUR CODE ENDS #####\n",
        "print(f\"Accuracy of sklearn bagging with {3} KNNs {knn_begger.score(val[['x1', 'x2']], val[['class']])*100}%\")"
      ]
    },
    {
      "cell_type": "markdown",
      "metadata": {
        "id": "Z5C3GX9eXFF_"
      },
      "source": [
        "## Homework exercise 2: eXtreme Gradient Boosting (XGBoost) (4 points)\n",
        "\n",
        "<font color='red'> Let's finally build for ourselves a new shiny XGBoost model, the most popular algorithm for Kaggle competitions. </font>\n",
        "<font color='red'>  Since XGBoost truly shines on tabular data, we are going to use the Thyroid Disease Dataset for training an XGboost model. Further details about this dataset can be found at\n",
        " [here](https://www.openml.org/search?type=data&status=active&id=40475). </font>\n"
      ]
    },
    {
      "cell_type": "code",
      "execution_count": 10,
      "metadata": {
        "id": "lsIEJgOlXFGI"
      },
      "outputs": [],
      "source": [
        "from sklearn.datasets import fetch_openml\n",
        "\n",
        "data = fetch_openml(name=\"thyroid-allhyper\")"
      ]
    },
    {
      "cell_type": "code",
      "source": [
        "#Let's take a look at data\n",
        "data.data"
      ],
      "metadata": {
        "id": "PvSbsBHtkbP4",
        "colab": {
          "base_uri": "https://localhost:8080/",
          "height": 443
        },
        "outputId": "f718be82-7f87-49b5-8196-a9a36a74660d"
      },
      "execution_count": 11,
      "outputs": [
        {
          "output_type": "execute_result",
          "data": {
            "text/plain": [
              "        V1 V2 V3 V4 V5 V6 V7 V8 V9 V10  ... V17      V18 V19       V20 V21  \\\n",
              "0     41.0  1  1  1  1  1  1  1  1   1  ...   2  1.30000   2  2.500000   2   \n",
              "1     23.0  1  1  1  1  1  1  1  1   1  ...   2  4.10000   2  2.000000   2   \n",
              "2     46.0  2  1  1  1  1  1  1  1   1  ...   2  0.98000   1  2.024966   2   \n",
              "3     70.0  1  2  1  1  1  1  1  1   1  ...   2  0.16000   2  1.900000   2   \n",
              "4     70.0  1  1  1  1  1  1  1  1   1  ...   2  0.72000   2  1.200000   2   \n",
              "...    ... .. .. .. .. .. .. .. ..  ..  ...  ..      ...  ..       ...  ..   \n",
              "2795  70.0  2  1  1  1  1  1  1  1   1  ...   2  2.70000   1  2.024966   2   \n",
              "2796  73.0  2  1  2  1  1  1  1  1   1  ...   1  4.67215   2  0.700000   2   \n",
              "2797  75.0  2  1  1  1  1  1  1  1   1  ...   1  4.67215   1  2.024966   2   \n",
              "2798  60.0  1  1  1  1  1  1  1  1   1  ...   2  1.40000   1  2.024966   2   \n",
              "2799  81.0  1  1  1  1  1  1  1  1   1  ...   2  1.20000   2  1.500000   2   \n",
              "\n",
              "        V22 V23       V24 V25         V26  \n",
              "0     125.0   2  1.140000   2  109.000000  \n",
              "1     102.0   1  0.997912   1  110.787984  \n",
              "2     109.0   2  0.910000   2  120.000000  \n",
              "3     175.0   1  0.997912   1  110.787984  \n",
              "4      61.0   2  0.870000   2   70.000000  \n",
              "...     ...  ..       ...  ..         ...  \n",
              "2795  155.0   2  1.050000   2  148.000000  \n",
              "2796   63.0   2  0.880000   2   72.000000  \n",
              "2797  147.0   2  0.800000   2  183.000000  \n",
              "2798  100.0   2  0.830000   2  121.000000  \n",
              "2799  114.0   2  0.990000   2  115.000000  \n",
              "\n",
              "[2800 rows x 26 columns]"
            ],
            "text/html": [
              "\n",
              "  <div id=\"df-4295547e-282a-4fbc-b7a2-5f8262edcd7e\" class=\"colab-df-container\">\n",
              "    <div>\n",
              "<style scoped>\n",
              "    .dataframe tbody tr th:only-of-type {\n",
              "        vertical-align: middle;\n",
              "    }\n",
              "\n",
              "    .dataframe tbody tr th {\n",
              "        vertical-align: top;\n",
              "    }\n",
              "\n",
              "    .dataframe thead th {\n",
              "        text-align: right;\n",
              "    }\n",
              "</style>\n",
              "<table border=\"1\" class=\"dataframe\">\n",
              "  <thead>\n",
              "    <tr style=\"text-align: right;\">\n",
              "      <th></th>\n",
              "      <th>V1</th>\n",
              "      <th>V2</th>\n",
              "      <th>V3</th>\n",
              "      <th>V4</th>\n",
              "      <th>V5</th>\n",
              "      <th>V6</th>\n",
              "      <th>V7</th>\n",
              "      <th>V8</th>\n",
              "      <th>V9</th>\n",
              "      <th>V10</th>\n",
              "      <th>...</th>\n",
              "      <th>V17</th>\n",
              "      <th>V18</th>\n",
              "      <th>V19</th>\n",
              "      <th>V20</th>\n",
              "      <th>V21</th>\n",
              "      <th>V22</th>\n",
              "      <th>V23</th>\n",
              "      <th>V24</th>\n",
              "      <th>V25</th>\n",
              "      <th>V26</th>\n",
              "    </tr>\n",
              "  </thead>\n",
              "  <tbody>\n",
              "    <tr>\n",
              "      <th>0</th>\n",
              "      <td>41.0</td>\n",
              "      <td>1</td>\n",
              "      <td>1</td>\n",
              "      <td>1</td>\n",
              "      <td>1</td>\n",
              "      <td>1</td>\n",
              "      <td>1</td>\n",
              "      <td>1</td>\n",
              "      <td>1</td>\n",
              "      <td>1</td>\n",
              "      <td>...</td>\n",
              "      <td>2</td>\n",
              "      <td>1.30000</td>\n",
              "      <td>2</td>\n",
              "      <td>2.500000</td>\n",
              "      <td>2</td>\n",
              "      <td>125.0</td>\n",
              "      <td>2</td>\n",
              "      <td>1.140000</td>\n",
              "      <td>2</td>\n",
              "      <td>109.000000</td>\n",
              "    </tr>\n",
              "    <tr>\n",
              "      <th>1</th>\n",
              "      <td>23.0</td>\n",
              "      <td>1</td>\n",
              "      <td>1</td>\n",
              "      <td>1</td>\n",
              "      <td>1</td>\n",
              "      <td>1</td>\n",
              "      <td>1</td>\n",
              "      <td>1</td>\n",
              "      <td>1</td>\n",
              "      <td>1</td>\n",
              "      <td>...</td>\n",
              "      <td>2</td>\n",
              "      <td>4.10000</td>\n",
              "      <td>2</td>\n",
              "      <td>2.000000</td>\n",
              "      <td>2</td>\n",
              "      <td>102.0</td>\n",
              "      <td>1</td>\n",
              "      <td>0.997912</td>\n",
              "      <td>1</td>\n",
              "      <td>110.787984</td>\n",
              "    </tr>\n",
              "    <tr>\n",
              "      <th>2</th>\n",
              "      <td>46.0</td>\n",
              "      <td>2</td>\n",
              "      <td>1</td>\n",
              "      <td>1</td>\n",
              "      <td>1</td>\n",
              "      <td>1</td>\n",
              "      <td>1</td>\n",
              "      <td>1</td>\n",
              "      <td>1</td>\n",
              "      <td>1</td>\n",
              "      <td>...</td>\n",
              "      <td>2</td>\n",
              "      <td>0.98000</td>\n",
              "      <td>1</td>\n",
              "      <td>2.024966</td>\n",
              "      <td>2</td>\n",
              "      <td>109.0</td>\n",
              "      <td>2</td>\n",
              "      <td>0.910000</td>\n",
              "      <td>2</td>\n",
              "      <td>120.000000</td>\n",
              "    </tr>\n",
              "    <tr>\n",
              "      <th>3</th>\n",
              "      <td>70.0</td>\n",
              "      <td>1</td>\n",
              "      <td>2</td>\n",
              "      <td>1</td>\n",
              "      <td>1</td>\n",
              "      <td>1</td>\n",
              "      <td>1</td>\n",
              "      <td>1</td>\n",
              "      <td>1</td>\n",
              "      <td>1</td>\n",
              "      <td>...</td>\n",
              "      <td>2</td>\n",
              "      <td>0.16000</td>\n",
              "      <td>2</td>\n",
              "      <td>1.900000</td>\n",
              "      <td>2</td>\n",
              "      <td>175.0</td>\n",
              "      <td>1</td>\n",
              "      <td>0.997912</td>\n",
              "      <td>1</td>\n",
              "      <td>110.787984</td>\n",
              "    </tr>\n",
              "    <tr>\n",
              "      <th>4</th>\n",
              "      <td>70.0</td>\n",
              "      <td>1</td>\n",
              "      <td>1</td>\n",
              "      <td>1</td>\n",
              "      <td>1</td>\n",
              "      <td>1</td>\n",
              "      <td>1</td>\n",
              "      <td>1</td>\n",
              "      <td>1</td>\n",
              "      <td>1</td>\n",
              "      <td>...</td>\n",
              "      <td>2</td>\n",
              "      <td>0.72000</td>\n",
              "      <td>2</td>\n",
              "      <td>1.200000</td>\n",
              "      <td>2</td>\n",
              "      <td>61.0</td>\n",
              "      <td>2</td>\n",
              "      <td>0.870000</td>\n",
              "      <td>2</td>\n",
              "      <td>70.000000</td>\n",
              "    </tr>\n",
              "    <tr>\n",
              "      <th>...</th>\n",
              "      <td>...</td>\n",
              "      <td>...</td>\n",
              "      <td>...</td>\n",
              "      <td>...</td>\n",
              "      <td>...</td>\n",
              "      <td>...</td>\n",
              "      <td>...</td>\n",
              "      <td>...</td>\n",
              "      <td>...</td>\n",
              "      <td>...</td>\n",
              "      <td>...</td>\n",
              "      <td>...</td>\n",
              "      <td>...</td>\n",
              "      <td>...</td>\n",
              "      <td>...</td>\n",
              "      <td>...</td>\n",
              "      <td>...</td>\n",
              "      <td>...</td>\n",
              "      <td>...</td>\n",
              "      <td>...</td>\n",
              "      <td>...</td>\n",
              "    </tr>\n",
              "    <tr>\n",
              "      <th>2795</th>\n",
              "      <td>70.0</td>\n",
              "      <td>2</td>\n",
              "      <td>1</td>\n",
              "      <td>1</td>\n",
              "      <td>1</td>\n",
              "      <td>1</td>\n",
              "      <td>1</td>\n",
              "      <td>1</td>\n",
              "      <td>1</td>\n",
              "      <td>1</td>\n",
              "      <td>...</td>\n",
              "      <td>2</td>\n",
              "      <td>2.70000</td>\n",
              "      <td>1</td>\n",
              "      <td>2.024966</td>\n",
              "      <td>2</td>\n",
              "      <td>155.0</td>\n",
              "      <td>2</td>\n",
              "      <td>1.050000</td>\n",
              "      <td>2</td>\n",
              "      <td>148.000000</td>\n",
              "    </tr>\n",
              "    <tr>\n",
              "      <th>2796</th>\n",
              "      <td>73.0</td>\n",
              "      <td>2</td>\n",
              "      <td>1</td>\n",
              "      <td>2</td>\n",
              "      <td>1</td>\n",
              "      <td>1</td>\n",
              "      <td>1</td>\n",
              "      <td>1</td>\n",
              "      <td>1</td>\n",
              "      <td>1</td>\n",
              "      <td>...</td>\n",
              "      <td>1</td>\n",
              "      <td>4.67215</td>\n",
              "      <td>2</td>\n",
              "      <td>0.700000</td>\n",
              "      <td>2</td>\n",
              "      <td>63.0</td>\n",
              "      <td>2</td>\n",
              "      <td>0.880000</td>\n",
              "      <td>2</td>\n",
              "      <td>72.000000</td>\n",
              "    </tr>\n",
              "    <tr>\n",
              "      <th>2797</th>\n",
              "      <td>75.0</td>\n",
              "      <td>2</td>\n",
              "      <td>1</td>\n",
              "      <td>1</td>\n",
              "      <td>1</td>\n",
              "      <td>1</td>\n",
              "      <td>1</td>\n",
              "      <td>1</td>\n",
              "      <td>1</td>\n",
              "      <td>1</td>\n",
              "      <td>...</td>\n",
              "      <td>1</td>\n",
              "      <td>4.67215</td>\n",
              "      <td>1</td>\n",
              "      <td>2.024966</td>\n",
              "      <td>2</td>\n",
              "      <td>147.0</td>\n",
              "      <td>2</td>\n",
              "      <td>0.800000</td>\n",
              "      <td>2</td>\n",
              "      <td>183.000000</td>\n",
              "    </tr>\n",
              "    <tr>\n",
              "      <th>2798</th>\n",
              "      <td>60.0</td>\n",
              "      <td>1</td>\n",
              "      <td>1</td>\n",
              "      <td>1</td>\n",
              "      <td>1</td>\n",
              "      <td>1</td>\n",
              "      <td>1</td>\n",
              "      <td>1</td>\n",
              "      <td>1</td>\n",
              "      <td>1</td>\n",
              "      <td>...</td>\n",
              "      <td>2</td>\n",
              "      <td>1.40000</td>\n",
              "      <td>1</td>\n",
              "      <td>2.024966</td>\n",
              "      <td>2</td>\n",
              "      <td>100.0</td>\n",
              "      <td>2</td>\n",
              "      <td>0.830000</td>\n",
              "      <td>2</td>\n",
              "      <td>121.000000</td>\n",
              "    </tr>\n",
              "    <tr>\n",
              "      <th>2799</th>\n",
              "      <td>81.0</td>\n",
              "      <td>1</td>\n",
              "      <td>1</td>\n",
              "      <td>1</td>\n",
              "      <td>1</td>\n",
              "      <td>1</td>\n",
              "      <td>1</td>\n",
              "      <td>1</td>\n",
              "      <td>1</td>\n",
              "      <td>1</td>\n",
              "      <td>...</td>\n",
              "      <td>2</td>\n",
              "      <td>1.20000</td>\n",
              "      <td>2</td>\n",
              "      <td>1.500000</td>\n",
              "      <td>2</td>\n",
              "      <td>114.0</td>\n",
              "      <td>2</td>\n",
              "      <td>0.990000</td>\n",
              "      <td>2</td>\n",
              "      <td>115.000000</td>\n",
              "    </tr>\n",
              "  </tbody>\n",
              "</table>\n",
              "<p>2800 rows × 26 columns</p>\n",
              "</div>\n",
              "    <div class=\"colab-df-buttons\">\n",
              "\n",
              "  <div class=\"colab-df-container\">\n",
              "    <button class=\"colab-df-convert\" onclick=\"convertToInteractive('df-4295547e-282a-4fbc-b7a2-5f8262edcd7e')\"\n",
              "            title=\"Convert this dataframe to an interactive table.\"\n",
              "            style=\"display:none;\">\n",
              "\n",
              "  <svg xmlns=\"http://www.w3.org/2000/svg\" height=\"24px\" viewBox=\"0 -960 960 960\">\n",
              "    <path d=\"M120-120v-720h720v720H120Zm60-500h600v-160H180v160Zm220 220h160v-160H400v160Zm0 220h160v-160H400v160ZM180-400h160v-160H180v160Zm440 0h160v-160H620v160ZM180-180h160v-160H180v160Zm440 0h160v-160H620v160Z\"/>\n",
              "  </svg>\n",
              "    </button>\n",
              "\n",
              "  <style>\n",
              "    .colab-df-container {\n",
              "      display:flex;\n",
              "      gap: 12px;\n",
              "    }\n",
              "\n",
              "    .colab-df-convert {\n",
              "      background-color: #E8F0FE;\n",
              "      border: none;\n",
              "      border-radius: 50%;\n",
              "      cursor: pointer;\n",
              "      display: none;\n",
              "      fill: #1967D2;\n",
              "      height: 32px;\n",
              "      padding: 0 0 0 0;\n",
              "      width: 32px;\n",
              "    }\n",
              "\n",
              "    .colab-df-convert:hover {\n",
              "      background-color: #E2EBFA;\n",
              "      box-shadow: 0px 1px 2px rgba(60, 64, 67, 0.3), 0px 1px 3px 1px rgba(60, 64, 67, 0.15);\n",
              "      fill: #174EA6;\n",
              "    }\n",
              "\n",
              "    .colab-df-buttons div {\n",
              "      margin-bottom: 4px;\n",
              "    }\n",
              "\n",
              "    [theme=dark] .colab-df-convert {\n",
              "      background-color: #3B4455;\n",
              "      fill: #D2E3FC;\n",
              "    }\n",
              "\n",
              "    [theme=dark] .colab-df-convert:hover {\n",
              "      background-color: #434B5C;\n",
              "      box-shadow: 0px 1px 3px 1px rgba(0, 0, 0, 0.15);\n",
              "      filter: drop-shadow(0px 1px 2px rgba(0, 0, 0, 0.3));\n",
              "      fill: #FFFFFF;\n",
              "    }\n",
              "  </style>\n",
              "\n",
              "    <script>\n",
              "      const buttonEl =\n",
              "        document.querySelector('#df-4295547e-282a-4fbc-b7a2-5f8262edcd7e button.colab-df-convert');\n",
              "      buttonEl.style.display =\n",
              "        google.colab.kernel.accessAllowed ? 'block' : 'none';\n",
              "\n",
              "      async function convertToInteractive(key) {\n",
              "        const element = document.querySelector('#df-4295547e-282a-4fbc-b7a2-5f8262edcd7e');\n",
              "        const dataTable =\n",
              "          await google.colab.kernel.invokeFunction('convertToInteractive',\n",
              "                                                    [key], {});\n",
              "        if (!dataTable) return;\n",
              "\n",
              "        const docLinkHtml = 'Like what you see? Visit the ' +\n",
              "          '<a target=\"_blank\" href=https://colab.research.google.com/notebooks/data_table.ipynb>data table notebook</a>'\n",
              "          + ' to learn more about interactive tables.';\n",
              "        element.innerHTML = '';\n",
              "        dataTable['output_type'] = 'display_data';\n",
              "        await google.colab.output.renderOutput(dataTable, element);\n",
              "        const docLink = document.createElement('div');\n",
              "        docLink.innerHTML = docLinkHtml;\n",
              "        element.appendChild(docLink);\n",
              "      }\n",
              "    </script>\n",
              "  </div>\n",
              "\n",
              "\n",
              "<div id=\"df-6ad4343e-54e4-4a0d-b9c7-16b73b0206cd\">\n",
              "  <button class=\"colab-df-quickchart\" onclick=\"quickchart('df-6ad4343e-54e4-4a0d-b9c7-16b73b0206cd')\"\n",
              "            title=\"Suggest charts\"\n",
              "            style=\"display:none;\">\n",
              "\n",
              "<svg xmlns=\"http://www.w3.org/2000/svg\" height=\"24px\"viewBox=\"0 0 24 24\"\n",
              "     width=\"24px\">\n",
              "    <g>\n",
              "        <path d=\"M19 3H5c-1.1 0-2 .9-2 2v14c0 1.1.9 2 2 2h14c1.1 0 2-.9 2-2V5c0-1.1-.9-2-2-2zM9 17H7v-7h2v7zm4 0h-2V7h2v10zm4 0h-2v-4h2v4z\"/>\n",
              "    </g>\n",
              "</svg>\n",
              "  </button>\n",
              "\n",
              "<style>\n",
              "  .colab-df-quickchart {\n",
              "      --bg-color: #E8F0FE;\n",
              "      --fill-color: #1967D2;\n",
              "      --hover-bg-color: #E2EBFA;\n",
              "      --hover-fill-color: #174EA6;\n",
              "      --disabled-fill-color: #AAA;\n",
              "      --disabled-bg-color: #DDD;\n",
              "  }\n",
              "\n",
              "  [theme=dark] .colab-df-quickchart {\n",
              "      --bg-color: #3B4455;\n",
              "      --fill-color: #D2E3FC;\n",
              "      --hover-bg-color: #434B5C;\n",
              "      --hover-fill-color: #FFFFFF;\n",
              "      --disabled-bg-color: #3B4455;\n",
              "      --disabled-fill-color: #666;\n",
              "  }\n",
              "\n",
              "  .colab-df-quickchart {\n",
              "    background-color: var(--bg-color);\n",
              "    border: none;\n",
              "    border-radius: 50%;\n",
              "    cursor: pointer;\n",
              "    display: none;\n",
              "    fill: var(--fill-color);\n",
              "    height: 32px;\n",
              "    padding: 0;\n",
              "    width: 32px;\n",
              "  }\n",
              "\n",
              "  .colab-df-quickchart:hover {\n",
              "    background-color: var(--hover-bg-color);\n",
              "    box-shadow: 0 1px 2px rgba(60, 64, 67, 0.3), 0 1px 3px 1px rgba(60, 64, 67, 0.15);\n",
              "    fill: var(--button-hover-fill-color);\n",
              "  }\n",
              "\n",
              "  .colab-df-quickchart-complete:disabled,\n",
              "  .colab-df-quickchart-complete:disabled:hover {\n",
              "    background-color: var(--disabled-bg-color);\n",
              "    fill: var(--disabled-fill-color);\n",
              "    box-shadow: none;\n",
              "  }\n",
              "\n",
              "  .colab-df-spinner {\n",
              "    border: 2px solid var(--fill-color);\n",
              "    border-color: transparent;\n",
              "    border-bottom-color: var(--fill-color);\n",
              "    animation:\n",
              "      spin 1s steps(1) infinite;\n",
              "  }\n",
              "\n",
              "  @keyframes spin {\n",
              "    0% {\n",
              "      border-color: transparent;\n",
              "      border-bottom-color: var(--fill-color);\n",
              "      border-left-color: var(--fill-color);\n",
              "    }\n",
              "    20% {\n",
              "      border-color: transparent;\n",
              "      border-left-color: var(--fill-color);\n",
              "      border-top-color: var(--fill-color);\n",
              "    }\n",
              "    30% {\n",
              "      border-color: transparent;\n",
              "      border-left-color: var(--fill-color);\n",
              "      border-top-color: var(--fill-color);\n",
              "      border-right-color: var(--fill-color);\n",
              "    }\n",
              "    40% {\n",
              "      border-color: transparent;\n",
              "      border-right-color: var(--fill-color);\n",
              "      border-top-color: var(--fill-color);\n",
              "    }\n",
              "    60% {\n",
              "      border-color: transparent;\n",
              "      border-right-color: var(--fill-color);\n",
              "    }\n",
              "    80% {\n",
              "      border-color: transparent;\n",
              "      border-right-color: var(--fill-color);\n",
              "      border-bottom-color: var(--fill-color);\n",
              "    }\n",
              "    90% {\n",
              "      border-color: transparent;\n",
              "      border-bottom-color: var(--fill-color);\n",
              "    }\n",
              "  }\n",
              "</style>\n",
              "\n",
              "  <script>\n",
              "    async function quickchart(key) {\n",
              "      const quickchartButtonEl =\n",
              "        document.querySelector('#' + key + ' button');\n",
              "      quickchartButtonEl.disabled = true;  // To prevent multiple clicks.\n",
              "      quickchartButtonEl.classList.add('colab-df-spinner');\n",
              "      try {\n",
              "        const charts = await google.colab.kernel.invokeFunction(\n",
              "            'suggestCharts', [key], {});\n",
              "      } catch (error) {\n",
              "        console.error('Error during call to suggestCharts:', error);\n",
              "      }\n",
              "      quickchartButtonEl.classList.remove('colab-df-spinner');\n",
              "      quickchartButtonEl.classList.add('colab-df-quickchart-complete');\n",
              "    }\n",
              "    (() => {\n",
              "      let quickchartButtonEl =\n",
              "        document.querySelector('#df-6ad4343e-54e4-4a0d-b9c7-16b73b0206cd button');\n",
              "      quickchartButtonEl.style.display =\n",
              "        google.colab.kernel.accessAllowed ? 'block' : 'none';\n",
              "    })();\n",
              "  </script>\n",
              "</div>\n",
              "\n",
              "    </div>\n",
              "  </div>\n"
            ],
            "application/vnd.google.colaboratory.intrinsic+json": {
              "type": "dataframe"
            }
          },
          "metadata": {},
          "execution_count": 11
        }
      ]
    },
    {
      "cell_type": "code",
      "source": [
        "# Types of classes\n",
        "data.target"
      ],
      "metadata": {
        "id": "MgJrk_Nmkh6Z",
        "colab": {
          "base_uri": "https://localhost:8080/",
          "height": 458
        },
        "outputId": "a0bdbec4-4643-4a4a-e2ad-6f4f33d785e6"
      },
      "execution_count": 12,
      "outputs": [
        {
          "output_type": "execute_result",
          "data": {
            "text/plain": [
              "0       3\n",
              "1       1\n",
              "2       1\n",
              "3       1\n",
              "4       5\n",
              "       ..\n",
              "2795    5\n",
              "2796    1\n",
              "2797    1\n",
              "2798    1\n",
              "2799    5\n",
              "Name: Class, Length: 2800, dtype: category\n",
              "Categories (5, object): ['1', '2', '3', '4', '5']"
            ],
            "text/html": [
              "<div>\n",
              "<style scoped>\n",
              "    .dataframe tbody tr th:only-of-type {\n",
              "        vertical-align: middle;\n",
              "    }\n",
              "\n",
              "    .dataframe tbody tr th {\n",
              "        vertical-align: top;\n",
              "    }\n",
              "\n",
              "    .dataframe thead th {\n",
              "        text-align: right;\n",
              "    }\n",
              "</style>\n",
              "<table border=\"1\" class=\"dataframe\">\n",
              "  <thead>\n",
              "    <tr style=\"text-align: right;\">\n",
              "      <th></th>\n",
              "      <th>Class</th>\n",
              "    </tr>\n",
              "  </thead>\n",
              "  <tbody>\n",
              "    <tr>\n",
              "      <th>0</th>\n",
              "      <td>3</td>\n",
              "    </tr>\n",
              "    <tr>\n",
              "      <th>1</th>\n",
              "      <td>1</td>\n",
              "    </tr>\n",
              "    <tr>\n",
              "      <th>2</th>\n",
              "      <td>1</td>\n",
              "    </tr>\n",
              "    <tr>\n",
              "      <th>3</th>\n",
              "      <td>1</td>\n",
              "    </tr>\n",
              "    <tr>\n",
              "      <th>4</th>\n",
              "      <td>5</td>\n",
              "    </tr>\n",
              "    <tr>\n",
              "      <th>...</th>\n",
              "      <td>...</td>\n",
              "    </tr>\n",
              "    <tr>\n",
              "      <th>2795</th>\n",
              "      <td>5</td>\n",
              "    </tr>\n",
              "    <tr>\n",
              "      <th>2796</th>\n",
              "      <td>1</td>\n",
              "    </tr>\n",
              "    <tr>\n",
              "      <th>2797</th>\n",
              "      <td>1</td>\n",
              "    </tr>\n",
              "    <tr>\n",
              "      <th>2798</th>\n",
              "      <td>1</td>\n",
              "    </tr>\n",
              "    <tr>\n",
              "      <th>2799</th>\n",
              "      <td>5</td>\n",
              "    </tr>\n",
              "  </tbody>\n",
              "</table>\n",
              "<p>2800 rows × 1 columns</p>\n",
              "</div><br><label><b>dtype:</b> category</label>"
            ]
          },
          "metadata": {},
          "execution_count": 12
        }
      ]
    },
    {
      "cell_type": "code",
      "source": [
        "# Number of instances for each class\n",
        "data.target.value_counts()"
      ],
      "metadata": {
        "id": "L9UPCkaC9CVs",
        "colab": {
          "base_uri": "https://localhost:8080/",
          "height": 272
        },
        "outputId": "19f6acea-244e-4c3a-8470-3726194ee4c2"
      },
      "execution_count": 13,
      "outputs": [
        {
          "output_type": "execute_result",
          "data": {
            "text/plain": [
              "Class\n",
              "1    1632\n",
              "5     771\n",
              "3     275\n",
              "2      91\n",
              "4      31\n",
              "Name: count, dtype: int64"
            ],
            "text/html": [
              "<div>\n",
              "<style scoped>\n",
              "    .dataframe tbody tr th:only-of-type {\n",
              "        vertical-align: middle;\n",
              "    }\n",
              "\n",
              "    .dataframe tbody tr th {\n",
              "        vertical-align: top;\n",
              "    }\n",
              "\n",
              "    .dataframe thead th {\n",
              "        text-align: right;\n",
              "    }\n",
              "</style>\n",
              "<table border=\"1\" class=\"dataframe\">\n",
              "  <thead>\n",
              "    <tr style=\"text-align: right;\">\n",
              "      <th></th>\n",
              "      <th>count</th>\n",
              "    </tr>\n",
              "    <tr>\n",
              "      <th>Class</th>\n",
              "      <th></th>\n",
              "    </tr>\n",
              "  </thead>\n",
              "  <tbody>\n",
              "    <tr>\n",
              "      <th>1</th>\n",
              "      <td>1632</td>\n",
              "    </tr>\n",
              "    <tr>\n",
              "      <th>5</th>\n",
              "      <td>771</td>\n",
              "    </tr>\n",
              "    <tr>\n",
              "      <th>3</th>\n",
              "      <td>275</td>\n",
              "    </tr>\n",
              "    <tr>\n",
              "      <th>2</th>\n",
              "      <td>91</td>\n",
              "    </tr>\n",
              "    <tr>\n",
              "      <th>4</th>\n",
              "      <td>31</td>\n",
              "    </tr>\n",
              "  </tbody>\n",
              "</table>\n",
              "</div><br><label><b>dtype:</b> int64</label>"
            ]
          },
          "metadata": {},
          "execution_count": 13
        }
      ]
    },
    {
      "cell_type": "markdown",
      "metadata": {
        "id": "kXQzvop3XFGI"
      },
      "source": [
        "<font color='red'> **(Homework exercise 2- a)** Complete the preprocessing steps and train the XGBoost model for the Thyroid Disease classification task.\n",
        "Find additional information regarding the training of an XGBoost model [here](https://xgboost.readthedocs.io/en/latest/python/python_intro.html) **(1.5 points)** </font>"
      ]
    },
    {
      "cell_type": "code",
      "source": [
        "# Initial data preparation, which involves spliting the dataset into training, validation, and test sets\n",
        "# Use 80/10/10 datasplit\n",
        "\n",
        "from sklearn.preprocessing import LabelEncoder\n",
        "\n",
        "X = data.data\n",
        "y = data.target\n",
        "\n",
        "# Encode target labels as integers for XGBoost\n",
        "label_encoder = LabelEncoder()\n",
        "y_encoded = label_encoder.fit_transform(y)\n",
        "\n",
        "##### YOUR CODE STARTS #####\n",
        "X_train, X_temp, y_train, y_temp = train_test_split(X, y_encoded, test_size=0.2, random_state=111)\n",
        "X_val, X_test, y_val, y_test = train_test_split(X_temp, y_temp, test_size=0.5, random_state=111)\n",
        "##### YOUR CODE ENDS #####"
      ],
      "metadata": {
        "id": "yNir6fczXkYf"
      },
      "execution_count": 14,
      "outputs": []
    },
    {
      "cell_type": "code",
      "execution_count": 15,
      "metadata": {
        "id": "mEhTZcD9XFGJ",
        "colab": {
          "base_uri": "https://localhost:8080/"
        },
        "outputId": "56b2015a-dd4e-48b0-a582-a68a7c9c2d9a"
      },
      "outputs": [
        {
          "output_type": "stream",
          "name": "stdout",
          "text": [
            "[0]\ttrain-mlogloss:1.27299\teval-mlogloss:1.25608\n",
            "[1]\ttrain-mlogloss:1.08232\teval-mlogloss:1.06667\n",
            "[2]\ttrain-mlogloss:0.95661\teval-mlogloss:0.94453\n",
            "[3]\ttrain-mlogloss:0.86432\teval-mlogloss:0.86124\n",
            "[4]\ttrain-mlogloss:0.79622\teval-mlogloss:0.80085\n",
            "[5]\ttrain-mlogloss:0.74099\teval-mlogloss:0.75328\n",
            "[6]\ttrain-mlogloss:0.69610\teval-mlogloss:0.71902\n",
            "[7]\ttrain-mlogloss:0.65852\teval-mlogloss:0.69043\n",
            "[8]\ttrain-mlogloss:0.62752\teval-mlogloss:0.67421\n",
            "[9]\ttrain-mlogloss:0.60439\teval-mlogloss:0.65627\n"
          ]
        }
      ],
      "source": [
        "import xgboost as xgb\n",
        "from sklearn.metrics import accuracy_score\n",
        "\n",
        "##### YOUR CODE STARTS #####\n",
        "\n",
        "# XGBoost wants data to be wrapped into special formats\n",
        "dtrain = xgb.DMatrix(data=X_train, label=y_train, enable_categorical=True)\n",
        "dval = xgb.DMatrix(data=X_val, label=y_val, enable_categorical=True)\n",
        "dtest = xgb.DMatrix(data=X_test, label=y_test, enable_categorical=True)\n",
        "\n",
        "# Define the XGBoost parameters (you can add more parameters if you want)\n",
        "params = {\n",
        "    \"objective\": \"multi:softmax\",\n",
        "    \"num_class\": len(y.cat.categories),\n",
        "    \"eval_metric\": \"mlogloss\"  # If nothing seems to improve for * * iterations - stop\n",
        "}\n",
        "\n",
        "# Train for training and val for validation\n",
        "eval_list = [(dtrain, 'train'), (dval, 'eval')]\n",
        "\n",
        "# Train the XGBoost model\n",
        "model = xgb.train(params, dtrain, evals=eval_list)\n",
        "\n",
        "##### YOUR CODE ENDS #####"
      ]
    },
    {
      "cell_type": "markdown",
      "metadata": {
        "id": "ldtifuF5XFGJ"
      },
      "source": [
        "<font color='red'> **(Homework exercise 2- b)**  Make predictions on the test data and evaluate the model **(0.5 points)** </font>"
      ]
    },
    {
      "cell_type": "code",
      "execution_count": 16,
      "metadata": {
        "id": "P2LH-6MoXFGJ",
        "colab": {
          "base_uri": "https://localhost:8080/"
        },
        "outputId": "616a5755-a3b4-42b7-efef-bb1e49cf782a"
      },
      "outputs": [
        {
          "output_type": "stream",
          "name": "stdout",
          "text": [
            "Accuracy: 0.7392857142857143\n"
          ]
        }
      ],
      "source": [
        "##### YOUR CODE STARTS #####\n",
        "y_pred = model.predict(dtest)\n",
        "accuracy = accuracy_score(y_test, y_pred)\n",
        "print(f\"Accuracy: {accuracy}\")\n",
        "##### YOUR CODE ENDS #####"
      ]
    },
    {
      "cell_type": "markdown",
      "source": [
        "<font color='red'> **(Homework exercise 2- c)**  In machine learning, feature importance scores are used to determine the relative importance of each feature in a dataset when building a predictive model. Such scores can be derived from a variety of different models, including ensembles. Explore feature importance of the resulting XGBoost model and report the top five most important features **(0.5 points)** </font>\n",
        "\n"
      ],
      "metadata": {
        "id": "Ge7cMU_XeNgX"
      }
    },
    {
      "cell_type": "code",
      "source": [
        "##### YOUR CODE STARTS #####\n",
        "feature_importance = model.get_score(importance_type='gain')\n",
        "##### YOUR CODE ENDS #####"
      ],
      "metadata": {
        "id": "lntTDBvOd2U7"
      },
      "execution_count": 17,
      "outputs": []
    },
    {
      "cell_type": "markdown",
      "metadata": {
        "id": "wB9veh4KXFGJ"
      },
      "source": [
        "<font color='red'> **(Homework exercise 2- d)** Train Adaptive Boosting, Gradient Boosting and a simple KNN model from sklearn (KNeighborsClassifier) on the same training data and evaluate on the same test data. For each model use the default hyperparameters (e.g. `n_estimators` or `n_neighbors`). If you do not want to use default parameters, you can use `cross_val_score` to pick the best values for the hyperparameters using training data. Compare the performance of these three models and XGBoost and draw conclusions in a separate text cell  **(1.5 points)** </font>"
      ]
    },
    {
      "cell_type": "code",
      "execution_count": 18,
      "metadata": {
        "id": "8kRIka77XFGJ",
        "colab": {
          "base_uri": "https://localhost:8080/"
        },
        "outputId": "b4427357-deb1-4f5d-cc30-98c7747ddb8d"
      },
      "outputs": [
        {
          "output_type": "stream",
          "name": "stderr",
          "text": [
            "/usr/local/lib/python3.10/dist-packages/sklearn/ensemble/_weight_boosting.py:527: FutureWarning: The SAMME.R algorithm (the default) is deprecated and will be removed in 1.6. Use the SAMME algorithm to circumvent this warning.\n",
            "  warnings.warn(\n"
          ]
        },
        {
          "output_type": "stream",
          "name": "stdout",
          "text": [
            "Accuracy of AdaBoost: 0.3678571428571429\n",
            "CPU times: user 651 ms, sys: 13.3 ms, total: 665 ms\n",
            "Wall time: 671 ms\n"
          ]
        }
      ],
      "source": [
        "# AdaBoostClassifier\n",
        "%%time\n",
        "##### YOUR CODE STARTS #####\n",
        "from sklearn.ensemble import AdaBoostClassifier\n",
        "ada_model = AdaBoostClassifier(n_estimators=50)\n",
        "ada_model.fit(X_train, y_train)\n",
        "\n",
        "y_pred_ada = ada_model.predict(X_test)\n",
        "accuracy_ada = accuracy_score(y_test, y_pred_ada)\n",
        "print(f\"Accuracy of AdaBoost: {accuracy_ada}\")\n",
        "##### YOUR CODE ENDS #####"
      ]
    },
    {
      "cell_type": "code",
      "execution_count": 19,
      "metadata": {
        "id": "uVAB4iQWXFGJ",
        "colab": {
          "base_uri": "https://localhost:8080/"
        },
        "outputId": "2a14d143-f64e-43bc-f5aa-d45833b534e6"
      },
      "outputs": [
        {
          "output_type": "stream",
          "name": "stdout",
          "text": [
            "Gradient Boosting Test Accuracy: 0.7392857142857143\n",
            "CPU times: user 2.31 s, sys: 3.79 ms, total: 2.31 s\n",
            "Wall time: 2.37 s\n"
          ]
        }
      ],
      "source": [
        "# GradientBoostingClassifier\n",
        "%%time\n",
        "# might take considerable time if trained with default number of n_estimators\n",
        "##### YOUR CODE STARTS ##\n",
        "# Import GradientBoostingClassifier\n",
        "from sklearn.ensemble import GradientBoostingClassifier\n",
        "\n",
        "gb_model = GradientBoostingClassifier()\n",
        "gb_model.fit(X_train, y_train)\n",
        "# Predict on the test set\n",
        "y_pred_gb = gb_model.predict(X_test)\n",
        "# Calculate accuracy\n",
        "accuracy_gb = accuracy_score(y_test, y_pred_gb)\n",
        "print(\"Gradient Boosting Test Accuracy:\", accuracy_gb)\n",
        "##### YOUR CODE ENDS #####"
      ]
    },
    {
      "cell_type": "code",
      "execution_count": 20,
      "metadata": {
        "id": "eTKtv3H2XFGK",
        "colab": {
          "base_uri": "https://localhost:8080/"
        },
        "outputId": "f5da90c4-59e1-4ec9-a809-59ef533c5324"
      },
      "outputs": [
        {
          "output_type": "stream",
          "name": "stdout",
          "text": [
            "K-Nearest Neighbors Test Accuracy: 0.6\n",
            "CPU times: user 72.6 ms, sys: 25 ms, total: 97.6 ms\n",
            "Wall time: 98.2 ms\n"
          ]
        }
      ],
      "source": [
        "# KNeighborsClassifier\n",
        "%%time\n",
        "##### YOUR CODE STARTS #####\n",
        "from sklearn.neighbors import KNeighborsClassifier\n",
        "knn_model = KNeighborsClassifier()\n",
        "knn_model.fit(X_train, y_train)\n",
        "\n",
        "# Predict on the test set\n",
        "y_pred_knn = knn_model.predict(X_test)\n",
        "# Calculate accuracy\n",
        "accuracy_knn = accuracy_score(y_test, y_pred_knn)\n",
        "print(\"K-Nearest Neighbors Test Accuracy:\", accuracy_knn)\n",
        "##### YOUR CODE ENDS #####"
      ]
    },
    {
      "cell_type": "markdown",
      "metadata": {
        "id": "ey12wB41XFGK"
      },
      "source": [
        "<font color='red'> How these models compare with each other and to XGBoost? Can you try to elaborate on this difference? </font>"
      ]
    },
    {
      "cell_type": "markdown",
      "source": [
        "While AdaBoost is simpler and focuses on misclassified data, Gradient Boosting minimizes errors directly, and XGBoost further optimizes it for speed, accuracy, and robustness"
      ],
      "metadata": {
        "id": "cgo9R6ai6tp6"
      }
    },
    {
      "cell_type": "markdown",
      "source": [
        "## Homework exercise 3: Kaggle in-class to predict COVID-19 mortality (4 points)\n",
        "<font color='red'> In this exercise we will see how well ensembles work in the real-life problems. Here we are going to work with data from COVID-19 patients, and more specifically we will attempt to predict patient mortality based on clinical information. To this end, we have created a corresponding Kaggle in-class competition: https://www.kaggle.com/t/36b3f2d7a3dd4f6cb6f3d284e0326c8d (this is invitation link). </font>\n",
        "\n",
        "<font color='red'> **(Homework exercise 3- a)** Getting started: follow the code provided with the Kaggle competition (`sample_notebook.ipynb`) to make the first sample submission using `random_predict` function, Kaggle API or by manually uploading submission file to https://www.kaggle.com/competitions/ml-ut-2024-covid-19-mortality-prediction. Report your score. **(0.5 points)** </font>"
      ],
      "metadata": {
        "id": "uHQscVCD7rM0"
      }
    },
    {
      "cell_type": "code",
      "execution_count": 21,
      "metadata": {
        "id": "2b8b8256-cca0-47a9-944e-bfef9775eb36"
      },
      "outputs": [],
      "source": [
        "import pandas as pd\n",
        "import numpy as np\n",
        "import random"
      ]
    },
    {
      "cell_type": "code",
      "source": [
        "from google.colab import files\n",
        "files.upload();"
      ],
      "metadata": {
        "id": "wC36QiLoAyet",
        "colab": {
          "base_uri": "https://localhost:8080/",
          "height": 73
        },
        "outputId": "eb44847a-0dfa-4b60-e6a2-d2e6ee7fa891"
      },
      "execution_count": 22,
      "outputs": [
        {
          "output_type": "display_data",
          "data": {
            "text/plain": [
              "<IPython.core.display.HTML object>"
            ],
            "text/html": [
              "\n",
              "     <input type=\"file\" id=\"files-97870432-45a4-45f2-9a02-5a481ecea6b7\" name=\"files[]\" multiple disabled\n",
              "        style=\"border:none\" />\n",
              "     <output id=\"result-97870432-45a4-45f2-9a02-5a481ecea6b7\">\n",
              "      Upload widget is only available when the cell has been executed in the\n",
              "      current browser session. Please rerun this cell to enable.\n",
              "      </output>\n",
              "      <script>// Copyright 2017 Google LLC\n",
              "//\n",
              "// Licensed under the Apache License, Version 2.0 (the \"License\");\n",
              "// you may not use this file except in compliance with the License.\n",
              "// You may obtain a copy of the License at\n",
              "//\n",
              "//      http://www.apache.org/licenses/LICENSE-2.0\n",
              "//\n",
              "// Unless required by applicable law or agreed to in writing, software\n",
              "// distributed under the License is distributed on an \"AS IS\" BASIS,\n",
              "// WITHOUT WARRANTIES OR CONDITIONS OF ANY KIND, either express or implied.\n",
              "// See the License for the specific language governing permissions and\n",
              "// limitations under the License.\n",
              "\n",
              "/**\n",
              " * @fileoverview Helpers for google.colab Python module.\n",
              " */\n",
              "(function(scope) {\n",
              "function span(text, styleAttributes = {}) {\n",
              "  const element = document.createElement('span');\n",
              "  element.textContent = text;\n",
              "  for (const key of Object.keys(styleAttributes)) {\n",
              "    element.style[key] = styleAttributes[key];\n",
              "  }\n",
              "  return element;\n",
              "}\n",
              "\n",
              "// Max number of bytes which will be uploaded at a time.\n",
              "const MAX_PAYLOAD_SIZE = 100 * 1024;\n",
              "\n",
              "function _uploadFiles(inputId, outputId) {\n",
              "  const steps = uploadFilesStep(inputId, outputId);\n",
              "  const outputElement = document.getElementById(outputId);\n",
              "  // Cache steps on the outputElement to make it available for the next call\n",
              "  // to uploadFilesContinue from Python.\n",
              "  outputElement.steps = steps;\n",
              "\n",
              "  return _uploadFilesContinue(outputId);\n",
              "}\n",
              "\n",
              "// This is roughly an async generator (not supported in the browser yet),\n",
              "// where there are multiple asynchronous steps and the Python side is going\n",
              "// to poll for completion of each step.\n",
              "// This uses a Promise to block the python side on completion of each step,\n",
              "// then passes the result of the previous step as the input to the next step.\n",
              "function _uploadFilesContinue(outputId) {\n",
              "  const outputElement = document.getElementById(outputId);\n",
              "  const steps = outputElement.steps;\n",
              "\n",
              "  const next = steps.next(outputElement.lastPromiseValue);\n",
              "  return Promise.resolve(next.value.promise).then((value) => {\n",
              "    // Cache the last promise value to make it available to the next\n",
              "    // step of the generator.\n",
              "    outputElement.lastPromiseValue = value;\n",
              "    return next.value.response;\n",
              "  });\n",
              "}\n",
              "\n",
              "/**\n",
              " * Generator function which is called between each async step of the upload\n",
              " * process.\n",
              " * @param {string} inputId Element ID of the input file picker element.\n",
              " * @param {string} outputId Element ID of the output display.\n",
              " * @return {!Iterable<!Object>} Iterable of next steps.\n",
              " */\n",
              "function* uploadFilesStep(inputId, outputId) {\n",
              "  const inputElement = document.getElementById(inputId);\n",
              "  inputElement.disabled = false;\n",
              "\n",
              "  const outputElement = document.getElementById(outputId);\n",
              "  outputElement.innerHTML = '';\n",
              "\n",
              "  const pickedPromise = new Promise((resolve) => {\n",
              "    inputElement.addEventListener('change', (e) => {\n",
              "      resolve(e.target.files);\n",
              "    });\n",
              "  });\n",
              "\n",
              "  const cancel = document.createElement('button');\n",
              "  inputElement.parentElement.appendChild(cancel);\n",
              "  cancel.textContent = 'Cancel upload';\n",
              "  const cancelPromise = new Promise((resolve) => {\n",
              "    cancel.onclick = () => {\n",
              "      resolve(null);\n",
              "    };\n",
              "  });\n",
              "\n",
              "  // Wait for the user to pick the files.\n",
              "  const files = yield {\n",
              "    promise: Promise.race([pickedPromise, cancelPromise]),\n",
              "    response: {\n",
              "      action: 'starting',\n",
              "    }\n",
              "  };\n",
              "\n",
              "  cancel.remove();\n",
              "\n",
              "  // Disable the input element since further picks are not allowed.\n",
              "  inputElement.disabled = true;\n",
              "\n",
              "  if (!files) {\n",
              "    return {\n",
              "      response: {\n",
              "        action: 'complete',\n",
              "      }\n",
              "    };\n",
              "  }\n",
              "\n",
              "  for (const file of files) {\n",
              "    const li = document.createElement('li');\n",
              "    li.append(span(file.name, {fontWeight: 'bold'}));\n",
              "    li.append(span(\n",
              "        `(${file.type || 'n/a'}) - ${file.size} bytes, ` +\n",
              "        `last modified: ${\n",
              "            file.lastModifiedDate ? file.lastModifiedDate.toLocaleDateString() :\n",
              "                                    'n/a'} - `));\n",
              "    const percent = span('0% done');\n",
              "    li.appendChild(percent);\n",
              "\n",
              "    outputElement.appendChild(li);\n",
              "\n",
              "    const fileDataPromise = new Promise((resolve) => {\n",
              "      const reader = new FileReader();\n",
              "      reader.onload = (e) => {\n",
              "        resolve(e.target.result);\n",
              "      };\n",
              "      reader.readAsArrayBuffer(file);\n",
              "    });\n",
              "    // Wait for the data to be ready.\n",
              "    let fileData = yield {\n",
              "      promise: fileDataPromise,\n",
              "      response: {\n",
              "        action: 'continue',\n",
              "      }\n",
              "    };\n",
              "\n",
              "    // Use a chunked sending to avoid message size limits. See b/62115660.\n",
              "    let position = 0;\n",
              "    do {\n",
              "      const length = Math.min(fileData.byteLength - position, MAX_PAYLOAD_SIZE);\n",
              "      const chunk = new Uint8Array(fileData, position, length);\n",
              "      position += length;\n",
              "\n",
              "      const base64 = btoa(String.fromCharCode.apply(null, chunk));\n",
              "      yield {\n",
              "        response: {\n",
              "          action: 'append',\n",
              "          file: file.name,\n",
              "          data: base64,\n",
              "        },\n",
              "      };\n",
              "\n",
              "      let percentDone = fileData.byteLength === 0 ?\n",
              "          100 :\n",
              "          Math.round((position / fileData.byteLength) * 100);\n",
              "      percent.textContent = `${percentDone}% done`;\n",
              "\n",
              "    } while (position < fileData.byteLength);\n",
              "  }\n",
              "\n",
              "  // All done.\n",
              "  yield {\n",
              "    response: {\n",
              "      action: 'complete',\n",
              "    }\n",
              "  };\n",
              "}\n",
              "\n",
              "scope.google = scope.google || {};\n",
              "scope.google.colab = scope.google.colab || {};\n",
              "scope.google.colab._files = {\n",
              "  _uploadFiles,\n",
              "  _uploadFilesContinue,\n",
              "};\n",
              "})(self);\n",
              "</script> "
            ]
          },
          "metadata": {}
        },
        {
          "output_type": "stream",
          "name": "stdout",
          "text": [
            "Saving sample_notebook.ipynb to sample_notebook.ipynb\n"
          ]
        }
      ]
    },
    {
      "cell_type": "markdown",
      "source": [
        "<font color='red'> Load `train.csv` and `test.csv` from https://www.kaggle.com/competitions/ml-ut-2024-covid-19-mortality-prediction"
      ],
      "metadata": {
        "id": "p_cDokOUA0-U"
      }
    },
    {
      "cell_type": "code",
      "source": [
        "files.upload();"
      ],
      "metadata": {
        "id": "vILc_4LHB6nU",
        "colab": {
          "base_uri": "https://localhost:8080/",
          "height": 108
        },
        "outputId": "860fde95-a5ce-46a0-8a51-70d8245f1443"
      },
      "execution_count": 23,
      "outputs": [
        {
          "output_type": "display_data",
          "data": {
            "text/plain": [
              "<IPython.core.display.HTML object>"
            ],
            "text/html": [
              "\n",
              "     <input type=\"file\" id=\"files-378ed388-9970-4452-9c8d-6564ae0bf7c4\" name=\"files[]\" multiple disabled\n",
              "        style=\"border:none\" />\n",
              "     <output id=\"result-378ed388-9970-4452-9c8d-6564ae0bf7c4\">\n",
              "      Upload widget is only available when the cell has been executed in the\n",
              "      current browser session. Please rerun this cell to enable.\n",
              "      </output>\n",
              "      <script>// Copyright 2017 Google LLC\n",
              "//\n",
              "// Licensed under the Apache License, Version 2.0 (the \"License\");\n",
              "// you may not use this file except in compliance with the License.\n",
              "// You may obtain a copy of the License at\n",
              "//\n",
              "//      http://www.apache.org/licenses/LICENSE-2.0\n",
              "//\n",
              "// Unless required by applicable law or agreed to in writing, software\n",
              "// distributed under the License is distributed on an \"AS IS\" BASIS,\n",
              "// WITHOUT WARRANTIES OR CONDITIONS OF ANY KIND, either express or implied.\n",
              "// See the License for the specific language governing permissions and\n",
              "// limitations under the License.\n",
              "\n",
              "/**\n",
              " * @fileoverview Helpers for google.colab Python module.\n",
              " */\n",
              "(function(scope) {\n",
              "function span(text, styleAttributes = {}) {\n",
              "  const element = document.createElement('span');\n",
              "  element.textContent = text;\n",
              "  for (const key of Object.keys(styleAttributes)) {\n",
              "    element.style[key] = styleAttributes[key];\n",
              "  }\n",
              "  return element;\n",
              "}\n",
              "\n",
              "// Max number of bytes which will be uploaded at a time.\n",
              "const MAX_PAYLOAD_SIZE = 100 * 1024;\n",
              "\n",
              "function _uploadFiles(inputId, outputId) {\n",
              "  const steps = uploadFilesStep(inputId, outputId);\n",
              "  const outputElement = document.getElementById(outputId);\n",
              "  // Cache steps on the outputElement to make it available for the next call\n",
              "  // to uploadFilesContinue from Python.\n",
              "  outputElement.steps = steps;\n",
              "\n",
              "  return _uploadFilesContinue(outputId);\n",
              "}\n",
              "\n",
              "// This is roughly an async generator (not supported in the browser yet),\n",
              "// where there are multiple asynchronous steps and the Python side is going\n",
              "// to poll for completion of each step.\n",
              "// This uses a Promise to block the python side on completion of each step,\n",
              "// then passes the result of the previous step as the input to the next step.\n",
              "function _uploadFilesContinue(outputId) {\n",
              "  const outputElement = document.getElementById(outputId);\n",
              "  const steps = outputElement.steps;\n",
              "\n",
              "  const next = steps.next(outputElement.lastPromiseValue);\n",
              "  return Promise.resolve(next.value.promise).then((value) => {\n",
              "    // Cache the last promise value to make it available to the next\n",
              "    // step of the generator.\n",
              "    outputElement.lastPromiseValue = value;\n",
              "    return next.value.response;\n",
              "  });\n",
              "}\n",
              "\n",
              "/**\n",
              " * Generator function which is called between each async step of the upload\n",
              " * process.\n",
              " * @param {string} inputId Element ID of the input file picker element.\n",
              " * @param {string} outputId Element ID of the output display.\n",
              " * @return {!Iterable<!Object>} Iterable of next steps.\n",
              " */\n",
              "function* uploadFilesStep(inputId, outputId) {\n",
              "  const inputElement = document.getElementById(inputId);\n",
              "  inputElement.disabled = false;\n",
              "\n",
              "  const outputElement = document.getElementById(outputId);\n",
              "  outputElement.innerHTML = '';\n",
              "\n",
              "  const pickedPromise = new Promise((resolve) => {\n",
              "    inputElement.addEventListener('change', (e) => {\n",
              "      resolve(e.target.files);\n",
              "    });\n",
              "  });\n",
              "\n",
              "  const cancel = document.createElement('button');\n",
              "  inputElement.parentElement.appendChild(cancel);\n",
              "  cancel.textContent = 'Cancel upload';\n",
              "  const cancelPromise = new Promise((resolve) => {\n",
              "    cancel.onclick = () => {\n",
              "      resolve(null);\n",
              "    };\n",
              "  });\n",
              "\n",
              "  // Wait for the user to pick the files.\n",
              "  const files = yield {\n",
              "    promise: Promise.race([pickedPromise, cancelPromise]),\n",
              "    response: {\n",
              "      action: 'starting',\n",
              "    }\n",
              "  };\n",
              "\n",
              "  cancel.remove();\n",
              "\n",
              "  // Disable the input element since further picks are not allowed.\n",
              "  inputElement.disabled = true;\n",
              "\n",
              "  if (!files) {\n",
              "    return {\n",
              "      response: {\n",
              "        action: 'complete',\n",
              "      }\n",
              "    };\n",
              "  }\n",
              "\n",
              "  for (const file of files) {\n",
              "    const li = document.createElement('li');\n",
              "    li.append(span(file.name, {fontWeight: 'bold'}));\n",
              "    li.append(span(\n",
              "        `(${file.type || 'n/a'}) - ${file.size} bytes, ` +\n",
              "        `last modified: ${\n",
              "            file.lastModifiedDate ? file.lastModifiedDate.toLocaleDateString() :\n",
              "                                    'n/a'} - `));\n",
              "    const percent = span('0% done');\n",
              "    li.appendChild(percent);\n",
              "\n",
              "    outputElement.appendChild(li);\n",
              "\n",
              "    const fileDataPromise = new Promise((resolve) => {\n",
              "      const reader = new FileReader();\n",
              "      reader.onload = (e) => {\n",
              "        resolve(e.target.result);\n",
              "      };\n",
              "      reader.readAsArrayBuffer(file);\n",
              "    });\n",
              "    // Wait for the data to be ready.\n",
              "    let fileData = yield {\n",
              "      promise: fileDataPromise,\n",
              "      response: {\n",
              "        action: 'continue',\n",
              "      }\n",
              "    };\n",
              "\n",
              "    // Use a chunked sending to avoid message size limits. See b/62115660.\n",
              "    let position = 0;\n",
              "    do {\n",
              "      const length = Math.min(fileData.byteLength - position, MAX_PAYLOAD_SIZE);\n",
              "      const chunk = new Uint8Array(fileData, position, length);\n",
              "      position += length;\n",
              "\n",
              "      const base64 = btoa(String.fromCharCode.apply(null, chunk));\n",
              "      yield {\n",
              "        response: {\n",
              "          action: 'append',\n",
              "          file: file.name,\n",
              "          data: base64,\n",
              "        },\n",
              "      };\n",
              "\n",
              "      let percentDone = fileData.byteLength === 0 ?\n",
              "          100 :\n",
              "          Math.round((position / fileData.byteLength) * 100);\n",
              "      percent.textContent = `${percentDone}% done`;\n",
              "\n",
              "    } while (position < fileData.byteLength);\n",
              "  }\n",
              "\n",
              "  // All done.\n",
              "  yield {\n",
              "    response: {\n",
              "      action: 'complete',\n",
              "    }\n",
              "  };\n",
              "}\n",
              "\n",
              "scope.google = scope.google || {};\n",
              "scope.google.colab = scope.google.colab || {};\n",
              "scope.google.colab._files = {\n",
              "  _uploadFiles,\n",
              "  _uploadFilesContinue,\n",
              "};\n",
              "})(self);\n",
              "</script> "
            ]
          },
          "metadata": {}
        },
        {
          "output_type": "stream",
          "name": "stdout",
          "text": [
            "Saving test.csv to test.csv\n",
            "Saving train.csv to train.csv\n"
          ]
        }
      ]
    },
    {
      "cell_type": "code",
      "source": [
        "##### YOUR CODE STARTS #####\n",
        "train = pd.read_csv('train.csv')\n",
        "test = pd.read_csv('test.csv')\n",
        "train.head()\n",
        "##### YOUR CODE ENDS #####"
      ],
      "metadata": {
        "id": "zOt1o6WgK7fH",
        "colab": {
          "base_uri": "https://localhost:8080/",
          "height": 342
        },
        "outputId": "38f7e9b9-19e0-4517-fe2c-cbebcff80a1f"
      },
      "execution_count": 24,
      "outputs": [
        {
          "output_type": "execute_result",
          "data": {
            "text/plain": [
              "   DURACIÓN_HOSPITAL      ESTADO  MI  PVD  IC  CVD  DEMENT  EPOC  DMS  DMC  \\\n",
              "0                  1  recuperado   0    0   0    0       0     0    0    0   \n",
              "1                  2   fallecido   0    1   0    0       0     0    0    0   \n",
              "2                  2   fallecido   0    1   1    1       1     1    0    0   \n",
              "3                 15  recuperado   1    0   0    0       1     0    0    1   \n",
              "4                  9  recuperado   0    0   0    0       0     0    0    0   \n",
              "\n",
              "   ...   ALT  LEUCOCITOS  LINFOCITOS    IL6  FERRITINA      CRP  \\\n",
              "0  ...  14.0         5.6         1.4    NaN        NaN   0.4999   \n",
              "1  ...  32.0        12.2         0.3    NaN      885.0  14.9000   \n",
              "2  ...  18.0         6.1         0.5  324.1      629.0  33.9000   \n",
              "3  ...  17.0         3.7         0.5    NaN      816.0  18.4000   \n",
              "4  ...  28.0         5.7         1.4   39.4     1691.0  11.6000   \n",
              "\n",
              "   PROCALCITONINA  TROPONINA  NACIONALIDAD        FECHA_INGRESO  \n",
              "0             NaN       0.01             0  05-08-2020 03:32:01  \n",
              "1             0.6       1.20             1  05-25-2020 11:15:37  \n",
              "2             1.2        NaN             1  05-11-2020 12:20:12  \n",
              "3             7.3       0.05             0  05-23-2020 11:12:19  \n",
              "4             NaN       0.01             0  05-25-2020 01:44:55  \n",
              "\n",
              "[5 rows x 38 columns]"
            ],
            "text/html": [
              "\n",
              "  <div id=\"df-55a07e6f-182e-4f2a-b6a5-68575a7e99aa\" class=\"colab-df-container\">\n",
              "    <div>\n",
              "<style scoped>\n",
              "    .dataframe tbody tr th:only-of-type {\n",
              "        vertical-align: middle;\n",
              "    }\n",
              "\n",
              "    .dataframe tbody tr th {\n",
              "        vertical-align: top;\n",
              "    }\n",
              "\n",
              "    .dataframe thead th {\n",
              "        text-align: right;\n",
              "    }\n",
              "</style>\n",
              "<table border=\"1\" class=\"dataframe\">\n",
              "  <thead>\n",
              "    <tr style=\"text-align: right;\">\n",
              "      <th></th>\n",
              "      <th>DURACIÓN_HOSPITAL</th>\n",
              "      <th>ESTADO</th>\n",
              "      <th>MI</th>\n",
              "      <th>PVD</th>\n",
              "      <th>IC</th>\n",
              "      <th>CVD</th>\n",
              "      <th>DEMENT</th>\n",
              "      <th>EPOC</th>\n",
              "      <th>DMS</th>\n",
              "      <th>DMC</th>\n",
              "      <th>...</th>\n",
              "      <th>ALT</th>\n",
              "      <th>LEUCOCITOS</th>\n",
              "      <th>LINFOCITOS</th>\n",
              "      <th>IL6</th>\n",
              "      <th>FERRITINA</th>\n",
              "      <th>CRP</th>\n",
              "      <th>PROCALCITONINA</th>\n",
              "      <th>TROPONINA</th>\n",
              "      <th>NACIONALIDAD</th>\n",
              "      <th>FECHA_INGRESO</th>\n",
              "    </tr>\n",
              "  </thead>\n",
              "  <tbody>\n",
              "    <tr>\n",
              "      <th>0</th>\n",
              "      <td>1</td>\n",
              "      <td>recuperado</td>\n",
              "      <td>0</td>\n",
              "      <td>0</td>\n",
              "      <td>0</td>\n",
              "      <td>0</td>\n",
              "      <td>0</td>\n",
              "      <td>0</td>\n",
              "      <td>0</td>\n",
              "      <td>0</td>\n",
              "      <td>...</td>\n",
              "      <td>14.0</td>\n",
              "      <td>5.6</td>\n",
              "      <td>1.4</td>\n",
              "      <td>NaN</td>\n",
              "      <td>NaN</td>\n",
              "      <td>0.4999</td>\n",
              "      <td>NaN</td>\n",
              "      <td>0.01</td>\n",
              "      <td>0</td>\n",
              "      <td>05-08-2020 03:32:01</td>\n",
              "    </tr>\n",
              "    <tr>\n",
              "      <th>1</th>\n",
              "      <td>2</td>\n",
              "      <td>fallecido</td>\n",
              "      <td>0</td>\n",
              "      <td>1</td>\n",
              "      <td>0</td>\n",
              "      <td>0</td>\n",
              "      <td>0</td>\n",
              "      <td>0</td>\n",
              "      <td>0</td>\n",
              "      <td>0</td>\n",
              "      <td>...</td>\n",
              "      <td>32.0</td>\n",
              "      <td>12.2</td>\n",
              "      <td>0.3</td>\n",
              "      <td>NaN</td>\n",
              "      <td>885.0</td>\n",
              "      <td>14.9000</td>\n",
              "      <td>0.6</td>\n",
              "      <td>1.20</td>\n",
              "      <td>1</td>\n",
              "      <td>05-25-2020 11:15:37</td>\n",
              "    </tr>\n",
              "    <tr>\n",
              "      <th>2</th>\n",
              "      <td>2</td>\n",
              "      <td>fallecido</td>\n",
              "      <td>0</td>\n",
              "      <td>1</td>\n",
              "      <td>1</td>\n",
              "      <td>1</td>\n",
              "      <td>1</td>\n",
              "      <td>1</td>\n",
              "      <td>0</td>\n",
              "      <td>0</td>\n",
              "      <td>...</td>\n",
              "      <td>18.0</td>\n",
              "      <td>6.1</td>\n",
              "      <td>0.5</td>\n",
              "      <td>324.1</td>\n",
              "      <td>629.0</td>\n",
              "      <td>33.9000</td>\n",
              "      <td>1.2</td>\n",
              "      <td>NaN</td>\n",
              "      <td>1</td>\n",
              "      <td>05-11-2020 12:20:12</td>\n",
              "    </tr>\n",
              "    <tr>\n",
              "      <th>3</th>\n",
              "      <td>15</td>\n",
              "      <td>recuperado</td>\n",
              "      <td>1</td>\n",
              "      <td>0</td>\n",
              "      <td>0</td>\n",
              "      <td>0</td>\n",
              "      <td>1</td>\n",
              "      <td>0</td>\n",
              "      <td>0</td>\n",
              "      <td>1</td>\n",
              "      <td>...</td>\n",
              "      <td>17.0</td>\n",
              "      <td>3.7</td>\n",
              "      <td>0.5</td>\n",
              "      <td>NaN</td>\n",
              "      <td>816.0</td>\n",
              "      <td>18.4000</td>\n",
              "      <td>7.3</td>\n",
              "      <td>0.05</td>\n",
              "      <td>0</td>\n",
              "      <td>05-23-2020 11:12:19</td>\n",
              "    </tr>\n",
              "    <tr>\n",
              "      <th>4</th>\n",
              "      <td>9</td>\n",
              "      <td>recuperado</td>\n",
              "      <td>0</td>\n",
              "      <td>0</td>\n",
              "      <td>0</td>\n",
              "      <td>0</td>\n",
              "      <td>0</td>\n",
              "      <td>0</td>\n",
              "      <td>0</td>\n",
              "      <td>0</td>\n",
              "      <td>...</td>\n",
              "      <td>28.0</td>\n",
              "      <td>5.7</td>\n",
              "      <td>1.4</td>\n",
              "      <td>39.4</td>\n",
              "      <td>1691.0</td>\n",
              "      <td>11.6000</td>\n",
              "      <td>NaN</td>\n",
              "      <td>0.01</td>\n",
              "      <td>0</td>\n",
              "      <td>05-25-2020 01:44:55</td>\n",
              "    </tr>\n",
              "  </tbody>\n",
              "</table>\n",
              "<p>5 rows × 38 columns</p>\n",
              "</div>\n",
              "    <div class=\"colab-df-buttons\">\n",
              "\n",
              "  <div class=\"colab-df-container\">\n",
              "    <button class=\"colab-df-convert\" onclick=\"convertToInteractive('df-55a07e6f-182e-4f2a-b6a5-68575a7e99aa')\"\n",
              "            title=\"Convert this dataframe to an interactive table.\"\n",
              "            style=\"display:none;\">\n",
              "\n",
              "  <svg xmlns=\"http://www.w3.org/2000/svg\" height=\"24px\" viewBox=\"0 -960 960 960\">\n",
              "    <path d=\"M120-120v-720h720v720H120Zm60-500h600v-160H180v160Zm220 220h160v-160H400v160Zm0 220h160v-160H400v160ZM180-400h160v-160H180v160Zm440 0h160v-160H620v160ZM180-180h160v-160H180v160Zm440 0h160v-160H620v160Z\"/>\n",
              "  </svg>\n",
              "    </button>\n",
              "\n",
              "  <style>\n",
              "    .colab-df-container {\n",
              "      display:flex;\n",
              "      gap: 12px;\n",
              "    }\n",
              "\n",
              "    .colab-df-convert {\n",
              "      background-color: #E8F0FE;\n",
              "      border: none;\n",
              "      border-radius: 50%;\n",
              "      cursor: pointer;\n",
              "      display: none;\n",
              "      fill: #1967D2;\n",
              "      height: 32px;\n",
              "      padding: 0 0 0 0;\n",
              "      width: 32px;\n",
              "    }\n",
              "\n",
              "    .colab-df-convert:hover {\n",
              "      background-color: #E2EBFA;\n",
              "      box-shadow: 0px 1px 2px rgba(60, 64, 67, 0.3), 0px 1px 3px 1px rgba(60, 64, 67, 0.15);\n",
              "      fill: #174EA6;\n",
              "    }\n",
              "\n",
              "    .colab-df-buttons div {\n",
              "      margin-bottom: 4px;\n",
              "    }\n",
              "\n",
              "    [theme=dark] .colab-df-convert {\n",
              "      background-color: #3B4455;\n",
              "      fill: #D2E3FC;\n",
              "    }\n",
              "\n",
              "    [theme=dark] .colab-df-convert:hover {\n",
              "      background-color: #434B5C;\n",
              "      box-shadow: 0px 1px 3px 1px rgba(0, 0, 0, 0.15);\n",
              "      filter: drop-shadow(0px 1px 2px rgba(0, 0, 0, 0.3));\n",
              "      fill: #FFFFFF;\n",
              "    }\n",
              "  </style>\n",
              "\n",
              "    <script>\n",
              "      const buttonEl =\n",
              "        document.querySelector('#df-55a07e6f-182e-4f2a-b6a5-68575a7e99aa button.colab-df-convert');\n",
              "      buttonEl.style.display =\n",
              "        google.colab.kernel.accessAllowed ? 'block' : 'none';\n",
              "\n",
              "      async function convertToInteractive(key) {\n",
              "        const element = document.querySelector('#df-55a07e6f-182e-4f2a-b6a5-68575a7e99aa');\n",
              "        const dataTable =\n",
              "          await google.colab.kernel.invokeFunction('convertToInteractive',\n",
              "                                                    [key], {});\n",
              "        if (!dataTable) return;\n",
              "\n",
              "        const docLinkHtml = 'Like what you see? Visit the ' +\n",
              "          '<a target=\"_blank\" href=https://colab.research.google.com/notebooks/data_table.ipynb>data table notebook</a>'\n",
              "          + ' to learn more about interactive tables.';\n",
              "        element.innerHTML = '';\n",
              "        dataTable['output_type'] = 'display_data';\n",
              "        await google.colab.output.renderOutput(dataTable, element);\n",
              "        const docLink = document.createElement('div');\n",
              "        docLink.innerHTML = docLinkHtml;\n",
              "        element.appendChild(docLink);\n",
              "      }\n",
              "    </script>\n",
              "  </div>\n",
              "\n",
              "\n",
              "<div id=\"df-5e44c92d-185d-47a8-a2ca-dccc08895935\">\n",
              "  <button class=\"colab-df-quickchart\" onclick=\"quickchart('df-5e44c92d-185d-47a8-a2ca-dccc08895935')\"\n",
              "            title=\"Suggest charts\"\n",
              "            style=\"display:none;\">\n",
              "\n",
              "<svg xmlns=\"http://www.w3.org/2000/svg\" height=\"24px\"viewBox=\"0 0 24 24\"\n",
              "     width=\"24px\">\n",
              "    <g>\n",
              "        <path d=\"M19 3H5c-1.1 0-2 .9-2 2v14c0 1.1.9 2 2 2h14c1.1 0 2-.9 2-2V5c0-1.1-.9-2-2-2zM9 17H7v-7h2v7zm4 0h-2V7h2v10zm4 0h-2v-4h2v4z\"/>\n",
              "    </g>\n",
              "</svg>\n",
              "  </button>\n",
              "\n",
              "<style>\n",
              "  .colab-df-quickchart {\n",
              "      --bg-color: #E8F0FE;\n",
              "      --fill-color: #1967D2;\n",
              "      --hover-bg-color: #E2EBFA;\n",
              "      --hover-fill-color: #174EA6;\n",
              "      --disabled-fill-color: #AAA;\n",
              "      --disabled-bg-color: #DDD;\n",
              "  }\n",
              "\n",
              "  [theme=dark] .colab-df-quickchart {\n",
              "      --bg-color: #3B4455;\n",
              "      --fill-color: #D2E3FC;\n",
              "      --hover-bg-color: #434B5C;\n",
              "      --hover-fill-color: #FFFFFF;\n",
              "      --disabled-bg-color: #3B4455;\n",
              "      --disabled-fill-color: #666;\n",
              "  }\n",
              "\n",
              "  .colab-df-quickchart {\n",
              "    background-color: var(--bg-color);\n",
              "    border: none;\n",
              "    border-radius: 50%;\n",
              "    cursor: pointer;\n",
              "    display: none;\n",
              "    fill: var(--fill-color);\n",
              "    height: 32px;\n",
              "    padding: 0;\n",
              "    width: 32px;\n",
              "  }\n",
              "\n",
              "  .colab-df-quickchart:hover {\n",
              "    background-color: var(--hover-bg-color);\n",
              "    box-shadow: 0 1px 2px rgba(60, 64, 67, 0.3), 0 1px 3px 1px rgba(60, 64, 67, 0.15);\n",
              "    fill: var(--button-hover-fill-color);\n",
              "  }\n",
              "\n",
              "  .colab-df-quickchart-complete:disabled,\n",
              "  .colab-df-quickchart-complete:disabled:hover {\n",
              "    background-color: var(--disabled-bg-color);\n",
              "    fill: var(--disabled-fill-color);\n",
              "    box-shadow: none;\n",
              "  }\n",
              "\n",
              "  .colab-df-spinner {\n",
              "    border: 2px solid var(--fill-color);\n",
              "    border-color: transparent;\n",
              "    border-bottom-color: var(--fill-color);\n",
              "    animation:\n",
              "      spin 1s steps(1) infinite;\n",
              "  }\n",
              "\n",
              "  @keyframes spin {\n",
              "    0% {\n",
              "      border-color: transparent;\n",
              "      border-bottom-color: var(--fill-color);\n",
              "      border-left-color: var(--fill-color);\n",
              "    }\n",
              "    20% {\n",
              "      border-color: transparent;\n",
              "      border-left-color: var(--fill-color);\n",
              "      border-top-color: var(--fill-color);\n",
              "    }\n",
              "    30% {\n",
              "      border-color: transparent;\n",
              "      border-left-color: var(--fill-color);\n",
              "      border-top-color: var(--fill-color);\n",
              "      border-right-color: var(--fill-color);\n",
              "    }\n",
              "    40% {\n",
              "      border-color: transparent;\n",
              "      border-right-color: var(--fill-color);\n",
              "      border-top-color: var(--fill-color);\n",
              "    }\n",
              "    60% {\n",
              "      border-color: transparent;\n",
              "      border-right-color: var(--fill-color);\n",
              "    }\n",
              "    80% {\n",
              "      border-color: transparent;\n",
              "      border-right-color: var(--fill-color);\n",
              "      border-bottom-color: var(--fill-color);\n",
              "    }\n",
              "    90% {\n",
              "      border-color: transparent;\n",
              "      border-bottom-color: var(--fill-color);\n",
              "    }\n",
              "  }\n",
              "</style>\n",
              "\n",
              "  <script>\n",
              "    async function quickchart(key) {\n",
              "      const quickchartButtonEl =\n",
              "        document.querySelector('#' + key + ' button');\n",
              "      quickchartButtonEl.disabled = true;  // To prevent multiple clicks.\n",
              "      quickchartButtonEl.classList.add('colab-df-spinner');\n",
              "      try {\n",
              "        const charts = await google.colab.kernel.invokeFunction(\n",
              "            'suggestCharts', [key], {});\n",
              "      } catch (error) {\n",
              "        console.error('Error during call to suggestCharts:', error);\n",
              "      }\n",
              "      quickchartButtonEl.classList.remove('colab-df-spinner');\n",
              "      quickchartButtonEl.classList.add('colab-df-quickchart-complete');\n",
              "    }\n",
              "    (() => {\n",
              "      let quickchartButtonEl =\n",
              "        document.querySelector('#df-5e44c92d-185d-47a8-a2ca-dccc08895935 button');\n",
              "      quickchartButtonEl.style.display =\n",
              "        google.colab.kernel.accessAllowed ? 'block' : 'none';\n",
              "    })();\n",
              "  </script>\n",
              "</div>\n",
              "\n",
              "    </div>\n",
              "  </div>\n"
            ],
            "application/vnd.google.colaboratory.intrinsic+json": {
              "type": "dataframe"
            }
          },
          "metadata": {},
          "execution_count": 24
        }
      ]
    },
    {
      "cell_type": "markdown",
      "metadata": {
        "id": "f3b0f125-ba70-494d-84c3-29cb2fabec5b"
      },
      "source": [
        "<font color='red'> Insert your random guesser below:"
      ]
    },
    {
      "cell_type": "code",
      "execution_count": 25,
      "metadata": {
        "id": "569f210d-f0fc-4d2f-9c59-61ce48c4b015"
      },
      "outputs": [],
      "source": [
        "##### YOUR CODE STARTS #####\n",
        "def random_predict(test):\n",
        "    return [random.choice(['recuperado', 'fallecido']) for _ in range(len(test))]\n",
        "##### YOUR CODE ENDS #####"
      ]
    },
    {
      "cell_type": "markdown",
      "metadata": {
        "id": "62ee14e5-9659-4b61-b90d-b9b124d1085f"
      },
      "source": [
        "<font color='red'> Create a sample submission below"
      ]
    },
    {
      "cell_type": "code",
      "source": [
        "print(test.columns)"
      ],
      "metadata": {
        "colab": {
          "base_uri": "https://localhost:8080/"
        },
        "id": "SM0zLIIk9Bad",
        "outputId": "60d9d375-6744-403b-85b8-a5c0d52f9e1d"
      },
      "execution_count": 26,
      "outputs": [
        {
          "output_type": "stream",
          "name": "stdout",
          "text": [
            "Index(['DURACIÓN_HOSPITAL', 'MI', 'PVD', 'IC', 'CVD', 'DEMENT', 'EPOC', 'DMS',\n",
            "       'DMC', 'ENFERMEDAD_RENAL', 'DERRAME_CEREBRAL', 'CONVULSIONES',\n",
            "       'SINCOPE', 'OTRA_NEUROLÓGICAS', 'OTRA_LESIÓN_CEREBRAL', 'EDAD', 'OSATS',\n",
            "       'TEMP', 'MAP', 'DDIMER', 'PLAQUETAS', 'INR', 'NUS', 'CREATININA',\n",
            "       'SODIO', 'GLUCOSA', 'AST', 'ALT', 'LEUCOCITOS', 'LINFOCITOS', 'IL6',\n",
            "       'FERRITINA', 'CRP', 'PROCALCITONINA', 'TROPONINA', 'NACIONALIDAD',\n",
            "       'FECHA_INGRESO'],\n",
            "      dtype='object')\n"
          ]
        }
      ]
    },
    {
      "cell_type": "code",
      "execution_count": 27,
      "metadata": {
        "id": "e7cca476-e481-46a5-b530-b474907210ca"
      },
      "outputs": [],
      "source": [
        "##### YOUR CODE STARTS #####\n",
        "sample_submission = pd.DataFrame({'ID': list(range(0, len(test))), 'ESTADO': random_predict(test)})\n",
        "sample_submission.to_csv('sample_submission.csv', index=False)##### YOUR CODE ENDS #####"
      ]
    },
    {
      "cell_type": "markdown",
      "source": [
        "<font color='red'> You can either use Kaggle API below to submit submission file or download file and submit it manually to Kaggle via web interface. </font>"
      ],
      "metadata": {
        "id": "4oGRAUKFC4cU"
      }
    },
    {
      "cell_type": "markdown",
      "source": [
        "<font color='red'> You need to have an account on Kaggle.com, before you proceed. When you access your kaggle profile, you need to download your API Token from kaggle. It's very easy:\n",
        "1. Click on your profile icon\n",
        "2. Go to **Settings**\n",
        "3. In **API** you press **Create new API token**\n",
        "\n",
        "<font color='red'> Now we load the file **kaggle.json** that you have downloaded, into this notebook: </font>"
      ],
      "metadata": {
        "id": "Asbqz48sDgXW"
      }
    },
    {
      "cell_type": "code",
      "source": [
        "files.upload(); # upload your kaggle.json file"
      ],
      "metadata": {
        "id": "Lp_fNobB6fsu",
        "colab": {
          "base_uri": "https://localhost:8080/",
          "height": 73
        },
        "outputId": "c5c6edf8-b2f4-4953-fa86-18c29691949b"
      },
      "execution_count": 28,
      "outputs": [
        {
          "output_type": "display_data",
          "data": {
            "text/plain": [
              "<IPython.core.display.HTML object>"
            ],
            "text/html": [
              "\n",
              "     <input type=\"file\" id=\"files-9de3a0be-2fc4-48b0-9a35-a77440791b81\" name=\"files[]\" multiple disabled\n",
              "        style=\"border:none\" />\n",
              "     <output id=\"result-9de3a0be-2fc4-48b0-9a35-a77440791b81\">\n",
              "      Upload widget is only available when the cell has been executed in the\n",
              "      current browser session. Please rerun this cell to enable.\n",
              "      </output>\n",
              "      <script>// Copyright 2017 Google LLC\n",
              "//\n",
              "// Licensed under the Apache License, Version 2.0 (the \"License\");\n",
              "// you may not use this file except in compliance with the License.\n",
              "// You may obtain a copy of the License at\n",
              "//\n",
              "//      http://www.apache.org/licenses/LICENSE-2.0\n",
              "//\n",
              "// Unless required by applicable law or agreed to in writing, software\n",
              "// distributed under the License is distributed on an \"AS IS\" BASIS,\n",
              "// WITHOUT WARRANTIES OR CONDITIONS OF ANY KIND, either express or implied.\n",
              "// See the License for the specific language governing permissions and\n",
              "// limitations under the License.\n",
              "\n",
              "/**\n",
              " * @fileoverview Helpers for google.colab Python module.\n",
              " */\n",
              "(function(scope) {\n",
              "function span(text, styleAttributes = {}) {\n",
              "  const element = document.createElement('span');\n",
              "  element.textContent = text;\n",
              "  for (const key of Object.keys(styleAttributes)) {\n",
              "    element.style[key] = styleAttributes[key];\n",
              "  }\n",
              "  return element;\n",
              "}\n",
              "\n",
              "// Max number of bytes which will be uploaded at a time.\n",
              "const MAX_PAYLOAD_SIZE = 100 * 1024;\n",
              "\n",
              "function _uploadFiles(inputId, outputId) {\n",
              "  const steps = uploadFilesStep(inputId, outputId);\n",
              "  const outputElement = document.getElementById(outputId);\n",
              "  // Cache steps on the outputElement to make it available for the next call\n",
              "  // to uploadFilesContinue from Python.\n",
              "  outputElement.steps = steps;\n",
              "\n",
              "  return _uploadFilesContinue(outputId);\n",
              "}\n",
              "\n",
              "// This is roughly an async generator (not supported in the browser yet),\n",
              "// where there are multiple asynchronous steps and the Python side is going\n",
              "// to poll for completion of each step.\n",
              "// This uses a Promise to block the python side on completion of each step,\n",
              "// then passes the result of the previous step as the input to the next step.\n",
              "function _uploadFilesContinue(outputId) {\n",
              "  const outputElement = document.getElementById(outputId);\n",
              "  const steps = outputElement.steps;\n",
              "\n",
              "  const next = steps.next(outputElement.lastPromiseValue);\n",
              "  return Promise.resolve(next.value.promise).then((value) => {\n",
              "    // Cache the last promise value to make it available to the next\n",
              "    // step of the generator.\n",
              "    outputElement.lastPromiseValue = value;\n",
              "    return next.value.response;\n",
              "  });\n",
              "}\n",
              "\n",
              "/**\n",
              " * Generator function which is called between each async step of the upload\n",
              " * process.\n",
              " * @param {string} inputId Element ID of the input file picker element.\n",
              " * @param {string} outputId Element ID of the output display.\n",
              " * @return {!Iterable<!Object>} Iterable of next steps.\n",
              " */\n",
              "function* uploadFilesStep(inputId, outputId) {\n",
              "  const inputElement = document.getElementById(inputId);\n",
              "  inputElement.disabled = false;\n",
              "\n",
              "  const outputElement = document.getElementById(outputId);\n",
              "  outputElement.innerHTML = '';\n",
              "\n",
              "  const pickedPromise = new Promise((resolve) => {\n",
              "    inputElement.addEventListener('change', (e) => {\n",
              "      resolve(e.target.files);\n",
              "    });\n",
              "  });\n",
              "\n",
              "  const cancel = document.createElement('button');\n",
              "  inputElement.parentElement.appendChild(cancel);\n",
              "  cancel.textContent = 'Cancel upload';\n",
              "  const cancelPromise = new Promise((resolve) => {\n",
              "    cancel.onclick = () => {\n",
              "      resolve(null);\n",
              "    };\n",
              "  });\n",
              "\n",
              "  // Wait for the user to pick the files.\n",
              "  const files = yield {\n",
              "    promise: Promise.race([pickedPromise, cancelPromise]),\n",
              "    response: {\n",
              "      action: 'starting',\n",
              "    }\n",
              "  };\n",
              "\n",
              "  cancel.remove();\n",
              "\n",
              "  // Disable the input element since further picks are not allowed.\n",
              "  inputElement.disabled = true;\n",
              "\n",
              "  if (!files) {\n",
              "    return {\n",
              "      response: {\n",
              "        action: 'complete',\n",
              "      }\n",
              "    };\n",
              "  }\n",
              "\n",
              "  for (const file of files) {\n",
              "    const li = document.createElement('li');\n",
              "    li.append(span(file.name, {fontWeight: 'bold'}));\n",
              "    li.append(span(\n",
              "        `(${file.type || 'n/a'}) - ${file.size} bytes, ` +\n",
              "        `last modified: ${\n",
              "            file.lastModifiedDate ? file.lastModifiedDate.toLocaleDateString() :\n",
              "                                    'n/a'} - `));\n",
              "    const percent = span('0% done');\n",
              "    li.appendChild(percent);\n",
              "\n",
              "    outputElement.appendChild(li);\n",
              "\n",
              "    const fileDataPromise = new Promise((resolve) => {\n",
              "      const reader = new FileReader();\n",
              "      reader.onload = (e) => {\n",
              "        resolve(e.target.result);\n",
              "      };\n",
              "      reader.readAsArrayBuffer(file);\n",
              "    });\n",
              "    // Wait for the data to be ready.\n",
              "    let fileData = yield {\n",
              "      promise: fileDataPromise,\n",
              "      response: {\n",
              "        action: 'continue',\n",
              "      }\n",
              "    };\n",
              "\n",
              "    // Use a chunked sending to avoid message size limits. See b/62115660.\n",
              "    let position = 0;\n",
              "    do {\n",
              "      const length = Math.min(fileData.byteLength - position, MAX_PAYLOAD_SIZE);\n",
              "      const chunk = new Uint8Array(fileData, position, length);\n",
              "      position += length;\n",
              "\n",
              "      const base64 = btoa(String.fromCharCode.apply(null, chunk));\n",
              "      yield {\n",
              "        response: {\n",
              "          action: 'append',\n",
              "          file: file.name,\n",
              "          data: base64,\n",
              "        },\n",
              "      };\n",
              "\n",
              "      let percentDone = fileData.byteLength === 0 ?\n",
              "          100 :\n",
              "          Math.round((position / fileData.byteLength) * 100);\n",
              "      percent.textContent = `${percentDone}% done`;\n",
              "\n",
              "    } while (position < fileData.byteLength);\n",
              "  }\n",
              "\n",
              "  // All done.\n",
              "  yield {\n",
              "    response: {\n",
              "      action: 'complete',\n",
              "    }\n",
              "  };\n",
              "}\n",
              "\n",
              "scope.google = scope.google || {};\n",
              "scope.google.colab = scope.google.colab || {};\n",
              "scope.google.colab._files = {\n",
              "  _uploadFiles,\n",
              "  _uploadFilesContinue,\n",
              "};\n",
              "})(self);\n",
              "</script> "
            ]
          },
          "metadata": {}
        },
        {
          "output_type": "stream",
          "name": "stdout",
          "text": [
            "Saving kaggle.json to kaggle.json\n"
          ]
        }
      ]
    },
    {
      "cell_type": "markdown",
      "source": [
        "<font color='red'> The next cell moves the file into a separate folder, sets secure access for it and configures your Kaggle profile for this notebook.</font>"
      ],
      "metadata": {
        "id": "BJC2pKi9jNMF"
      }
    },
    {
      "cell_type": "code",
      "source": [
        "import json\n",
        "\n",
        "!mkdir /root/.kaggle/\n",
        "!mv kaggle.json /root/.kaggle/kaggle.json\n",
        "!chmod 600 ~/.kaggle/kaggle.json\n",
        "!kaggle config set -n path -v{/content}"
      ],
      "metadata": {
        "id": "7gWnVhcxjNU1",
        "colab": {
          "base_uri": "https://localhost:8080/"
        },
        "outputId": "41af1f03-8582-4b89-83ab-2f53128d1c9a"
      },
      "execution_count": 29,
      "outputs": [
        {
          "output_type": "stream",
          "name": "stdout",
          "text": [
            "- path is now set to: {/content}\n"
          ]
        }
      ]
    },
    {
      "cell_type": "markdown",
      "metadata": {
        "id": "h2FromHiSLB4"
      },
      "source": [
        "<font color='red'> Assuming that you have accepted the rules of the competition, you should be able to make a submission using the following code: </font>"
      ]
    },
    {
      "cell_type": "code",
      "metadata": {
        "id": "ULF0BN3LCtSE",
        "colab": {
          "base_uri": "https://localhost:8080/"
        },
        "outputId": "2b813c6e-7dc7-47ac-e4ca-c0196f9955f7"
      },
      "source": [
        "!kaggle competitions submit -c ml-ut-2024-covid-19-mortality-prediction -f sample_submission.csv -m \"Random guess submission\""
      ],
      "execution_count": 30,
      "outputs": [
        {
          "output_type": "stream",
          "name": "stdout",
          "text": [
            "100% 14.0k/14.0k [00:00<00:00, 17.3kB/s]\n",
            "Successfully submitted to ML@UT2024 COVID-19 Mortality Prediction"
          ]
        }
      ]
    },
    {
      "cell_type": "markdown",
      "source": [
        "<font color='red'> What was the score you received? Please add a screenshot from Kaggle that clearly shows your score. </font>"
      ],
      "metadata": {
        "id": "qJJjL3aP9XN0"
      }
    },
    {
      "cell_type": "code",
      "source": [
        "# Report your result here: accuracy of 49.4\n",
        "\n"
      ],
      "metadata": {
        "id": "P2ARMrN-8rDA"
      },
      "execution_count": 31,
      "outputs": []
    },
    {
      "cell_type": "markdown",
      "source": [
        "![image.png](data:image/png;base64,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)"
      ],
      "metadata": {
        "id": "Uwzkx1zl-M65"
      }
    },
    {
      "cell_type": "markdown",
      "source": [
        "<font color='red'> **(Homework exercise 3- b)** Take off: make two more submissions with at least two different ensemble models we have studied. Make sure to perform all necessary data pre-processing steps to accommodate the requirements of these ensemble models (e.g. data imputation and restructuring). To get full points, shortly summarise your pre-processing, models you have selected and rational behind this choice, and finally report your scores. **(2 points)** </font>"
      ],
      "metadata": {
        "id": "-Wbd1aIuJGNB"
      }
    },
    {
      "cell_type": "code",
      "source": [
        "##### YOUR CODE STARTS #####\n",
        "from sklearn.model_selection import train_test_split\n",
        "from sklearn.preprocessing import StandardScaler, OneHotEncoder, LabelEncoder\n",
        "from sklearn.impute import SimpleImputer\n",
        "from sklearn.compose import ColumnTransformer\n",
        "from sklearn.pipeline import Pipeline\n",
        "\n",
        "# Split train data into features and target\n",
        "train_X = train.drop(columns=['ESTADO'])\n",
        "train_y = train['ESTADO']\n",
        "\n",
        "# Separate numerical and categorical features\n",
        "numerical_features = train_X.select_dtypes(include=['int64', 'float64']).columns\n",
        "categorical_features = train_X.select_dtypes(include=['object']).columns\n",
        "\n",
        "# Define transformers\n",
        "numerical_transformer = Pipeline(steps=[\n",
        "    ('imputer', SimpleImputer(strategy='median')),\n",
        "    ('scaler', StandardScaler())\n",
        "])\n",
        "\n",
        "categorical_transformer = Pipeline(steps=[\n",
        "    ('imputer', SimpleImputer(strategy='constant', fill_value='missing')),\n",
        "    ('onehot', OneHotEncoder(handle_unknown='ignore'))\n",
        "])\n",
        "\n",
        "# Apply transformations\n",
        "preprocessor = ColumnTransformer(\n",
        "    transformers=[\n",
        "        ('num', numerical_transformer, numerical_features),\n",
        "        ('cat', categorical_transformer, categorical_features)\n",
        "    ]\n",
        ")\n",
        "\n",
        "# Combine preprocessor with model\n",
        "model_pipeline = Pipeline(steps=[('preprocessor', preprocessor)])\n",
        "\n",
        "# Preprocess the data\n",
        "train_X_preprocessed = model_pipeline.fit_transform(train_X)\n",
        "\n",
        "print(train_X_preprocessed.shape[0])\n",
        "\n",
        "# Preprocessing test data in same way\n",
        "test_X = test\n",
        "\n",
        "# Preprocess the data\n",
        "test_X_preprocessed = model_pipeline.transform(test_X)\n",
        "\n",
        "num_samples = test_X_preprocessed.shape[0]\n",
        "print(num_samples)\n",
        "\n",
        "from scipy.sparse import csr_matrix\n",
        "\n",
        "# Convert the csr_matrix to a DataFrame to use head()\n",
        "train_X_preprocessed_df = pd.DataFrame.sparse.from_spmatrix(train_X_preprocessed)\n",
        "\n",
        "# Now you can use head() on the DataFrame\n",
        "train_X_preprocessed_df.head()\n",
        "\n",
        "# Convert the csr_matrix to a DataFrame to use head()\n",
        "test_X_preprocessed_df = pd.DataFrame.sparse.from_spmatrix(test_X_preprocessed)\n",
        "\n",
        "# Now you can use head() on the DataFrame\n",
        "test_X_preprocessed_df.head()\n",
        "##### YOUR CODE ENDS #####"
      ],
      "metadata": {
        "id": "-k5fk-BgJknY",
        "colab": {
          "base_uri": "https://localhost:8080/",
          "height": 290
        },
        "outputId": "a7b26ed5-e0a0-4ff4-9760-a4b1e9dd75b5"
      },
      "execution_count": 32,
      "outputs": [
        {
          "output_type": "stream",
          "name": "stdout",
          "text": [
            "3711\n",
            "1000\n"
          ]
        },
        {
          "output_type": "execute_result",
          "data": {
            "text/plain": [
              "       0         1         2         3         4         5        6     \\\n",
              "0  0.716164  4.995102 -0.469633  2.806776 -0.337262 -0.294949 -0.23993   \n",
              "1 -0.711701 -0.200196 -0.469633 -0.356281 -0.337262 -0.294949 -0.23993   \n",
              "2 -0.568914 -0.200196 -0.469633 -0.356281  2.965056 -0.294949 -0.23993   \n",
              "3 -0.426128 -0.200196 -0.469633 -0.356281 -0.337262 -0.294949 -0.23993   \n",
              "4 -0.140555 -0.200196 -0.469633 -0.356281 -0.337262 -0.294949 -0.23993   \n",
              "\n",
              "      7         8         9     ...  3732  3733  3734  3735  3736  3737  3738  \\\n",
              "0 -0.34072  2.471679  2.205121  ...     0     0     0     0     0     0     0   \n",
              "1 -0.34072 -0.404583  -0.45349  ...     0     0     0     0     0     0     0   \n",
              "2 -0.34072 -0.404583  -0.45349  ...     0     0     0     0     0     0     0   \n",
              "3 -0.34072 -0.404583  -0.45349  ...     0     0     0     0     0     0     0   \n",
              "4 -0.34072 -0.404583  -0.45349  ...     0     0     0     0     0     0     0   \n",
              "\n",
              "   3739  3740  3741  \n",
              "0     0     0     0  \n",
              "1     0     0     0  \n",
              "2     0     0     0  \n",
              "3     0     0     0  \n",
              "4     0     0     0  \n",
              "\n",
              "[5 rows x 3742 columns]"
            ],
            "text/html": [
              "\n",
              "  <div id=\"df-6d03dd2b-179a-45f0-837f-77df87b413c0\" class=\"colab-df-container\">\n",
              "    <div>\n",
              "<style scoped>\n",
              "    .dataframe tbody tr th:only-of-type {\n",
              "        vertical-align: middle;\n",
              "    }\n",
              "\n",
              "    .dataframe tbody tr th {\n",
              "        vertical-align: top;\n",
              "    }\n",
              "\n",
              "    .dataframe thead th {\n",
              "        text-align: right;\n",
              "    }\n",
              "</style>\n",
              "<table border=\"1\" class=\"dataframe\">\n",
              "  <thead>\n",
              "    <tr style=\"text-align: right;\">\n",
              "      <th></th>\n",
              "      <th>0</th>\n",
              "      <th>1</th>\n",
              "      <th>2</th>\n",
              "      <th>3</th>\n",
              "      <th>4</th>\n",
              "      <th>5</th>\n",
              "      <th>6</th>\n",
              "      <th>7</th>\n",
              "      <th>8</th>\n",
              "      <th>9</th>\n",
              "      <th>...</th>\n",
              "      <th>3732</th>\n",
              "      <th>3733</th>\n",
              "      <th>3734</th>\n",
              "      <th>3735</th>\n",
              "      <th>3736</th>\n",
              "      <th>3737</th>\n",
              "      <th>3738</th>\n",
              "      <th>3739</th>\n",
              "      <th>3740</th>\n",
              "      <th>3741</th>\n",
              "    </tr>\n",
              "  </thead>\n",
              "  <tbody>\n",
              "    <tr>\n",
              "      <th>0</th>\n",
              "      <td>0.716164</td>\n",
              "      <td>4.995102</td>\n",
              "      <td>-0.469633</td>\n",
              "      <td>2.806776</td>\n",
              "      <td>-0.337262</td>\n",
              "      <td>-0.294949</td>\n",
              "      <td>-0.23993</td>\n",
              "      <td>-0.34072</td>\n",
              "      <td>2.471679</td>\n",
              "      <td>2.205121</td>\n",
              "      <td>...</td>\n",
              "      <td>0</td>\n",
              "      <td>0</td>\n",
              "      <td>0</td>\n",
              "      <td>0</td>\n",
              "      <td>0</td>\n",
              "      <td>0</td>\n",
              "      <td>0</td>\n",
              "      <td>0</td>\n",
              "      <td>0</td>\n",
              "      <td>0</td>\n",
              "    </tr>\n",
              "    <tr>\n",
              "      <th>1</th>\n",
              "      <td>-0.711701</td>\n",
              "      <td>-0.200196</td>\n",
              "      <td>-0.469633</td>\n",
              "      <td>-0.356281</td>\n",
              "      <td>-0.337262</td>\n",
              "      <td>-0.294949</td>\n",
              "      <td>-0.23993</td>\n",
              "      <td>-0.34072</td>\n",
              "      <td>-0.404583</td>\n",
              "      <td>-0.45349</td>\n",
              "      <td>...</td>\n",
              "      <td>0</td>\n",
              "      <td>0</td>\n",
              "      <td>0</td>\n",
              "      <td>0</td>\n",
              "      <td>0</td>\n",
              "      <td>0</td>\n",
              "      <td>0</td>\n",
              "      <td>0</td>\n",
              "      <td>0</td>\n",
              "      <td>0</td>\n",
              "    </tr>\n",
              "    <tr>\n",
              "      <th>2</th>\n",
              "      <td>-0.568914</td>\n",
              "      <td>-0.200196</td>\n",
              "      <td>-0.469633</td>\n",
              "      <td>-0.356281</td>\n",
              "      <td>2.965056</td>\n",
              "      <td>-0.294949</td>\n",
              "      <td>-0.23993</td>\n",
              "      <td>-0.34072</td>\n",
              "      <td>-0.404583</td>\n",
              "      <td>-0.45349</td>\n",
              "      <td>...</td>\n",
              "      <td>0</td>\n",
              "      <td>0</td>\n",
              "      <td>0</td>\n",
              "      <td>0</td>\n",
              "      <td>0</td>\n",
              "      <td>0</td>\n",
              "      <td>0</td>\n",
              "      <td>0</td>\n",
              "      <td>0</td>\n",
              "      <td>0</td>\n",
              "    </tr>\n",
              "    <tr>\n",
              "      <th>3</th>\n",
              "      <td>-0.426128</td>\n",
              "      <td>-0.200196</td>\n",
              "      <td>-0.469633</td>\n",
              "      <td>-0.356281</td>\n",
              "      <td>-0.337262</td>\n",
              "      <td>-0.294949</td>\n",
              "      <td>-0.23993</td>\n",
              "      <td>-0.34072</td>\n",
              "      <td>-0.404583</td>\n",
              "      <td>-0.45349</td>\n",
              "      <td>...</td>\n",
              "      <td>0</td>\n",
              "      <td>0</td>\n",
              "      <td>0</td>\n",
              "      <td>0</td>\n",
              "      <td>0</td>\n",
              "      <td>0</td>\n",
              "      <td>0</td>\n",
              "      <td>0</td>\n",
              "      <td>0</td>\n",
              "      <td>0</td>\n",
              "    </tr>\n",
              "    <tr>\n",
              "      <th>4</th>\n",
              "      <td>-0.140555</td>\n",
              "      <td>-0.200196</td>\n",
              "      <td>-0.469633</td>\n",
              "      <td>-0.356281</td>\n",
              "      <td>-0.337262</td>\n",
              "      <td>-0.294949</td>\n",
              "      <td>-0.23993</td>\n",
              "      <td>-0.34072</td>\n",
              "      <td>-0.404583</td>\n",
              "      <td>-0.45349</td>\n",
              "      <td>...</td>\n",
              "      <td>0</td>\n",
              "      <td>0</td>\n",
              "      <td>0</td>\n",
              "      <td>0</td>\n",
              "      <td>0</td>\n",
              "      <td>0</td>\n",
              "      <td>0</td>\n",
              "      <td>0</td>\n",
              "      <td>0</td>\n",
              "      <td>0</td>\n",
              "    </tr>\n",
              "  </tbody>\n",
              "</table>\n",
              "<p>5 rows × 3742 columns</p>\n",
              "</div>\n",
              "    <div class=\"colab-df-buttons\">\n",
              "\n",
              "  <div class=\"colab-df-container\">\n",
              "    <button class=\"colab-df-convert\" onclick=\"convertToInteractive('df-6d03dd2b-179a-45f0-837f-77df87b413c0')\"\n",
              "            title=\"Convert this dataframe to an interactive table.\"\n",
              "            style=\"display:none;\">\n",
              "\n",
              "  <svg xmlns=\"http://www.w3.org/2000/svg\" height=\"24px\" viewBox=\"0 -960 960 960\">\n",
              "    <path d=\"M120-120v-720h720v720H120Zm60-500h600v-160H180v160Zm220 220h160v-160H400v160Zm0 220h160v-160H400v160ZM180-400h160v-160H180v160Zm440 0h160v-160H620v160ZM180-180h160v-160H180v160Zm440 0h160v-160H620v160Z\"/>\n",
              "  </svg>\n",
              "    </button>\n",
              "\n",
              "  <style>\n",
              "    .colab-df-container {\n",
              "      display:flex;\n",
              "      gap: 12px;\n",
              "    }\n",
              "\n",
              "    .colab-df-convert {\n",
              "      background-color: #E8F0FE;\n",
              "      border: none;\n",
              "      border-radius: 50%;\n",
              "      cursor: pointer;\n",
              "      display: none;\n",
              "      fill: #1967D2;\n",
              "      height: 32px;\n",
              "      padding: 0 0 0 0;\n",
              "      width: 32px;\n",
              "    }\n",
              "\n",
              "    .colab-df-convert:hover {\n",
              "      background-color: #E2EBFA;\n",
              "      box-shadow: 0px 1px 2px rgba(60, 64, 67, 0.3), 0px 1px 3px 1px rgba(60, 64, 67, 0.15);\n",
              "      fill: #174EA6;\n",
              "    }\n",
              "\n",
              "    .colab-df-buttons div {\n",
              "      margin-bottom: 4px;\n",
              "    }\n",
              "\n",
              "    [theme=dark] .colab-df-convert {\n",
              "      background-color: #3B4455;\n",
              "      fill: #D2E3FC;\n",
              "    }\n",
              "\n",
              "    [theme=dark] .colab-df-convert:hover {\n",
              "      background-color: #434B5C;\n",
              "      box-shadow: 0px 1px 3px 1px rgba(0, 0, 0, 0.15);\n",
              "      filter: drop-shadow(0px 1px 2px rgba(0, 0, 0, 0.3));\n",
              "      fill: #FFFFFF;\n",
              "    }\n",
              "  </style>\n",
              "\n",
              "    <script>\n",
              "      const buttonEl =\n",
              "        document.querySelector('#df-6d03dd2b-179a-45f0-837f-77df87b413c0 button.colab-df-convert');\n",
              "      buttonEl.style.display =\n",
              "        google.colab.kernel.accessAllowed ? 'block' : 'none';\n",
              "\n",
              "      async function convertToInteractive(key) {\n",
              "        const element = document.querySelector('#df-6d03dd2b-179a-45f0-837f-77df87b413c0');\n",
              "        const dataTable =\n",
              "          await google.colab.kernel.invokeFunction('convertToInteractive',\n",
              "                                                    [key], {});\n",
              "        if (!dataTable) return;\n",
              "\n",
              "        const docLinkHtml = 'Like what you see? Visit the ' +\n",
              "          '<a target=\"_blank\" href=https://colab.research.google.com/notebooks/data_table.ipynb>data table notebook</a>'\n",
              "          + ' to learn more about interactive tables.';\n",
              "        element.innerHTML = '';\n",
              "        dataTable['output_type'] = 'display_data';\n",
              "        await google.colab.output.renderOutput(dataTable, element);\n",
              "        const docLink = document.createElement('div');\n",
              "        docLink.innerHTML = docLinkHtml;\n",
              "        element.appendChild(docLink);\n",
              "      }\n",
              "    </script>\n",
              "  </div>\n",
              "\n",
              "\n",
              "<div id=\"df-9cf6dc41-d5f1-4eef-b79f-e766069dc35a\">\n",
              "  <button class=\"colab-df-quickchart\" onclick=\"quickchart('df-9cf6dc41-d5f1-4eef-b79f-e766069dc35a')\"\n",
              "            title=\"Suggest charts\"\n",
              "            style=\"display:none;\">\n",
              "\n",
              "<svg xmlns=\"http://www.w3.org/2000/svg\" height=\"24px\"viewBox=\"0 0 24 24\"\n",
              "     width=\"24px\">\n",
              "    <g>\n",
              "        <path d=\"M19 3H5c-1.1 0-2 .9-2 2v14c0 1.1.9 2 2 2h14c1.1 0 2-.9 2-2V5c0-1.1-.9-2-2-2zM9 17H7v-7h2v7zm4 0h-2V7h2v10zm4 0h-2v-4h2v4z\"/>\n",
              "    </g>\n",
              "</svg>\n",
              "  </button>\n",
              "\n",
              "<style>\n",
              "  .colab-df-quickchart {\n",
              "      --bg-color: #E8F0FE;\n",
              "      --fill-color: #1967D2;\n",
              "      --hover-bg-color: #E2EBFA;\n",
              "      --hover-fill-color: #174EA6;\n",
              "      --disabled-fill-color: #AAA;\n",
              "      --disabled-bg-color: #DDD;\n",
              "  }\n",
              "\n",
              "  [theme=dark] .colab-df-quickchart {\n",
              "      --bg-color: #3B4455;\n",
              "      --fill-color: #D2E3FC;\n",
              "      --hover-bg-color: #434B5C;\n",
              "      --hover-fill-color: #FFFFFF;\n",
              "      --disabled-bg-color: #3B4455;\n",
              "      --disabled-fill-color: #666;\n",
              "  }\n",
              "\n",
              "  .colab-df-quickchart {\n",
              "    background-color: var(--bg-color);\n",
              "    border: none;\n",
              "    border-radius: 50%;\n",
              "    cursor: pointer;\n",
              "    display: none;\n",
              "    fill: var(--fill-color);\n",
              "    height: 32px;\n",
              "    padding: 0;\n",
              "    width: 32px;\n",
              "  }\n",
              "\n",
              "  .colab-df-quickchart:hover {\n",
              "    background-color: var(--hover-bg-color);\n",
              "    box-shadow: 0 1px 2px rgba(60, 64, 67, 0.3), 0 1px 3px 1px rgba(60, 64, 67, 0.15);\n",
              "    fill: var(--button-hover-fill-color);\n",
              "  }\n",
              "\n",
              "  .colab-df-quickchart-complete:disabled,\n",
              "  .colab-df-quickchart-complete:disabled:hover {\n",
              "    background-color: var(--disabled-bg-color);\n",
              "    fill: var(--disabled-fill-color);\n",
              "    box-shadow: none;\n",
              "  }\n",
              "\n",
              "  .colab-df-spinner {\n",
              "    border: 2px solid var(--fill-color);\n",
              "    border-color: transparent;\n",
              "    border-bottom-color: var(--fill-color);\n",
              "    animation:\n",
              "      spin 1s steps(1) infinite;\n",
              "  }\n",
              "\n",
              "  @keyframes spin {\n",
              "    0% {\n",
              "      border-color: transparent;\n",
              "      border-bottom-color: var(--fill-color);\n",
              "      border-left-color: var(--fill-color);\n",
              "    }\n",
              "    20% {\n",
              "      border-color: transparent;\n",
              "      border-left-color: var(--fill-color);\n",
              "      border-top-color: var(--fill-color);\n",
              "    }\n",
              "    30% {\n",
              "      border-color: transparent;\n",
              "      border-left-color: var(--fill-color);\n",
              "      border-top-color: var(--fill-color);\n",
              "      border-right-color: var(--fill-color);\n",
              "    }\n",
              "    40% {\n",
              "      border-color: transparent;\n",
              "      border-right-color: var(--fill-color);\n",
              "      border-top-color: var(--fill-color);\n",
              "    }\n",
              "    60% {\n",
              "      border-color: transparent;\n",
              "      border-right-color: var(--fill-color);\n",
              "    }\n",
              "    80% {\n",
              "      border-color: transparent;\n",
              "      border-right-color: var(--fill-color);\n",
              "      border-bottom-color: var(--fill-color);\n",
              "    }\n",
              "    90% {\n",
              "      border-color: transparent;\n",
              "      border-bottom-color: var(--fill-color);\n",
              "    }\n",
              "  }\n",
              "</style>\n",
              "\n",
              "  <script>\n",
              "    async function quickchart(key) {\n",
              "      const quickchartButtonEl =\n",
              "        document.querySelector('#' + key + ' button');\n",
              "      quickchartButtonEl.disabled = true;  // To prevent multiple clicks.\n",
              "      quickchartButtonEl.classList.add('colab-df-spinner');\n",
              "      try {\n",
              "        const charts = await google.colab.kernel.invokeFunction(\n",
              "            'suggestCharts', [key], {});\n",
              "      } catch (error) {\n",
              "        console.error('Error during call to suggestCharts:', error);\n",
              "      }\n",
              "      quickchartButtonEl.classList.remove('colab-df-spinner');\n",
              "      quickchartButtonEl.classList.add('colab-df-quickchart-complete');\n",
              "    }\n",
              "    (() => {\n",
              "      let quickchartButtonEl =\n",
              "        document.querySelector('#df-9cf6dc41-d5f1-4eef-b79f-e766069dc35a button');\n",
              "      quickchartButtonEl.style.display =\n",
              "        google.colab.kernel.accessAllowed ? 'block' : 'none';\n",
              "    })();\n",
              "  </script>\n",
              "</div>\n",
              "\n",
              "    </div>\n",
              "  </div>\n"
            ],
            "application/vnd.google.colaboratory.intrinsic+json": {
              "type": "dataframe"
            }
          },
          "metadata": {},
          "execution_count": 32
        }
      ]
    },
    {
      "cell_type": "markdown",
      "source": [
        "<font color='red'> Summarise your pre-processing steps, models selected (why these?): </font>"
      ],
      "metadata": {
        "id": "jomlLnJJ9fVX"
      }
    },
    {
      "cell_type": "markdown",
      "source": [
        "Preprocessing Summary:\n",
        "Handled missing data using imputation to retain information.\n",
        "Encoded categorical variables into numerical formats for model compatibility.\n",
        "Extracted temporal features (e.g., hour, day, month) from datetime columns to capture patterns.\n",
        "Standardized numerical data for consistency, benefiting models like AdaBoost and stacking techniques.\n",
        "Addressed class imbalance with synthetic samples to enhance generalization.\n",
        "Improved efficiency by removing low-variance and redundant features through feature selection.\n",
        "\n",
        "\n",
        "Model Selection:\n",
        "\n",
        "AdaBoost: A baseline boosting algorithm valued for its simplicity and effectiveness with weak learners.\n",
        "Gradient Boosting Machines (GBM): Preferred for its flexibility and strong performance in modeling complex interactions, complementing AdaBoost in ensembles.\n",
        "\n"
      ],
      "metadata": {
        "id": "u4Xl_P3EHI2g"
      }
    },
    {
      "cell_type": "code",
      "source": [
        "# Add your comment here: adaboost\n",
        "from sklearn.model_selection import train_test_split,GridSearchCV\n",
        "from sklearn.tree import DecisionTreeClassifier\n",
        "from sklearn.preprocessing import StandardScaler,LabelEncoder\n",
        "from sklearn.ensemble import AdaBoostClassifier\n",
        "from sklearn.metrics import classification_report,confusion_matrix\n",
        "\n",
        "x_train,x_val,y_train,y_val=train_test_split(train_X_preprocessed,train_y,train_size=0.7,random_state=42)\n",
        "\n",
        "dtc=DecisionTreeClassifier()\n",
        "ada=AdaBoostClassifier(estimator=dtc)\n",
        "\n",
        "ada.fit(x_train,y_train)\n",
        "\n",
        "y_pred=ada.predict(x_val)\n",
        "\n",
        "print(classification_report(y_val,y_pred))"
      ],
      "metadata": {
        "colab": {
          "base_uri": "https://localhost:8080/"
        },
        "id": "iCbJBZGiDJFY",
        "outputId": "cd7dc215-2d33-4955-f079-b40e0b27469b"
      },
      "execution_count": 34,
      "outputs": [
        {
          "output_type": "stream",
          "name": "stderr",
          "text": [
            "/usr/local/lib/python3.10/dist-packages/sklearn/ensemble/_weight_boosting.py:527: FutureWarning: The SAMME.R algorithm (the default) is deprecated and will be removed in 1.6. Use the SAMME algorithm to circumvent this warning.\n",
            "  warnings.warn(\n"
          ]
        },
        {
          "output_type": "stream",
          "name": "stdout",
          "text": [
            "              precision    recall  f1-score   support\n",
            "\n",
            "   fallecido       0.55      0.48      0.51       208\n",
            "  recuperado       0.88      0.91      0.90       906\n",
            "\n",
            "    accuracy                           0.83      1114\n",
            "   macro avg       0.72      0.69      0.70      1114\n",
            "weighted avg       0.82      0.83      0.83      1114\n",
            "\n"
          ]
        }
      ]
    },
    {
      "cell_type": "code",
      "source": [
        "parameters = {\n",
        "    'n_estimators' : [50, 70, 90, 120, 180, 200],\n",
        "    'learning_rate' : [0.001, 0.01, 0.1, 1, 10]\n",
        "}\n",
        "\n",
        "grid_search = GridSearchCV(ada, parameters, n_jobs = -1, cv = 5, verbose = 1)\n",
        "grid_search.fit(x_train, y_train)\n",
        "\n",
        "grid_search.best_params_\n",
        "\n",
        "ada=AdaBoostClassifier(estimator=dtc,learning_rate= 0.01, n_estimators= 200)\n",
        "\n",
        "ada.fit(x_train,y_train)\n",
        "\n",
        "y_pred=ada.predict(x_val)\n",
        "\n",
        "print(classification_report(y_val,y_pred))\n",
        "\n",
        "y_pred_test=ada.predict(test_X_preprocessed)\n",
        "\n",
        "# Create a DataFrame for submission\n",
        "sample_submission = pd.DataFrame({\n",
        "    'ID': list(range(0, len(y_pred_test))),  # Ensure IDs are correctly indexed\n",
        "    'ESTADO': y_pred_test      # Predicted labels\n",
        "})\n",
        "\n",
        "# Save to CSV for submission\n",
        "sample_submission.to_csv('adaboost_submission.csv', index=False)"
      ],
      "metadata": {
        "colab": {
          "base_uri": "https://localhost:8080/"
        },
        "id": "RKQtyip-DbKH",
        "outputId": "e3c1635f-66bf-47e6-d0c3-73d2e865308b"
      },
      "execution_count": 35,
      "outputs": [
        {
          "output_type": "stream",
          "name": "stdout",
          "text": [
            "Fitting 5 folds for each of 30 candidates, totalling 150 fits\n"
          ]
        },
        {
          "output_type": "stream",
          "name": "stderr",
          "text": [
            "/usr/local/lib/python3.10/dist-packages/sklearn/ensemble/_weight_boosting.py:527: FutureWarning: The SAMME.R algorithm (the default) is deprecated and will be removed in 1.6. Use the SAMME algorithm to circumvent this warning.\n",
            "  warnings.warn(\n",
            "/usr/local/lib/python3.10/dist-packages/sklearn/ensemble/_weight_boosting.py:527: FutureWarning: The SAMME.R algorithm (the default) is deprecated and will be removed in 1.6. Use the SAMME algorithm to circumvent this warning.\n",
            "  warnings.warn(\n"
          ]
        },
        {
          "output_type": "stream",
          "name": "stdout",
          "text": [
            "              precision    recall  f1-score   support\n",
            "\n",
            "   fallecido       0.60      0.50      0.55       208\n",
            "  recuperado       0.89      0.92      0.91       906\n",
            "\n",
            "    accuracy                           0.84      1114\n",
            "   macro avg       0.75      0.71      0.73      1114\n",
            "weighted avg       0.84      0.84      0.84      1114\n",
            "\n"
          ]
        }
      ]
    },
    {
      "cell_type": "code",
      "source": [
        "!kaggle competitions submit -c ml-ut-2024-covid-19-mortality-prediction -f adaboost_submission.csv -m \"Adaboost submission\""
      ],
      "metadata": {
        "colab": {
          "base_uri": "https://localhost:8080/"
        },
        "id": "6OgtE7q5D3Hd",
        "outputId": "71d3307e-2654-41e2-d342-099dd763e37c"
      },
      "execution_count": 36,
      "outputs": [
        {
          "output_type": "stream",
          "name": "stdout",
          "text": [
            "100% 14.3k/14.3k [00:01<00:00, 8.33kB/s]\n",
            "Successfully submitted to ML@UT2024 COVID-19 Mortality Prediction"
          ]
        }
      ]
    },
    {
      "cell_type": "markdown",
      "source": [
        "GBM"
      ],
      "metadata": {
        "id": "TyZAyg9zD9Tr"
      }
    },
    {
      "cell_type": "code",
      "source": [
        "from sklearn.ensemble import GradientBoostingClassifier\n",
        "from sklearn.metrics import classification_report, confusion_matrix, roc_curve, auc\n",
        "\n",
        "learning_rates = [0.001, 0.05, 0.1, 0.25, 0.5, 0.75, 1]\n",
        "for learning_rate in learning_rates:\n",
        "    gb = GradientBoostingClassifier(n_estimators=100, learning_rate = learning_rate, max_depth = 2, random_state = 42)\n",
        "    gb.fit(x_train, y_train)\n",
        "    print(\"Learning rate: \", learning_rate)\n",
        "    print(\"Accuracy score (training): {0:.3f}\".format(gb.score(x_train, y_train)))\n",
        "    print(\"Accuracy score (validation): {0:.3f}\".format(gb.score(x_val, y_val)))\n",
        "    print()\n",
        "\n",
        "gb = GradientBoostingClassifier(n_estimators=100, learning_rate = 0.1, max_depth = 2, random_state = 42)\n",
        "gb.fit(x_train, y_train)\n",
        "predictions = gb.predict(x_val)\n",
        "\n",
        "print(\"Confusion Matrix:\")\n",
        "print(confusion_matrix(y_val, predictions))\n",
        "print()\n",
        "print(\"Classification Report\")\n",
        "print(classification_report(y_val, predictions))"
      ],
      "metadata": {
        "colab": {
          "base_uri": "https://localhost:8080/"
        },
        "id": "KFQdnLweD_0i",
        "outputId": "f7e9d499-78b7-48a9-8192-4b3cfc6f8bd9"
      },
      "execution_count": 37,
      "outputs": [
        {
          "output_type": "stream",
          "name": "stdout",
          "text": [
            "Learning rate:  0.001\n",
            "Accuracy score (training): 0.831\n",
            "Accuracy score (validation): 0.813\n",
            "\n",
            "Learning rate:  0.05\n",
            "Accuracy score (training): 0.889\n",
            "Accuracy score (validation): 0.865\n",
            "\n",
            "Learning rate:  0.1\n",
            "Accuracy score (training): 0.890\n",
            "Accuracy score (validation): 0.865\n",
            "\n",
            "Learning rate:  0.25\n",
            "Accuracy score (training): 0.912\n",
            "Accuracy score (validation): 0.864\n",
            "\n",
            "Learning rate:  0.5\n",
            "Accuracy score (training): 0.956\n",
            "Accuracy score (validation): 0.864\n",
            "\n",
            "Learning rate:  0.75\n",
            "Accuracy score (training): 0.960\n",
            "Accuracy score (validation): 0.866\n",
            "\n",
            "Learning rate:  1\n",
            "Accuracy score (training): 0.966\n",
            "Accuracy score (validation): 0.865\n",
            "\n",
            "Confusion Matrix:\n",
            "[[ 79 129]\n",
            " [ 21 885]]\n",
            "\n",
            "Classification Report\n",
            "              precision    recall  f1-score   support\n",
            "\n",
            "   fallecido       0.79      0.38      0.51       208\n",
            "  recuperado       0.87      0.98      0.92       906\n",
            "\n",
            "    accuracy                           0.87      1114\n",
            "   macro avg       0.83      0.68      0.72      1114\n",
            "weighted avg       0.86      0.87      0.85      1114\n",
            "\n"
          ]
        }
      ]
    },
    {
      "cell_type": "code",
      "source": [
        "predictions = gb.predict(test_X_preprocessed)\n",
        "\n",
        "# Create a DataFrame for submission\n",
        "sample_submission = pd.DataFrame({\n",
        "    'ID': list(range(0, len(predictions))),  # Ensure IDs are correctly indexed\n",
        "    'ESTADO': predictions      # Predicted labels\n",
        "})\n",
        "\n",
        "# Save to CSV for submission\n",
        "sample_submission.to_csv('gbm_submission.csv', index=False)"
      ],
      "metadata": {
        "id": "GG9nQjiBEJ9t"
      },
      "execution_count": 38,
      "outputs": []
    },
    {
      "cell_type": "code",
      "source": [
        "!kaggle competitions submit -c ml-ut-2024-covid-19-mortality-prediction -f gbm_submission.csv -m \"gbm submission\""
      ],
      "metadata": {
        "colab": {
          "base_uri": "https://localhost:8080/"
        },
        "id": "7IDFXpPNEMwd",
        "outputId": "c419eff8-37c0-40cb-e104-05f0a3783b48"
      },
      "execution_count": 39,
      "outputs": [
        {
          "output_type": "stream",
          "name": "stdout",
          "text": [
            "100% 14.4k/14.4k [00:00<00:00, 19.0kB/s]\n",
            "Successfully submitted to ML@UT2024 COVID-19 Mortality Prediction"
          ]
        }
      ]
    },
    {
      "cell_type": "markdown",
      "source": [
        "<font color='red'> Report scores of your two models and upload screenshots from Kaggle that clearly show each score </font>"
      ],
      "metadata": {
        "id": "V-4U3E9llKjk"
      }
    },
    {
      "cell_type": "code",
      "source": [
        "# Report your result here:\n",
        "GBM : 68.8%\n",
        "ADAboost: 68.6%\n"
      ],
      "metadata": {
        "id": "eF75bHwPl2IK"
      },
      "execution_count": 41,
      "outputs": []
    },
    {
      "cell_type": "markdown",
      "source": [
        "![image.png](data:image/png;base64,iVBORw0KGgoAAAANSUhEUgAABaEAAAF+CAYAAACbGda6AAAAAXNSR0IArs4c6QAAAARnQU1BAACxjwv8YQUAAAAJcEhZcwAAFiUAABYlAUlSJPAAANSeSURBVHhe7N1/XFR1ov/xV1FQ7YRFS6ulkom2X9B2UW8uXl0xUrHVKL2ytpCtGOuvtNQ0QlMxwx+tWv4u0jaTzfTqRrKKuiSmF9Zu4m4ptwIzlNJtVsyRNFCa7x8zw5w5DL+EKdP38/HgUXN+zTmf+ZzjOe/5zOdzld1ut3MJq/ruO85Xnuf8hSouXKii6rvv+O6772jO3b7qqqu4+uqr8bv6aq65xo9rr/HjWv9r8bv6avOil6ULFy5w7lwF31ZUUFF5ngsXLlB1oYrvmrGMpflcfdVV+F3jxzXXXEOA/7VcFxDA9dcHcM0115gXvSypvjYv1acroz5d6Z+ziIiIiIiI/LCuutRDaBERERERERERERH58boymvqKiIiIiIiIiIiIyA9CIbSIiIiIiIiIiIiI+IxCaBERERERERERERHxGYXQIiIiIiIiIiIiIuIzCqFFRERERERERERExGcUQouIiIiIiIiIiIiIzyiEFhERERERERERERGfUQgtIiIiIiIiIiIiIj6jEFpEREREREREREREfEYhtIiIiIiIiIiIiIj4jEJoEREREREREREREfEZhdAiIiIiIiIiIiIi4jMKoUVERERERERERETEZxRCi4iIiIiIiIiIiIjPKIQWEREREREREREREZ9RCC0iIiIiIiIiIiIiPqMQWkRERERERERERER8RiG0iIiIiIiIiIiIiPiMQmgRERERERERERER8RmF0CIiIiIiIiIiIiLiMwqhRURERERERERERMRnFEKLiIiIiIiIiIiIiM8ohBYRERERERERERERn1EILSIiIiIiIiIiIiI+oxBaRERERERERERERHxGIbSIiIiIiIiIiIiI+IxCaBERERERERERERHxGYXQIiIiIiIiIiIiIuIzCqFFRERERERERERExGeustvtdvPE5lJ0uMQ8SURERERERERERETq0aF9iHnSj5ZPQ2gRERERERERERERubKpOw4RERERERERERER8RmF0CIiIiIiIiIiIiLiMwqhRURERERERERERMRnFEKLiIiIiIiIiIiIiM8ohBYRERERERERERERn1EILSIiIiIiIiIiIiI+oxBaRERERERERERERHxGIbSIiIiIiIiIiIiI+IxCaBERERERERERERHxGYXQIiIiIiIiIiIiIuIzCqFFRERERERERERExGcUQouIiIiIiIiIiIiIzyiEFhERERERERERERGfUQgtIiIiIiIiIiIiIj6jEFpEREREREREREREfEYhtIiIiIiIiIiIiIj4jEJoEREREREREREREfEZhdAiIiIiIiIiIiIi4jMKoUVERERERERERETEZxRCi4iIiIiIiIiIiIjPKIQWEREREREREREREZ9RCC0iIiIiIiIiIiIiPqMQWkRERERERERERER8RiG0iIiIiIiIiIiIiPiMQmgRERERERERERER8RmF0CIiIiIiIiIiIiLiMwqhRURERERERERERMRnrrLb7XbzRBEREREREZEfrbNWDr2/newdBRQUHODYWQi4I4KuEV3of19/eoQFE+BnXklELl4Ftk8L2JW7m/wDBeQdsgLBhPfsQpf/6E2f6C6EBgaYVxKRK4hCaBEREREREbk8nDpAesokFm4vpcI8zyigNTETFzF/ZASBCqNFmqCCY1vnMSZlHYds5nmeAjsnMH9JMjEhCqNFrkQKoUVERERERORHroLijMf53axcrFXOSYHBdImMosPN7qVOf5JL3odWbK5lWkaR+qdlDO+oUEyk0U7lkvbw46R/6vrKJ4DAjl3o06U117mW+aaU/XsLKD7lXiY0cRmbnonSF0AiV5jLK4Q+V07ZuUoA/C1BWPzNC1zCygvZvP4QHYcNpZPFPLMZVJ1g92vbYOAIerc0z5TLhq/qkeqPiIiIXI58de/0A6gsL6O8EsAfSwsL/ldUuGMjLzWO+NcPO162jCJlYRrDI4PxGi1XWMl7PYUnX3AG1n7tGb52A6mRgeYl5cfM188wP+b8oTkc3kji71LYZcURLMcvYuUz/Qi9wbygQ8XhHaSNm8RaZ2AdHJXGn9OHEnpFXaua6Eqvc/Kjd3mE0Cf2sjgljc1HHCejgz8hUeN5/pkBhFzUiXmU9YmJLGcEG9bE08o8u5kVvZpAYsYJ/Ac8T87U7ubZTVa5YxrRc/fBXaPIXDWUIPMCl5ujGSQ++hqMWMOa4W3Ncw32MrvPLHaaJwOW28MYOCKFpOiWXFQV+gE0vR5VUl5WDtcHYbneMPVKqz8iIiJy6XLe5xWZp+OP5a5okmdNbnDg1PR7p4apPF1GuZ+FIB8kBuUfZTAvLYPdJwzPQn5BdBk2medHdMdyBQQ8xa/E0ndeIQChj6azaXoDW1ieymVmXBJrDwN+YaRkZ5LU3ryQ1Cd/zn1MzTFPBa5vSe9hKSQPD+OivuNp8DMdXp/fffYM45P84UfGlsuTfZPItALBUaS+0dBfEzh/sfBsLlYg+KF0/rYwCn39Uw+f1Lma54zPnCun7BxYgizNnq0cX5tI3Gsw7vU1DKvvMiE/uKvNE350yvcye/QsNn/RksFjX2Ddpg1krlvC04PbciZ3IQnjNnLcvM4lqMOwFCbGj+Klx3xz8+sfPZ458fHMeTa2+f7xvZwE92Ti9BTmOP9mjBhAx6pi1s9JYOjcvZSbl79ENb0evc+iIXFM2HjUY6rqj4iIiFxywoZW37vNmZ7CxPgIbjmyjekJE8iymhf2run3Tg1xlM0T44h98X3zjKY7ksGEia+xuzKc4dOXsGHTBjLTZzGuhz8FGdOIX7APY2RxWTq8giedAXT4mA1smuktgK7AZvPSQ/TNUaRu2sDjnYGqQtKeWEGxq5sOaaQg+o51n49zJo9gYLtKdr82gfgXD5gX/l745BnmMskfmsZG9rOTnQF0P17MTPceQJ+1UVHjfAogND6dv77Uj2DA+pfJzNheT0fSV7rLoM4d3ziB2CFL2G+eIVecH30IfTxrHTtPt2T4kjVMHBpBSFAQQbeHMXD8KpYMbwvFGaz/Yf7NaxxLGIMfG0qnZvvX0cSvJb0fG0Hv25v7e6fLhKUDkdH30tv513f4ZF56cwMrh4VStmMW0zaXmde4NPmqHqn+iIiIyKWmVXj1vVvv6HsZ/NjzrFsVT4eqQpZnNPABwFf3Tt+T/PWvUUR3Zrz+AknRYbQKCiIotCfDZq9iTpSFsh0Z7PiR3MZeHBuZf1zMIYDOybw4KcJLi8oKdqX04Re/7ENyrpcgOjCCyYuSCfcDChezcKsCsYtjoWN39/nYe2A8Ty9f46iHma+R9UPUQx88w1w2+UNTfLSatC02IJjYtLnEevvlSclqBv6iKz8fvJpj5nlA8KC5zH8o2HEOz1vNoRphtbiozsnl5EcfQn9+pBgIpWOoeQ6ExC8hc9MaksJdU06weUoccVMya3xTdHzzFOLiprD5C9MMoLJsH8tHP0h0n/vodX8CTyx9l+OmJgUFS+OIi1tKQfkBw7KJLP+gHKrKOLh2GnH976NXn/sYkLiQ3Sc812ffUuLi4li+zzixkuM5S3niUdf24hizoOZ7N2i5LzKZGhfH1M2mN648we6lE0h48H7Hvg0ZzeyNhTVb/u5b6iyfcg6uneZc/n4GjF7I7i9q7JB3rvca4niv6AcTeWLpXspM/+AULHV+RuWFrE9OZED/++jV/8Gax+RyYi/LJyQw4D7XcjW3eXEsdBqVwrh2UPBaBgfNs8sOsDl1NLH330ev++4ndvQsNh/wcnflpYwX55zw2iql/MBGZo+Oqz6WhOTXKDB9ZK66ln9iL4sTHducvcc500s9qq6blcVsTjaUU+pGDhp213EO/JHdQNH6p4iLiyNuqXNDl0L9EREREalPu2ii2kL5h4XV9/uNuXcqyZhAXNw0ry2pK3PTiItLYHGe4d7FeT8YV9u90L6lxMU9xetHgT1/dNxfmZ5FPO7/7o+rcY9WuxOUfAbcHkrHGn0dWOg9dR2Zm9Lo18JzTkPuNx28PGOkbuSg+UbPVYZ5J9i9INGx3Tl73fM97hfvZ8CjE1hey71woxWuZuF2gNY8Pmfkxfct234k8//QGoDsRasdobY0Awu9e/8SKKTAVai1PVfU8awOUJ63lDGu8yyhgXWo1vfyUrcXbKPEXLe9aFz+4OTlmWlxVnHNZyZv5+eEpTWzA0NZFX2UwfSH76dXn0TWG37MevHXlfpUkP3yCkew3P8ZZkfX/NqnYQLpM/MZYvyAkhUs2+7lCyKBZqlzjb/uNrz+1Hcu7WN5XByj1x91dIUaF1czd2torgKU5S7liQRXnjSaxbkNPya5NPzoQ+i7OkcAe3n9VS/Bl7+FoCBjZ+2VVJ4s4/jJGktC+UmOW09SaQ4vqwpJH5dK/k3RJE0exfC7/Tm4OY24cRmUGJatOF3GcesBlk2cy6fh8cwYG0uX64+yPvWPpL84gSdyrmXw+BQmDg7D/+g2po9eykHje1We4bi1jJOGM+j4+gnEzcnk81tjSZ6ewoxhYZzZkUac6ecWDVquqpx/W8v4t2O0Eue0o6wfl8D0zBPcEjGUiZNHENWyjJ0rJhA/x9QFReUZjltPcvC1p5iSA73jxzNuQCj+xduY/mgqO70UqYeqAyx/OIHpm4vh7nhmTJ9MUg8Ln2fOInbaNo/3qjhdxvGvDpA+8Smy6EXS+BEMDPXn4LY04mZ4LsuRDBITZrH+E3+6DhvFnMdiueVQGiMWN9dPD9vSb2AYlO8h/xPD5PK9zE6cwuK8SjoPHsWcUUPpfO59Fk9KYKrH1/zuMr5t4HjmTJ/Mo+HlbJ6T4LwQu5XvSSN+0svsPteBgcMnM3FoOP4fZvBEwmjWH3Ev56hr+1g8cRa519/DwAED6OLqwMlLPXIsf5TNMybw+plQBo+azLjotny552XGJKaR7yzQgJZhdO3WgVuc/WF37dadrm1vccz8oeuPiIiISAOZB+RrzL1TSPcIsO5jbWaxcRNAJbuz3+X4uQh6d3c+XFi3MfXhKSzeU0ar6BHMmT6KwR0q2b1iAokvO9e/pS1du4XR6nogqIPj/uqultWD5Rnv/waPSmHi4A6cyXuZMQ9P8RqEe2pJp7stcDST9G01Uiq43kJQkOcAhQ293wQoWet8xrD8kmFjJzMuqqXj/jHBff8I7jLcvfQppu+zENlvAAM7O5tGGu8Xe8QzY3I8UZYTji7vlja96d6xvbmOMKzbSIZ3Ns91CaBP2i7++Y9dzIvy0mWAU/gjI+kCUJJLXol5rlw0P1MrZG/PFVDns3pl4cskph7gluh4ZoyNp6ufo9vE0Ws9n6dqqOW9vNXtkzkLSTDXbS8alz/U8sx0ezlZC0fXeGbydn7ySSbTa5yfzrIq2ci0iRl8HhLNwAG9CHF+GdW060o9qvLJ3g4QyPDhg7z88sApZCRZ/9zPx5tH0sY8zyVwEI8Mc2whOyffPFecmlTnLuK625j6U/+5dAsh3brT+XYLEETHbt3d/ybSmFwFStaOJjY1k4N+EQwfm8K4gbewf+5oFn3gsZhc6uw/dhdK7Fsmxtp7RkXbew4YYZ+WvsGed+i4veKCeUG73W4vsb85Itrec8Q6+5emOV++PsLeM2qE/c0S1xTnslHR9hGvV0+02+12+5ldM+0xUdH2CZtOVk/Ley7a3jMq1r7of40LbrVPiYq29xy6xP6RYX/ObE2x94yKts/7H8Oy7z1v7xkVbU99zzWhxP768Gh7z6e22s8YFjvz3hL7tFlr7HnVb93A5UrW2UeYjuXT9Hh7z6hYe+p7xjXt9s9fH+WcXuGe6Ny/nk+b3sdLWXhTUZpjXzZ+lH2R6b0c+zDevsWwuqMso+3Ttnq8kz13Vqxp2Qp7bkq0vWd0isf69gsl9jcf8/7Z1bTHnhrlvU5UK1hij/H4bJzvG/u8Pc/jcM7Ydzzt2J/cs85Jn62xx0dF26ds8TyWvCUp9tT0v9urd/tsjn1adLS952Pr7J8b6+6ZPfbUgdH2e5/OqS736vLxOGinGvXIvfwDz+3x+Ozsn62xj4iKtj+wuMAw0VEeNcrtB64/IiIiItWc9yU9n9tjnmO3f7XBPto0r3H3Tiftm8ZG23sOW2P/1LjcybftE6Ki7TGG+6YzBRvsqaOesr/5mXFB533iwCX2j6qnOZ8rzPvrvP+rcY92ZqvjvjAlx264m/LuTIF9Ubzj+O4dNt4+7/Wt9v1FZ7yv14j7TXvRGvtQr/eP6+wjoqPtMc/tcb+H8T7P9Az2aXq8vWf0KFMZ2e2froq394yKt79S5Dm9cb61vz061H5Hu1D7fSuKzTMvQrF9aX/H9ka/8615ptTBcY4Zn6Xd9v8x1nOel+cK54yaz+quc71GHXI+G0aPt2/5qnrhWtf3eK9a67bj2WjoqkPGqTU1Kn+o45lpzQh7z+h4+yuut6vr/Iw1P6+6sop4+7IPTWd7c1xX6vLhInuvdqH2O9pNtG+r5ZgbJXui/Y52ofY7ei2yHzTPE4eLqXM1zhlv110v50xj6k8jziVH3va8Pc+4XGNyFdf5Yf53xvlvUm3XH7n0/OhbQuPXloGLNrBh9gj6ti0jP+Nlpo5LILqWbjMaze9ekuI9h9i0RCUwOBgKcvfg+d3MPfyqm+GlJZwu7YC7I+hkaIFgCQ+jA3jppN/IH39/oLSQTw1fd1l6jWfOzBFEVvdb19DlzIrJ3XECwuJ5vJfn7/dC4kcx2FLOzt01B0/pGzPAY2RjS9R9RAInT9f4Ts6D/+33Mm7JKiaa36tdCFBOeY3Ve9K3n8c70fvee4Byyk47J53LYWcetBo6goHG4/Rry7Dh9xomNNEtQbQCPv/C2cLE+b4dBicQ6XE4Fvr+1wAsVfv4u+sLRn/H6K+ff1Jk+NbSQuT455nxWPfqATIqc3PYXWVh8Kh4Qoytdyw9Sd60lZx595pGlL6X33gcdH3a8vDwnp7baBfPw92hLGdvza5G6vX91h8RERGRGs6doaysrPqvZM9rTB39Mgf9QhkX39O0cEPvnYKIig6DE9vINfwKriwnhwJaMnhgRPU0S8RQZqx6gWHt3MuBP3e0awvlZzhjnOyF4/7Pyz2aZQCDB1hg39/rH8TJEsHE1zewZnIsnfyKyXptIU8kPUj0/YnM3niAcsPzRmPuN4tytnGcMB4dVfP+8fEBFspz32O/6Vmm728GYPFohe68X4xKMJURdBgcSydOkP+BlxbcDWblK2dns+F3tjfPNLCya2kKySkpLMutqxloe0LvcvzfseN1LSe1OXPafT6WfVFI1oJEpmSVExSdyEDPR+rGqVGHLPQeNoBWVYXs3OP9Z/u1qb1uj2DV9r+xYVSYcWpNjcof6nhmGr6KnO3rSHK+XV3n5+PxYXAkh93mht/tBjC4s2dL82a5rtTlq2OOXx90DK27+5vCjSSnpJCcsrHu7m1CQwkFKD3GV+Z54nAxda7GOdOw625j6k+Tz6VG5CqO/Qpi+AjTvzPt4kmKMryWS96PP4QGwJ9WveKZseptcra/zboXRjHsLrx2m9FobUO4o8bFNZROdwNHjvKleVazacnA4fcSdGIbTzx4P7Gjp7F87TYKjppT9YYuZ3aC41YI6eYOQqv5hdChHfBZSc3+uGqUhUPJF+Z/Eb2oLKMobyPpC2bxxKNxxA25n+g5Hp1gG/jX+Cmlw1E+L3X+r7WML4FOd3nrHCmEDuZpF+tkGceBO253/qzQ+b4lm539Jhv/5uZQDnxy1Hlhv30ASdEWjmdNYcD9cYxJXsr6rAOUnPN4B05ajwO/pIv7uaaav39zDKQRSkiNGz9/OoW1hfIiPm/cvdsPU39EREREjPIWEjskrvovYUYG+efCGL74jzUevhsjaMCD9PYrY/M2V6uCMnJzCyEsliHm285zRynIymD5gmmMiYsj7sH7Scho2H2N4/7vBK8/ZbqfjIsjNaccqo5S4mW8mhr8gugwcDwvrdvKnq3rWDN9BH1bnmDniinEz3X/3L8x95v/tpZB2wi6BntMBnCE7FXFDdg3x/0ieUtqHF/cuAw+BYqONKXfCxu2b5z/e41plocKirdv5K31G8n+tO5+ZwOc27F9o8EJG+8oaye4z8fYhAnM33aCW6In89ozppCqkTq0rfEgA3eF0wn49Gjj6lBddbvhj10NzR/qembyfN6t6/wMCu2AhaN82oBDbbbrSi0qzjrPoWsCqrsV8up4Pm+t38hb6/PrDpert1OBre7T8wrXuDp3sdfdxtSfJp9LjchVHPsV5rVf7Du8XR/kknWZhNAG/hZCug1l3JJ1ZE7viaX4NdJ31BfIXqRz9bdwaApLrxQ2bljC08Pu4Y5zh9j82kKeePR+Yme869ECu6HLeeM96A3iRmdXwM3m6DamxsWROO01Nn92ntvCezF4xEzWjO9uXrLxvB5D8zn+0QHKacsdjrFKqt1yZ3dHv37Gv+7RDBwwgKi2rquuhcjpG8hcPpnh3Vty5uNtLF84hYRBccyuMVR5bcG7r1VSbgrFG8r7/vqg/oiIiIiY9ZhM5qYN7r+3t7Jn6xKSOjcl7gKuv5fBAyyU57xLQZXjPjarEDpFRXsESZUHlpIwKJEnXswgv/Ra7ug2gGHjn2fBsMY8ELv6yPT86xE1gIEDuhPi6jezoa5vSYfoeGaseZt18W0py1nCm8ZxTRpzv+nnj7ccISioRpxWp+qxRjz+etFvwAAGhjXlpjGQwJ84//eCadZFqnBuJ/AntfZ0K7Vqy/AlhvNx0wa2bd/KhukDCGponbsI5ecu4lm/lrp9URqQPzT4nKvt/LzJQuPOlGa+rhgE3OCMni9U0CyZcfV2AgisM9WWag2oc0277jai/jTDudSwXIXazw/5UfmRh9BlFOW8y+6PvP+cwNKhA62AL63e5xvVGJDQxVrGSfM0jjpGom7XgTvMs5qZf3AYAx+bxUuvv03O9g28NLgtZXvSWOYa0buRy7n9hBstUHTEW0uNYj49BNwa1Mh/7GqXn7GQ/PJQxq3ZyrZVz/P01PEMG9idDsGuO8eL4Bzk4tNiL8fgbL3cZFXFZG07Ci17EelqUWOxcCNguSeep6dO9vo3vIfx5tyfoLABJM1cwrq3t5Kz4QWGtS1j54JV5DvrXYDFAhRTZBoQpvmc4KQ58wY+P3oU/NoScrt5Tn2+3/ojIiIiUsP1NxIUFOT+a9HUR2G3Lr17YSnfw+4DULRjG0V+3Rnm0Z3HCTavyKTEci8L3t7KuiWzeHrqCAZHR3BHAwMex/2fhcj4mveSjr+6utZztsLOeZf8Ym/dmvkTclcoUMZxZzPExtxv3mixwJEiPvXyjFT0SSHQilu8tH7z5LhfLL9zgJdjc/7FemnW1mDB3Ooc8ezQZ4fNMy/CYYqdgX2bVvUenHhxYwvD+WgeLK0BansmP15W84mcoyV8DnRoF2KeU6e66nb9Gps/1PXM5Kmu87Py42JKCKLVreY5NTX5ulKfW9s4Bhr8tJjiiypDk+JiigFat6EBh3cFurg6d7HX3cbUn6adS43MVfz9az0/TpZ5CTrkkvUjD6Hhk8w0pqesYreXe6/j+/ZRBNzW0tmNAm0JuRM4WshB4/JVR9m9p5Z/GMpz2Jxr2vgn29h8BFp1j8A1sHazO3eUna/OYm2e4Rst/yC69OtOK+Ck1XmiNXS5GiLoHWWBPRtqjHDKB5lstkKnrt2b/K1WtSogKIKupp9GFrxfs9/gBrs9gsiWULJjG0UeF75K8v/q+PlGk1SeIGvGU6w9YaHvqKHu7j2CetE7zPFAYu7qpTLvNeavfZciZ7FXHtlGeupr5BtaGvsHR9CvexBUneCks3/roF696MRRNmWaR6s9yvqk+0lY4DlycuMVsjnTVMfLt/HXXKD7r+jqOafWG0C377n+iIiIiHyfusUyuGU5O/Zmsj/vBHSPJtIjXK503N/+PIKuHg2vy8jfV8tzhen+ynH/V8yOHeblK8l/bSHrdxTXff93/Ul2v5jG1LSNNe5JodJ5n92SVs4Hlsbcb3bq2QsLe9mcaXqWqDpAVlYZhP2SrvWG7c77xbxtNZ/Vircx/9WNFHxxEa1YqwXQJcLR52jxrnzMt6SNdiKfXZ8ChNHlbjXJ9Jm2IdwBFBUe8qzfR3LINZ8KTuU5mTXqUNG2bRTRkshurmf9hqm1bp/by+whDzImo9hzuknj8ofan5kq96QR++AE1jvfrvbzs4ysrH1g6U7X2rPDak2+rtQnLIIufgC7yW/Co7xL3t7djv/5jwjCzTMFLrbOXeR1tzH1p/HnUqVnztCIXKVVt+604ihZO0zbPLeXzTnmA5VL2Y88hA6i37B7CSrfy/RHJ7B84z6Kviij5INtrE9NJGFFIYSOICnaHYV17X0vlqp9zB6dxua8AxTkbWT5uKfIOlfL14HBFg7OHc38rEKOuwY8eXojx1vcy8RhDfhX4GJdX8nnOXtJXzCN9D3FlJWVcbxwG/Of28hxvzD69nLub0OX86LL8BF0oZD5o6c41z1BUVYaCcnbKA8dQfLg2tdtrLvCwsC6kbkv7qXEMFBFaq55ycYI5dHx9xJ0YiOjxy0lv9i53bmJTP+qLZ3Mi9elvIj8nHfZnfMuO9cuZX7qBOIGJTA/r5JOI/5IcpTx6SKIwY/FEnQkg8TEhWQVnnCW3UISUzPI2nyIihaOJf2rTrAzN4N5015z7J+zjFM3lkHnaKobTAcPZVyshbLMaSQs2EbRF2WUFe8lfdIElhfDHb/8ZZP6UYOWlO+YwNRXHeV/vHAb80cvZDehjHvsXkNY3JJWLaEk82U2FxZS5LVljcP3WX9EREREvl+hREW3pDznNV4/YmHwQ8b7JYC2dLrbAvteZvZGx3NCWfFe0qeM5vWj5rs2ZxC8Zx3L9xRS9ImzxZrz/q9o7Wj3/d8XhWQtGM30tdt4s/BMPfd/EQyLD4UjGSQmznKMO1J2gqK8jSwfl8ATWeUERY/mYdcjS2PuN7uNYFxnKFgx2vP+8dEpbD4Xyrinhtbs49aLLsNH0OXcXqY/6rpfdD1PLSRr/R6+bFDHobVr0zPK0Srzg9Ws/cg8t3EOvbGaAoCQKHo0rnGtNMo99I22wL6FjJ67kfwPDpC/cSljnsqhvJYG6K0sxcweneZ87iom/9UpPLX+hGf9bqja6nbSLHaettClW10bbHz+UNszU2Lqu5RZDI20aj0/E1lcaKHv1FHO8LceTb6u1MMvkpj+ADbWrt1Ck3pPt23hjfWOLcRER5rnClx8nbvY625j6k8jzqVbWrYC9vL60r0UFRZTVkWjchVC45nYz8Lx9RMYs9T4XmmcbFfPAIhySfmRh9Dg3yOFjEUj6O1fzPoV00hMiCNhykKW556gVdRk1i33HF3Wv9cEXhgRQdCJd1k8bQpPzNhISY9ZzBhQy6XYMoAZz3fno6UTiHMOeLL/+nuZsSrFNIJncwslafEsBrc4xNoZo4kdEkfcuIXsqOrOuMVpDKz+B7qhy3kRHMtL62Yx2OJaN4HEhe9yJmIEKxebRuVtoqDBabw0uC0lmbNIcA5Usby0F8+Puse8aKP490jhtZkDaHUkk6lJju0u/rg7L6TFNa6VunUvi+ekMX1OGrNfyyRr3wluiYhnzrq3WTk8tGaL3ojxZCwZQdfybcwfl+Asu22cvD2WBWvG08lVdqEjWDVzADceynDs35AEEhfupbLbCFamxXrcvHd6ch0rR4RzZsdCEhPiiE2axdpDQQyeuYY5/Zpa2cIYlzYCtjnKP27cQrLKvA3cE8rDKfF0OrePxeMmkLgkp/Z+xb/H+iMiIiLyfesQG0un8nLKgwcwsJt5LnQav4Snu/mze4XjOSE2KY2dLUYws8YX8f70Hj+Zvi2KWT9jAolPbeSgaxvm+7+ECczfcYKQwc+TMd7LCGUmrYYtYcP0AYRY9zrGHRmSQOK0l1n/CXSJf54M04BwNd6v1vvNIAYuXsecfhb2ZxjuH89FMK7G/WMdatwvOp+n/LszcdUf635WaYiwkUzuD1DKsumrL757gMOrefoVx+jnMZNGqkWmT/kT+WQa47oFUbLjZaZOmcLU9UfpPSuFwbU88lgGpPBC92IWj0sgdshopmYcIuCiBzysq26vIuku8/KeGps/1DwHDM9Mq0bQwbBs7efnKmb0aviR1thOI68rdQsgZtRYx5c/2+cyI+diY2gbu1Lnkl0FhIzl8f769UFtml7nGnfdbXj9afi55B89nhm9gijKnEXiuKd4/UPnjIbmKvgTOXUVcwa05NPNrvdaykfdn+f5oY37NYT8sK6y2+1288Qfq8ryMsorAfyxtLDU02l5JeVllfgHWWoGjN5UVVJ+upxKfwtBje3cqqnOlVN2rhLqe++GLueFq+z8rw/CUu9P65qgCftYt0rKy8qp9LM0a3+ADdHQsqs8XUZ5Ffhb6ukfzVXXmulY8ufcx9Sce1mwK4XIRpRT5elysNR3Hjk0tAxERERELjeNuQ+qLC+j0t/bvaDzHq1BzzHeue41wR9Lfc84jbnfrCynrLwSGrJsXXz1HHB4BQP7LuYQED5mA3+eEoF5WMGKU1ZsFyDgJ8EE3mCaaTvAwkfiWPYREDaRnZljCb2I8peLUFlOWaV/w+uDsw7V+zzVUK66fZF1snH5g+FaUd/+u87PhpzLdWr6dcU7G9lP9GHMFhsE9+PFzOXEmnPAChtWW4VjwMHgQMwRs3XLOH7zxA6sBBK7chcv9jefteJNY+tc0667jag/DT2X6jjnG/xvqfO96l1OLkmXVQgtIjV5htAiIiIiIpeX4ldi6TuvEIDQR9PZND2KwLoCE5dTucyMS2LtYcAvjJTsTJLamxcSkRpsuTzZN4lMKxAcReobyxje0Rw1e1NBccbj/O7ZXKxA8EPp/G1hVI0vjkTk8vSj745DRERERERErlyhf3iDjEcd6XHx60n8olcS6flWKswLulRYyXsliXvucQXQ7Rm+9g0F0CINFRjFi39Oo08wYM1lZkxX+j67g+Kz5gXdKg7vcC7nDKCj0vjzAgXQIlcStYQWucwVZS5k8yehDJ4aSwfzTBERERGRy4KzheWsXKyuvqEDg+kSGUWHm91Lnf4kl7wPrdhcy7SMIvVPDW3FKSIeTuWS9vDjpH/q+songMCOXejTpTXXuZb5ppT9ewsoPuVeJjRxGZueaeAvFkTksqEQWkRERERERC4Ppw6QnjKJhdtLa28JDRDQntjpc5k9LEJBmEiTVHBs6zzGpKzjUD3jFAZHjmR22kRiQvSlj8iVSCG0iIiIiIiIXF7OWjn0/naydxRQUHCAY2ch4I4IukZ0of99/ekRFkyAwmeRZlSB7dMCduXuJv9AAXmHrEAw4T270OU/etMnuguhgQqfRa5kCqFFRERERERERERExGc0MKGIiIiIiIiIiIiI+IxCaBERERERERERERHxGYXQIiIiIiIiIiIiIuIzCqFFRERERERERERExGcUQouIiIiIiIiIiIiIzyiEFhERERERERERERGfUQgtIiIiIiIiIiIiIj6jEFpEREREREREREREfEYhtIiIiIiIiIiIiIj4jEJoEREREREREREREfEZhdAiIiIiIiIiIiIi4jMKoUVERERERERERETEZxRCi4iIiIiIiIiIiIjPKIQWEREREREREREREZ9RCC0iIiIiIiIiIiIiPqMQWkRERERERERERER8RiG0iIiIiIiIiIiIiPiMQmgRERERERERERER8RmF0CIiIiIiIiIiIiLiMwqhRURERERERERERMRnFEKLiIiIiIiIiIiIiM8ohBYRERERERERERERn1EILSIiIiIiIiIiIiI+oxBaRERERERERERERHxGIbSIiIiIiIiIiIiI+IxCaBERERERERERERHxmavsdrvdPLG5FB0uMU8SERERERERERERkXp0aB9invSjpZbQIiIiIiIiIiIiIuIzPm0JLSIiIiIiIiIiIiJXNrWEFhERERERERERERGfUQgtIiIiIiIiIiIiIj6jEFpEREREREREREREfEYhtIiIiIiIiIiIiIj4jEJoEREREREREREREfEZhdAiIiIiIiIiIiIi4jMKoUVERERERERERETEZxRCi4iIiIiIiIiIiIjPKIQWEREREREREREREZ9RCC0iIiIiIiIiIiIiPqMQWkRERERERERERER8RiG0iIiIiIiIiIiIiPiMQmgRERERERERERER8RmF0CIiIiIiIiIiIiLiMwqhRURERERERERERMRnFEKLiIiIiIiIiIiIiM8ohBYRERERERERERERn1EILSIiIiIiIiIiIiI+oxBaRERERERERERERHxGIbSIiIiIiIiIiIiI+IxCaBERERERERERERHxGYXQIiIiIiIiIiIiIuIzCqFFRERERERERERExGcUQouIiIiIiIiIiIiIzyiEFhERERERERERERGfUQgtIiIiIiIiIiIiIj6jEFpEREREREREREREfEYhtIiIiIiIiIiIiIj4jEJoEREREREREREREfEZhdAiIiIiIiIiIiIi4jMKoUXErcKG1WrFVmGe8f2psFmxWm38gLsgIiIiIiIiIiLN6Cq73W43TxS5KCcKyS4odfx/mwhiOgeblxCDisP57PrkDACBd/WmR/sA8yLfr7O5JPdJ4i0rEDyUNbvS6HODeSHfqshNoVfiRqxA8LB09qRF8QOXioiIiIiIiIiINJFaQkvzOfQqYx4f5/j70yHzXDH5KmdedXml5VjNs79/7+9wBNAA1lzyPzHN/x7k7XAE0ADWnL+jWiQiIiIiIiIi8uOnEFpEHHqNJKWbo91xcPREHokwL+B7fUYm0yUA8Aumz5QEupgXEBERERERERGRHx2F0CLi4NeepA0HOfJZEe+nD6WNef73of1INv1fEUeK8ljzX63Nc0VERERERERE5EdIIbTUqeKUFavVivWUe5g4x8Bxjr+GDGDnbRs1OAfEs1qt2M5WT8RmPUxe/mHDNLcKm5VjH+VzqNRGRZV5bhNVVWBz7o/VWsf2Dftt9VoYpu2YZ9dgWN7r9pzOGsrLtVhVBbbSQvI+KvX6uVScslKcn09xrfvRwH01vHedn6lRs5WnSwO3Ry1l1dB62SiN2CcD4/nk9ZjNZWee72Isu7qWExERERERERH5nmlgQi++PV/BV2f+zcEvP+F81Xm+PV/BNX7XcM3Vflzrdy2dbruLW2/8Kddde/kOmWbLncfvnlzNIZt7WkDHkax8MxnmdCDxL45pselFvBjtXCBnEu2Stjj+/6F0jswMIC0uifRPDXFYYBhJL75BSlSgexqe64Yn7yIrOp/ER1LYdcK1QABdpmeyKbE92A6QPtnUj7JfMLGLMnlxUBMHQ7QdIP3pZ1j2t8PYPELEAEIfSmb+zAS6GHfdfMwLowwzAXJ58s4kMgEYxJrPFtHHOefYK7H8el4h1HrMEBDSj5SXFzG8o2ddM64bm17E7BvmMSRxNcWuovYL5rerspkXHQgndjDz95NYa/wcAiJ4/M+vMjnCeDC17yuA7cBqnp66guzDhkoBENCe2OlzmR0fgelTbf7yrLJRsPoZnly8g2MeKWsAbfpP5MW0kXS52Ti9ZlnNb7OOMb9PrVHOqa8u57ft3dMa7CL2CcC6PZXRKRspMIfgLSNJmrmQlP7OulyVz8yuw1lrAwhk+Ib9pHbzXAXAmhHHPc8ecLzov4iPVw7SoI4iIiIiIiIicklQS2jAbrdT9NURZmUtpPu8gYQ++5/8av4gHnvjKcb8+RkmbpzF+PXTGfPnZ3jsjaf41fxBhD77n3SfN5BZWQsp+uoIl1OWb8uZxH2JngE0QMWnq0kcvJiCC57TvbpQSPojwz0DaABbIemJMTyZY9q40entJP/OM4yFCgrmPMbCjw6T/khczYH8qqxkPhFLcm4T2n/acnmybxxp282BKUAFxX9JZUjfFHZ5aZXdZGXbebLGMUNFyQ5m/iaO9MOe0z0cXs3vhhsCaBzl8dboZ8g8kUty7DjPABqg4gDL4h4hvcRzcm1sOZO4b8i8mgE0QMVhMp+N476UXM/Wt81dnlWHSX+4B0PmmcNegAqObZ/HkJgk3qqrrE5sJPE3ngE0znJOjhlHppfDq9NF7lPxK7HcM2ZdzQAa4EQ+6WN6MHBNqeO1XyT9B7mSehtv/9UZNHuwsi3TPT1mUD8F0CIiIiIiIiJyybiiQ+jzVefZdGAr//lCLL0XDuGVPRkcO/Ul39m/My9aw3f27zh26kte2ZNB74VD+M8XYtl0YCvnq86bF/1xObGRMaO3UB3xth9KakY27+/LZs34KIJLV7DM2VC1TlsWk1YYTJ/x6ezcl8fOjJmGVqZWMkc/U2vgdyxjBW8FDiV1TSY7M5fzeJSrdXMpax97hLSPAgiNn0lGdjYZz42kS3XjZytvpb/j3vdGOrQ6lUzXyp3HkrHP0T/ykYOZpLr2wbqRmS87WtU2p0OvzCPT1p7hCzJ5b98uspaNpY/ruKoKSXtsMYdqBLkOu1as4KteY3kxI9uznKt28HxsCm+VBdNn/HKysjNZmTyIUD/X/EKW/clboGlWSPocd50IH7OW9/+viCOfFfFx1szq/bSuT2WZoWiauzwL5jxC2gfO0DbAVVZ5vJeZ5j5may7JdZXVC/PIC44k6bnlrFy2nNT49u6wtmoHC1c3bF9cGrxPMza66+XZHSx8wfU+wcQsyObjoiKOfHaQ99MTqj+fQ3Pnku0M6HvEJVT30W37yzsUOP+/2ontZH7g/H+/QcT1VwQtIiIiIiIiIpeOKzKEttvt7P40n94LhzB+/XQ+P+lscdgEn58sZfz66fReOITdn+b/aFtGH3pzBXmuAC9kLFnZaQyPbE9wcHv6TEznb8sG1exywatAYpdls2ZiFKHBwYRGJjAvO5PHQ5yzq3aQvt57udvozcpNaQyPCiO0cz8mp79avZ7NaqXNmA3sfC6BHh3b0yM+mU2rRroH0cvP56BhWw1XSl6ue39iJ0ykR7AzyLshjOHLlpMyfiYrM7LZNPJi+myoTxiTs7JJ/a8w2gS3Jvz+iazZuYgYV2BcsoL0XNMqTrbWI/lz+kRiI9s7ynmTez2r1UrMomzWTOxHeMcwYv6wiE1z3V1c2P63gGPuTXlXms+u6hbTg5g8JRJX0QSEJbByeTKPP7ecjOwNJFUXTTOXp3UjC193xbiteXyDq6yCadN5KPM2pRPrCu1LVrBsu5cWxq66lb2WlPh+xNzfj+HPZbNpjHsAxGO5+fWXh0t9+5S9geGufcpfx9uuMnw/l2zXORY2kpT/ak+AH0AAwdEzWbNoLCkL08naNZc+riy5c39iXeeO7R134OxkzXEH04HDhtLHVW9ERERERERERC4BV1wI/S+bld+//iTxa8Y3S/hs9vnJUuLXjOf3rz/Jv2wX2yb3h2Ll4AfuMukxKoFwU5gV2P8xhrszu9q1TiCpvymu9gtj+GMR1S8P7c733mq5dwwxxlX9wujSxf2yS5cww0wg4lcYZl+k1rS5w/0q7y8bKTZ2E3FDBEkTE4iJbE9woA9amfZ/zBDgOgUO4pFh7oLYtdd7q+XQ3/R3t24GCIygy12uF2F0udvzcwj8j18R7jGlHq3aEFr94u9s+O/DHoPuBXQbyeT4fvToGIy7aJq3PCv+nkue60W3kQzv7DmfwCimTXDXreztuz1muwQ+9Ihn3QLCBw91H18tLai9qXef/CJ4/NV0st7bz8efZZLkCpHbtHa/3yfvsCHf6tGNSZtBE0l6KIrw1oHOcBogjLiHXfXe3CWHsSuOQB6MjTTMExERERERERH54V1RIfT+ox8xcPmj7Py/PV673Lj6qqu586chTO47ii1j/8Q/pu/k2NwP+HJ+AV/OL+DY3A/4x/SdbBn7Jyb3HcWdPw3h6qtqFuF39u/Y+X97GLj8UfYf/cg8+xJWSuEh1/+3J/I/vA3yF0aX/zBP8+I/IrwGncF3R7pbLR8r5SvP2Q7X+JunfC/6PDQU1xFbt6bQt1MHft61D0PGzCP9L/kU27y3rm0O4RERXvvw7XrPr6r/33ai1LPPZacAP29rNiO/3sQOqy4ZsqfG8PMOnfjFr+MYM2c1mfmH8VY0zVmexR+7u8kI7RNZvV0jj7p1+JjXFs1tWnlZ85oAr2VfH+M+tfmPLt73qbMzTDZObP8Aca7AuqqQZfE9+HmHrtwTM5wnF69j10dWj5Dfpc0DQ6u/bPHoksPYFUdIAnFeBi0UEREREREREfkh1UxQL1PvfLiT36aP5ouvTSOSATf4X89jPX/H/mnZ7J3yFybfN4quIXdz64234He1u4j8rr6aW2+8ha4hdzP5vlHsnfIX9k/L5rGev+MG/+s9tgnwxdcn+G36aN75cKd51iXqNKer+2kOIOAaz7nNIjDQ3Z1H6THvIfQPJCAqjb+uTCDUkBhWnCqlYPtq0iYPp+8vu/LrMRsp9hIQ+krADYadOfbVD1ReAfR5LpOVxv6TqcBWeoDsNfN4Mj6GX/yyD2PWe46+15zl+dUJdwv9WkN3Y936Hhj3KbBFY965NUlvbCAl2hBbV9mwfppP5tJUEmN78POusaTlmzpNb9mfOFcjZ0OXHMauOMIfHur1yx8RERERERERkR/SFRFCv/PPHUx461nOVp7zmO539dU80n0IBdO2M3vQU/zsxp96zG+In934U2YPeoqCadt5pPsQj9Aa4GzlOSa89Szv/HOHx/RL0620qe5qw4atloEDKy6YpzSCtdTdQrV1G271nPuDC+4/k50HD/J+ZjovJo8kJqK1oYuJCo5tT+F3z+Z6bZHsC1brv90v2tz6w5WXXzAxz2Xz8cE8stYsIiWxH12MLXwrSslOeYTkXM+Saa7yvLWluw8Ym/ubEk82G7XM8YkG7VNtAiNISs/j439kk7FsJo8PiiS0pSHIthWSPvwR0qv74gYI5sH4fq4FnF1yWHl3q6srjgjiHmhIXzkiIiIiIiIiIt+vyz6E3l/yIc+8PZfKC5Ue039qCeL137/EvIdSCLzO4jHvYgReZ2HeQym8/vuX+KklyGNe5YVKnnl7LvtLPvSYfulpT2h1M8pSMv/m7m6gWlU++d672/X0vweo7tnD4FhBgTsobNP6hwtV6+IXQHDnKGL/kMzKTbv45/8dZOcUdz/U1o073H0BG509UzNMtVq993ttcujAgZrrAgf/N7/6/wNbtr6obiOa1Q3BhEcNImn6cja9t5+P/y+bydV9IVt5a4d7f6tdbHkahP7cvfyx/y3wWqbWDw2DCrZv4+6aw0cask/H8rew66NSbMb+sA0CAtvT4/4EJr+0lp15+zmyf7l7gMWqQjJzPPutD4iKrR500paTy6GzfyfXVeSRQxnQ0ri0iIiIiIiIiMil4bIOoY+WfcGEDTM4dfa0x/SOP7uTt8es5t67/pOrrrrKY15TXHXVVdx713/y9pjVdPzZnR7zTp09zYQNMzha9oXH9EtLAD16ugd3O7biGdI9eliooPiVeaxtSKPP0hUs22Ja0JbLwtXuYDu8t/e+fX8QFYW8NWcS8TF9+MXAxRzy6CIigND7H3B3c1D1rXtWixbuLiD+tpG3TGNdFv/3unoDVgC2L2KZufvww6tZ+I77ZR/DZ/N9qijcSNoTw+n7664MfMH0xURAe2J/Yxgo0pWkX2x51iLgV1H0cL34YDVrzWVly+X5Je7B+mL69/aY3RTWD9axcPE6Ckw9+dS7T1UHePXJSSTG9uEXnfqw0Fl0ttwVJI+J49c9ujLGfI7c3I/YnobX5l8d3NDPPVhlaS671u0i2zkrJv6BS+d8EhERERERkUvC16dtfH70C46UHGvWv8+PfsHXjf1VsFzRLtsQ+nzVeRbsWMmRfx/1mN7up21Z+/uXuPOnIR7Tm9OdPw1h7e9fot1P23pMP/LvoyzYsZLzVec9pl9Kgoc9w3BDS8y0mK70HT6J5JRJxPfpSt8XrAQ3MOnKnhRD4uIt5H16mLy/LCYxJolMV3NRv34kDbuEug4IgNKcLeR9WoqtcAUjnljHoRMVzr6P80lPXe1u2R0VSSfX/0f0po+zZSpV+czsG8OTr2whe+s60uJ70HeRleAGdRdcyrK4GGZm5HLo00J2ZaTSd+A8d3gbMpakKNMq35MASsnekk9xqY1DKx9jTEYh1rNAhY1j+auZafhioU+kM1q+2PKsTfBQJj/qqnjOsvrvQo5ZrRz7aCPJQwx1K2Qsj/dvnjbjFVvHcU9cKsuWpjIkZhK7jC2azfs0OIZk4z7FxLHWtU+RYxnuzOoDzh7ire0HOHbCRvakR0jLdQ7seNZG8dYU0qq/eAimx3/UPEd63P+A84uPQjascwbvfv2IjWqeYxYREREREZHLw6fFRyj45yE++/woR0pKm/Xvs8+PUvDPQxQd/tz8tiJeXbYh9LZDuWz50LMf5nY/bcubI5fTNuh2j+m+0Dbodt4cubxGEL3lwx1sO5TrMe2S4hdB6p/T6OP6WX+VjeK9W3hr/RbySioIT36D2caWmrUZNJGUMCu7lk4iPiaG+Mkr2FXdkjSY2FVziW1QOPt9CWPyq8mEOwNl69ZUBvboRLs7O/GLXw8nLdeZJgZEkDJtqLvFqV8Uk58xtgQ+TOa8SYx5PJX0fCvhU2YxvGaOWEP4H5KJDTzM2meTGBgTS+Kz6yh2tSr2CyPl1YnV+/a9C5vImmTXMVrJfjaWezp1oN3/68qv4+exy1U03ZJJechVMhdZnnXoMv0NUro5g9aKw6ydGsuvu/fg17EpvOVqsR8cxbxmLKuvSg1N222HKTb1ueGxT1WHeau2fZrtPsaA++eyxlVOVYWkJ8bwi//XgXadutL3cfdAjcHD0njcW+P3yKEMd36Hdsy5f4HDEoi5wXMxERERERERuXJZT5ZR+qXpJ70+cOyL45Sd+to8WaSGyzKELvvma1bk/onzVe7fsvtf48/T/cZ+LwG0S9ug23m631j8r/Gvnna+6gIrcv9E2TeX8AnafihrduWRtWAsMRGtadO6NaE9h5KyZheb/tC+Yf0SXxNG0hsbeDzSlDS3jCJlQzYvRl9SCbRD+5Fs+ttyhkcYBtxz8Qsk/KGZbMrbQFJ7z1ltEjfw3rIEwo2HFNCamOQN/PkPYTW35U1Qf17MXERsiOfSAR0TWPm3mu/5fQv9g+MYu9zs5WgCw4h9bgPvvzmSUGP4e5HlWSu/9iS9mcem5H60qbHBANr0T2ZTdjq/bej2GqBN/6F0cb5XQLehxJh/QFHXPrmOscY+BdJnQTabkvsR6uU0CAiJJGnZLvakRbm7evEQRozHAISBPHh/pOG1iIiIiIiIXOm++eZc9f/f1CKQdiGtm/XvphbuJ9Yz5d9U/79Iba6y2+1288Qfu7c+eIfJ/z2b7+zfVU/7fWQcz8c+3ax9QDeE3W5nWuZ8/pS/oXra1VddzcL/msFvuz3gseyPxa7JHUj8i+P/Y9OLeDHavISnCpvV0d3ANYEEewsxfeDYK7H8ep6XgRW9CUvmvayRngPZVdiw2lxNkQMIDAokoAGtaytsVmxVTTvOilNWbBeAgECCAy9+O75S/XnSiM/0IsuzdhXYrDZnF9TNsb06VNiw2iAw2EuY7uHi9qn68+bS/cxFRESuPBVYP9rN25m5HD57mtOnWtCiYxgPPDCUHu2b+G91VQXF728kc0shx0pLqWjdmjZ39CMuIYrQen/ZZNgvaylFp35Kh9ZtCBv0AL+9p3299x4Vh/PJztlN/uc2Tp86TYub29C+5wM8GB1GcL2H1fQyqTicz1vvbKHQ+i2nT0GL28OJin2APp2D67nPEnGqsHIo5x0y9x7Gduo0p29uQWj4IGIfimzA+VMPw7aPlZYS0Lo1bbokMHxQA84Pw7pfOc/rFsENPz/c58ZpjpUG0Kb1rY04N4Gzh8n7yzu8c8jKt6dOw81tCP8+15dLkqPvZsevZx3BsUfq0WS+3r5cfi67ENp27gzDXh3LP0qre5zlZ4HBbBr1ik/7gT5fdZ7sQ7nc+/P/5Cf+nv/6ffbvEoa8/Af+ZXP/lv+XrcNZ/9gKAq+/0WPZS0HFiULefnU5hyPnkmJusVxVyML7YllWAtCaxzN3Mbmz5yKXgiaH0CIiIiJyZTqxg5m/n8TaT11foHsKjkpm1Ysj6eL9J0t1sh1YzZOj3d2ZeQqgy/g3eG1ihPdfQ9WzX7SMImX5QpIivKxdcZi1jz/CzByvbwx+wcQuyuTFQbV0klbPe9dbJrYDpE8eR1pt799+KCvfSCPG1SWgiBfW7an87klDt4UegumTvJwX/1DL+VMP6/YUfmfoGs9DPedH3fvl+HXri3+a6b1+13du+AXTZ0pdx2Wj4JXJjH4hF6vXfW/Pb5e9wbz+3ve96evLpczXIbGvty+Xn8suhM777AMeWTOBc+e/rZ42vk8iz8Q87rFcczpfdZ7Zf32R1/LeYuDd97Hwv2bUCKLnZi9j6a411a+vv/Y63khcQo87u3ks94P7IJV74tZhxfkP3tg0UhLCaQF8eyKXV6ekum8+L+HwtuJwPrs+OWOe7F1ge/r0bGA3IyIiIiJy+bLl8mRfw4DHtWk/lqzsxo1DUZGbSq+kdd6DHoPg+HT2PBfleW96eDUDYwyDVtfGL4yU7ExTd2elpMf2Ie0j4zTveqTlkTHMFDY1tUyqDpM+OKb+9w/ux4uZy4n1FtTJFc+WM4n7krY4nlPrEDo+k50TDWP2NMCx1+Pom3rA+YvG2gTQZWY2mx71HPDH+t9J9JqaW8+6QPAg1uxcRB9jklx1gLRecaQ3oMve8ORssv5Qs9/B4ldi6Vtv46tgYl7KZKWXEL2p68ulzdchsa+3L5efy65P6Jz/2+sRQN98Qwtif9HPY5nmZAygv7N/xzv/3MHk/57NN5VnPZaL/UU/br6hRfXrc+e/Jef/9nosc0noNpFVY5z/aFdZ2bU0ib7de3CPc7C16gA6OIp5L12aATRAQPtIYu7v17A/BdAiIiIigpW3xniGrcHRY1mTncd7mWkkRRgCmMMrGDHngPt1faoOkPa0MYAOIPShZF5ctpwXkwcRargZtWakkPaB+zVYeet5YwAdTJ/x6ezcl8f7+7JZMz7KPchzVSFpz2/0COoqts71CICDoxzH9P6+XWQtGOoxpkfes7PI9niMaXqZFMx5xOP9AzomMC9zF+9np5MyyBCqWXfw5GTPfRcB4MRGxow2BNB+rnNgF1kLRtLFUA2Llz7GTI/zpx4nNpI8xxBA+wXTI3EmK5ctJzUxkuDq86OCgjkpvGUMjKvyWTbHEEAHRPB4Rh4fFxVx5GAeGa7nagDrFp58Id/9GrCun+sRQAcPSmPnPw5y5LOD/DM7jRjDcR2a9wxrzWH1B6n8zhggB7Rn+IJM3tuXzZrkQYZz20r2pMme+04zrC8i0kiXVQhdXvEN+49+6DEt/La7fNYNhzmAdnnnnzt4+b11Hsve+dMQwm+7y2Pa/qMfUl5xqXXeHkiXKZn8c8NMYr0NKBfYnh6Jy3nvPfNgayIiIiIiP2KF61huyIiCH0rnb+kT6dMxmDadh5Ky4Q1SDN3QWV+fWzMUqoV1/VzWVidowcSm57Fz4Uhi7+9H7B8WsXPfImIMgc/bfzWEuWf/Tm6u+2X4lDdYMzGK0OBggoPb02diOqv+YGidmZvP/urAuoLsLTvc80LG8przmIKDWxP+X2lkrRrk/pl/1Q5y33cv3uQyObuD9HWGWLlzMll/nclvO7cmuGMUSS9tYM1DhqQtfx7LPHM6EQ69uYI8w5cwsauynedAa8L/K5lNf042tMC3snaB85e9DZC3fJ57235hpGTnkTE9gZj7+zF8+lre3zzW3fCqKp93cg1bLvw7u2zul32ee5XJkcGOvtlvCKbHlFdJNfzw2XagkGPVryrI22s4z1uPZNWioYQGBjjGl+k4lJUvJhi64DhAgbvHUce5/SfDcfqFkZKVTep/hdEmuD19/rCITasGGb6gyifNeDI3eX0Rkca7rELof5eXUXLS8VMAl+53RHDdtTWi1CarLYAGGNp1IGN7P+ox7bprA+h+R4THtJKTpfy7vMxj2qUisFsCL27az8efHeSf+/J4f18e/zxYxJF/ZJMxvR9tmr9IRURERER+MAUb1xkCoggenxLl2QerX3uSkj1Doe3GQKpWpbz9piFsun8W883jrgQOYvaby1m5zPE3PzrQ8PP+MB5xTl+5bDnzH6rZEqRLhPE549+crn7EsHK6ojVtWjv+ujzcv0Z3GQFRMfQxvP7W0OVHU8vE+s46squ3F8jw5JEeLa8hkD5TxtKl+rWNt3fUbE0tV7IDbHjd8IzfbSzTzOdP+5GkDDNM+2AH7zbk1KzKZcN6d4rcZuxcU1c2QOeRrFnjPv8eCTfNr9aa8LvMvTYH06ahPx0OD69xbnJb69p/eWx9hze2ul8GDkuuse+B0c/wuDEE37KDAteLpq4vInIRLqsQ+svT/8L2bXn166uvuprOt//cY5nmUF8APf+haV6D7863/5yrr3IXue3bcr48/S+PZS49AQQGBxMcHExgU0cbFhERERG5JJWyv8DQpLFjFD289U18T2/6GLuv+F+PponeWfPJNfziPaZ/b8evDc9aOZS7g+ytO8jems/pjr29dxd3Q3t6GLqSC6+xXzayt+52vwyJoFN188XWDF+zi/fec/xt+oOXvnJLj1FseHld9fE1vUwOfmhsOdmbyHsML11aRhFj2C3b/xYYgm+54pUWsN9QDUP7RLpb5xr0iOpteJVPvucPpL07sJtd1V+StCb2PkdFrLAdJm+r89zMLaXFPYauHDsb3j3sV4Y+nkvZtfewex6O7nEKDKlt8K+6GELlAHr0NHx5lL/Lo1U1gO3DAqrPJr8oIu82zDx0gDzDyz49Iw2vXILp4zwmAGwF7C9x/n9T1xcRuQiXVQj99VmbR3/QloAbCL7xFo9ljOx2e6NbIl9sAA0QfOMtWALcSe6589/y9VnTvzQiIiIiIvI9K+awcWyu8DBCDS+r+YUSbuxh75PD9QemJYUcrH7RnvCwCgpeSeKeX/RgYOI4xjw+jjGPD6fvLztxT9I6iusd4QwqTlmxWq0c+2gHC5NiGLPF9UwRTOz0kdTaWLMGG7uWrHYHXYEJPNDL9aKpZVJKsTGjD/PS0hOA1oQa1y885BGKyxWu+LC7fgLhHc1NlZ1Cwz3qffFhz19Ie2MtPoz7aTyC8I5Wsp+N4Re/jCH+cee5mRjLPZ060XdOLjbzwKB+kUxe6O6y4tALjzBkzkYOlVopzl/HzN/EscwV2gYPYv4Ez19GBw+b6+7OxraFMUMmkZ57GGtpIdmLk7hvkrsrnfApyfzWkH8f+8zj5CK8lrZ3bdoby6uQQ86Tq6nri4hcjMsqhP70X595vLZc9xN+dqO370kdAXT63j/z64VDeOfDnebZXjUlgAb42Y3BWK77icc08z6LiIiIiMj3z9gNRWCge0BxT8HcWuvv42tx+rQh6AqgePUjDJmXaxik0M2ak0rfuNUUe5nnVsraR1wDh49jWY7V8evFiATmZWfzormrgjoUr3mMMX9x91vQI3ksPQxBcZPLxHgcLQK5zvDS6NaWhj6tRYyq3I3MIJAWtVbDW2vvuqIW39pOG15VkJsay5iMw4aucNzzitckcd/UXMO57BAYvYi/bZhJbOdAwErBmhQG/roHfeNTWftpBfgFEv7QTDbtXGRoNe3k156kDbtYmRjp6O7y8BbSEmO459exjFnquEYEhESStDKPrD+YwvcLxhctav/V8q1tvJdLU9cXEbkIl1UIbXb1VVdz9VVXmSdXB9Bp2Uv5+uxpJm2cVW8Q3dQAGuDqq67y6I5DREREREQuPW1aeW/IAgG1hzUNUkjm+kJoOYjUzF28vy+P9zLTPAf8/mgeMzc2pENbowo4foj8/z1cs7VmLaxbxvG7OQeqA7fgh9JZOay2426GMmkZ7LUbBYDAFuZ0TsSb1rSurRLdcKO7C5uLsoO31lsJ6DaSNdmOMZF2rhlLH8P7Wf+SwsIPjOsAVVbysndQ8Kk5nnaqslFckM/+WubbCnPJ/t9DHKuZfANQUXqIvL0Hap3v8FNura1cAgM9+3H3qqnri4g0zBWZiK7JW09a9lIqL1QCcLbyXJ1B9MUE0JWV5/n6tI3j/7JScuxLDh85xpl/n2Pd0OXsHLmBjQnpLLj/We4IbENl5XmPdUVERERE5Idz6JPafnNeSnFtsxoqcBArsxcxvHNrgoODadN5KPM2LSfWkPTkbcml9hg6mD7JzoHSnhtLTGfHirYTB8h8No5fDK6vJTUUr0/iN0/sqH6PgG7J/HmBadBBkyaXSR1dlxR/buz3Q6Q2dXQHUXq46d24hE0k681k+nR0jIkUGjWRNX+eaOjmw8rbfzUMnFl1mPTBPRizJt8ZEgcQ+lAyLy5bzsqFycR2dGQEFSU7SIvrwZA1nn1G23Imcd+QVDI/cgbULSNJes5xbqcmRhLs5wixD2WM49d9Umr0Ge12mOLa+mo+4tmdiXdNXV9EpGEu6xD6O/t3fGe3myfT9//9mttv8hxVo7YgurEBtO1MOaVfnOCLL/9FReV5fnLD9bT82U9pF3I7HdqH0LH9Hfy8fTu63dWZB7r05Z42v+SL4/+i9IsT2GzuQRVFREREROT7cittjD1CnD3j5Sf5ADZspwwv6+hiopqf5xJt4h8jxpz2BvYjKd6wA/n5hn6kzQII7ekcJC1+Iisz97Mz2TB42EfzSDN0seGpguKVsfRNcYfcwVFpZL05ktAa/TU3tUxM3XTYbDW6MnCo8Fw/sAW19bggVyBTdxAVZ73XQk551q8WgQ1oF32N58uYUV7Og/YjServfmkcOPPY6kmkfeSaE0xseh47F44k9v5+xDw0khf/msfKQa6TvYKCuam8dcL58mwuMyZvcX/Z1DmZnXvWkhLvOLeHT1/Lnr8aAvATG3l6sTsAv7WV8eS0YfN+clFxxtjliLs7k6auLyJyMS6rELrjz+70eF3+7Tf860zNG7C2Qbfz5sjltPtpW4/p5iC6MQF0eflZSo59yZkz33DTTYG0u6M1Pwu+hcAbLQT4+3P11e6i9vPzI8Dfn8AbLdzW8me0C2nNTTcFcqb8G0qOfUl5+VnDO4mIiIiIiG+1J9Q4qll+Afu9tSa2HqLAMN5ZYMfQWruYqBba3mPAtNq6nqhtekOEjhxHrOH1rnxvbRdt5KXG0vcFd6vj4PsX8df0oTWDN2iGMgkg9E5D0FWaz35XAOehkIJ8w8vwMPVBK27tQz3On7z3Cwyv3KyHDhha2gcSGlrvmUmbOz2H8Ay4wVtwXVt3M6Vk/9XQgr9jAo+b+2P3CyTmkQfcvzCoyuedXGc+8f4OMg3Bb+zYmgF4QMehPBLpfm39yzu4jj7gjlDDeVJK3oc1cw+AQwV/N7wKJyzE8X9NXV9E5GJcViH0TTcEcv217pYG5RVnsZ456bGMS31B9KYDWxscQH9lLePkqa+5Jegmbr/tZ1h+4vVfqTpZfnIDt9/2M24JuomTp77mK2uZeREREREREfGJAHr0NqQ9tnfYkFuzxeWxv6wjr/pVIA/2i/CY71XrSPoYsthDHxZ6aVFcQcEBY6DlDoiOvRJLuzs7OP9iWOb5i36Higov2zSospGdEkP86+6Vgx9azt9eGuT4yb9XTS+T8D7GLj4OsOEdQ1rtVJHzBm8bwrgu90fVH+zLleOGXxFlrIZbNrKrRputUt5eZ/gmI/AB+jfg1OSeSGIMLws+9NYtTCEF/2t42d7QMtvblzJmAYEeLftP25znkMeAi7UJ5Dpjrm07TXW75M5RHgMdFrz5Ts3ubs7msvYvhpOrWz/udZ1cTV1fROQiXFYh9G0tfkbgdZbq19/Zv+OjLz72WMaoriB6/PrprP6fN+sMoC9UVVH65b+wYyekzW0XFT6bWX5yAyFtbsOOndIv/8WFqob8yyYiIiIiIk0R/EACMdWBrI3MlElkGlruVny6gjGGVsQEP0DsPe6XVB0mc3Icv/51HE/+xZgUhxGXYOguY+ssnt7u+dt32/ZneH67+3Wb/lGEuv6/SxdDkHuY9BmrKTZmwRWlvDV1LtmGSeF3udZ2DJyW+UQMY9a7WzoGP7Scvy3oR2CtAbRDk8uk21CGG1pOHnphHAsPGI791A6eTtni7kbBL5K4aKVcYhTMg/H93C9tW3h66has1Y/JFRSvHEeasRo+9AA9jHX78BaeHNKHXw+ZRKbx1LyhH3EPuc+uYyueYdmnHicXxSufYZnhu5OY/r2d/xdMmzvc0/l0HctyzH1a2Mh+dZ1HuBva3vmNVCvPbkYyV3jpy/3watIN1wXCwquvCxBB3KOGb7cK5zHmhQPuc6nKRvazKR6trXsM7m/4gqep64uINN5VdruXTpN/pMorviFhzXje//wf1dN6ht7D2t+/VGPgQKOjZV/w8OpxHPn3UfMsD+YA+osv/8WNlp8QdLNvOkYqO3WaM+XfcPttP+Mav3ruEEVEREREpEmOrYnl13OMrSEDCGwdTIsLNo6dMAZMwcSmZ/Oi4ef3hxb3YeBSV1rVmsezdjHZlT2fzSW5TxJvGX7xHti5HwPCW3D60HayXQOTAfj148X9xoEKS0mP7WPoe9bxM//gVo6+l09bS3E1rgTnwIfvLarudzrv2U7EZ9RswVyrh9I5sjCq+mVTygSgIjeFXokbPQZaDGzZmhbX2Piq1ObRgjs8OZusP7Q3TBHB+zkQEEib4EC+tZVi9aiGg1izc5GhlW8hC/vEssw18F7IWLJ2GfpaLlnNwPvmcag6AA6gTc9+9GgNx/J3kFdiqKEhY8n620TCXY/mH6RyT9w6Q90OILT/SB4ZFM6tpw6R+cZqso2htsf6Vt6K70GysSualpH89vdDiWoNx/ZuJH1jviFsh5iX9hv6mPZ+XSEwmDaBATWvC52T2bnZ1OVHU9eXS96RkmMcKXH8u9QupDXtQpq3syNfb18uP5dVCA3w3F9fZOV7a6tf33xDCzb+4WXCWnX0WM6sviDa3AVH6Zf/4obrr6s3gK44UUhezna2v3+A/QeOUUEAbSK60OWefsRERxLesvZwHGcQffbct7S+7WfmWSIiIiIi0qxs7EqJIdHQarimALpMz2RTomdYuiulA4nr3a9j04t4MdqwwOGNJP4uhV11bdovjMc3vMHkCFPfsrZckmOS3IOa1SYggpTMN0jq6H7G2DW5A4l/8ViqbqYQuill4lK8Jo6Bcw7U2WVI8LB0/pZm7L5DxKAh50BABClZG0jyqIa5JHdI4q3qMHcQaz5bRB/DErb8VIYMX1ezJbJRcD9ezFxObEvPydYtk/jNJGPL7Fq0HMrKv6YRc7Nhmu0ACx97hGUf1HVm4Di/kjP58x/aUyM9OLyaIQPnUVDXJloOZU12mkf3G9Waur5c0nwdEvt6+3L5uay64wCI/n89PfqFPnX2NJn/3OGxjDe1dc2BlwD6K2sZ1157TZ0BtO2D1Yzp04mf94gl8dkVvLUln+LSUo6VHiZvy0aWPZvEwB6d+HmfcaR/YP7ZjlvQzS249tpr1Ee0iIiIiIjPBdInbRfvLRtJj5AacQ+BnQeRuiHPa9jaZ2Syu4Vk52QeN+a4AO2Hsua9XayMjyDQvGm/QMIfmsmm9zNrBtAAgVHM27OfTc8NItzLbAJa0yNxOe/9Y4NHAN08Lr5MXEITN/D+hpnEdq658wEhkSQt28UeBdBSl8Ao5u3axcrESNqYq6Hr/MkzB9AAUTw2xd0dTnjyOI8AGiAwciY7399ASv/2NbuocZ1b79UMoAGCBy1iz9/SSXkorOa6QMDNEcQ+t4F/7jEF0ACBEUx+M4+sBd7PLfwCCe05kpW79rPJWwAN0H4km/I2kOrt/V37vquOALmp64uINMJl1xLadu4Mw14dyz9K3SNC/ywwmE2jXuHOn9Y/lKu5RbQ5gC4vP8vJU18T0uY205pOFYdZ+/gjzMwx/Cjn5gj69A81DEhwmqLtuyk45f66MTh6Jn9elkCo139ZoOTYl9xy801YLE3vd1pERERERBrgrA3rN4579oDA4JrhsVmFDasNAoMDvQdGBhWnrNguAAQ0aHmjCpvV/VP5gECC692xZtTYMjGrsGF17nzAT4IJ1OONXITGnj8VNis2GnKuVGCzOruJuSaQ4JvrW96Te78uon4bzo2GHpenpu1709eXS42vWyr7evty+bnsQmiAtz54h8n/PdtjUMHfR8bxfOzTXHXVVR7LeuMKoruF3O0RQOMKg4Nu8j4IoS2fmUOGs9Y52EFwdDIvpiXQI9j7xbvCms/alMmkuQLr9glkbJpJDy/fMpZ/c5aTZXWE3yIiIiIiIiIiIt9DSOzr7cvl57IMocu++ZrfrR7Hh1/8X/U0/2v8WRI3mwd+YRhZtw5nvv2Ga/2u8Qigbbby6oECa6g6TPrgGMdgCX7B/HZZNvP6e0mTvfDoR6qODv+/+PJf3HjjTwi80WKeJSIiIiIiIiIiAsDnR7/gs88dv/K/qUUgN9/UsIyqoU59bePr047uZdu3a0tIm9vNi4h4uCxDaIB3PtzJ+PXTOF/l/C0M0O6nbXljxEsN6pbDm9IvTnDTTYFeW0EXr4yl7wuFtY4KTVUFtjIbFQQQGBRIgClktuVM4r6kLViB8CnZZI2p0ZkV5d+c5euvbbS+3UtnVCIiIiIiIiIiIsDJslP88+DH5sk+8cvOYXWOmybC5TgwocuA8CgG3e3Z6vnIv4/yyGtPcLTsC4/pDVFZeZ7zFy54DaCxbWHhokIAwpPfqBlAA5Su43fde3BP90dY6/i1gofA6EX8OdkxYMKhRYvI9DJWoeUnN3D+/AUqK8+bZ4mIiIiIiIiIiABwS9DN3n/J38xC2tyuAFoa5LJtCY2XQQZdOv7sTtYMX9ioFtFfn7ZRWXmeW4NvMc/i0OI+DFxaCiFjyfrbRPeo2EYlqxnYZx6HCCNlVyZJ3t66qpCF98WyrATajM/kvYnuUXxd/mU9SYD/tdzUwkvQ7Qvnyik7VwmAvyUIi795AWmKorWjmbatAxNfn0zkxZRtVRkHN2ewPucAZ1r1Ytj4EUQGmReShij/aCNvfhzOw0PD8F2HN5UUrBjNvH3dmbFmFJ28XSuaS2U5ZeWVgD+WFhb8ffleIs3M5+djeSGb1x+i47ChdPLJG4iIiIiIXBq+Pm3j69NnsBvGTWsOV199NTe1CKRF4I3mWSJeXbYtoQHaBt3OkrjZ3HyD5zcyn/7rMx5cOZJ3P/kfGprBn/u2guuu8zbAYCl5OY6mzeEPD/UeQDeUXxhxDzuC52M5+Rwzzweuvy6Ac9+6Rsz1ncov3mVx4v30uv9BYofEETskjgH97ycuOYOD5ealL135c+6jV5808s0zGqjydJkzyPOBc+/y+tpiznS79+ICaCrJX5DImBWZ7LeWc7wUfhrkmF5eVkb5OfPyP4zjaxPp1SeR9Z7fBX2P9jK7z330mrPXPeloBol97iNxrWuninkz7WXWrniK9H3uxZqfP1369YKjG1m+ucw8s5mUc/DVCQyoPncfJLp/HFPXFlLj1HWWQy9vf4kZHDcvLw2zJ41efe5j9h7zjB+zo6xP/L7qhe/Px6L1aSzOeJknVvjoDURERERELhE3tQjkjra30y6kTbP+hbS5XQG0NMplHUIDdA25m7kPPoP/NZ4p37/Ly3j0T0+Q/Jc0bN/WiGZqqKw8T0CAl6Tw7AEKCgFa0yeytXluo7WJjKINQGEBBWfNcyEgwN/n3XFUHlhK4qNpbP6iJX1HTGbB8nWseyGFiQNacnLfa4xJSCO//iK7DBxl88Q4Yl983zyjWZRte5vdVS0ZHBthntVA77NzRzmWgS+wbdMGNqSPoINz+qIhcUzY+IOlvj9CoTycMorhY58nqZt5XjMLjWVYGBzcts0nYd7x9U8xJqOQW6JTWLdpA5nrlvB0tD/5r01gmjn4PlnGcaDT0BTmTDf9jepFzd99iHwffH8+dhiWwsT4Ubz0WHfzLBEREREREfGByz6EBnjgF/1Y8tvnuMH/eo/pVd99xxv7NtHl+f7M2PJH/nXm3x7zjS5cqOIaPy/NnK1fOVssRxBes/eMxgsLpwsApXxlNc+Ea6+5hgsXqsyTm8+5fSxOzaTEci9z3lzDjOEDiAxrSUi3exk8dQ2ZS2LpcPpdZr+4Fx+1D75ClJGXWwjBvYgKNc9rnFZeuoiRxrN0HkrS0AgsXk7z5hVEZPe2cCSH3c3+PcEB1mcUQ/fJrHrmXkKCggi6PYyBzyxhYhgUZJmC79MnKactkQPupXe06a97W7x87SbyvfD5+WgJY/BjQ+mk7otERERERES+F1dECA3wwN19eStpFbff1NI8i7OV53h175/p+nwMPV94iIV/e5n9JR/y1ZmTVH3n6DPnu+++w89bCP2NDdcYggFeZtdUSOaGA9Xr1ODnin1s2L4xzXP2ufOdc598oWxbBlmnLfSd/BS9vTycWzqP5/GBFspztrHb1N1D+YGNzB4dx4D77qNX/wdJmLCU3Sc8l+GLTKbGxTF181FKNk8j4f776NXnfuKSMympMnQD0uc+evVPYLq5CwHD+uV5SxnzoGPZAQkTWJ5zosHBuMe+3h/HmNSNHDQ2Et23lLi4p3j9KLDnj8TFxRE3JdMjwKt3G3U5t4+/fwSWHvc4Wy8bVJ5g99IJJAxxHFv0g4k8sXQvZdXfPexjeVwccXF/ZDdQtP6p6v375+YpNacvNf7cvJLjOUt54tEHia7e9rscNxVcwdI44uKWkn9ib/Xn0ZCuBcpyl/JEgmu/R7M4t47PpOwAm1NHE3v/ffS6735iR89i8wFvBeja53rqFs5+XlNHM6C/Y5sJjeg+xnXMBdVTTrB5irP8TuxlcfVnncD0tQco9/ZdUAOPqVWvXoRwlPwPas5rktOV3NJrAEkPdDf1oxtEq1bAkRI+N0w9fvQoYCGoQWNIeNadXvfHMWZBzbrjXSM+Q8o5uHGW4dyexvqPyjm+eYrp83Eu3ZDrTnM5sZflExKq32vMgr2UVTnOx6mbvb1pJSUb3de5Ad7qQ1OviXWoUTbJGaZrlLOOm65tgLO8p7DZyzi+lWX7WD7aVQ8S6ryGFJQfMCybyPIPyh192a+dRlx/R9cvAxIX1vjMap6PNLwOuq6hrjo0ZDSLzf8+7FtKXFwcy829cXhZd/bGmmVesNRZbuWFrE9OdFxz+j/ofX9ERERERETkygmhAbq27UzWuNfp+/96cfVVNQ/9O/t3fPbvEhbufJlBK37PL+f0pc0z3bjt6S619x39k0BcQwRWeAulXEKGMnuMo6n0oZVx/O6FWoLoKtfTayCBPzHN87lK9r9fCJZoBveqvQ1kl8lvs2fX8/Q1NCwv35NG/KSX2X2uAwOHT2bi0HD4JJPpCaNZf8SwclU5/7aW8XnWLCZkXsvAsZMZF9WSk/uWkrriZWYnruLziBHMmTyCvi3L2G3uQsC5/pfvv0xi6gFuiY5nxth4uvoVs35OAqOr+/itnXFfB49KYeLgDpzJe5kxD08hy9X6/Ja2dO0WRqvrgaAOdO3Wna53tcTVK3iDtlGXj4vZD0T+0tQVR9UBlj+cwPTNxXB3PDOmTyaph4XPM2cRO22bMwi5hZBu3enarQO3AJbbw6r378aWYTWnt3W3lC5ZO4G4OZl8bulF0mTXttOIe3gpBw31t+J0Gcet+1g8cRa519/DwAED6NLKPd+bkrWjiU3N5KBfBMPHpjBu4C3snzuaRR+YlwTK9zI7cQqL8yrpPHgUc0YNpfO591k8KYGpWZ4h3cGlCcTNyeQgYTz6ZAoz4ntxyxeZTE+Yxk5jMlS+l9kJE1i8p4yO0SOY8WQ8nc9k8kTKhhoBmzeOYz6Du8f1SipPlnH8aA6zxy3h8ztjmTQqnt7BZex+bQqJrxZ7rN+YY6JdGJ39oOCTIs/pTdWiO8OnTmZ4D/M3SMUcPAR0Ducuw9TPvzgKtOTGqkJ2r13K/AWvsTmv2GvAfny9s+7cGkvy9BRmDAvjzI404sZtrLd8G/wZUk7+nATGrNjLl7dHM27yZB69+wxvPvUU6R+dNH0+jbjuNIcjGSQmzGL9J/50HTaKOY/FcsuhNEbMzaHEWsa/vfQdX/7XVBLXn6Hj4FHMGBFNR+teFk9KZPYew0E39ZpYi8o8V9l0J+mZFOY8Fs2NH7/GmMQ08qu/QHTW8ZPmiBUoP8lx60kqzXWhqpD0cank3xRN0uRRDL/bn4Ob04gbl0FJjWvIAZZNnMun4fHMGBtLl+uPsj71j6S/OIEncq5l8PgUJg4Ow//oNqaP9nYN8vy8G1YHj7J+XALTM09w28DxzJk+mUfDy9k8J4HRxo7pK89w3FrGSePHVuVe95aIoUycPIKolmXsXDGB+Dl7PYLoitNlHP/qAOkTnyKLXiSNH8HAUH8ObksjbobrWi0iIiIiIiLV7Feg7777zp77SZ49cv4ge6upEQ36O/hJkb2qqsq8Kbv9m3fso9uF2u9oF2X/44fmmWan7fsXPGC/o12o/Y52ofbfLCiwnzYv8uEie692ofY72o21v/2NeabdfuHCBXvxZ0fNk5tJif3NEdH2nuPftp80z6rL2Rz7tOhoe8/H1tk/v2CYfmaPPTU22t5zxDr7l65pJevsI6Ki7T3HbvB4j4+WDLX3jIq2T9lyxj3xQpH9lWHR9p6Pbai5fvQo+5ufuRe128/Yc2fF2ntGj7dv+co9Ne+5aHvPqOftea4Jzn194Lk9dsM72e1ntjqOISXHXlE90Vkez+0xLtnIbXh3ctN4e8+oEfbXPY7Bbq8ozbEvGz/Kvug9jy3bP02Pt/eMGm/f4vHB7LGnRkXbR7xeYpxY+/SiNfah3qZ/vMo+NCraPjS9qHqSo9yi7dM837B2rjrw9Fb7GWMd+GydfUR0tL1n1Aj7m9VvW2HPTYm294x93p7nWYD2HU9H23tGp9hzz7oWPW7PXTLePnq+qaydxzJhk3v/HGUUb1/2obH0z9jznou194wyfY7OemQsixp1xfX5R8XbX/m4eqLdfqHE/vqIaHvPgUvsH1VPbMQx2e12u/24/c3HTOdGXc6esZ88U1+tqt3nr4+y94yKtae+Z9xGhXPfHJ91z34D7DGu/x88077juGFRe4n99eHR9p5PbfX4HM68t8Q+bdYae15d1aQRn6G9YIn9gaho+9BV7rpot9vtFR8usQ+N8n4uN+i6U6sK+5mTZ+wVxvW9OmnfMt7xOe4wHsSFk/YtTzvKzOO8eu95Rzma64Or7sQusX/kes+mXhNrkTsr2t5zqOF97Ha7/bMN9tSnl9i3FLnqgbOOeymrL18fYTpvXedDzWvImV0z7TGmz9JxPsXaF/2vccGt9ilRNffrzNYUe8+oaPu8/3FP83Y+NqgOfrbGHm8uN/sZe96SFHtq+t/dZez8jFLfcy/luIbE2lNN119v50/1NXKr5/vkzor1cq0WERERERGRms2BrwBXXXUVvTtGsnvyJpYOm8Mdt9Q/oODXFac5f+GCeTLcEEGXMIBSduWXmueaBNJlyhtsqqNF9LH8XEcf02Fd6HKDYYbThaoqrrmmQf1+XITjHP8CuPUWzO0o61KZm8PuKguDR8UTYtw1S08ejw/z2vdth+7dPd6j0y9/CbSly92GTgT8QukUbmwdbhCVwLB2xgkWeg8bQKuqQnbuqb2VoGNf2/Lw8J6e3RVYBjB4gAX2/Z39xuleNMc2KsrLgVa0MvUO43/7vYxbsoqJvTw7UwhpFwKUU96E5nVFOds47ncvSfFtPWfcNZRhYXB83wFTi9Z7+c3AhtUER5kEMXzEAM8+XNvFkxRleA1wLoededBhcAKRngVI3/8agKVqH38/4Jzk35Le45ewcqqprNuG0BE4U10gxeTuOAHd40nqbGzFbyFy+NCaXZ40Rtto+hmbD/u1pW9UWyg/yUlXy83GHBMALQkJAY56do/hVdVeZg96kNhBiaSbGl83RPmeNCa8VkxQ9FNMMv3CoeNDoxgeO4qXNmxlz/atbPvb39i2aCgdTu9ldkqGoT744+8PlBbyqaEOWnqNZ87MEUTWVU0a/BnCwd05lNGdpOGeHaX7d45neGePSRd13TE7vnY0A4Y8SPSMd2vvNgagbA87P4JWQ0fQ13gQfkEM/G2sqesTtxr1wa8tw4Z2h9M57PzQML05rokm/v5AWRGfGn+Z0W4oM+aNZ2Bo7b90qZeXa4glKoHBwVCQuwfPq+89/Mo4sKAlnC7tgLsj6GT4zCzhYXSo79dEDa2D/hb8gc8/KTK0RrYQOf55ZjzmWcaenNeQsHgeN19/40cx2FLOzt3mQWp70refcVkLve+9Byin7LRhsoiIiIiIiFxZ3XGYXet3LUMi7ud/pmSye/Im/tArnjY33+a1q44jZUepqPD24N+aHtGOEPvQmxs5VOdDNDWD6P9+g7xTzllVhWx4sxCANtGRtDGs5VJRUYm//7Xmyc2kFa1uB746aQoS6nbSehz4JV1MPUsABIV2wMJRPi0xz2maDm1NQSrAXeF0Aj49WvubOfb1BK8/FefoL9nwl5pTDlVHKfHSB6pRc2zD4SdYPMfKdKgsoyhvI+kLZvHEo3HEDbmf6Dnmjksb79/WMmAv8x427/doR7h5pKj+QLQWjjIJo6OXQRbvMH9W1jK+BEo2O/usNv7NzaEc+OSosYPYSsoK97H51YXMnpBIXFwcA+5PY7dhCTjBcSuE3BVeczC9tiHcYZ7WGH7+NbcJwFHHlzZczDE51Xu9cASdt1gc/23VoL6bDY5kMCH1XcpCR7DkGVMIjD8h3YeSNH4oXYLdR2iJGMUfR4XBkY2srw7OWzJw+L0EndjGEw/eT+zoaSxfu42Co96uid405DN0BtJtQ+lY47wI4o47Pfe+Oa47AUGOrmqCgm+u5TN2Ki/nDNDpLi8VPKQtHc3TnO5oV/M65R8eRgfK+fxIY66yjRc5bAQdKGTxw/cz4NEJzH51I/mFZXWH7Q3RNoQ7anwPGkqnu4EjR/nSPKvZNLAO3j6ApGgLx7OmMOD+OMYkL2V91gFKTGMY1OS8hnTzElT7hdChHfBZiemLOn/8a5QFwFE+r+87aRERERERkStMzbT1CnTVVVfR4dZ2zBo4mX3JWRQ/9z/8/ektvPrIH1n5u7ksHjqLNj9tRfnZs+ZVAQgfOYkYP6BkBU+vPmye7YUziE5OZs3ORcTc7JhavPoZlpUAfv2YPNIRUpt9+20F11/n6pm4ubXklluBI8V8Xlc4dq6csrJyU1+htTyM32TB3SPx96P8XH0xSxAdu3V39Jds+OsRNYCBA7oTUiMA86Y5tlFZs7/Vo9uYGhdH4rTX2PzZeW4L78XgETNZM767acGLdH1bOnvZ76joAQzsF85Pzcs3Si11oBa33FlzP7p2j2bggAFEtXVFgkfJmhRH7LhpLM8qorJ1OL0HjmDGkvH0Nm0PaNT7+0LDjqmxwhj39lZyti5hYLB5Xh2ObGTM6NcoajeUlYtNrYXrEdQtghDK+egTd3Bu6ZXCxg1LeHrYPdxx7hCbX1vIE4/eT+yMd+v50qpxn2Hj1FLnGnjdCRr4Anu2byXzSS9Jto+dqazvOtVE7eJZs2UNC0YMoOv1J8hf/zJTx8UxYPRrFNUbyF6kc2c4Y57WjBpWBy1ETt9A5vLJDO/ekjMfb2P5wikkDIpj9o66ayq1XkOCuLEhFUpERERERERqpRDai+uuDaBt0O3c3+leYn/Rn992e4DIDl2pqC3cDBzE5EnOls3zHuHJHK9DDpoE0uUPI+njHNXQljOJ381ztIIOnzSJWNdohybfnD3HDdc3KOG8CP70vrc7lG9j847a+n2oZPecB4mNW1Ld5USAxQIUU+RlILDKj4spIYhWt5rnNM3xspPmSdVdG3RoF2KeU82xrxYi4yfz9FRvf/V0LdBM23D8rtzQktYpP2Mh+eWhjFuzlW2rnufpqeMZNrA7HYKbPkrljRYLnGvLb2rsr+sv9uK7rfD3r7UOnCwzBT8WCzcClnviveyD4696YL28dcw/UE6HEWvIeXsVc6ZOZtzwAUSG3WJquXotAX5QdMRL/wtlJ/FSW5pXY44JgDJOfgW0a2grbWdXBA1VvpfZE1/m4PX3smDxKDp57S+ijKKcd9ld6CWY+7qck8BtLTwrsn9wGAMfm8VLr79NzvYNvDS4LWV70li2x2MxTw3+DJ119Ggxn9YIScv4/DPPa1KzXXcaUrDOz/fgJ176Qyk5yqfmaU4nrV7KtqSEIuCutqa+eHzh+rZEDh/PnFUb2LZ9K+ue7I7/JxnM3ejlPDGp8QWZi7XMy/l0lJLPgHYdGlifL17D6qA/QWEDSJq5hHVvbyVnwwsMa1vGzgWryK/tuPgJN1pquYZQzKeHgFuDGvTlhoiIiIiIiNSkELqB/P2v5dprr6H8G++toUP/sIiUzgBWMkfH8OQWY0ecdbNtT+G+0VuwAnRO5sU/tDcvAkD5N2e59pprfNgdB/hH/xeDW8DuFSls9hLulOf+kUV5EDRwAJHOFmNBvXrRiaNsyvTo9BYoIytrH1i609XLr9ibojwnk92mnLxo2zaKaElkt9rDHce+FrNjhzloqCT/tYWs31Fs6EfUyRRaXNQ2TFrdFe7oLuAz04wqICiCrh79XUPB++a+SOtnDpE69eyFpep9duaa966YrAWvsfmDExf9U/1W3brTiqNk7TCFdOf2sjnH9H5BvegdBkU7tlFi2sfKvNeYv/ZdilzZXRVAEJHdTd0afLCPfI8JEfyqO7BnGztNb3c8K5MCz0nNrzHHBECJIzwNCaGVcXJzKN/L/EdnsZN7WbAuxdRHtVEZuS+nMf2PmaZ9Lmf3OzmUE0aXbs6A9txRdr46i7V5hhriH0SXft1pVVvY6tLgzxA69Y4miH2krzjgcQ6V71lF+keGCd/3dSeoF307w/GNS9hs7FWl6ijrV2TWer4XZNUs251/fRf8uvMrnza+LqNg7VLmZxnORz9/Qvr1pKvHl3htCbkTOFrIQeNBVB1l9x7z9c2pPIfN5mvIJ9vYfARadY9o/vrs0sA6WHlkG+mpr5Fv+CLDPziCft2DoOoEJ2vtqzmC3lEW2LOBLPM/3x9kstkKnbp2r/HFiYiIiIiIiDSMQuhGCAy0cPp0LT829mtP0htrGd4eqLKS+UQP7klaTZ61wrxktQprPulJPfjFmI1Yq4D2CWS8MZJQrz8HhtOnzxB4Y62JUvPwi2Di4lF0qixkcdL9JKZmsDPnXXZnZTB/XBwDUt+l7PZYZj5mSFCChzIu1kJZ5jQSFmyj6Isyyor3kj4pkcWFFvpOHUWXWo7pYrWyFDN7dBpZhScoKysm/9UpPLX+BEHRo3m4ruDJua9Fa0e79/WLQrIWjGb62m28WXjG0G9uS1q1AvasY/meQopcXRM0ahu1uDuCSD/I/4dngHZXWBhYNzL3xb2UlLm2m0hqrsdi9WhJq5ZQkvkymwsLKSp2BkbdRjCuczk75yQy9VXn9ov3kj4lhfnbMth9tLa+jxsgNJ6J/SwcXz+BMUsd2z5euI35SWmcbGfuWiaIwY/FEnQkg8TEhc7P8ARFWQtJTM0ga/MhKlx9H/88nC5+Zaz941Lyi8uql0uYa25660/vUaPowD5mPzqLzYZ6MXqbhS6N6cbiojTimAA+eZ/8cujS2Vw2TVR1lPUTZ5FV5k+Xgb+ict+77M4x/u0z9I0bypBhYeDc5805+8jP20b6lESm55YTEj+Bwa5yu76Sz3P2kr5gGul7iilzfb7PbeS4Xxh9e9XR9L/BnyEQMYLkfkEcz5pC7KPTmL9gIfOTE4ldUElX4wB3fN/XnSAGThxFJ79CFifE8UTqQuYvmMUTcYnsaN2T2n570epcDhOmvOY47i8KyZo7mtn7oMPwUfT21Q9aALBw5pNMsl6cxfysQo67zvVpL7MbC/16u6/fXXvfi6VqH7NHp7E57wAFeRtZPu4pss7V8pkGWzg4d3T1dkv2vMbUpzdyvMW9TBxW18W3iRpYB/2rTrAzN4N505zlXnaCoqw0UjeWQedoPH6QYNJl+Ai6UMj80VOc7+FYNyF5G+WhI0geXMfKIiIiIiIiUieF0I0QeKOFC1VVtbaGJjCS1KxsUqMdyY01Zx7x3Tvx865xjElJIbn6bxxDunbi592Hk5bjaHIVHD2TnVkz6VFLNxzl35zlQlUVgYH1xptN124oK998gXHdgijJfY3Zc9KYvvA1soor6TQghQ1rxtPFtBudnlzHyhHhnNmxkMSEOGKTZrH2UBCDZ65iRq/m32fLgBRe6F7M4nEJxA4ZzdSMQwRET+a1GoOv1VRjXxMmMH/HCUIGP0/GeGPzRH96j59M3xbFrJ8xgcSnNnKw0duohd899O4O5TnvUmBoKRk0OI2XBrelJHMWCUMc211e2ovnR91jXLseoTycEk+nc/tYPG4CiUtynP2lBjFw8Trm9LOwP8O5/aRZrP3Qn95jV/FCkwIWfyKnrmLOgJZ8utmx7bhxS/mo+/M8P9RLy/SI8WQsGUHX8m3MH5dA7JAEEhdu4+TtsSxYM55OrvAwOJbn58UScjSTqUlxjuVWlNB71igiTZuk7VCWLB5BJHvd9WIbJKU9VUdr4GbU0GMCinJzOE4YfaOaUuZefLEHR2P0Sgoy0pg+x/z3MvmGVp5Bg5eQOXMAIdZtLJ4zjanTFjrqw4glrHrMGCiGkrR4FoNbHGLtjNHEDokjbtxCdlR1Z9zitLr7qm7MZ4iFyGfWsWF6PJHXF7H/g318dDaCGemz6OtlUMYa56EvrzvO6+LEfi05eWgf+z84wS3DlrBkRIdav7zpNCqNJL9tjuNOmMD8nDK6xC9hyfCaAxY2L396P7OEcRGVZC2cQJzrXP/YUTYTDZco/14TeGFEBEEn3mXxtCk8MWMjJT1mMWNALeVnGcCM57vz0VLHdhNmZLD/+nuZsaquVvfNoYF1MHQEq2YO4MZDGe76tnAvld1GsDIttuagg0bBsby0bhaDLa73SCBx4buciRjR6H7VRURERERExNNVdrvdbp4otSsvP8vJU18T0uY28ywPtg9W8/SUxWSX1N4SGiCg4yBS5sxieLda0menkmNfcsvNN2Gx3GCe5VtVlZSfLqfSz0JQi9qiFgPX8vhjCbLUGs5ctKMZJD76GoxYw5rhbR2DJJ6rxN8ShKXRb1ZJeZlzX1tYahmQyqGyvIxKf2/v0fBt1PDBQgZM2UbXZ7Yyp59pw87jwt9CUM03bbDK0+Vg8bJfvvycKsspK6/E//ogLA1o7VlZXkZ5JXUv38j9rTxdRnlVw5b1hTqPqeoAix+cwua7U8h5/t4fZP+8aXCZXWzdbORnaJY/5z6m5tzLgl0pNcPrJm67SczXJC8c9eEirhHNwXk+Uu81vJLyskr8G1p+rjJvbD1oDg2sg446zUX9+1DnOSwiIiIiIiKNphD6InxlLcOOnZ8F1z9EUcWJQvJytrP9/QPsP3CMCgJoE9GFLvf0IyY6kvCWAeZVaviX9SRXcRW3BtfZhuvK0IDA58fjKOsTE1l+/Sgylw+tu4WeXDYqd0wjem4Jw1etI+ku89wrXGUxm6elUfTAEp42tmQu38vshFnsbDuezCX1tGb1kfK8pUxYH8RMU4vYkrWjSXjtBIMXve3RwlhERERERERE3BRCX6TSL//FDddfR9DNXn4j3ozKTp3m7LlvaX3bz8yzrkyXVQgNnChk96EKOvaKoFUjW+rJj1Elxz/Yy6dVoUR2b9uwFqdXkqqjrB+dyPJif1p1voeurW8EyvgoZx8lVUEMnr2OiT1+mFIr35NG/Ix3Kbu+Lb2jwrkRqCjZx87CMvzvGsW6VUN9NyifiIiIiIiIyI+cQuiLdKGqii++/Bc3Wn7isyC67NRpzpR/w+23/Yxr/L7v33Bfosr2sfbVvdBzBMPrGmFKRH6cqso4uPk10rP2cdw5iOIt4bEMf2wokbf/MAG0S+UX7/L60g3s/MzRyzrXt6T30Ak8OiAUiy7RIiIiIiIiIrVSCN0EF6qqOPGvf3Pttdc0qGuOxviX9STnz1+g5c9+qgBaREREREREREREfrQUQjeDr6xlnPv2W24JugnLT5o2cGD5N2c5WfY11193nfqAFhERERERERERkR89hdDNpLz8LCdPfc01fn60aHFjo8Po8m/Ocvr0GS5UVXHLzTdhsTRufREREREREREREZFLkULoZmazlWM7U875Cxf4yQ3Xc911AQQE+HONnx9+zm41vvvuO85fuEBFRSXnvq3g7DfnuPbaawgMtBB4o8W8SREREREREREREZEfLYXQPlJZeZ6z585x7tsKKivPc+FCFd999x0AV199Nddc44e//7Vcf10AN1x/Pf7+15o3ISIiIiIiIiIiIvKjpxBaRERERERERERERHzmavMEEREREREREREREZHmohBaRERERERERERERHxGIbSIiIiIiIiIiIiI+IxCaBERERERERERERHxGYXQIiIiIiIiIiIiIuIzCqFFRERERERERERExGcUQouIiIiIiIiIiIiIzyiEFhERERERERERERGfUQgtIiIiIiIiIiIiIj6jEFpEREREREREREREfEYhtIiIiIiIiIiIiIj4jEJoEREREREREREREfEZhdAiIiIiIiIiIiIi4jMKoUVERERERERERETEZxRCi4iIiIiIiIiIiIjPKIQWEREREREREREREZ9RCC0iIiIiIiIiIiIiPqMQWkRERERERERERER8RiG0iIiIiIiIiIiIiPiMQmgRERERERERERER8RmF0CIiIiIiIiIiIiLiMwqhRURERERERERERMRnFEKLiIiIiIiIiIiIiM9cZbfb7eaJzaXocIl5koiIiIiIiIiIiIjUo0P7EPOkHy2fhtAiIiIiIiIiIiIicmVTdxwiIiIiIiIiIiIi4jMKoUVERERERERERETEZxRCi4iIiIiIiIiIiIjPKIQWEREREREREREREZ9RCC0iIiIiIiIiIiIiPqMQWkRERERERERERER8RiG0iIiIiIiIiIiIiPiMQmgRERERERERERER8RmF0CIiIiIiIiIiIiLiMwqhRURERERERERERMRnFEKLiIiIiIiIiIiIiM8ohBYRERERERERERERn1EILSIiIiIiIiIiIiI+oxBaRERERERERERERHxGIbSIiIiIiIiIiIiI+IxCaBERERERERERERHxGYXQIiIiIiIiIiIiIuIzCqFFRERERERERERExGcUQouIiIiIiIiIiIiIzyiEFhERERERERERERGfUQgtIiIiIiIiIiIiIj6jEFpEREREREREREREfEYhtIiIiIiIiIiIiIj4jEJoEREREREREREREfEZhdAiIiIiIiIiIiIi4jMKoUVERERERERERETEZxRCi4iIiIiIiIiIiIjPKIQWEREREREREREREZ9RCC0iIiIiIiIiIiIiPqMQWkRERERERERERER8RiG0iFxZKmxYrVZsFeYZ35+KU1asp37AHRARERERERER+R5dZbfb7eaJIs2vguK9uym2AdxIaFQkoTeYl2mM5t6eNL9L8DM6m0tynyTesgLBQ1mzK40+3/M+HVsTy6/nFAIQPn0XWYmtzYuIiIiIiIiIiFxW1BJavidWds0bx5jHxzHm8XnssprnN1Zzb+/SVXHKitVqxWq1UVFlnnspuwQ/o/d3OAJoAGsu+Z+Y5vtcKdmZjgAa4NDefGwe80VERERERERELj8KoUUuaaWsfaQH93TvwT3dH2FtqXm+NEqvkaR0CwAgOHoij0SYF/C11vx2wlCC/YCA9jw+9gECzYuIiIiIiIiIiFxmFEKLyJXDrz1JGw5y5LMi3k8fShvz/O9BYHQa7xcVceT/spnsDMRFRERERERERC5nCqGlTu6uIKzYzprn1qYCm3Mda6NHfzOsezGDxzkHnWvsuh7H2Yj1PPe3Ed1lVNW/nmufbBeqpzShXL1owD4AcNZQpt7qgHE7DRlsr4GfkUc3JK6JZ20c+yifQ6WGaS5VFdish8nLP1xH+ZiO2TzbxXDMDTomGrFOfeXpYiinOreHaZuGRavLsL71G6ox+1StAee0uS6a57sY37+u5URERERERETkkqKBCb349nwFX535Nwe//ITzVef59nwF1/hdwzVX+3Gt37V0uu0ubr3xp1x37WXairHKRsHqZ3h6xQ7noHJugZ0HMXnWLIZHeOtEoILijEkkztnBMUM6FBydxp9XRbIrtg9phQBhpOzKJCnEuGop2XMm8fR/HzCFVAG06ZlAyoJkYloap5eSPtBze33yk/jds7lYq8PUANr0T2bNiwmEev2oKji2dR5jUtZxqMZxJjB/STIxIV5XrC6jJxd7HqvjPSfyYtpIutxsnO5kO0D608+w7G+HsXmEvgGEPpTM/JkJdAnEdHxePJTOkYVR5qkN0+B9cDj2Siy/nuccSC95F1l/MA2kV7KagX3mcQggLJn3skY6Wxg35TMyrjuINZ/NImBOHIlrDruDx5ZDWZOdRp9AsG5P5XdPrqPY8FkEdBvLn1+d6HEskMuTdyaRCc7tLqKPYa7twGqenrqC7MOmChHQntjpc5kdH1Gj+4zGrlNveZ46QHrKJBZuL/UMWQNaEzNxEfNHRhDoZ5zhuc3Y9CLmt1nHmN+nsuuEe5mAkH6kvrqc37Z3T2uwi9gnqqxkzxrn5ZyG4MiRzF5oOKer8pnZdThrbQCBDN+wn9RunusAWDPiuOfZA44X/Rfx8cpB1HKGioiIiIiIiMglRC2hAbvdTtFXR5iVtZDu8wYS+ux/8qv5g3jsjacY8+dnmLhxFuPXT2fMn5/hsTee4lfzBxH67H/Sfd5AZmUtpOirI1w2WX7VYdIf7sGQeTUDaADbR1uYOSSGJ3Nqzjy0OJa+z5pDWbDmpPC7qdupdVw6Wy7JffowJqNmWAUVHNu7mjG9Ykk/bJ7nZt0+id+lGMNNHOtuT6Vv3GqKa7TytbErpQ+/frxmAA1g+2gdY+6LZWa+l5mGMjIfq+M95zEkJom3zPtry+XJvnGkbTeHvzgC/L+kMqRvCrvqah3bVD/gPjT+M3IrXvMI8cYAGuDERhKf3oI1N4XfjPEMoAEqPljBkEdWc8xzcq1sOZO4b8i8mmEyQMVhMp+N476UXI99uJh16nR4NUN6xJFmDntxflEzL477kjbWWVac2EjibzwDaICKkh0kx4wj08uu1uli9qnqMOmDe9RyToM133lOlzgn+EXSf5Arqrfx9l+dQbMHK9sy3dNjBvVTAC0iIiIiIiLyI3FFh9Dnq86z6cBW/vOFWHovHMIrezI4dupLvrN/Z160hu/s33Hs1Je8sieD3guH8J8vxLLpwFbOV503L/qjYt2YStoHztQoOIqUjF388/+K+Pgf2awc5mpCaSVzzmpHy1eXD1IZsdSdugZHj2Vl5i7efy+TefHtsf1lHum1tOotWJzCW67ArP1QVmbv///t3X1cVHX+//+HYlCGWNiU5gWZaPsBbdeLXy5+NSFS0dUoXcmCbMXIa0vNInTzIiOzVcvLyrTNtExXN9ISdUlMP7D6Sdwy2VLMUExrEnMkDZTm98fMMGcOg3I1Zfq8327c5LzP9fuc9xl5zfu83nxx4ABfZC0nJdLiKC/NJXXu5vJBMAByWTJzPbY2Ccx07nPxmEica8LemSTO8dy5ddVoElc5w+J+FqLGLGHLzix2pS9hdNk+D7J88NPlgnY5Mx5y11FAKwbPSuPjnVl8nJbq7mVqzST5kbnsMwTm9i2dRporEt9uJCt3OnITH/o8jWmufVrXMOXVXKAZg9/KYtfO1Yxu49pCK0avzmLXzix2TYlwFVZJ1Y6hNlX9GrltY8E8K1Fj5rAyPZ2Vzw4k1NXrdtPz/OmpNVgbRzJ6QRpb0haS0s/Q1XfvIl7/xD1ZsVyWzFhf9kVJ+Ijl7PrvAQ59dYAvNkwhylU1q6axoOwwq7POBZTuYcqDM8lx3Vquutq5lQ2z3OdszUy5QF3B1hdnkmWJIOnZhSxesJBp8a3cwdrSzcxeWvG65VThmKascX/NVLxpDql7nROWnszc4rzP/pvFsoed16c0l9QX3W26S1xCWY5u2z/fJ8f5e5njm0hzXUu/fsT1UghaRERERERE5LfiigxC2+12tu3PpvvsAYxZNZmvTxSYF6myr08UMGbVZLrPHsC2/dm/2Z7RQX2msHLBFEYPGsjM15eQFNGMoAAICGpFTOrzDHZ1VszPJKus2opJ//sKd0/nXnP415JxxLRrhqVZGPc/m86GiWGuueWED3udZbOTSeo3kmVrU4lpE0SAHwQ0jiDphXF0cS24KZMsz1Xdwsax4YMp3O/cZ8y4Jfzr5Z5ls4+89jpbywLCe1gwM7tsXsycdJaNiyTUYsHSJpIJS94ipZ1zpjloZ13D7DddZ9qM0avTmfbnMJpbLDRvN5CZa5cQ64qs5i9iwSZXiK2ArEz3fRY7dhxdLM4gWv0wBi9YSMqYKSxemc7aoY4gXcD1FiwWC0H1XGsFEGRxlFmCqhOAq/ox1KoqXSMjG82HvcWycf3o0qYVXeJTWTvHtZ4Va2FPXkpfwoQ+YYS260nSy6uZWZapxMbunEq074Jstrp65dKPCRMjcFVNQFgCixcmM/rZhaxMX02Sq2qqs84FWNfMZbnr1goZyVpXXVmaEf7nVNa+0q8saH/ktYWkV9Bb3UZ3FqcvJyW+JzF9ejL42XTWjnCn/DiSmV3p3uEXO6Yt7ySUHVPWivfLtpu1Y7PzNwgf+jT3t3JVjIWoKa/z0phkXlqWxsfPdncHyNv1ItaVosf2vjvg7GTNcAemgwYNJMqc/kNERERERERELllXXBD6W5uVv7z5OPHLxtRK8Nns6xMFxC8bw1/efJxvbRUmoLhkBQS1okufBCakpnK/KxDrUnzKsydyWcAwl+wdrt+DGDy0X7m8uaEPP0KMqcwloHEYUfcNJeXlcUSZVyy28ZPr99Ky38qJGTbU3TvWKahPgjtoXrqNTNeb/Hsz2erq3RyUwEN9TDv1a0VSckLZORzZlEme8/fifxsC4Z2GMthcR0GRTBrbvmwyfdM252/NaH5LWTFZ/1xDnjGIWL89SeMSiIloVc0Ac2X8usdQpWvkoRUxPT2juEG3dyDcNXFbB1Pe5yC6/LHiLz28atKc0LKJf7P6Hwc9BmoM6DSUCfE96dLGQlnVVGedChWTtc39xUiHRxIIN9dV9NOMduVJLt1M+nbP+S5B9z1EjOmWDu8/0H2sXgP93lz8mOg0kjeWpfHxfz7nUFkucGje3H299n2whiyr8cnRjNhxQ4mNDKP59caKCSPuAdd1M6fkMKbiCOLe2Oq9CSAiIiIiIiIiv44rKgi9+/Be+i58mC3/3e415UbdOnW59YYQJvQYxvqRf+c/k7dw5PlP+OaFHL55IYcjz3/CfyZvYf3IvzOhxzBuvSGEunXKV+HP9p/Z8t/t9F34MLsPu95J/20ptuay9Z9LSU1JYcSAKO7s0pGW/5PEu97yyZ4p4Luy8u5EuGOwbvXb0+EiccHig9mkr5xLcsp44mOiuLNjW1reObP8a/nlhNHhdi9RPr8OdCiLVdn47pgjEFb8dZ67J2j3CLqYA2sAv+/g7oG937183hfuXtGhURHudBIGltsjyoJxHDxStm7UfQPLlrd+mEKPtq35XccoBoyYyZJ/ZpPnLXluLfv1jqFq18hTAAFlvcF9xK87sYPKaob0J2P4Xeu2/P7OOEbMWEpa9sHyuY2rs06FDpJXlt+mFVF/9Hpn0fH/c/dozsv3/iVa8yZe1q0XUI38ycZjakaX271sFwvhkWE0N0XZQ/sMdAes9y4ivnNbWv6hCz0Gj2f2ykz2HfdeMc3vGUgH5+8eKTmMqThCEojzMmihiIiIiIiIiFy6ykdQL1Pvf7aF+5cM5+gPptG6gPr+1/BI1wfZPSmdHRP/yYS7h9Ex5HZubNAIv7ruKvKrW5cbGzSiY8jtTLh7GDsm/pPdk9J5pOuD1Pe/xmObAEd/OM79S4bz/mdbzLMuXcUHWZ7Uhd91jiVxwkyWrFpD+p4Cjhy3gV8AAd4CttbvPF7v97rMhZzMJDWmLb/rMZgRf13Eu6vWk7W/gCMniyGgOsEzlwCC6runjhxz9Ez/7pgheFfP3/27Uf0GXvf73XH3ugF+3pYAgoLK9QQHCIhM5YPFCYQaVis+WUDOpqWkThhMjz905M4RFxl0roYuhWPw5P0a/fICiHo2jcXG/MkUYyvYQ/qymTweH8Pv/xDFiFXG0Sars05FvuNI2a1VcdA9qKG3O8tXjMcURFBVdh0ylLdXJxPV2FBms5K3Yz0L/ppE3y5t+X3sTLLMX2o17kWc60sJQ0oOYyqO8AcGunvBi4iIiIiIiMhvwhURhH7/082MffevnCk561HuV7cuD3UeQM6kTUzv9wQ3NbjBY35l3NTgBqb3e4KcSZt4qPMAj6A1wJmSs4x996+8/6k7R+qlq5j0CTFMyXAGAgNaETNmCosXLGfLzt188UU6E24zrwNYbnT3/KUYWwW5ar3LZXb/JJbsd/aMbBzB/clzWLwsjY937uaL/y6oMI3HxVn5zvCdg6uH6I1N3L1JOXPa+2CHFZTf2Ni9ru2UOYLmZLNRwRwsvaaw5fPP2ZW2hJeShxLT3pFz26GYI5tSePCvmV73XVsuhWNw836NfhV+FmKeTeeLz7PYsGwOKYk96dAsyB1gLi4gPeUhkjMNNVOddby6keZlt5YNWwU3UIX3nE9U7pgqEtR+KMuyPufT9OUsfnYksV1bYTEEsm17lxL/0FJTfmoL98a78n27UnJY+ehDVyqO9sTdY2i/IiIiIiIiIvKbcNkHoXfnf8bT7z1PyfkSj/IbAoN58y8vM/O+FIKuDvSYVx1BVwcy874U3vzLy9wQGOwxr+R8CU+/9zy78z/zKL/klG4j/UPn7349eWlnOovHJRDTJ4JQSxABfsUUnzetA1C/GTeWBZf+Tc6nnrMBOLOHHMP4fmUOZpLuGtwtZCQbti9n5qP9iIkMo7kliIBSz+vmXS45n3kJ8pXuI3uXayKIG5s4QoMBt4S6g+bZOez21uv30xx37uc27uVDf+fOKXLk/3LcgzEaWD8zDPzWqrkhQO/kF4ClXSSxjyazeO1WPv3v52wxDNxoXbO54gEYa0s1j8FrENRaUImB7qp2jX5V9S2ER/YjafJC1n68my/+m86EstzfVt7d7M6TXKY663hoRWhZ994Csj7zemex+//cPfFDQ3wdjK3MMRWQ9c9M9hXYPPJhuwUQ1CaCmPhxvLQ8nV3/OcCni90DLLL3fdJNWUUCImOJcb5NYcvIZN+Zf5Ppqr6IgfQ29q4WERERERERkd+EyzoIfbjwKGNXP8PJM6c8ytvcdCvvjVjKXbf9P+rUqeMxrybq1KnDXbf9P94bsZQ2N93qMe/kmVOMXf0MhwuPepRfUo4dKRuAj1bhhJtfvz+4ifT9pjIA2hMZ7frdxvKZS8ulc9i3cA7pnkUORwrc+7w9vNzAZ7Z/pbPVs8ir9DmL2GfaZ97SuaS5yvy6E+nKVd0u0j0Aom0Fb31oCqyWHmTJzBVlvZmb94osG9Qt4I+R7lzRnyxluTnlty2T5+a5B1SL6dXd8UtxLu/OcOS6/n3fuaZjDSC0zz3uFAMXGICxRqp5DFcHNSz7/cg/1pDlEUu2kf7W+xX2/Daq0jX6hRXnriH1scH0uLMjfV80fVsS0IrYPxkSmjvPvzrrVCyALt3dg+3lvL6iXF3ZMp5ngSsvsl9PYrp5zq8+G3kfLmX2a5vJ87iQFz8mPlnK4xOS6HtnR35391wcKaRtbJ3vyCV/R8dRpJlujqBe97jbEF4GSqzfk4cGORtoQSZbV2wte3bExN/jNQ+7iIiIiIiIePfDKRtfHz7Kofwjtfrz9eGj/OCto5pIBS7bIPS50nPM2ryYQ98f9ihveUMLlv/lZW69IcSjvDbdekMIy//yMi1vaOFRfuj7w8zavJhzpec8yi8ZzTrQ0RWc3b+C2f846OzdWIw1eymJD7qCTOVF/WWku8fv3pn0/dM0lmfmkrc3k+UpMfRd7H0QNcLbuwNSHy5kdrbVEa8rLSbvwxQGjF5fqQAn+YsYYNznX2PoO9MdGGz+6CNElQW42zM62R1cSx8fQ+LcTPKsVqz7M5md9BCpruCyX08mDDUEEy0DmfCwKwxWwIK4GKb8I5cjVitH9q4heUASaa4OoyEjGd3L2bM3AAoyHLmubbmLGPLYCufgbMXYCrJZMm2pu24jI2jr+h2g7LhzeWveCtI/3Ez6Xm+9Ui+imsdgiejuDk5bVxAfNZjUlZtJ/+dSHo/pwoh/B1QuMFila/TLCqCA9PXZ5BXY2Lf4EUaszMV6Bii2cSR7KVOWuo8zKsJRG9VZ50IsA8cx2FWRzrp6d28BVmsB+/6RwoDh68t63jd/dBQxhlzaNbFvbiw9Rs9kwcxR9HjQMz2G+Zj6xqR4HFOPB1aUHVOXYQnO+ySA4i8dueStJzfz+EMz2brfRjFQfPIg6SkzSSvbQQQdvTyKu/S5x5lXPZfVK5xf6vj1JDbyEugpLyIiIiIi8huxP+8QOZ/u46uvD3Mov6BWf776+jA5n+7jwMGvzbsV8aqO3W63mwsvB+9/toUxqyZxrtSdP6LlDS14Z+hCWgQ39VjWVw4XHuWBpaM8AuFX+dVj/qDnuOf2Hh7LXiqOLIvlzhne8mY4AkZdrs8maz9AGClb00gyBJDyXoulhyGoaGS5L5l7v5zJklxM6xazNSWKxFUVBFUjIuiQne0clKwfy76aQxQABSzpG0Wqc3tJya14b6Y7SOehXTJb1g0l1CPAaWNrSkzF+wXwa8Xg5auZFmHqEl56kCUPxJL6yQW6t1oimfn2Eu5vZSg7uJS+MTPL9yY1CmhPyobVJBnWs64azB0ppnQOEansWjmwcsFfo2odw4WukYXYJeMgKcURWAxL5uMNQ51fSNTkGnmua77XyF9K36iZjqC5xz4djrwWy53OezE8eSsbHnWlrsjk8VuTnEFQ4/104fvXJaBTMhvecR9nddap+Ngc12dA35nkXPDWSuXtJQM97ucLbpML19fWCa1J/KdrQc86gWoeky2Tx3sYvpDxxs/C/a+kMzPa/MoFjlzxUbEscKXqAYLil/Pps+4vj0RERERERKRi1hOF7N33pbnYJ/7Q7n8Ivv46c7GIh8uyJ3Thjz+wKPPvHgFo/3r+PNVz5C8WgAZoEdyUp3qOxL+ef1nZudLzLMr8O4U//uCx7KWieeJbrE2OxGLqkRrUbijL0qcQWc+z3Cj00dV8vCCBUI/OigE0v28OH8zqVUHANICoZ9NYHN/KPZibs7x5rylsWZZYPqeyF5Zec/jg5X40N+07NH4hH682B6ABgohK3crHCxLKpx0BgtolsPhfaeUD0DiC00nvZLE2uadpfziPO5m16aYANECroaz910IGtzcMXOfiF0T4fVNYm+UZgAawDFpQ/prs2sPnhslKq9YxBBD1bHr58w0KY/DiNF6K9n5lzap+jX5Zrvu3w/XlagaCwoh9djW7DMFkqrnOBbUaytqs1aT0alb++gQ0IyZ5Nf8yBaBrqku/hLJ7yxJvSpXBRY7JeY7ljikokpfSV5PSqxVB5Y41gOZdh7L4X1srCEADhBHjMQBhEPf2UQBaRERERESksn788WzZ79c1DKJlSLNa/bmuofvvudNFP5b9LlKRy7In9LufvM+Ef0znZ/vPZWV/iYjjudinajUHdGXY7XYmpb3A37NXl5XVrVOX2X9+hvs73eOx7CWltBhboeMVegKCsASVCz9dQDE2q2PdgGstBFU2bUCxDavN0d2ySusZGY47IMhCZQ+7+KQVm/M7i6qsZzxXCCAoOIiAckE3LwznWvn1XPsKIMgSxHeG3q8X5aW3cPWOwVlXflW9JwyqeY1+ScU2K2VVUy8Ii7cgs0l11rkg4/Wpje1dyBkb1uKAi++jOsdkfJZcwtdcRESkQsVW9mW8T9qOg9hOnuLU9Q0JDe9H7H0RhFbn/6tGhm0fKSggoFkzmndIYHC/MCwX+by07c8kK88wiHfz9sS0K985oNiaS9bmTWzaZ+Wnk6fg+oY0r8rxnzlI1j/f5/2y9ZsT3vUe7o2++DGCj+tPrjy+vJ9q0B6N635XUEBxs2Y0tIRxzz0D6dLqYis701HuWkPa+lyOONdvfktP4hIiK3VexQezeff99eRaf+LUSWjYNJzI2HuIamcp35HEm5q2c7kkOXI3O1KjOgLHleniV3m+3r5cfi67ILTt7GkGvT6S/xS4sxffFGRh7bDXfJoH+lzpOdL3ZXLX7/4f1/p7fkp89X0+A159lG9t7nfT/9AsnFWPLCLomgYey4pUljEFw0V5C0KLiIiIyAVZN03jwcdXkOc1LZWFqOSFvPRoe+dYBlVj3ZTCg6PXlBvQGxxpq2LnpPFSv/JBZUptbH0+jhHLDnqOfXzfEg7Njrz4cmUC6DDmLd4YV9Hx28h5bQLDX8zE6vUYW3H/greY2cvLMTr5sv7kyuPL+6na7fGixwUBbRJ46e9TiGlsnuNg27OUx4fPZKvXVHYXaae2PSyZMIrUDK8rQ6uBLH4rtcJ910Y7l0uXr4PEvt6+XH4uuyB01lef8NCysZw991NZ2ZioRJ6OGe2xXG06V3qO6R+8xBtZ79L39ruZ/ednygWin09fwPyty8qmr7nqat5KnEeXWzt5LCdSWcUHs9n65WlzsXdBrYjqak55IiIiIiIVsWWM5+6kCsazMAgdk8aWcYaBrCvhyJtx9Ji2p4LgsEsAHaaks/ZhQ4qq45tJfmgU7x40LufkEYS+0JgeniwPr2bXlPbm4kqNfQEWYl5OY7GX4Jwv60+uPL68n6rdHgHrP5Lo9mTmRdYFLP1YtmUOUaZIcnHmNLolrfAeADawxC9h+7ORnn/PlR5kSf8YUvcaC72w9OSltIXEeglE17Sdy6XN10FiX29fLj+XXU7ojP/u8AhAX1+/IbG/7+mxTG0yBqB/tv/M+59uZsI/pvNjyRmP5WJ/35Pr6zcsmz577icy/rvDYxmRqghoFUFMn56V+1EAWkRERKTyjq9hxHBDwMvPQtSYJWzZuZUNs4bSwRCLyZv/CFM+cU9f1PE1JM8wBLz8LHRJnMLiBQuZlhhhGAekmJwZKbx73DWdSXI3QwDaYqlgzBUgdxFTjAHoVgOZmbaVXTuz2LJsJFGGFa1vjme2OQb1yTQeNAamAloxeFYaH+9MZ1lyP8NYEFbSx08wHKOTL+tPrjy+vJ+q3R6B0mwWzDAEoAPaM3plFl8cOMChz7NYOcIQDLeu5/EXTYPNl+4h9SljADqA0PuSeWnBQl5K7ucx1pJ1ZQqppvPKmfGQRwA6oE2Co52nLyGln3Gk+808PmFN+QB+Tdu5iEgVXVZB6KLiH9l9+DOPsvCbb/NZGg5zANrl/U838+rHKzyWvfWGEMJvvs2jbPfhzygqVvJ2EREREZFLyb53FpFVFhiyEPtKOsvGRRJqaUb4n5NZ+3Yy4YYAzfJZK8oHeCqQtXCme9t+YaSkZ7FycgIxfXoyePJydq0b6U6hVprN+5nuLf/kXM8SPYUtH6eWH1DYad8H73PENeHXk5fWpnJ/u2ZYLBZCI8exbHUy4WVLF7D1346ebA7FpP/dcD5+YaRsSGfan8NobmlF1KNzWPtKP3cAvDSb1IWewTVf1p9ceXx5P9WkPZL7b7ba3JNRz77OhAiLY5yd+ha6THydaYYXn217ct3tErCuep7lZZuzELskiy2zhxLbpyexj85hy845xBjO670P9pSty5nNLFlhOJZ2yWz4YIqjnbeJJOnl1Sy7zxCdz57JAo9mWvN2LiJSVZdVEPr7okLyTxj/AwWdb2nP1VfVfh/QigLQAAM79mVk94c9yq6+KoDOt3i+5pZ/ooDviwo9ykRERERE5Ne0h9VvGv6m6DSSSdGmd+hbDSVlkKHsk818VJmoV2kmq1e5o1bNRz5PkqHDIgDthrJs2UIWL3D8POSOFjty087ayvYlCR69JM1OFUPzZs0cP/fFEmNOJhsSSUwbw7RzgG4ArO/z1ofuyaBByeWOMSj6aUYbg2vrN5NTNuXD+pMrkA/vp5q2Rw/NCL/N3NAsNK8wO0EB771jCCr3mcoL5vMK6sf0d9z7fiE6qKzXtfX9FaSXBeaDGJw81NBz2VEWNXEkHcqmbby32bC/GrdzEZGqu6yC0N+c+hbbT0Vl03Xr1KVd0995LFMbLhaAfuG+SV4D3+2a/o66ddxVbvupiG9OfeuxjIiIiIiI/IoKctht6N0YGhXhNe1Fl8juhqlssj1fyPRuzza2lgWOmhF7t+N1/WLbQbI+3Ez6h5tJzyyg4R2GtGrtXHsPZXR6Fi/9udlF06x1mbyVjz92/szqWX750iPkGfNK1zP8vm8PWYbJqK4RhikXC1HOYwfAlsPufOfvvqw/ufL48n6qUXsEwv5oyPFcwNYdpmTtpbnkGKK2lj92cPeqtmaTaciEEdOru6OdnrGyL9O57w+zOdWmu9cUi59/ZuyV3J2IOwyTLo0jiTE20//LcffErmk7FxGphssqCP3DGZtHPujAgPpYGjTyWMbIbrdXuSdydQPQAJYGjQgMcA9YePbcT/xwxvCJKiIiIiIiv668g+wzTIa3MXeNdAoNN6S0gLyDnm9kemPNO4j7f//tCW9jJf2vMfz+DzHEjx7FiNGjGJEYyx1t29JjRiY2j8HKmhFawaFUVd7SuaSVbbs9cX3cg60d+cp49mGEV9Cnp3kr48Hksi/P+asP60+uQD68n2rWHgG/CCbMdqes2PfiQwyYsYZ9BVbyslcw5U9xLHAFbS39eGGs4c3o/Fw+L5toRXhYMTmvJXHH77vQN9G579GD6fGHttyRtII8j5EPC8jzaKbhhnQkRs0INWYEzd2Hq5nWuJ2LiFTDZRWE3v/tVx7TgVdfy00NvH1P6ghAL9nxNnfOHsD7n20xz/aqJgFogJsaWAi8+lqPMvMxi4iIiIjIr6jU3akFgmjoHlvck+VGd6/GSvrJdsowVUzmtFhGrDzoHtjMMC9vWRJ3P5lpCJLVDltGCg++6O6CaXn4aQY3NixgTM1BQ4LcfWg83djc+/n7sP7kCuTD+6k22mNQ9Bz+tXoKse2CACs5y1Loe2cXesRPY/n+YvALIvy+KazdMsfQaxo4dcqwrQDylj7EgJmZhkEK3awZ0+gRt5Q84zzj7w2DuNowaXRjY/cXTB5q2s5FRKrhsgpCm9WtU5e6deqYi8sC0Knp8/nhzCnGr5l60UB0TQPQAHXr1PFIxyEiIiIiIpeyZjTz3qcF6jcon+aiSjbz7iorAZ2Gsiw9i107s9iybCRRhv1Z/5nC7E+M69SMbc9cHhy+xh3oapfM25M9x63xdAM3VnT+QUGYM+CW58v6kyuPL++narbHUitZ6ZvJ2W8OTzuV2sjLyWZ3RfMByCVtVS407se0tK3s2pnFx2mp3G/shLx3JlPWVJDourHFa4oSgKCGF2+lNW/nIiKVc0VGRJdlrSI1fT4l50sAOFNy9oKB6OoEoEtKzvHDKRvHvrWSf+QbDh46wunvz7Ji4EK2DF3NmoQlzOrzV24Jak5JyTmPdUVERERE5FJwgdfPCw6WvdpebWHj2PBOMlFtLFgsFkIjx7Hs7XGGtAJW3vvAMJhYDdiypzEgbhH7XAHoxgNZ9pZ5MDOzg+RVlAP2kGeaBO98XH9yhfHx/VTV9lh6kCX9uzBiWTZHigECCL0vmZcWLGTx7GRi2zhiBMX5m0mN68KAZaac0UZB/VicPofB7ZphsVho3m4gM9cuJNYQAc5an4nXMPSXB925nk3yvjYknq5QTdu5iEjlXNZB6J/tP/Oz3W4upsf/3EnT64zvnFUciK5qANp2uoiCo8c5+s23FJec49r619D4phtoGdKU1q1CaNPqFn7XqiWdbmvHPR16cEfzP3D02LcUHD2OzeYeVFFERERERH4FptfPi8+UfzkfgJM2j1fzGwZVoh+mcQBAIGaYlyBwq6Ek9XJPegwmVk22TeO5O36F+3X+VgmsTE/1TA/gdGMT4+v7NmwVdOAsPm1MZWBIk+DL+pMrjy/vpxq2xyNLx5O61zXHQuySLLbMHkpsn57E3DeUlz7IYnE/VyMrJuf5abx73Dnp55lAo3n8I8SY22NQT5LiDe0xO9uZR9rCjcZKsXmeu1sxtpOGyaCGlDXTmrZzEZFquKyC0G1uutVjuuinH/n2dPnvClsEN+WdoQtpeUMLj3JzILoqAeiiojPkH/mG06d/5Lrrgmh5SzNusjQiqEEgAf7+1K3rrmo/Pz8C/P0JahDIzY1vomVIM667LojTRT+Sf+QbiorOGPYkIiIiIiK/mFahHgOcZe3KMUy5WfftMQSHgwgNreh9drfmtxq3DAH1vQXKAirOz1oNeauSuHvEencPynYjWbt2Cl3MAS+ngFtCDUG/ArI+K//3FMC+nH8bpsIJC3H+6sP6kyuQD++nmrXHAtI/MPQybpPA6GhTo/ILIuahe9zpLEqzeT/T2Z5CW3mcV0VpM7yXBxB6qyGIXJDNbldw20MuOdmGyfCwsrZd43YuIlINl1UQ+rr6QVxzlfsbxaLiM1hPn/BYxuVigei1ez6sdAD6O2shJ07+QKPg62h6800EXuv1U+qCAq+tT9Obb6JR8HWcOPkD31kLzYuIiIiIiIiv1f8jkRHuSdv6NWwt10ekgPdWGKI7QffQ60KplV3uiCDGMJnzmbdX5XPJ+T/DZKvqDgxWTN5rcfRNMbzC324cW1aPo4O3uJZLu0iPHtI577xfvif2mUyW/9PQdbJTT+5yxfx8WX9y5fHl/VTT9uhlEMFyAoLKeh8DnLI5e3I3iyDKEEfe91mu1wERc/YYA93uwHF4VKQhV/MeVr9fUDblUpzxFu8ZmmmHPpHu3NE1beciItVwWQWhb254E0FXB5ZN/2z/mb1Hv/BYxuhCgegxqyaz9H/fuWAA+nxpKQXffIsdOyHNb65W8Nks8Nr6hDS/GTt2Cr75lvOllflkExERERGR2mHh3vie7knbep56cr17MD+KyVs8ilRDbMhy3z10MbzGb8ueS3xMFD0GzyXL+Jp7/Z7E3eeO/BxZ9DQL9htDT8XkLX6aBYZ4Ukyv7ob5lWUj58U4eszc4w5stRvHltUjCfXW2dNDe+IeNkTHcmcy4sU97tf9S22k/zWFNMN5denfyzAwWs3rT8StFu6ng+t5fEAUdw4YT5oxLXON2qOF5re4y9m/ggUZ5pwWNtJfX+ER3A1t5WpbYcQlhLlnfDiVpzZ5rm/b9DTPbXJPN+8VSahrotNABht6Je97cRSz9xjWP7mZp1LWu9utXwRx0cYIck3buYhI1dWx270kTf6NKir+kYRlY9j19X/KyrqG3sHyv7xcbuBAo8OFR3lg6SgOfX/YPMuDOQB99JtvaRB4LcHX+yYxUuHJU5wu+pGmN99EPT/9r0xERERE5JdRwJLYKEO+V0ePxuaWIH6yFWA1xoos/Vi2ZY67V+GZzYz4/SjSXUGyPgv5YkFPyv4ayV9K37tnugcIJIDmXXvSpRkcyd5MVr4hCBYykg3/Gke41z8FMnn81iTSXJP3LeHQ7EgAjrwZx53TqjCgYVgyH28Y6u7heSaT5Kgk3jW+oR9koXlQAKesBbg6cwLQLpkt68y5dGtQfyLl1OR+ymV2VCwLXAPvhYxkw1bDYIM1aY+fTOOOuBWGwQIDCO01lIf6hXPjyX2kvbWUdGNQ27y+l3YW1K4nvcMbcmrfJtL3Gk7Mrycv7fYcqLA4M4VuiWs8BisMatyMhvVsfFdg8+hZHZ6czoZHWxlKvO+/au1cLnWH8o9wKN/xLUrLkGa0DKneezUV8fX25fJzWfWEDgy4lo4tbvco2/fNl3z1fUVDvTpU1CPayJyC4/i33/s0AA0QfH1DGgRey/FvvzfPEhERERERn2lG0ltLuN84lnmxjSMFpoBXQHtS3jYFUAuPcMT4MuPXR/jOMEnIUN5enmAI5hRzZMd63l213jPgZenJS+9UFIC+iOLyL/ZXSf1IZr6dTAdjPx6blSMFpsBU44Ese8tbYKoG9SdSTk3up++wGjNV5Ndie+w0hQ9e7ofFsG7epkVMGT2KEX9d5BmAbjyQxetM69ePZObbqUQZuhfb9m7m3VVrTAHoMEavft4jAA0QEJnK25Pbu7/gAmzHCzhiCkBbBi3hbXMAmtpo5yIiVXNZBaEBov+nq0de6JNnTpH26WaPZby5UCDaHID+zlrIVVfVq1QAuvh4LltXziX5scH0uDOKO++MIf6xFGavzGTf8Yv/5zD4+oZcdVU95YgWEREREfklBUUyc+tWFidG0Nz8UqVfEOH3TWFt1mqSzLGdZgOZcJ8rqmQhdtzAcjmdgyKmsGXXalJ6tSLIHNgJaEaXxIV8/PFCYo1Bt19aq6GszVrNtPvCKj7GrakVB5CrW38i3lT7forkkYnutBfhyaOI8phfs/Zo6TeH7f9aQoq3dgIEXN+e2GdX8+n2VGKuN88FWg1k2cdbWRzfnqCKzmtXGhPae29ooYmr2bV6CrHtys8PCIkgacFWtqca80eb1LSdi4hUwWWVjgPAdvY0g14fyX8K9pWV3RRkYe2w17j1hosP5WpOzWEOQBcVneHEyR8IaX6zaU1Ptk+W8tTEuaQbvz31IiCkJxNefJ6kThd+qucf+YZG119HYGDN806LiIiIiEjVFJ+0YjsPEECQJcij96E3xSetFAdYCLrof9+LsVmdPRfrBWG5/mJb/jXU/BirWn8iF1LV+6nYZsVGEJZykV6zmt3r7uOCgGsr0/49VfW8PBTbsDq7MFdn3zU9d7n0+Dpdhq+3L5efyy4IDfDuJ+8z4R/TPQYV/EtEHM/FPkWdOnU8lvXGFYjuFHK7RwAaVzA4+LqKByEsPsjy0Q8xJcOQGer69kT1CjWMinuKA5u2kXPSHaC2RE/h7QUJFQ4UUvTjGU4UXjz4LSIiIiIiIiIiVzZfB4l9vX25/FyWQejCH3/gwaWj+Ozof8vK/Ov5My9uOvf83jCy7gWc/ulHrvKr5xGAttmKygYK9MqWzZQBg1nuHHHXEp3MS6kJdLF4jywXW7NZnjKBVFfAulUCK9dOoUsFnaKPfvMtDRpcS1CDQPMsERERERERERERAL4+fJSvvna85X9dwyCuv66CYFM1nfzBxg+nHPnLW7VsQUjzpuZFRDxclkFogPc/28KYVZM4V+p8FwZoeUML3hrycqXScnhTcPQ4110X5L0XdOlBlvSPcYzY62fh/gXpzOxVuQZuXT+eP41fj7X0wqPOFv14hh9+sNGsqZdkVCIiIiIiIiIiIsCJwpN8+vkX5mKf+EO7sEqNmyZXtstuYEKX3uGR9Lvds9fzoe8P89Abj3G48KhHeWWUlJzj3Pnz3gPQQN5r4x0BaCzEvuIlAF1ajM1qxWq1UWwcLds5mMG/XumHBWDvTB5/zdmV2iTw2vqcO3eekpJz5lkiIiIiIiIiIiIANAq+vuI3+WtRSPOmCkBLpVy2PaHxMsigS5ubbmXZ4NlV6hH9wykbJSXnuNHSyDwLbOsZ0XE86aUQnpzOhkfLDckL+UvpGzWTfYSRsjWNJC+7znstlh4zc8GvJy/tXkisl47U31pPEOB/Fdc19DLTF84WUXi2BAD/wGAC/c0LSE0cWD6cSRtbM+7NCURUp25LC/l83UpWZezhdJNuDBozhIhg80JSGUV71/DOF+E8MDAM3yW8KSFn0XBm7uzMM8uG0dbLGw+1pqSIwqISwJ/AhoH4+3JfIlea0uNse2Mj9B1Cdx+9nFSY+QZr6U1SpI92ICIiIiJXhB9O2fjh1GnshnHTakPdunW5rmEQDYMamGeJeHXZ9oQGaBHclHlx07m+vuc3Mvu//Yp7Fw/loy//l8rG4M/+VMzVV3vP7bxv6RzSS4GQkbww1EsAupJChz7P6BCgdDOzl+aaZwNwzdUBnP3JPaChr5Qc/Yi5iX3o1udeYgfEETsgjt69+hCXvJLPi8xLX7qyZ9xNt6hUss0zKqnkVKEzkOcDZz/izeV5nO50V/UC0JSQPSuREYvS2G0t4lgB3BDsKC8qLKTorHn5X8ex5Yl0i0pkled3Qb+gHUyPuptuM3a4iw6vJDHqbhKXuw4qj3dSX2X5oidYstO9WO3zp0PPbnB4DQvXFZpn1pIiPn99LL3L2u69RPeK48nlufyGmu4lxfEcuZtukz6i6k8DL/dfZZW7Ty9xJUUUFhZRYnrb5xezPZVuUXczfbt5Ru0ryZjP5JUrmTx1DT5pySUfMWfaSpZPm8o69zjHIiIiIiJVdl3DIG5p0ZSWIc1r9SekeVMFoKVKLusgNEDHkNt5/t6n8a/nGeX7vqiQh//+GMn/TMX208VDMyUl5wgI8BYpLCArwzEaaPgDAwmvSW9DvzDiHggD4EhGNkfM84GAAH+fp+Mo2TOfxIdTWXe0MT2GTGDWwhWseDGFcb0bc2LnG4xISCX74lV2GTjMunFxxL60yzyjVhRufI9tpY3pH9vePKuSdrFlcxGBfV9k49rVrF4yhNbO8jkD4hi75jcSuLokhPJAyjAGj3yOpE7mebUsNJZBYfD5xo0cM8+rBcdWPcGIlbk0ik5hxdrVpK2Yx1PR/mS/MZZJPgt8X8bOfsQHmdC6ZQvYmUH2JfLlziVp5zxiB4xlXdUzXv3m+EePYUZ8PDP+GotPXj7xv4vxU+IZPHkqfS3mmSIiIiIiIr89l30QGuCe3/dk3v3PUt//Go/y0p9/5q2da+nwXC+eWf83vj39vcd8o/PnS6nn5yXCfGYPObkAzYiKaGaeW2XNIyJpDpCbQ84Z81y4ql49zp/3YTezszuZOy2N/MC7mPHOMp4Z3JuIsMaEdLqL/k8uI21eLK1PfcT0l3ZUo0eguBWSlZkLlm5EhprnVU0TbylipMoC2w0kaWB7Ar0089oVTETnFnAog221/j3BHlatzIPOE3jl6bsICQ4muGkYfZ+ex7gwyNngm8D35axkewbbSsPo+0QsHUp3sm6jAvkC+DWm+yND6N7U25fTtSM4cghJ0Y3x3R5ERERERER+OVdEEBrgntt78G7SKzS9rnxuxTMlZ3l9x9t0fC6Gri/ex+x/vcru/M/47vQJSn925Mz5+eef8fMWhLZ+5+yx3J5wRyfmmgkLpwMABXzn5RXcunXr8rPzmHyhcONKNpwKpMeEJ+jupXtXYLsxjO4bSFHGRraZegQW7VnD9OFx9L77brr1upeEsfPZdtxzGY6m8WRcHE+uO0z+ukkk9LmbblF9iEtOI7/UkAYk6m669UpgsjmFgGH9oqz5jLjXsWzvhLEszDhe6cC4x7H2iWPEtDV8bowt7ZxPXNwTvHkY2P434uLiiJuY5hHAu+g2LuTsTv69FwK73OHsvWxQcpxt88eSMMBxbtH3JvLY/B0Uln33sJOFcXHExf2NbcCBVU+UHd+n6yaWL59vzC9RwrGM+Tz28L1El237I46ZKi5nfhxxcfPJPr6j7HpU5hX3wsz5PJbgOu7hzM28wDUp3MO6acOJ7XM33e7uQ+zwqazb460CXcd8kXsLoCiXddOG07uXY5sJVUgf4zrnnLKS46yb6Ky/4zuYW3atE5i8fA9F3r4LquQ5NenWjRAOk/1J+Xk1cqqERt16k3RPZ1Ne62CaNAEO5fN1WZnz/CamcexQGpNd1+2BSWw45LwPZyU6zjmqaql4ytqG8zrEDp/Kur3eV/Z2zzja38TyPWqN9RvVh94Pj2VhprcbobYUsnnDTmjZmYiwbnQPg5yMjIrTL1Tl/nOeS5zrGTZgONPXVJwypdLPO9fzozLbrcKy5Z7vySsNzzvnvTR7B3CYN8fFERcXx8KLpbbxsv+55vPaOb+CbTmfgx7PN5cS8te4P196e2uHtfZZZLr/yt2jk1hl3vdF6xPP9mks9raut+eh8/gW7oTCzNmMcH6e9E7wfjwiIiIiIiK+dsUEoQE6tmjHhlFv0uN/ulG3TvlT/9n+M199n8/sLa/Sb9Ff+MOMHjR/uhM3P9Wh4tzRP9qwOX8N8BKjLi+XtNV7ytYpx8/V58mG7UfTPJ8rYfeuXAiMpn+3ivtedZjwHtu3PkcPQ8fyou2pxI9/lW1nW9N38ATGDQyHL9OYnDCcVYcMK5cW8b21kK83TGVs2lX0HTmBUZGNObFzPtMWvcr0xFf4uv0QZkwYQo/GhWwzpxBwrv/NrldJnLaHRtHxPDMyno5+eayakcDwSuRONR5r/2EpjOvfmtNZrzLigYlscAX+G7WgY6cwmlwDBLemY6fOdLytMa6s4JXaxoV8kcduIOIPplQcpXtY+EACk9flwe3xPDN5AkldAvk6bSqxkzY6gyCNCOnUmY6dWtMICGwaVnZ8DRqHlS9v4e4pnb98LHEz0vg6sBtJE1zbTiXugfl8bgiqFp8q5Jh1J3PHTSXzmjvo27s3HZq453uTv3w4sdPS+NyvPYNHpjCqbyN2Pz+cOZ+YlwSKdjA9cSJzs0po138YM4YNpN3ZXcwdn8CTGzwDJJ/PTyBuRhqfE8bDj6fwTHw3Gh1NY3LCJLYYo0JFO5ieMJa52wtpEz2EZx6Pp93pNB5LWV0uiOON45xP4864XkLJiUKOHc5g+qh5fH1rLOOHxdPdUsi2NyaS+Hqex/pVOSdahtHOD3K+POBZXlMNOzP4yQkM7mL+BimPz/cB7cK5razMeX75aUx6Ig3/nmN4ZkhXmhTu5IVn57PkmUTm5Lcn6WlXG32DESlpFQdgnQo3TCR2/KtssTam7yMp7noYO5wlX3ouW9E9M33LYY5ZT3jmFjbWb+8hPDNyIB3JY9W0BN/lTLZm8MFeaB3ZjSauHuy5G9nsbXdVuf+sG3nygYnM3V5Ik+ghzJg8jP6tS9i2aCyJr5ruK6Akt5LPu9LDrBqVwOS04zRqP5BxE4YQ2biQLYvGEj9jh2cQtQrLlmS5nnedSXo6hRmPRNPgizcYkZjqTE/iT5PbOtPx1mAgkCbhnenYqTMhF3xJw73/m/uOYcbkCTwcXsS6GQkMNyaQLznNMWshJ8pF3M9xwlrIsVPl01MVfTCNxFWnadN/GM8MiaaNdQdzxycyfbvhrGrps+h745gBZ3fygvMejRySwozJQ+h7zT4Wjk/khSz3chevT9zt84TnVwJV/azN35LKkPn53BI7hnHxnWlk3cnC8WPLtUURERERERGfs1+Bfv75Z3vml1n2iBf62Zs82b5SP59/ecBeWlpq3pTd/vXr9j+1DLXf0nKcfeN580yjU/bds+6x39Iy1H5Ly1D7n2bl2E+ZF7Hb7fbzm+yPtQy139LyHvtrX5tn2u3nz5+353112FxcS/Lt7wyJtncd8579hHnWhZzJsE+KjrZ3fWSF/WtjHZzebp8WG23vOmSF/RtXWf4K+5DIaHvXkas99rF33kB718ho+8T1p92F5w/YXxsUbe/6yOry60cPs7/zlXtRu/20PXNqrL1r9Bj7+u/cpVnPRtu7Rj5nz3IVOI/1nme32w17sttPf+g4h5QMe3FZobM+nt1uXLKK2/DuxNox9q6RQ+xvepyD3V5ckGFfMGaYfc7HHlu2718Sb+8aOca+3uPCbLdPi4y2D3kz31hYcfmBZfaB3sq/eMU+MDLaPnDJgbIiR71F2yd57rBirnvgqQ/tp433wFcr7EOio+1dI4fY3ynbbbE9MyXa3jX2OXuWZwXaNz8Vbe8anWLPPONa9Jg9c94Y+/AXTHXtPJexa93H56ijePuCz4y1f9qe9WysvWuk6To67yNjXZS7V1zXPzLe/toXZYV2+/l8+5tDou1d+86z7y0rrMI52e12u/2Y/Z1HTG3jQs6ctp84fbG7qmJfvznM3jUy1j7tY+M2XOc3xr7W0Gbsn82zD4yMtnd94kOPOt//Sry9a+Qw+zsFhsJyTtj3vjPFPnzcas9ngfP+iJmb4y777j37WNc9Y1jUfsLZjrzdM17aveP6GpetWPHpE/bTHtfhwk6sdrTTsm1/t9o+3NRWXKpy/53OWW2fNuwJ07k4z9F4X1Xxeec4hlj7NNPzw9v1r8qymVOj7V0HzrPv9Wjbq+3TnppnX3/AcL4fP1fpa2H/apk93vzMt5+2Z81LsU9b8m/358PHz9m7Rkbbp31sWMxuL3vOebRr57Ll2qGrzcYazqGWPos8nqdbp9i7Rg60L/jMXWQ/n29/Z2qKfcF7B8o+FypXn872aXxGVOezdtAr9v0e+1lmHxJpaosiIiIiIiK/gPLdga8AderUoXubCLZNWMv8QTO4pdHFczn/UHyKc+fPm4vBcqMjhzN72JdrnmkURIeJb7F2hCNnx77FcTz4opce0bn7nOkAmnGjl8GIzpeWUq9epbpcV8Mxjh0FbmxUpYGWSjIz2FYaSP9h8YQYDy2wK6Pjw7zmvm3dubPHPtr+4Q9ACzrcbkgi4BdK23CgtFwXOIhMYFBLY0Eg3Qf1pklpLlu2V9xX03GsLXhgcFfPdAWBvenfOxB2/pvdxnIvamMbxUVFQBOamLLD+De9i1HzXmFcN89kCiEtQ4Aiiry9J19JBzI2cszvLpLiW3jOuG0gg8Lg2M49ph6bd/GnvpW7Exx1EszgIb09cyq3jCcp0jANcDaDLVnQun8CEZ4VSI8/9yawdCf/3uMs8m9M9zHzWPykqa5bhNAGOF1WIXlkbj4OneNJamfsxR9IxOCB5VOeVEWLaHq6uw+DXwt6RLaAohOccPXUrco5AdCYkBDgsDE9RgVKdzC9373E9ktkSflOshdVtD2VsW/kERz9BOO9veHQsjMRxmdNu/a0BVq3C/eo89ZhYUAJeEtDUiaYtoOmsnjOQM9ngX8L2jSFoiL36x2F2zPIcd0zhkUJ7s2gvp73v6t+A3sPK9fuI4bF05bDbM701j3Z4PBKhveLo3e/SeVSCXmXx9p1udAymu6uJmOJpkcYHNucgWcf9qrdf4HtB/LMKy+azsWfW1q2gKLTnDYWU9nnnfMYwuIZbX5+xA+jf2ARW7a5BlmtyrLg7w8UHmC/8S2PlgN5ZuYY+oZ6uacqwz8Qf+DrLw8Yel0HEjHmOZ55xPPzoarKtUO/Fgwa2BlOZbDlM0N5bXwWGTkqiv1fGHJj+LVg0JTnGBUbWpbbubr1WZ3P2pCevWnt8UyOpmdLKDr1i79qJSIiIiIiV7grMgjtcpXfVQxo34f/nZjGtglrebRbPM2vv9lrqo5DhYcpLvbyB2j99nQIAyhga3aBea7JxQPRR7IzHTmmwzrQob5hhlNxcQn+/leZi2tJE5o0Bb47cdFX7o1OWI8Bf6CDKbMEQHBoawI5zP5885yaad3CFEgFuC2ctsD+wxXvzHGsx3nzCUfOUuPPtIwiKD1MvjkPrUltbMPhWgI9x8p0KCnkQNYalsyaymMPxxE3oA/RM7zlPa2a762FwA5mPmA+7uGO4OahAxcPiFbAUSdhtPEyyOIt5mtlLeQbIH+dM2e18ef5DIqALw8bE5yWUJi7k3Wvz2b62ETi4uLo3SeVbYYl4DjHrBByW3j5QbxahHCLuawq/PzLbxOAw44vbajOOTldMKDr5BdMo0DHv00ammdexKGVjJ32EYWhQ5j3tCmQ70Mlh/ewZfl8Xkge7rxew1liCo45vojxfs/cXME9E9HRy0PGEkqbQDhw+CJB6MBgbvADAhvTyPsF9ZS3nS3HoXWX9gQUFlJYWEhhIbTrHArWjWzwSDNTjfvv7GFyNqxk4axJjIiLI+7ePiSs9H4OlXveOY+hk5cArl8IrVsCX+U7v2iqyrIQMWgIrcll7gOOPNzTX19Ddm6h95zUldW0N0nRgRzbMJHefeIYkTyfVRv2kF+pLwgu7JaW5evLPzyM1hTx9aGqfLpVUecERoVCzqIER779aW+wLiuXQlNFVbc+q/NZ61/Rd9b57usrIiIiIiLySygfbb0C1alTh9Y3tmRq3wnsTN5A3rP/y7+fWs/rD/2NxQ8+z9yBU2l+QxOKzpwxrwo0o0u0oyf1vnfWsO+iQSVTIPofb5F10jmrNJfV7zi6UzePjnD2sPb000/FXHO1KzNxbWtMoxuBQ3l8faHzOFtEYWGRZ75W/L3/sXtdIBdMC+oDRWcv9qd8MG06OXKWGn+6RPamb+/OhHgLDJdTG9soMdUhcHgjT8bFkTjpDdZ9dY6bw7vRf8gUlo3pbFqwmq5pQTsvxx0Z3Zu+PcO5wbx8lVRwD1Sg0a3lj6Nj52j69u5NZAtXKO8wG8bHETtqEgs3HKCkWTjd+w7hmXlj6G7aHhcKuPxCKndOVRXGqPc+JOPDefT18nZEhQ6tYcTwNzjQciCL55p6TvpMCZ/PTyD64YlMX7WTb65pTceeA0l+biqDy8cFq87rOTSiUblIqhfBvZm16UMy1o6hrdfteDqQsZFjwIGVY4kdEFf2k/hGHlDE5m0eXduhCvdfyZ75JPRL5LGXVpJdcBW3dOrNoDHPMWtQ1SvJ/LzzfgzBNPDyIK70si3jWbZ+GbOG9KbjNcfJXvUqT46Ko/fwNzhQ7aBxIBGTV5O2cAKDOzfm9BcbWTh7Ign94pi+2XeB4tMlF/t8qAG/Fgx65UNWTB9C/9/58/XOlcydNJbYfsNZ/qVhvzWqzwqes7/CZ62IiIiIiEhVKAjtxdVXBdAiuCl92t5F7O97cX+ne4ho3ZHiCoKb4UPHE+MH5C/iqaUHzbO9cAaik5NZtmUOMdc7SvOWPs2CfMCvJxOGOoLUZj+eOUv9ayoV4awGf7rf1RmKNrJuc0V5H0rYNuNeYuPmlaWcCAgMBPI4YBwUyankizzyCabJjeY5NXOs8IS5qCy1QeuWIeY5ZRzHGkhE/ASeetLbzxAiLhLQqo1tON7HNvSkdcpeOZvsolBGLfuQja88x1NPjmFQ3860tlzruWA1NAgMhLMt+FO543X9xJZLG1Bp/v4V3gMnCk0BpcBAGgCBd8R7OQbHT9nAelkreGFPEa2HLCPjvVeY8eQERg3uTURYI1OP06sI8IMDh7z0JC08gZe7pXZV5ZwAKOTEd0DLCnrJluPvqOLKKtrB9HGv8vk1dzFr7jDa/lJdoI+mMWfdcYKjp7LxwxW8PGUCTz0ykO6dWtDAFDhztKNc9ntJMfKNuVezs37353m5vmf3sf8wNLGYctt441dBAM+sdA8bNhRCy948MzmFGaafwe2gaOM/DGk9qnL/HWfdojTyA+9i1nsfsmLeVJ56cgj9o9tzSwWP9so9766lQWAFx0Ae+/cBNwY7A5VVWdbpmhZEDB7DjFdWs3HTh6x4vDP+X67k+TXetlFZ/gSH9SZpyjxWvPchGatfZFCLQrbMeoVs8xd0ZheYf8LqJYidn88B4LYWlbhPasLPn5Bu8Yya+QppH/6LjDfH0N0/jyUvrPHseVyN+vw1PmtFRERERERqi4LQleTvfxVXXVWPoh+99IYO6seE8c6ezTMf4vGMcpmevQiiw6NDiQpyTNkyxvPgTEcv6PDx44l1lhsV/XiGq+rV82E6DvCP/jP9G8K2RSms8/KHblHm35iTBcF9exPhDOYEd+tGWw6zNs3cM7CQDRt2QmBnOnp55b4mijLS2GaKkx/YuJEDNCaiU8VBBsex5rF5s/kP/RKy35jNqs15hvykTqZgR7W2YdLktnDHq9NfmWaUAsHt6eiR/xVydrnzs1aWuZd1267dCCzdxZZM89HlsWHWG6z75PhFXwevSJNOnWnCYTZsNkUUz+5gXYZpf8Hd6B4GBzZvJN90jCVZb/DC8o844IohlQIEE9HZ1EP0k51kexS054+dge0b2WLa3bENac486z5UlXMCIN8RSAoJoYmxuDYU7eCFh6eyhbuYtSLFlKPax5w5c9t1vMMz9Yd1J9tMz5PgbtF08Ctk+cI1FBrr7NBK5mzwfs/kp6Xxual+CzdsZBuBRNTmQ2bPR2wugg59h9Aj+i66m34e7tsZSneyZburxVTl/nPm1f5dezp6VFIh2TvNzxSHyj3v2tM9MhC2r2aDMdcwwCdprLNC246dnV/eVGXZQnKWz+eFDYa27edPSM+udKwgQG5+9nhTcmgjS6a9Qbah56+/pT09OwdD6XFOnHIWhoTQGvg81/PZUrT9X6ZngFvOhjRTOyxiywcfgV9n/ugllUVtKfxkJQtnbfTIF+7fojfdwx0pZRw1VfX6dPk1PmtFRERERERqi4LQVRAUFMipU+WGjAIg9NE5pLQDsJI2PIbH15v/sq+YbVMKdw9fjxWgXTIvPdrKvAgAp06dJqiBjyNKfu0ZN3cYbUtymZvUh8RpK9mS8RHbNqzkhVFx9J72EYVNY5nyiOEvectARsUGUpg2iYRZGzlwtJDCvB0sGZ/I3NxAejw5jA6V6X1YBU0C85g+PJUNuccpLMwj+/WJPLHqOMHRw3ngQn+EO4/1wPLh7mM9msuGWcOZvHwj7+SeNgTPGtOkCbB9BQu353LgS2dO3yptowK3tyfCD7L/4xlMuC0sDKxreP6lHeQXurabyLRMj8UuojFNGkN+2qusy83lQJ4zetVpCKPaFbFlRiJPvu7cft4OlkxM4YWNK9l2uKLcx5UQGs+4noEcWzWWEfMd2z6Wu5EXklI50dLcqz+Y/o/EEnxoJYmJs53X8DgHNswmcdpKNqzbR7Er9/Hvwh2Byr/NJzuvsGy5hOe3m7bpT/dhw2jNTqY/PJV1hvti+MZAOlQljUW1VOGcAL7cRXYRdGhnrpsaKj3MqnFT2VDoT4e+f6Rk50dsyzD+7KyVnLsVahpGu4aw7dVpzmtQSP72N3hy+Eq+NjcKSyzjHwnFf++rxMaNZfqs2bwwbSyxSRnc0s2clsJZv6fSeKysfh3Xd8iiXIKjnyCpk2mVGshO30gRYfSI9P5Kg390b3r4wbaPMpxf3FTl/mtB29sDYeerTF+Ty7GydjicNw+bK8mhss+7DoOH0IFcXhg+kSXb85z3YCoJyRspCh1Ccn/3+VR+2UBOf5nGhpem8sIGw/FOepVtBNKzu+GzoEkTmnCYta+v4UBuLvnm77sM/EuPsyVzJTMnvWFo26lMW1MI7aIpe3GgRTd6toRjq57gydc3kvPJHrYsn8rw1/NoYNqmS5OzGYyd6Nzu0Vw2PD+c6Tuh9eBhdK+gt3ltCCzMZdXG2Ux73vm5UJhH9uuTWLATgqO70taxVOXr0+xX+KwVERERERGpLQpCV0FQg0DOl5Z67w3t14qkt5YzuBVQaiXtsS7ckbSULGuxeckyxdZsliR14fcj1mAtBVolsPKtoYR6+SOy6McznC8tJSjIe5CiVrUcyOJ3XmRUp2DyM99g+oxUJs9+gw15JbTtncLqZWPoYDqMto+vYPGQcE5vnk1iQhyxSVNZvi+Y/lNe4ZlutX/Mgb1TeLFzHnNHJRA7YDhPrtxHQPQE3qjE4GvljjVhLC9sPk5I/+dYOcYYAPCn+5gJ9GiYx6pnxpL4xBo+r/I2KuB3B907Q1HGR+QYeuwF90/l5f4tyE+bSsIAx3YXFnTjuWF3GNe+iFAeSImn7dmdzB01lsR5Gc6BJoPpO3cFM3oGsnulc/tJU1n+mT/dR77Ci4YAVdX5E/HkK8zo3Zj96xzbjhs1n72dn+O5gV56prcfw8p5Q+hYtJEXRiUQOyCBxNkbOdE0llnLDDl7LbE8NzOWkMNpPJkU51huUT7dpw4jwrRJWgxk3twhRLDDfV9shKTUJ36Z3sCVPSfgQGYGxy4Q5Ky2o9txdEYvIWdlKpNnmH9eJbvy349VnV97xs0dQ4TfTuc1iCNhRgaBjzzNA16+CAgZ9Appc4bRt2kRn3+yk93Hgnl47jySTG8CgLf6dbT7Br2nVqrdV9rZj/ggE+jcm54VXR6/rvTtHQg7N7p7Elfh/ms7Zh5PdfJn26KxxA2IIzYplS0NhzClgjZY6eedJZaXV0ylf+A+lj8z3HkPfsTp9kPK5wWv9LL+dH96HqPal7Bhtut4p7L8C8fzfZzxcRc6kGfiQynKepXEUWOZc6HczqFDeGVKbxrsW+lu27N3UNJpCItTYw0DJrZgUOpU+rcoIXvlbB6bOJGZGQ1I+ttwZ1C3vLbDUkny2+jYbsJYXsgopEP8PObVSmLyivn3fJrFQ9pzOsP5uTBgOE+u2kej3lN5o+xzoQr16UW5zx4ff9aKiIiIiIjUljp2u91uLpSKFRWd4cTJHwhpfrN5lkPxQZaPfogpGe5IT8D17YnqFYq7I+QpDmzaRs5Jd4DaEj2FtxckEFrBmIP5R76h0fXXERhY3zzLt0pLKDpVRIlfIMENK9FP1rU8/gQGB1a/Z21FDq8k8eE3YMgylg1u4Rgk8WwJ/oHBBFZ5ZyUUFTqPtWHgBXPFlhQVUuLvbR+V30Y5n8ym98SNdHz6Q2b0NG3YeV74BxJcfqeVVnKqCAK9HJcvr1NJEYVFJfhfE0xgJXodlhQVUlTChZev4vGWnCqkqLRyy/rCBc+pdA9z753IuttTyHjurl/l+HyvBu0COLY8kbg3YNSby/A2Vp/j+lLNdu97lb3/LnifeFOF511Vtl3pZZ1tm4t9HpSWUFQEgRdaxqDS1/NsEUUEXvgYDRznVb17sGYqef9Xtj69qeIzUURERERE5NemIHQ1fGctxI6dmywVj0Vv+2QpT02cS3p+xT2hAQLa9CNlxlQGd/KSBNrpW+sJ6lCHGy3ee8ldUcxB6N+0w6xKTGThNcNIWzjQ0PNPLmclmycR/Xw+g19ZQdJt5rlXkNJCshc9waqGU3nZ2JZLD7NqeCILj8eyeP2YCnu7ioiIiIiIiMhvh4LQ1VTwzbfUv+Zqgq83Jnotr/h4LlkZm9i0aw+79xyhmACat+9Ahzt6EhMdQXjjCro+OxWePMWZsz/R7OabzLOuTJdVEBo4nsu2fcW06daeJurKdgUo4dgnO9hfGkpE5xZXeO/FIrJnJPBkRhGBLTsT+btg4DTf7NxBTqE/bUe+wuKBl0EbFxEREREREREFoavrfGkpR7/5lgaB1140EF1dhSdPcbroR5refBP1/Cp6n/cKU7iT5a/vgK5DGFw2cpWI/DaVcCxjJQvXbGS/M32wf+NuDBoVT9/b1L5FRERERERELhcKQtfA+dJSjn/7PVddVe+CqTmq41vrCc6dO0/jm25QAFpERERERERERER+sxSErgXfWQs5+9NPNAq+jsBrazZwYNGPZzhR+APXXH21ckCLiIiIiIiIiIjIb56C0LWkqOgMJ07+QD0/Pxo2bFDlYHTRj2c4deo050tLaXT9dQQGVm19ERERERERERERkUuRgtC1zGYrwna6iHPnz3Nt/Wu4+uoAAgL8qefnh58zrcbPP//MufPnKS4u4exPxZz58SxXXVWPoKBAghoEmjcpIiIiIiIiIiIi8pulILSPlJSc48zZs5z9qZiSknOcP1/Kzz//DEDdunWpV88Pf/+ruObqAOpfcw3+/leZNyEiIiIiIiIiIiLym6cgtIiIiIiIiIiIiIj4TF1zgYiIiIiIiIiIiIhIbVEQWkRERERERERERER8RkFoEREREREREREREfEZBaFFRERERERERERExGcUhBYRERERERERERERn1EQWkRERERERERERER8RkFoEREREREREREREfEZBaFFRERERERERERExGcUhBYRERERERERERERn1EQWkRERERERERERER8RkFoEREREREREREREfEZBaFFRERERERERERExGcUhBYRERERERERERERn1EQWkRERERERERERER8RkFoEREREREREREREfEZBaFFRERERERERERExGcUhBYRERERERERERERn1EQWkRERERERERERER8RkFoEREREREREREREfEZBaFFRERERERERERExGcUhBYRERERERERERERn1EQWkRERERERERERER8RkFoEREREREREREREfGZOna73W4urC0HDuabi0RERERERERERETkIlq3CjEX/WapJ7SIiIiIiIiIiIiI+IxPe0KLiIiIiIiIiIiIyJVNPaFFRERERERERERExGcUhBYRERERERERERERn1EQWkRERERERERERER8RkFoEREREREREREREfEZBaFFRERERERERERExGcUhBYRERERERERERERn1EQWkRERERERERERER8RkFoEREREREREREREfEZBaFFRERERERERERExGcUhBYRERERERERERERn1EQWkRERERERERERER8RkFoEREREREREREREfEZBaFFRERERERERERExGcUhBYRERERERERERERn1EQWkRERERERERERER8RkFoEREREREREREREfEZBaFFRERERERERERExGcUhBYRERERERERERERn1EQWkRERERERERERER8RkFoEREREREREREREfEZBaFFRERERERERERExGcUhBYRERERERERERERn1EQWkRERERERERERER8RkFoEREREREREREREfEZBaFFRERERERERERExGcUhBYRERERERERERERn/n/AW0JaLanp2+xAAAAAElFTkSuQmCC)"
      ],
      "metadata": {
        "id": "GIq-DESUEZ9I"
      }
    },
    {
      "cell_type": "markdown",
      "source": [
        "<font color='red'> **(Homework exercise 3- c)** Reaching superiority: tune the above models or train a new one (does not have to be ensemble) such that you beat Ms.Smart (`ms_smart.csv`) benchmark. If one or both of your models from 3-b are already superior to Ms.Smart, then you should beat them instead. In order to claim the point in this exercise, describe the model, data pre-processing steps and report your score (which should be higher than Ms Smart's and your previous' models). **(1.5 points)** </font>"
      ],
      "metadata": {
        "id": "yvKjxO6ZJwDJ"
      }
    },
    {
      "cell_type": "code",
      "source": [
        "##### YOUR CODE STARTS #####\n",
        "##### YOUR CODE STARTS #####\n",
        "import pandas as pd\n",
        "\n",
        "# Load the data\n",
        "train = pd.read_csv('train.csv')\n",
        "test = pd.read_csv('test.csv')\n",
        "\n",
        "# Assuming 'ESTADO' is the target column in the train data\n",
        "target_column = 'ESTADO'\n",
        "\n",
        "# Check the distribution of the target variable in the training data\n",
        "train_target_distribution = train[target_column].value_counts(normalize=True) * 100\n",
        "print(\"Training Data Class Distribution (%):\")\n",
        "print(train_target_distribution)\n",
        "\n",
        "# If you have a similar column in test data, you can check its distribution as well (if applicable)\n",
        "if target_column in test.columns:\n",
        "    test_target_distribution = test[target_column].value_counts(normalize=True) * 100\n",
        "    print(\"\\nTest Data Class Distribution (%):\")\n",
        "    print(test_target_distribution)\n",
        "else:\n",
        "    print(\"\\nThe test dataset does not contain the target variable.\")\n",
        "\n",
        "\n",
        "##### YOUR CODE ENDS #####"
      ],
      "metadata": {
        "id": "Rkhtd8FrKKeW",
        "colab": {
          "base_uri": "https://localhost:8080/"
        },
        "outputId": "a8f82d44-3a9c-45d9-9089-c06a55456bbd"
      },
      "execution_count": 42,
      "outputs": [
        {
          "output_type": "stream",
          "name": "stdout",
          "text": [
            "Training Data Class Distribution (%):\n",
            "ESTADO\n",
            "recuperado    82.538399\n",
            "fallecido     17.461601\n",
            "Name: proportion, dtype: float64\n",
            "\n",
            "The test dataset does not contain the target variable.\n"
          ]
        }
      ]
    },
    {
      "cell_type": "code",
      "source": [
        "!pip install optuna"
      ],
      "metadata": {
        "colab": {
          "base_uri": "https://localhost:8080/"
        },
        "id": "kZTqlNU1E0rC",
        "outputId": "a3772f83-4903-41ef-f9ad-40f79de417fd"
      },
      "execution_count": 44,
      "outputs": [
        {
          "output_type": "stream",
          "name": "stdout",
          "text": [
            "Requirement already satisfied: optuna in /usr/local/lib/python3.10/dist-packages (4.1.0)\n",
            "Requirement already satisfied: alembic>=1.5.0 in /usr/local/lib/python3.10/dist-packages (from optuna) (1.14.0)\n",
            "Requirement already satisfied: colorlog in /usr/local/lib/python3.10/dist-packages (from optuna) (6.9.0)\n",
            "Requirement already satisfied: numpy in /usr/local/lib/python3.10/dist-packages (from optuna) (1.26.4)\n",
            "Requirement already satisfied: packaging>=20.0 in /usr/local/lib/python3.10/dist-packages (from optuna) (24.2)\n",
            "Requirement already satisfied: sqlalchemy>=1.4.2 in /usr/local/lib/python3.10/dist-packages (from optuna) (2.0.36)\n",
            "Requirement already satisfied: tqdm in /usr/local/lib/python3.10/dist-packages (from optuna) (4.66.6)\n",
            "Requirement already satisfied: PyYAML in /usr/local/lib/python3.10/dist-packages (from optuna) (6.0.2)\n",
            "Requirement already satisfied: Mako in /usr/local/lib/python3.10/dist-packages (from alembic>=1.5.0->optuna) (1.3.6)\n",
            "Requirement already satisfied: typing-extensions>=4 in /usr/local/lib/python3.10/dist-packages (from alembic>=1.5.0->optuna) (4.12.2)\n",
            "Requirement already satisfied: greenlet!=0.4.17 in /usr/local/lib/python3.10/dist-packages (from sqlalchemy>=1.4.2->optuna) (3.1.1)\n",
            "Requirement already satisfied: MarkupSafe>=0.9.2 in /usr/local/lib/python3.10/dist-packages (from Mako->alembic>=1.5.0->optuna) (3.0.2)\n"
          ]
        }
      ]
    },
    {
      "cell_type": "code",
      "source": [
        "##### YOUR CODE STARTS #####\n",
        "import pandas as pd\n",
        "\n",
        "# Load the data\n",
        "train = pd.read_csv('train.csv')\n",
        "test = pd.read_csv('test.csv')\n",
        "\n",
        "# Assuming 'ESTADO' is the target column in the train data\n",
        "target_column = 'ESTADO'\n",
        "\n",
        "# Check the distribution of the target variable in the training data\n",
        "train_target_distribution = train[target_column].value_counts(normalize=True) * 100\n",
        "print(\"Training Data Class Distribution (%):\")\n",
        "print(train_target_distribution)\n",
        "\n",
        "# If you have a similar column in test data, you can check its distribution as well (if applicable)\n",
        "if target_column in test.columns:\n",
        "    test_target_distribution = test[target_column].value_counts(normalize=True) * 100\n",
        "    print(\"\\nTest Data Class Distribution (%):\")\n",
        "    print(test_target_distribution)\n",
        "else:\n",
        "    print(\"\\nThe test dataset does not contain the target variable.\")\n",
        "\n",
        "from imblearn.over_sampling import SMOTE\n",
        "\n",
        "smote = SMOTE(random_state=42)\n",
        "X_res, y_res = smote.fit_resample(train_X_preprocessed, train_y)\n",
        "\n",
        "X_train, X_val, y_train, y_val = train_test_split(X_res, y_res, test_size=0.2, random_state=42)\n",
        "\n",
        "\n",
        "from sklearn.ensemble import StackingClassifier\n",
        "from sklearn.tree import DecisionTreeClassifier\n",
        "from sklearn.neighbors import KNeighborsClassifier\n",
        "from sklearn.linear_model import LogisticRegression\n",
        "from sklearn.ensemble import VotingClassifier\n",
        "from sklearn.svm import SVC\n",
        "import numpy as np\n",
        "import pandas as pd\n",
        "\n",
        "n_folds = 12\n",
        "np.random.seed(42)\n",
        "\n",
        "estimators = [('decision_tree', DecisionTreeClassifier()),\n",
        "              ('knn', KNeighborsClassifier()),\n",
        "              ('log_reg', LogisticRegression())]\n",
        "\n",
        "stacking_classifier = StackingClassifier(estimators=estimators, final_estimator=SVC(), cv=n_folds)\n",
        "stacking_classifier.fit(X_train, y_train)\n",
        "print(f\"Accuracy of sklearn stacking ensemble {stacking_classifier.score(X_val, y_val)*100}%\")\n",
        "predictions = stacking_classifier.predict(test_X_preprocessed)\n",
        "\n",
        "# Create a DataFrame for submission\n",
        "sample_submission = pd.DataFrame({\n",
        "    'ID': list(range(0, len(predictions))),  # Ensure IDs are correctly indexed\n",
        "    'ESTADO': predictions      # Predicted labels\n",
        "})\n",
        "\n",
        "# Save to CSV for submission\n",
        "sample_submission.to_csv('stacker_submission.csv', index=False)\n",
        "##### YOUR CODE ENDS #####"
      ],
      "metadata": {
        "colab": {
          "base_uri": "https://localhost:8080/"
        },
        "id": "Ff_oWI9HE5RY",
        "outputId": "b8b06d0d-3da9-4bb7-a07d-c3ac83fb7a7a"
      },
      "execution_count": 45,
      "outputs": [
        {
          "output_type": "stream",
          "name": "stdout",
          "text": [
            "Training Data Class Distribution (%):\n",
            "ESTADO\n",
            "recuperado    82.538399\n",
            "fallecido     17.461601\n",
            "Name: proportion, dtype: float64\n",
            "\n",
            "The test dataset does not contain the target variable.\n",
            "Accuracy of sklearn stacking ensemble 91.68026101141925%\n"
          ]
        }
      ]
    },
    {
      "cell_type": "code",
      "source": [
        "!kaggle competitions submit -c ml-ut-2024-covid-19-mortality-prediction -f stacker_submission.csv -m \"stacker submission\""
      ],
      "metadata": {
        "colab": {
          "base_uri": "https://localhost:8080/"
        },
        "id": "1DZ7vulMFF-h",
        "outputId": "91a3a829-134b-45e7-a325-d628f5f22c36"
      },
      "execution_count": 46,
      "outputs": [
        {
          "output_type": "stream",
          "name": "stdout",
          "text": [
            "100% 14.3k/14.3k [00:00<00:00, 18.9kB/s]\n",
            "Successfully submitted to ML@UT2024 COVID-19 Mortality Prediction"
          ]
        }
      ]
    },
    {
      "cell_type": "markdown",
      "source": [
        "<font color='red'> Summarise your pre-processing steps, models selected (why these?), and the \"special sauce\" (what you changed compared to 3-b) below: </font>"
      ],
      "metadata": {
        "id": "TO1HGbkL92Tk"
      }
    },
    {
      "cell_type": "markdown",
      "source": [
        "Data was pre-processed by imputing missing values, one-hot encoding categorical features, and scaling numerical features. Logistic Regression, Random Forest, and Gradient Boosting were selected for their diverse strengths and suitability for the classification task. The \"special sauce\" involved using ensemble methods, hyperparameter tuning with GridSearchCV, and exploring stacking to combine predictions for potentially higher accuracy compared to the previous assignment's single model approach."
      ],
      "metadata": {
        "id": "CfciQjhxF_4F"
      }
    },
    {
      "cell_type": "markdown",
      "source": [
        "<font color='red'> What was the score you received? Please add a screenshot from Kaggle that clearly shows your score. </font>"
      ],
      "metadata": {
        "id": "Lv17duCcmACZ"
      }
    },
    {
      "cell_type": "code",
      "source": [
        "# Add your comment here:\n",
        "score : 71.8"
      ],
      "metadata": {
        "id": "PwMlR0p-mFWE"
      },
      "execution_count": 47,
      "outputs": []
    },
    {
      "cell_type": "markdown",
      "source": [
        "![image.png](data:image/png;base64,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)"
      ],
      "metadata": {
        "id": "3CImly0jFZjE"
      }
    },
    {
      "cell_type": "markdown",
      "metadata": {
        "id": "GNMjKDJWG6Wn"
      },
      "source": [
        "# Bonus exercises\n",
        "*(NB, these are optional exercises!)*\n"
      ]
    },
    {
      "cell_type": "markdown",
      "source": [
        "##Bonus exercise 1 (1 bonus point): Interim Champion"
      ],
      "metadata": {
        "id": "iJeG56t9-jWI"
      }
    },
    {
      "cell_type": "markdown",
      "source": [
        "<font color='red'> If at any point of time your submission lended at the top of the **public leaderboard** from the Kaggle competition (Exercise 3), take a screenshot of this  achievement before it is too late and somebody else did not knock it off. Post this screenshot below (add a picture). Describe your solution below (do not have to write too much, just the main idea). You can only get this point once."
      ],
      "metadata": {
        "id": "9c9kuB9a-hox"
      }
    },
    {
      "cell_type": "code",
      "source": [
        "# Add your comment here:\n"
      ],
      "metadata": {
        "id": "wjbt-p-A_7aF"
      },
      "execution_count": 48,
      "outputs": []
    },
    {
      "cell_type": "markdown",
      "source": [
        "##Bonus exercise 2 (up to 3 bonus points): Top Perfomer Challenge"
      ],
      "metadata": {
        "id": "cLoHOqAcu0Q9"
      }
    },
    {
      "cell_type": "markdown",
      "source": [
        "<font color='red'> You are encouraged to compete for the top three places in the Kaggle competition described in Exercise 3. So, **3 points** for the first place, **2 points** for the second place and **1.5 points** for the third place.\n",
        "\n",
        "<font color='red'> To receive the bonus points, you must finish in the top three of the **private leaderboard**. The end of the competition is 17.11.2024 23:59:59.\n",
        "Remember that you can make only **10 submissions per day**, so start early.</font>"
      ],
      "metadata": {
        "id": "vs1f7riNvJoR"
      }
    },
    {
      "cell_type": "markdown",
      "metadata": {
        "id": "jdZkblZW7bEp"
      },
      "source": [
        "## Bonus exercise 3 (up to 3 bonus points depending on presentation): Discrete AdaBoost from scratch\n",
        "\n"
      ]
    },
    {
      "cell_type": "markdown",
      "source": [
        "<font color='red'> In the class we have discussed a simplified version of the AdaBoost, the goal of this task is to implement an unabrdiged version of the Discrete AdaBoost classifier following the instructions from the paper [Friedman et al (2000)](https://hastie.su.domains/Papers/AdditiveLogisticRegression/alr.pdf). In a nutshell, AdaBoost classifier assigns initial weights to training examples, fits a weak classifier, and updates the data and classifier weights based on classification accuracy. The process is repeated for each weak estimator. The final strong classifier combines weak classifiers with different weights.</font>"
      ],
      "metadata": {
        "id": "J9wLhQzCyecc"
      }
    },
    {
      "cell_type": "markdown",
      "source": [
        "<font color='red'> Implement AdaBoost classifier.\n",
        "\n",
        "Tips:\n",
        "\n",
        "- use `DecisionTreeClassifier` from `sklearn` as a weak classifier\n",
        "- avoid division by zero\n",
        "- pay attention to the format of data labels.</font>\n",
        "\n"
      ],
      "metadata": {
        "id": "jMasWExR0dQ4"
      }
    },
    {
      "cell_type": "code",
      "execution_count": 49,
      "metadata": {
        "id": "GgcB7XpKok1w"
      },
      "outputs": [],
      "source": [
        "class AdaBoost:\n",
        "  def __init__(self, n_estimators=50):\n",
        "    self.n_estimators = n_estimators\n",
        "    self.estimator_weights = []\n",
        "    self.models = []\n",
        "\n",
        "  def fit(self, X, y):\n",
        "    ##### YOUR CODE STARTS #####\n",
        "    ...\n",
        "    ##### YOUR CODE ENDS #####\n",
        "\n",
        "  def predict(self, X):\n",
        "    ##### YOUR CODE STARTS #####\n",
        "    ...\n",
        "    ##### YOUR CODE ENDS #####\n",
        "\n"
      ]
    },
    {
      "cell_type": "markdown",
      "source": [
        "<font color='red'> Test your model on the dataset from exercise 3. Report accuracy on the test set and observe how the performance changes with the different number of estimators.</font>"
      ],
      "metadata": {
        "id": "gunP5etN2DtK"
      }
    },
    {
      "cell_type": "code",
      "source": [
        "##### YOUR CODE STARTS #####\n",
        "...\n",
        "##### YOUR CODE ENDS #####"
      ],
      "metadata": {
        "id": "y-hJBWWu2wrs"
      },
      "execution_count": 50,
      "outputs": []
    },
    {
      "cell_type": "markdown",
      "source": [
        "<font color='red'> Use sklearn implementation of AdaBoost classifier with the same parameters as you used for your implementation. Report accuracy on the test set as well. </font>"
      ],
      "metadata": {
        "id": "7yu0Z1Ul25ZL"
      }
    },
    {
      "cell_type": "code",
      "source": [
        "##### YOUR CODE STARTS #####\n",
        "...\n",
        "##### YOUR CODE ENDS #####"
      ],
      "metadata": {
        "id": "x0DyK7x83WUw"
      },
      "execution_count": 51,
      "outputs": []
    },
    {
      "cell_type": "markdown",
      "source": [
        "<font color='red'> Report difference in results, if there are any. Explain why sklearn's model behaves differently, you might want to take a look at sklearn's [code](https://github.com/scikit-learn/scikit-learn/blob/093e0cf14/sklearn/ensemble/_weight_boosting.py#L341) :)</font>"
      ],
      "metadata": {
        "id": "_-9f-bvm3YER"
      }
    },
    {
      "cell_type": "markdown",
      "source": [
        "<font color='red'> Your answer:</font>"
      ],
      "metadata": {
        "id": "lVEYKnG-4cm4"
      }
    },
    {
      "cell_type": "markdown",
      "metadata": {
        "id": "XSswjqM0hlSi"
      },
      "source": [
        "# Comments (optional feedback to the course instructors)\n",
        "Here, please, leave your comments regarding the practice session, possibly answering the following questions:\n",
        "\n",
        "* how much time did you spend on this homework?\n",
        "* was it too hard/easy for you?\n",
        "* what would you suggest to add or remove?\n",
        "* anything else you would like to tell us"
      ]
    },
    {
      "cell_type": "markdown",
      "metadata": {
        "id": "22VPt-05s-Yg"
      },
      "source": [
        "Your comments:"
      ]
    },
    {
      "cell_type": "markdown",
      "source": [
        "# <font color='red'>  End of the homework. Please don't delete this cell.</font>"
      ],
      "metadata": {
        "id": "_VXRWrUnCnyQ"
      }
    }
  ],
  "metadata": {
    "colab": {
      "provenance": [],
      "gpuType": "T4"
    },
    "kernelspec": {
      "display_name": "Python 3",
      "name": "python3"
    },
    "accelerator": "GPU"
  },
  "nbformat": 4,
  "nbformat_minor": 0
}