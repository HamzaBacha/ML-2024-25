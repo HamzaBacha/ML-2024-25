{
  "cells": [
    {
      "cell_type": "markdown",
      "metadata": {
        "id": "qmpZeRhwGmqX"
      },
      "source": [
        "# Homework #1\n",
        "## Introduction to supervised learning\n",
        "\n",
        "This colaboratory contains Homework #1 of the Machine Learning course, which is due **September 22, Sunday, midnight (23:59 EET time)**. To complete the homework, extract **(File -> Download .ipynb)** and submit to the course webpage.\n",
        "\n",
        "**NB! Links to your colaboratory will not be accepted as a solution!**\n",
        "\n",
        "## Submission's rules:\n",
        "\n",
        "1. Please, submit only .ipynb that you extract from the Colaboratory. Submit your .ipynb to [course webpage](https://courses.cs.ut.ee/2024/ml/fall/Main/Homeworks).\n",
        "2. Run your homework exercises before submitting (output should be present, preferably restart the kernel and press run all the cells).\n",
        "3. Do not change the description of tasks in red (even if there is a typo|mistake|etc).\n",
        "4. Please, make sure to avoid unnecessary long printouts.\n",
        "5. Each task should be solved right under the question of the task and not elsewhere.\n",
        "6. Solutions to both regular and bonus exercises should be submitted in the same .ipynb file.\n",
        "\n",
        "Please, steer clear of copying someone else's work. If you discuss assignments with anyone in the course, please, mention their names here:\n",
        "1. Pooh"
      ]
    },
    {
      "cell_type": "markdown",
      "metadata": {
        "id": "HAatB_cDv6-X"
      },
      "source": [
        "##List of Homework's exercises:\n",
        "1. [EX1](#scrollTo=tz9XASPxeqDC) - 3 points\n",
        "2. [EX2](#scrollTo=BGVGqZGpxmzQ&uniqifier=1#) - 2 points\n",
        "4. [EX3](#scrollTo=7p4GMeGK-QGL&uniqifier=1) - 1 points\n",
        "5. [EX4](#scrollTo=nqV2c5sDc_f2&uniqifier=1) - 4 points\n",
        "6. [Bonus 1](#scrollTo=_2T9ydozzcb-&uniqifier=1) - 2 points\n",
        "7. [Bonus 2](#scrollTo=UkOtofaRjH8P&uniqifier=1) - up to 5 points"
      ]
    },
    {
      "cell_type": "markdown",
      "metadata": {
        "id": "NJIhqUhr40Ks"
      },
      "source": [
        "### Homework setup:\n",
        "Here we will load necessary libraries (NumPy and Pandas) and MNIST dataset"
      ]
    },
    {
      "cell_type": "code",
      "execution_count": 1,
      "metadata": {
        "id": "bqp9Kj1g4yFb",
        "colab": {
          "base_uri": "https://localhost:8080/"
        },
        "outputId": "c5519337-5c38-4300-d113-e53dda001951"
      },
      "outputs": [
        {
          "output_type": "stream",
          "name": "stdout",
          "text": [
            "Downloading data from https://storage.googleapis.com/tensorflow/tf-keras-datasets/mnist.npz\n",
            "\u001b[1m11490434/11490434\u001b[0m \u001b[32m━━━━━━━━━━━━━━━━━━━━\u001b[0m\u001b[37m\u001b[0m \u001b[1m0s\u001b[0m 0us/step\n",
            "images are of shape: (60000, 28, 28) and labels: (60000,)\n"
          ]
        }
      ],
      "source": [
        "import numpy as np # for matrix stuff\n",
        "import pandas as pd # to work with datasets\n",
        "import matplotlib.pyplot as plt # subjectively ugly plotting here\n",
        "from seaborn import countplot # a bit less ugly plotting\n",
        "\n",
        "# Getting MNIST one more time\n",
        "from tensorflow.keras.datasets import mnist\n",
        "(images, labels),(_, _) = mnist.load_data()\n",
        "images = images / 255 # normalising images\n",
        "\n",
        "print(f\"images are of shape: {images.shape} and labels: {labels.shape}\")\n",
        "\n",
        "# Subsample the images\n",
        "train_images = images[:2000]\n",
        "train_labels = labels[:2000]\n",
        "\n",
        "test_images = images[2000:3000]\n",
        "test_labels = labels[2000:3000]"
      ]
    },
    {
      "cell_type": "markdown",
      "metadata": {
        "id": "tz9XASPxeqDC"
      },
      "source": [
        "## Homework exercise 1 (3 points): KNN\n",
        "<font color='red'>One very popular variation of Nearest Neighbour is K-nearest neighbour. In this algorithm a label for a new instance is chosen by majority vote by **`k`** of its nearest neighbors.\n",
        "\n",
        "<font color='red'>The actual algorithm is not very different from vanila nearest neighbour:\n",
        "\n",
        "1. <font color='red'> Compute distances to all points in the dataset\n",
        "2. <font color='red'> Find the **`k`** closest points (you may consider using `np.argsort` function)\n",
        "3. <font color='red'> Report the most popular label from these **`k`**. (maybe `np.bincount` can help)"
      ]
    },
    {
      "cell_type": "markdown",
      "metadata": {
        "id": "rtuWU_bTw8bf"
      },
      "source": [
        "<font color='red'>**(Homework exercise 1- a)** Implement the aformentioned algorithm in the cell below (2.0 points)</font>"
      ]
    },
    {
      "cell_type": "code",
      "execution_count": 2,
      "metadata": {
        "id": "J91vFM8yeqDC"
      },
      "outputs": [],
      "source": [
        "def dist(img1, img2):\n",
        "  ##### YOUR CODE STARTS #####\n",
        "  return np.sqrt(np.sum((img1 - img2)**2))\n",
        "  ##### YOUR CODE ENDS #####\n",
        "\n",
        "def classify_knn(image, k, train_images, train_labels):\n",
        "  ##### YOUR CODE STARTS #####\n",
        "  all_distances = [dist(image, train_image) for train_image in train_images]\n",
        "  knn = np.argsort(all_distances)[:k]\n",
        "  counts = np.bincount(train_labels[knn])\n",
        "  prediction = np.argmax(counts)\n",
        "  ##### YOUR CODE ENDS #####\n",
        "  return prediction"
      ]
    },
    {
      "cell_type": "markdown",
      "metadata": {
        "id": "PyOQSlZXYoQC"
      },
      "source": [
        "Test the function on two first images from `test_images`:"
      ]
    },
    {
      "cell_type": "code",
      "execution_count": 3,
      "metadata": {
        "colab": {
          "base_uri": "https://localhost:8080/"
        },
        "id": "OWZSdQpoYoQD",
        "outputId": "59dd3d69-ab8c-4015-b55b-3754792afb28"
      },
      "outputs": [
        {
          "output_type": "stream",
          "name": "stdout",
          "text": [
            "Predicted class for the first image is 6 and the true label is 5\n",
            "Predicted class for the second image is 8 and the true label is 8\n"
          ]
        }
      ],
      "source": [
        "##### YOUR CODE STARTS #####\n",
        "print(f\"Predicted class for the first image is {classify_knn(test_images[0], 5, train_images, train_labels )} and the true label is {test_labels[0]}\")\n",
        "print(f\"Predicted class for the second image is {classify_knn(test_images[1], 5, train_images, train_labels)} and the true label is {test_labels[1]}\")\n",
        "##### YOUR CODE ENDS #####"
      ]
    },
    {
      "cell_type": "markdown",
      "metadata": {
        "id": "mztnnB-aY8ou"
      },
      "source": [
        "<font color='red'>**(Homework exercise 1- b)** Create a new function `classify_knn_print` from `classify_knn` that you have just implemented in **1- a**  by adding a print statement that outputs labels of K nearest neighbours. Report 10 nearest neighbours for the first two images from the `test_images`. Why do you think these digits were among the closest neighbours? (0.5 points) </font>"
      ]
    },
    {
      "cell_type": "code",
      "execution_count": 4,
      "metadata": {
        "id": "gK1Sy_xTY8ou"
      },
      "outputs": [],
      "source": [
        "def classify_knn_print(image, k, train_images, train_labels):\n",
        "  ##### YOUR CODE STARTS #####\n",
        "  all_distances = [dist(image,train_image) for train_image in train_images]\n",
        "  knn = np.argsort(all_distances)[:k]\n",
        "  counts = np.bincount(train_labels[knn])\n",
        "  print(f\"The closest K neighbours are: {train_labels[knn]}\")\n",
        "  prediction = np.argmax(counts)\n",
        "  ##### YOUR CODE ENDS #####\n",
        "  return prediction"
      ]
    },
    {
      "cell_type": "code",
      "execution_count": 5,
      "metadata": {
        "colab": {
          "base_uri": "https://localhost:8080/"
        },
        "id": "DiHej3q_Y8ov",
        "outputId": "1a37d978-905a-4fa7-85a4-c58bec0d6869"
      },
      "outputs": [
        {
          "output_type": "stream",
          "name": "stdout",
          "text": [
            "The closest K neighbours are: [6 6 5 9 6 6 9 5 9 6]\n",
            "Predicted class for the first image is 6 and the true label is 5\n",
            "The closest K neighbours are: [8 8 8 8 8 8 8 8 8 8]\n",
            "Predicted class for the second image is 8 and the true label is 8\n"
          ]
        }
      ],
      "source": [
        "##### YOUR CODE STARTS #####\n",
        "print(f\"Predicted class for the first image is {classify_knn_print(test_images[0],10,train_images,train_labels)} and the true label is {test_labels[0]}\")\n",
        "print(f\"Predicted class for the second image is {classify_knn_print(test_images[1],10,train_images,train_labels)} and the true label is {test_labels[1]}\")\n",
        "##### YOUR CODE ENDS #####"
      ]
    },
    {
      "cell_type": "markdown",
      "metadata": {
        "id": "3HOhG-6JZUp9"
      },
      "source": [
        "Answer to (b): I think those digits were closest because they kinda look similar , like they have similar shapes and pixel patterns."
      ]
    },
    {
      "cell_type": "markdown",
      "metadata": {
        "id": "PAGGOpzHZUqE"
      },
      "source": [
        "<font color='red'>**(Homework exercise 1- c)** Classify all test images using `classify_knn` (**please, do not use print version**) and store them into a separate variable `test_predicted`, choose `k` = 5. Compute accuracy of your KNN model. (0.5 points) </font>"
      ]
    },
    {
      "cell_type": "code",
      "execution_count": 6,
      "metadata": {
        "colab": {
          "base_uri": "https://localhost:8080/"
        },
        "id": "6BkecDCYZUqE",
        "outputId": "005e1a9a-583b-429e-f001-7e8c593319d3"
      },
      "outputs": [
        {
          "output_type": "stream",
          "name": "stdout",
          "text": [
            "Final accuracy of our nearest neighbor classifier is 0.912. Not bad!\n"
          ]
        }
      ],
      "source": [
        "##### YOUR CODE STARTS #####\n",
        "test_predicted = [classify_knn(image, 5, train_images, train_labels) for image in test_images]\n",
        "n_correct = np.sum(test_predicted == test_labels)\n",
        "knn_accuracy = n_correct / len(test_predicted)\n",
        "##### YOUR CODE ENDS ##### (please do not delete this line)\n",
        "print(f\"Final accuracy of our nearest neighbor classifier is {knn_accuracy}. Not bad!\")"
      ]
    },
    {
      "cell_type": "markdown",
      "metadata": {
        "id": "BGVGqZGpxmzQ"
      },
      "source": [
        "## Homework exercise 2 (2 points): exploring misclassified examples\n",
        "<font color='red'>**(Homework exercise 2- a)** Modify the visualisation code that we used during the practice session to visualise a grid of example images from different classes. Now, instead of random examples from each class, visualise misclassified examples from each class. For example, in the first column visualise images that had true label `0` but were classified as something else, in the second column, show examples of images that had label `1` but were misclassified into another class and so on. Add a title to each small image, in the following format `true_label, predicted_label` e.g. \"0, 6\" - image of class 0 was classified as 6. (1.5 points)\n",
        "\n",
        "**NB! you need a variable `test_predicted` to exist from the previous exercise to complete this exericse.** </font>"
      ]
    },
    {
      "cell_type": "code",
      "execution_count": 7,
      "metadata": {
        "colab": {
          "base_uri": "https://localhost:8080/",
          "height": 665
        },
        "id": "sXAKr_qY5dzh",
        "outputId": "08ed2f9f-98b3-44df-8a73-92ceea24c4cf"
      },
      "outputs": [
        {
          "output_type": "display_data",
          "data": {
            "text/plain": [
              "<Figure size 1000x800 with 70 Axes>"
            ],
            "image/png": "[encoded data removed]"
          },
          "metadata": {}
        }
      ],
      "source": [
        "num_classes = 10\n",
        "samples_per_class = 7 # Number of images from each class we want to see\n",
        "fig, axs = plt.subplots(samples_per_class, num_classes, figsize=(10.0, 8.0))\n",
        "for i in range(num_classes):\n",
        "    ##### YOUR CODE STARTS #####\n",
        "\n",
        "    misclassified_indices = np.where((test_labels == i) & (test_predicted != i))[0]\n",
        "    selected_indices = misclassified_indices[:samples_per_class]\n",
        "    for j, idx in enumerate(selected_indices):\n",
        "        axs[j, i].imshow(test_images[idx], cmap='gray')\n",
        "        axs[j, i].set_title(f'{test_labels[idx]}, {test_predicted[idx]}')\n",
        "\n",
        "    ##### YOUR CODE ENDS #####\n",
        "plt.setp(axs,xticks=[],yticks=[]) # set all axes off\n",
        "plt.show()"
      ]
    },
    {
      "cell_type": "markdown",
      "metadata": {
        "id": "73G5hFzrxrVc"
      },
      "source": [
        "<font color='red'>**(Homework exercise 2- b)** Take a careful look at the resulting figure. Are all classes equally missclassified? Why? Are there any classes that KNN confuses more often, why? (0.5 points) </font>"
      ]
    },
    {
      "cell_type": "markdown",
      "metadata": {
        "id": "rmNqSRNiysh-"
      },
      "source": [
        "Answer to (b): Based on the image,No, not all classes are equally misclassified, maybe due to Class Imbalance,Class Complexity,K-Value Selection.\n",
        "Yes it seems like the KNN classifier is having more trouble with certain digit classes than others. This could be because some digits are more similar in shape, or maybe the KNN algorithm is confused by the way they're written.\n",
        "\n",
        "> Add blockquote\n",
        "\n"
      ]
    },
    {
      "cell_type": "markdown",
      "metadata": {
        "id": "yiyv1wdqImo-"
      },
      "source": [
        "## Preparation for homework exercises 3 and 4\n",
        "Next we will work with real-world dataset collected from taxis operating in New York City"
      ]
    },
    {
      "cell_type": "code",
      "execution_count": 8,
      "metadata": {
        "colab": {
          "base_uri": "https://localhost:8080/"
        },
        "id": "vVU6bxgsNzEh",
        "outputId": "ae75ed8d-9b7b-480d-9155-952e93fe5435"
      },
      "outputs": [
        {
          "output_type": "stream",
          "name": "stderr",
          "text": [
            "WARNING:root:pydrive is deprecated and no longer maintained. We recommend that you migrate your projects to pydrive2, the maintained fork of pydrive\n"
          ]
        }
      ],
      "source": [
        "# Code to read csv file into Colaboratory:\n",
        "!pip install -U -q PyDrive\n",
        "from pydrive.auth import GoogleAuth\n",
        "from pydrive.drive import GoogleDrive\n",
        "from google.colab import auth\n",
        "from oauth2client.client import GoogleCredentials\n",
        "\n",
        "# Authenticate and create the PyDrive client.\n",
        "auth.authenticate_user()\n",
        "gauth = GoogleAuth()\n",
        "gauth.credentials = GoogleCredentials.get_application_default()\n",
        "drive = GoogleDrive(gauth)\n",
        "\n",
        "link = 'https://drive.google.com/file/d/1XKhfq4WFHlTrvag48cD3VDJGfykYUJ-s' # The shareable link"
      ]
    },
    {
      "cell_type": "code",
      "execution_count": 9,
      "metadata": {
        "id": "RmMEiS7ICgRB",
        "colab": {
          "base_uri": "https://localhost:8080/"
        },
        "outputId": "bc661dc0-c575-42cd-fddb-222d1719706d"
      },
      "outputs": [
        {
          "output_type": "stream",
          "name": "stdout",
          "text": [
            "Archive:  nyc_data_2.zip\n",
            "  inflating: train_2M.csv            \n",
            "  inflating: test.csv                \n",
            "  inflating: model.pickle            \n",
            "  inflating: sample_submission.csv   \n"
          ]
        }
      ],
      "source": [
        "downloaded = drive.CreateFile({'id':'1XKhfq4WFHlTrvag48cD3VDJGfykYUJ-s'})\n",
        "downloaded.GetContentFile('nyc_data_2.zip')\n",
        "\n",
        "# After archive has been downloaded\n",
        "# unzip it\n",
        "!unzip nyc_data_2.zip"
      ]
    },
    {
      "cell_type": "markdown",
      "metadata": {
        "id": "GkSYWHwZEG9j"
      },
      "source": [
        "* `train_2M.csv` contains 2 million observations from NYC dataset (6 independent variables and fare_amount that we need to predict).\n",
        "* `test.csv` contains new observations, for which we have to estimate `fare_amount` based on train data.\n",
        "* `sample_submission.csv` - a sample submission file in the correct format (columns `key` and `fare_amount`). Every row in this file matches every row in `test.csv`.\n",
        "* `model.pickle` - file that contains trained model saved as a pickle (we are going to deal with it later)"
      ]
    },
    {
      "cell_type": "markdown",
      "metadata": {
        "id": "7p4GMeGK-QGL"
      },
      "source": [
        "## Homework exercise 3 (1 point): read and explore `model.pickle`"
      ]
    },
    {
      "cell_type": "markdown",
      "metadata": {
        "id": "Rsa9ojOlgmmk"
      },
      "source": [
        "<font color='red'> **(Homework exercise 3- a)** In this exercise we will use module `pickle` that let's you store your machine learning models as files. Later you can share these models (aka pickles) with your colleagues or your future self.\n",
        "\n",
        "<font color='red'> In this exercise, use `pickle` module to read in `model.pickle` file that you have downloaded from `nyc_data_2.zip` using `pickle.load()` function. For details consult the documentation page: https://docs.python.org/3/library/pickle.html. (0.5 points)"
      ]
    },
    {
      "cell_type": "code",
      "execution_count": 10,
      "metadata": {
        "id": "iezeRiy9gl_-",
        "colab": {
          "base_uri": "https://localhost:8080/"
        },
        "outputId": "dec4f5bb-ea6d-4bf1-f9e9-785fa80eb819"
      },
      "outputs": [
        {
          "output_type": "stream",
          "name": "stderr",
          "text": [
            "/usr/local/lib/python3.10/dist-packages/sklearn/base.py:348: InconsistentVersionWarning: Trying to unpickle estimator LinearRegression from version 1.0.2 when using version 1.3.2. This might lead to breaking code or invalid results. Use at your own risk. For more info please refer to:\n",
            "https://scikit-learn.org/stable/model_persistence.html#security-maintainability-limitations\n",
            "  warnings.warn(\n"
          ]
        }
      ],
      "source": [
        "import pickle\n",
        "import os\n",
        "\n",
        "##### YOUR CODE STARTS #####\n",
        "filename = 'model.pickle'\n",
        "with open(filename, 'rb') as file:\n",
        "    model = pickle.load(file)\n",
        "##### YOUR CODE ENDS #####"
      ]
    },
    {
      "cell_type": "markdown",
      "metadata": {
        "id": "mJQbGVDs-1vS"
      },
      "source": [
        "<font color='red'> **(Homework exercise 3- b)** next, explore the object using function `dir` and answer the following questions:\n",
        "* <font color='red'> Which model was saved into this object?\n",
        "* <font color='red'> How many coefficients it has and what are their values?\n",
        "* <font color='red'>Can you find out which features have been used for training?\n",
        "\n",
        "<font color='red'>(0.5 points)\n"
      ]
    },
    {
      "cell_type": "code",
      "source": [
        "\n",
        "print(dir(model))\n",
        "\n",
        "coefficients = model.coef_\n",
        "print(coefficients)\n",
        "\n",
        "features = model.feature_names_in_\n",
        "print(features)"
      ],
      "metadata": {
        "colab": {
          "base_uri": "https://localhost:8080/"
        },
        "id": "qgva4E8sGjEK",
        "outputId": "2e43314e-7785-40b2-c655-23db1e89f4e6"
      },
      "execution_count": 11,
      "outputs": [
        {
          "output_type": "stream",
          "name": "stdout",
          "text": [
            "['__abstractmethods__', '__annotations__', '__class__', '__delattr__', '__dict__', '__dir__', '__doc__', '__eq__', '__format__', '__ge__', '__getattribute__', '__getstate__', '__gt__', '__hash__', '__init__', '__init_subclass__', '__le__', '__lt__', '__module__', '__ne__', '__new__', '__reduce__', '__reduce_ex__', '__repr__', '__setattr__', '__setstate__', '__sizeof__', '__sklearn_clone__', '__str__', '__subclasshook__', '__weakref__', '_abc_impl', '_build_request_for_signature', '_check_feature_names', '_check_n_features', '_decision_function', '_estimator_type', '_get_default_requests', '_get_metadata_request', '_get_param_names', '_get_tags', '_more_tags', '_parameter_constraints', '_repr_html_', '_repr_html_inner', '_repr_mimebundle_', '_residues', '_set_intercept', '_validate_data', '_validate_params', 'coef_', 'copy_X', 'feature_names_in_', 'fit', 'fit_intercept', 'get_metadata_routing', 'get_params', 'intercept_', 'n_features_in_', 'n_jobs', 'normalize', 'positive', 'predict', 'rank_', 'score', 'set_fit_request', 'set_params', 'set_score_request', 'singular_']\n",
            "[[1.46111427e+02 8.92591108e+01 5.23209145e-02]]\n",
            "['abs_diff_longitude' 'abs_diff_latitude' 'passenger_count']\n"
          ]
        }
      ]
    },
    {
      "cell_type": "markdown",
      "metadata": {
        "id": "-PoebBH_ii4H"
      },
      "source": [
        "Answers to (b):\n",
        "\n",
        "\n",
        "*   linear regression model.\n",
        "*   It has three coefficients and values are:\n",
        "    [1.46111427e+02 8.92591108e+01 5.23209145e-02]\n",
        "*   Features has been used for training are:   \n",
        "     ['abs_diff_longitude' 'abs_diff_latitude' 'passenger_count']\n",
        "\n",
        "\n",
        "\n",
        "\n"
      ]
    },
    {
      "cell_type": "markdown",
      "metadata": {
        "id": "d9MiatCvf_Qz"
      },
      "source": [
        "### Setting up Kaggle"
      ]
    },
    {
      "cell_type": "markdown",
      "metadata": {
        "id": "pFA64n-4T6YX"
      },
      "source": [
        "You need to have an account on Kaggle.com, before you proceed to the last exercise. When in your account, you need to download your API Token from kaggle. It's very easy:\n",
        "1. Click on your profile icon\n",
        "2. Go to **Account**\n",
        "3. In **API** you press **Create new API token**\n",
        "\n",
        "Now we load the file **kaggle.json** that you have downloaded, into this notebook:"
      ]
    },
    {
      "cell_type": "code",
      "execution_count": 12,
      "metadata": {
        "id": "28-oD6TfUlcZ",
        "colab": {
          "base_uri": "https://localhost:8080/",
          "height": 73
        },
        "outputId": "7c9aed41-d2cd-4dd0-c755-a014327aeb92"
      },
      "outputs": [
        {
          "output_type": "display_data",
          "data": {
            "text/plain": [
              "<IPython.core.display.HTML object>"
            ],
            "text/html": [
              "\n",
              "     <input type=\"file\" id=\"files-c6793171-df3e-4f93-b006-4f489643db26\" name=\"files[]\" multiple disabled\n",
              "        style=\"border:none\" />\n",
              "     <output id=\"result-c6793171-df3e-4f93-b006-4f489643db26\">\n",
              "      Upload widget is only available when the cell has been executed in the\n",
              "      current browser session. Please rerun this cell to enable.\n",
              "      </output>\n",
              "      <script>// Copyright 2017 Google LLC\n",
              "//\n",
              "// Licensed under the Apache License, Version 2.0 (the \"License\");\n",
              "// you may not use this file except in compliance with the License.\n",
              "// You may obtain a copy of the License at\n",
              "//\n",
              "//      http://www.apache.org/licenses/LICENSE-2.0\n",
              "//\n",
              "// Unless required by applicable law or agreed to in writing, software\n",
              "// distributed under the License is distributed on an \"AS IS\" BASIS,\n",
              "// WITHOUT WARRANTIES OR CONDITIONS OF ANY KIND, either express or implied.\n",
              "// See the License for the specific language governing permissions and\n",
              "// limitations under the License.\n",
              "\n",
              "/**\n",
              " * @fileoverview Helpers for google.colab Python module.\n",
              " */\n",
              "(function(scope) {\n",
              "function span(text, styleAttributes = {}) {\n",
              "  const element = document.createElement('span');\n",
              "  element.textContent = text;\n",
              "  for (const key of Object.keys(styleAttributes)) {\n",
              "    element.style[key] = styleAttributes[key];\n",
              "  }\n",
              "  return element;\n",
              "}\n",
              "\n",
              "// Max number of bytes which will be uploaded at a time.\n",
              "const MAX_PAYLOAD_SIZE = 100 * 1024;\n",
              "\n",
              "function _uploadFiles(inputId, outputId) {\n",
              "  const steps = uploadFilesStep(inputId, outputId);\n",
              "  const outputElement = document.getElementById(outputId);\n",
              "  // Cache steps on the outputElement to make it available for the next call\n",
              "  // to uploadFilesContinue from Python.\n",
              "  outputElement.steps = steps;\n",
              "\n",
              "  return _uploadFilesContinue(outputId);\n",
              "}\n",
              "\n",
              "// This is roughly an async generator (not supported in the browser yet),\n",
              "// where there are multiple asynchronous steps and the Python side is going\n",
              "// to poll for completion of each step.\n",
              "// This uses a Promise to block the python side on completion of each step,\n",
              "// then passes the result of the previous step as the input to the next step.\n",
              "function _uploadFilesContinue(outputId) {\n",
              "  const outputElement = document.getElementById(outputId);\n",
              "  const steps = outputElement.steps;\n",
              "\n",
              "  const next = steps.next(outputElement.lastPromiseValue);\n",
              "  return Promise.resolve(next.value.promise).then((value) => {\n",
              "    // Cache the last promise value to make it available to the next\n",
              "    // step of the generator.\n",
              "    outputElement.lastPromiseValue = value;\n",
              "    return next.value.response;\n",
              "  });\n",
              "}\n",
              "\n",
              "/**\n",
              " * Generator function which is called between each async step of the upload\n",
              " * process.\n",
              " * @param {string} inputId Element ID of the input file picker element.\n",
              " * @param {string} outputId Element ID of the output display.\n",
              " * @return {!Iterable<!Object>} Iterable of next steps.\n",
              " */\n",
              "function* uploadFilesStep(inputId, outputId) {\n",
              "  const inputElement = document.getElementById(inputId);\n",
              "  inputElement.disabled = false;\n",
              "\n",
              "  const outputElement = document.getElementById(outputId);\n",
              "  outputElement.innerHTML = '';\n",
              "\n",
              "  const pickedPromise = new Promise((resolve) => {\n",
              "    inputElement.addEventListener('change', (e) => {\n",
              "      resolve(e.target.files);\n",
              "    });\n",
              "  });\n",
              "\n",
              "  const cancel = document.createElement('button');\n",
              "  inputElement.parentElement.appendChild(cancel);\n",
              "  cancel.textContent = 'Cancel upload';\n",
              "  const cancelPromise = new Promise((resolve) => {\n",
              "    cancel.onclick = () => {\n",
              "      resolve(null);\n",
              "    };\n",
              "  });\n",
              "\n",
              "  // Wait for the user to pick the files.\n",
              "  const files = yield {\n",
              "    promise: Promise.race([pickedPromise, cancelPromise]),\n",
              "    response: {\n",
              "      action: 'starting',\n",
              "    }\n",
              "  };\n",
              "\n",
              "  cancel.remove();\n",
              "\n",
              "  // Disable the input element since further picks are not allowed.\n",
              "  inputElement.disabled = true;\n",
              "\n",
              "  if (!files) {\n",
              "    return {\n",
              "      response: {\n",
              "        action: 'complete',\n",
              "      }\n",
              "    };\n",
              "  }\n",
              "\n",
              "  for (const file of files) {\n",
              "    const li = document.createElement('li');\n",
              "    li.append(span(file.name, {fontWeight: 'bold'}));\n",
              "    li.append(span(\n",
              "        `(${file.type || 'n/a'}) - ${file.size} bytes, ` +\n",
              "        `last modified: ${\n",
              "            file.lastModifiedDate ? file.lastModifiedDate.toLocaleDateString() :\n",
              "                                    'n/a'} - `));\n",
              "    const percent = span('0% done');\n",
              "    li.appendChild(percent);\n",
              "\n",
              "    outputElement.appendChild(li);\n",
              "\n",
              "    const fileDataPromise = new Promise((resolve) => {\n",
              "      const reader = new FileReader();\n",
              "      reader.onload = (e) => {\n",
              "        resolve(e.target.result);\n",
              "      };\n",
              "      reader.readAsArrayBuffer(file);\n",
              "    });\n",
              "    // Wait for the data to be ready.\n",
              "    let fileData = yield {\n",
              "      promise: fileDataPromise,\n",
              "      response: {\n",
              "        action: 'continue',\n",
              "      }\n",
              "    };\n",
              "\n",
              "    // Use a chunked sending to avoid message size limits. See b/62115660.\n",
              "    let position = 0;\n",
              "    do {\n",
              "      const length = Math.min(fileData.byteLength - position, MAX_PAYLOAD_SIZE);\n",
              "      const chunk = new Uint8Array(fileData, position, length);\n",
              "      position += length;\n",
              "\n",
              "      const base64 = btoa(String.fromCharCode.apply(null, chunk));\n",
              "      yield {\n",
              "        response: {\n",
              "          action: 'append',\n",
              "          file: file.name,\n",
              "          data: base64,\n",
              "        },\n",
              "      };\n",
              "\n",
              "      let percentDone = fileData.byteLength === 0 ?\n",
              "          100 :\n",
              "          Math.round((position / fileData.byteLength) * 100);\n",
              "      percent.textContent = `${percentDone}% done`;\n",
              "\n",
              "    } while (position < fileData.byteLength);\n",
              "  }\n",
              "\n",
              "  // All done.\n",
              "  yield {\n",
              "    response: {\n",
              "      action: 'complete',\n",
              "    }\n",
              "  };\n",
              "}\n",
              "\n",
              "scope.google = scope.google || {};\n",
              "scope.google.colab = scope.google.colab || {};\n",
              "scope.google.colab._files = {\n",
              "  _uploadFiles,\n",
              "  _uploadFilesContinue,\n",
              "};\n",
              "})(self);\n",
              "</script> "
            ]
          },
          "metadata": {}
        },
        {
          "output_type": "stream",
          "name": "stdout",
          "text": [
            "Saving kaggle.json to kaggle.json\n"
          ]
        }
      ],
      "source": [
        "from google.colab import files\n",
        "\n",
        "files.upload();"
      ]
    },
    {
      "cell_type": "markdown",
      "metadata": {
        "id": "O9dH5I_4Uxyt"
      },
      "source": [
        "The next cell moves the file into a separate folder, sets secure access for it and configures your Kaggle profile for this notebook."
      ]
    },
    {
      "cell_type": "code",
      "execution_count": 13,
      "metadata": {
        "id": "MbT49tJjVU8g",
        "colab": {
          "base_uri": "https://localhost:8080/"
        },
        "outputId": "2c494db8-3c9b-4783-cebb-dea425c3832a"
      },
      "outputs": [
        {
          "output_type": "stream",
          "name": "stdout",
          "text": [
            "- path is now set to: {/content}\n"
          ]
        }
      ],
      "source": [
        "import json\n",
        "\n",
        "!mkdir /root/.kaggle/\n",
        "!mv kaggle.json /root/.kaggle/kaggle.json\n",
        "!chmod 600 ~/.kaggle/kaggle.json\n",
        "!kaggle config set -n path -v{/content}"
      ]
    },
    {
      "cell_type": "markdown",
      "metadata": {
        "id": "2fDy-ghRhlvv"
      },
      "source": [
        "In order to sign up for a NYC Taxi competition you need to accept the rules by cliking on \"Late submission\" button in the upper right corner: https://www.kaggle.com/c/new-york-city-taxi-fare-prediction"
      ]
    },
    {
      "cell_type": "markdown",
      "metadata": {
        "id": "h2FromHiSLB4"
      },
      "source": [
        "Make a test submission to ensure that the submission mechanism works"
      ]
    },
    {
      "cell_type": "code",
      "execution_count": 14,
      "metadata": {
        "id": "ULF0BN3LCtSE",
        "colab": {
          "base_uri": "https://localhost:8080/"
        },
        "outputId": "a3be72bc-777d-4b5b-ed92-bc54fce25a12"
      },
      "outputs": [
        {
          "output_type": "stream",
          "name": "stdout",
          "text": [
            "100% 335k/335k [00:00<00:00, 347kB/s]\n",
            "Successfully submitted to New York City Taxi Fare Prediction"
          ]
        }
      ],
      "source": [
        "!kaggle competitions submit -c new-york-city-taxi-fare-prediction -f sample_submission.csv -m \"Sample submission test\""
      ]
    },
    {
      "cell_type": "markdown",
      "metadata": {
        "id": "d4HijXgyspzs"
      },
      "source": [
        "Now you can check `My submissions` tab on the website: https://www.kaggle.com/c/new-york-city-taxi-fare-prediction/submissions"
      ]
    },
    {
      "cell_type": "markdown",
      "metadata": {
        "id": "rXvcLJyNSRzH"
      },
      "source": [
        "## Read in the NYC data and perform basic preprocessing"
      ]
    },
    {
      "cell_type": "code",
      "execution_count": 15,
      "metadata": {
        "id": "JQXdJrPvDMrZ",
        "colab": {
          "base_uri": "https://localhost:8080/"
        },
        "outputId": "d974a782-8a4a-4d79-b499-7a3e3d4a45e1"
      },
      "outputs": [
        {
          "output_type": "stream",
          "name": "stdout",
          "text": [
            "CPU times: user 1.87 s, sys: 278 ms, total: 2.15 s\n",
            "Wall time: 2.15 s\n"
          ]
        }
      ],
      "source": [
        "%%time\n",
        "\n",
        "# note that we use only 1M out of 2M records\n",
        "train =  pd.read_csv('train_2M.csv', parse_dates=[\"pickup_datetime\"], nrows = 1_000_000) # the first row will automatically be interpreted as a header\n",
        "\n",
        "# functions that add two new features abs_diff_longitude and abs_diff_latitude\n",
        "def add_travel_vector_features(df):\n",
        "    df['abs_diff_longitude'] = (df.dropoff_longitude - df.pickup_longitude).abs()\n",
        "    df['abs_diff_latitude'] = (df.dropoff_latitude - df.pickup_latitude).abs()\n",
        "\n",
        "# adding two new features to train\n",
        "add_travel_vector_features(train)\n",
        "\n",
        "# reading in test and adding two new features to test\n",
        "test = pd.read_csv('test.csv')\n",
        "add_travel_vector_features(test)\n",
        "\n",
        "# removing not available values and outliers\n",
        "train = train.dropna(how = 'any', axis = 'rows')\n",
        "train = train[(train.abs_diff_longitude < 5.0) & (train.abs_diff_latitude < 5.0)]\n",
        "\n",
        "X = train.drop('fare_amount', axis=1)\n",
        "y = train['fare_amount']"
      ]
    },
    {
      "cell_type": "markdown",
      "metadata": {
        "id": "nqV2c5sDc_f2"
      },
      "source": [
        "## Homework exercise 4 (4 points): K-fold cross-validation algorithm\n",
        "<font color='red'> In the classroom we were cheating on our validation data when we hand-picked the number of decision trees (as we used validation data multiple times). The honest and better way of finding a good hyperparameter (depth of the tree) is a **K-fold cross-validation algorithm**.\n"
      ]
    },
    {
      "cell_type": "markdown",
      "metadata": {
        "id": "rSbeesjBy89b"
      },
      "source": [
        "<font color='red'> **(Homework exercise 4- a)** Implement the K-fold cross-validation algorithm using lecture slides and hints in comments. Use `abs_diff_longitude` and `abs_diff_latitude` featues and the K-fold cross-validation to find the most suitable depth of the tree.  (3.5 points) </font>"
      ]
    },
    {
      "cell_type": "code",
      "execution_count": 16,
      "metadata": {
        "id": "G96lG0IbfG87",
        "colab": {
          "base_uri": "https://localhost:8080/"
        },
        "outputId": "88320363-e710-4dce-9d0a-695ddb4914a0"
      },
      "outputs": [
        {
          "output_type": "stream",
          "name": "stdout",
          "text": [
            "Calculating RMSE for tree with a depth 1...\n"
          ]
        },
        {
          "output_type": "stream",
          "name": "stderr",
          "text": [
            "<ipython-input-16-c4e22e1c40fe>:50: SettingWithCopyWarning: \n",
            "A value is trying to be set on a copy of a slice from a DataFrame.\n",
            "Try using .loc[row_indexer,col_indexer] = value instead\n",
            "\n",
            "See the caveats in the documentation: https://pandas.pydata.org/pandas-docs/stable/user_guide/indexing.html#returning-a-view-versus-a-copy\n",
            "  train_X['pickup_datetime'] = train_X['pickup_datetime'].astype(np.int64) // 10**9\n",
            "<ipython-input-16-c4e22e1c40fe>:51: SettingWithCopyWarning: \n",
            "A value is trying to be set on a copy of a slice from a DataFrame.\n",
            "Try using .loc[row_indexer,col_indexer] = value instead\n",
            "\n",
            "See the caveats in the documentation: https://pandas.pydata.org/pandas-docs/stable/user_guide/indexing.html#returning-a-view-versus-a-copy\n",
            "  val_X['pickup_datetime'] = val_X['pickup_datetime'].astype(np.int64) // 10**9\n",
            "<ipython-input-16-c4e22e1c40fe>:50: SettingWithCopyWarning: \n",
            "A value is trying to be set on a copy of a slice from a DataFrame.\n",
            "Try using .loc[row_indexer,col_indexer] = value instead\n",
            "\n",
            "See the caveats in the documentation: https://pandas.pydata.org/pandas-docs/stable/user_guide/indexing.html#returning-a-view-versus-a-copy\n",
            "  train_X['pickup_datetime'] = train_X['pickup_datetime'].astype(np.int64) // 10**9\n",
            "<ipython-input-16-c4e22e1c40fe>:51: SettingWithCopyWarning: \n",
            "A value is trying to be set on a copy of a slice from a DataFrame.\n",
            "Try using .loc[row_indexer,col_indexer] = value instead\n",
            "\n",
            "See the caveats in the documentation: https://pandas.pydata.org/pandas-docs/stable/user_guide/indexing.html#returning-a-view-versus-a-copy\n",
            "  val_X['pickup_datetime'] = val_X['pickup_datetime'].astype(np.int64) // 10**9\n",
            "<ipython-input-16-c4e22e1c40fe>:50: SettingWithCopyWarning: \n",
            "A value is trying to be set on a copy of a slice from a DataFrame.\n",
            "Try using .loc[row_indexer,col_indexer] = value instead\n",
            "\n",
            "See the caveats in the documentation: https://pandas.pydata.org/pandas-docs/stable/user_guide/indexing.html#returning-a-view-versus-a-copy\n",
            "  train_X['pickup_datetime'] = train_X['pickup_datetime'].astype(np.int64) // 10**9\n",
            "<ipython-input-16-c4e22e1c40fe>:51: SettingWithCopyWarning: \n",
            "A value is trying to be set on a copy of a slice from a DataFrame.\n",
            "Try using .loc[row_indexer,col_indexer] = value instead\n",
            "\n",
            "See the caveats in the documentation: https://pandas.pydata.org/pandas-docs/stable/user_guide/indexing.html#returning-a-view-versus-a-copy\n",
            "  val_X['pickup_datetime'] = val_X['pickup_datetime'].astype(np.int64) // 10**9\n",
            "<ipython-input-16-c4e22e1c40fe>:50: SettingWithCopyWarning: \n",
            "A value is trying to be set on a copy of a slice from a DataFrame.\n",
            "Try using .loc[row_indexer,col_indexer] = value instead\n",
            "\n",
            "See the caveats in the documentation: https://pandas.pydata.org/pandas-docs/stable/user_guide/indexing.html#returning-a-view-versus-a-copy\n",
            "  train_X['pickup_datetime'] = train_X['pickup_datetime'].astype(np.int64) // 10**9\n",
            "<ipython-input-16-c4e22e1c40fe>:51: SettingWithCopyWarning: \n",
            "A value is trying to be set on a copy of a slice from a DataFrame.\n",
            "Try using .loc[row_indexer,col_indexer] = value instead\n",
            "\n",
            "See the caveats in the documentation: https://pandas.pydata.org/pandas-docs/stable/user_guide/indexing.html#returning-a-view-versus-a-copy\n",
            "  val_X['pickup_datetime'] = val_X['pickup_datetime'].astype(np.int64) // 10**9\n"
          ]
        },
        {
          "output_type": "stream",
          "name": "stdout",
          "text": [
            "Average validation RMSE for 1 of trees is 7.186194382859865\n",
            "Calculating RMSE for tree with a depth 2...\n"
          ]
        },
        {
          "output_type": "stream",
          "name": "stderr",
          "text": [
            "<ipython-input-16-c4e22e1c40fe>:50: SettingWithCopyWarning: \n",
            "A value is trying to be set on a copy of a slice from a DataFrame.\n",
            "Try using .loc[row_indexer,col_indexer] = value instead\n",
            "\n",
            "See the caveats in the documentation: https://pandas.pydata.org/pandas-docs/stable/user_guide/indexing.html#returning-a-view-versus-a-copy\n",
            "  train_X['pickup_datetime'] = train_X['pickup_datetime'].astype(np.int64) // 10**9\n",
            "<ipython-input-16-c4e22e1c40fe>:51: SettingWithCopyWarning: \n",
            "A value is trying to be set on a copy of a slice from a DataFrame.\n",
            "Try using .loc[row_indexer,col_indexer] = value instead\n",
            "\n",
            "See the caveats in the documentation: https://pandas.pydata.org/pandas-docs/stable/user_guide/indexing.html#returning-a-view-versus-a-copy\n",
            "  val_X['pickup_datetime'] = val_X['pickup_datetime'].astype(np.int64) // 10**9\n",
            "<ipython-input-16-c4e22e1c40fe>:50: SettingWithCopyWarning: \n",
            "A value is trying to be set on a copy of a slice from a DataFrame.\n",
            "Try using .loc[row_indexer,col_indexer] = value instead\n",
            "\n",
            "See the caveats in the documentation: https://pandas.pydata.org/pandas-docs/stable/user_guide/indexing.html#returning-a-view-versus-a-copy\n",
            "  train_X['pickup_datetime'] = train_X['pickup_datetime'].astype(np.int64) // 10**9\n",
            "<ipython-input-16-c4e22e1c40fe>:51: SettingWithCopyWarning: \n",
            "A value is trying to be set on a copy of a slice from a DataFrame.\n",
            "Try using .loc[row_indexer,col_indexer] = value instead\n",
            "\n",
            "See the caveats in the documentation: https://pandas.pydata.org/pandas-docs/stable/user_guide/indexing.html#returning-a-view-versus-a-copy\n",
            "  val_X['pickup_datetime'] = val_X['pickup_datetime'].astype(np.int64) // 10**9\n",
            "<ipython-input-16-c4e22e1c40fe>:50: SettingWithCopyWarning: \n",
            "A value is trying to be set on a copy of a slice from a DataFrame.\n",
            "Try using .loc[row_indexer,col_indexer] = value instead\n",
            "\n",
            "See the caveats in the documentation: https://pandas.pydata.org/pandas-docs/stable/user_guide/indexing.html#returning-a-view-versus-a-copy\n",
            "  train_X['pickup_datetime'] = train_X['pickup_datetime'].astype(np.int64) // 10**9\n",
            "<ipython-input-16-c4e22e1c40fe>:51: SettingWithCopyWarning: \n",
            "A value is trying to be set on a copy of a slice from a DataFrame.\n",
            "Try using .loc[row_indexer,col_indexer] = value instead\n",
            "\n",
            "See the caveats in the documentation: https://pandas.pydata.org/pandas-docs/stable/user_guide/indexing.html#returning-a-view-versus-a-copy\n",
            "  val_X['pickup_datetime'] = val_X['pickup_datetime'].astype(np.int64) // 10**9\n",
            "<ipython-input-16-c4e22e1c40fe>:50: SettingWithCopyWarning: \n",
            "A value is trying to be set on a copy of a slice from a DataFrame.\n",
            "Try using .loc[row_indexer,col_indexer] = value instead\n",
            "\n",
            "See the caveats in the documentation: https://pandas.pydata.org/pandas-docs/stable/user_guide/indexing.html#returning-a-view-versus-a-copy\n",
            "  train_X['pickup_datetime'] = train_X['pickup_datetime'].astype(np.int64) // 10**9\n",
            "<ipython-input-16-c4e22e1c40fe>:51: SettingWithCopyWarning: \n",
            "A value is trying to be set on a copy of a slice from a DataFrame.\n",
            "Try using .loc[row_indexer,col_indexer] = value instead\n",
            "\n",
            "See the caveats in the documentation: https://pandas.pydata.org/pandas-docs/stable/user_guide/indexing.html#returning-a-view-versus-a-copy\n",
            "  val_X['pickup_datetime'] = val_X['pickup_datetime'].astype(np.int64) // 10**9\n"
          ]
        },
        {
          "output_type": "stream",
          "name": "stdout",
          "text": [
            "Average validation RMSE for 2 of trees is 6.031533786966819\n",
            "Calculating RMSE for tree with a depth 5...\n"
          ]
        },
        {
          "output_type": "stream",
          "name": "stderr",
          "text": [
            "<ipython-input-16-c4e22e1c40fe>:50: SettingWithCopyWarning: \n",
            "A value is trying to be set on a copy of a slice from a DataFrame.\n",
            "Try using .loc[row_indexer,col_indexer] = value instead\n",
            "\n",
            "See the caveats in the documentation: https://pandas.pydata.org/pandas-docs/stable/user_guide/indexing.html#returning-a-view-versus-a-copy\n",
            "  train_X['pickup_datetime'] = train_X['pickup_datetime'].astype(np.int64) // 10**9\n",
            "<ipython-input-16-c4e22e1c40fe>:51: SettingWithCopyWarning: \n",
            "A value is trying to be set on a copy of a slice from a DataFrame.\n",
            "Try using .loc[row_indexer,col_indexer] = value instead\n",
            "\n",
            "See the caveats in the documentation: https://pandas.pydata.org/pandas-docs/stable/user_guide/indexing.html#returning-a-view-versus-a-copy\n",
            "  val_X['pickup_datetime'] = val_X['pickup_datetime'].astype(np.int64) // 10**9\n",
            "<ipython-input-16-c4e22e1c40fe>:50: SettingWithCopyWarning: \n",
            "A value is trying to be set on a copy of a slice from a DataFrame.\n",
            "Try using .loc[row_indexer,col_indexer] = value instead\n",
            "\n",
            "See the caveats in the documentation: https://pandas.pydata.org/pandas-docs/stable/user_guide/indexing.html#returning-a-view-versus-a-copy\n",
            "  train_X['pickup_datetime'] = train_X['pickup_datetime'].astype(np.int64) // 10**9\n",
            "<ipython-input-16-c4e22e1c40fe>:51: SettingWithCopyWarning: \n",
            "A value is trying to be set on a copy of a slice from a DataFrame.\n",
            "Try using .loc[row_indexer,col_indexer] = value instead\n",
            "\n",
            "See the caveats in the documentation: https://pandas.pydata.org/pandas-docs/stable/user_guide/indexing.html#returning-a-view-versus-a-copy\n",
            "  val_X['pickup_datetime'] = val_X['pickup_datetime'].astype(np.int64) // 10**9\n",
            "<ipython-input-16-c4e22e1c40fe>:50: SettingWithCopyWarning: \n",
            "A value is trying to be set on a copy of a slice from a DataFrame.\n",
            "Try using .loc[row_indexer,col_indexer] = value instead\n",
            "\n",
            "See the caveats in the documentation: https://pandas.pydata.org/pandas-docs/stable/user_guide/indexing.html#returning-a-view-versus-a-copy\n",
            "  train_X['pickup_datetime'] = train_X['pickup_datetime'].astype(np.int64) // 10**9\n",
            "<ipython-input-16-c4e22e1c40fe>:51: SettingWithCopyWarning: \n",
            "A value is trying to be set on a copy of a slice from a DataFrame.\n",
            "Try using .loc[row_indexer,col_indexer] = value instead\n",
            "\n",
            "See the caveats in the documentation: https://pandas.pydata.org/pandas-docs/stable/user_guide/indexing.html#returning-a-view-versus-a-copy\n",
            "  val_X['pickup_datetime'] = val_X['pickup_datetime'].astype(np.int64) // 10**9\n",
            "<ipython-input-16-c4e22e1c40fe>:50: SettingWithCopyWarning: \n",
            "A value is trying to be set on a copy of a slice from a DataFrame.\n",
            "Try using .loc[row_indexer,col_indexer] = value instead\n",
            "\n",
            "See the caveats in the documentation: https://pandas.pydata.org/pandas-docs/stable/user_guide/indexing.html#returning-a-view-versus-a-copy\n",
            "  train_X['pickup_datetime'] = train_X['pickup_datetime'].astype(np.int64) // 10**9\n",
            "<ipython-input-16-c4e22e1c40fe>:51: SettingWithCopyWarning: \n",
            "A value is trying to be set on a copy of a slice from a DataFrame.\n",
            "Try using .loc[row_indexer,col_indexer] = value instead\n",
            "\n",
            "See the caveats in the documentation: https://pandas.pydata.org/pandas-docs/stable/user_guide/indexing.html#returning-a-view-versus-a-copy\n",
            "  val_X['pickup_datetime'] = val_X['pickup_datetime'].astype(np.int64) // 10**9\n"
          ]
        },
        {
          "output_type": "stream",
          "name": "stdout",
          "text": [
            "Average validation RMSE for 5 of trees is 5.025742926925806\n",
            "Calculating RMSE for tree with a depth 8...\n"
          ]
        },
        {
          "output_type": "stream",
          "name": "stderr",
          "text": [
            "<ipython-input-16-c4e22e1c40fe>:50: SettingWithCopyWarning: \n",
            "A value is trying to be set on a copy of a slice from a DataFrame.\n",
            "Try using .loc[row_indexer,col_indexer] = value instead\n",
            "\n",
            "See the caveats in the documentation: https://pandas.pydata.org/pandas-docs/stable/user_guide/indexing.html#returning-a-view-versus-a-copy\n",
            "  train_X['pickup_datetime'] = train_X['pickup_datetime'].astype(np.int64) // 10**9\n",
            "<ipython-input-16-c4e22e1c40fe>:51: SettingWithCopyWarning: \n",
            "A value is trying to be set on a copy of a slice from a DataFrame.\n",
            "Try using .loc[row_indexer,col_indexer] = value instead\n",
            "\n",
            "See the caveats in the documentation: https://pandas.pydata.org/pandas-docs/stable/user_guide/indexing.html#returning-a-view-versus-a-copy\n",
            "  val_X['pickup_datetime'] = val_X['pickup_datetime'].astype(np.int64) // 10**9\n",
            "<ipython-input-16-c4e22e1c40fe>:50: SettingWithCopyWarning: \n",
            "A value is trying to be set on a copy of a slice from a DataFrame.\n",
            "Try using .loc[row_indexer,col_indexer] = value instead\n",
            "\n",
            "See the caveats in the documentation: https://pandas.pydata.org/pandas-docs/stable/user_guide/indexing.html#returning-a-view-versus-a-copy\n",
            "  train_X['pickup_datetime'] = train_X['pickup_datetime'].astype(np.int64) // 10**9\n",
            "<ipython-input-16-c4e22e1c40fe>:51: SettingWithCopyWarning: \n",
            "A value is trying to be set on a copy of a slice from a DataFrame.\n",
            "Try using .loc[row_indexer,col_indexer] = value instead\n",
            "\n",
            "See the caveats in the documentation: https://pandas.pydata.org/pandas-docs/stable/user_guide/indexing.html#returning-a-view-versus-a-copy\n",
            "  val_X['pickup_datetime'] = val_X['pickup_datetime'].astype(np.int64) // 10**9\n",
            "<ipython-input-16-c4e22e1c40fe>:50: SettingWithCopyWarning: \n",
            "A value is trying to be set on a copy of a slice from a DataFrame.\n",
            "Try using .loc[row_indexer,col_indexer] = value instead\n",
            "\n",
            "See the caveats in the documentation: https://pandas.pydata.org/pandas-docs/stable/user_guide/indexing.html#returning-a-view-versus-a-copy\n",
            "  train_X['pickup_datetime'] = train_X['pickup_datetime'].astype(np.int64) // 10**9\n",
            "<ipython-input-16-c4e22e1c40fe>:51: SettingWithCopyWarning: \n",
            "A value is trying to be set on a copy of a slice from a DataFrame.\n",
            "Try using .loc[row_indexer,col_indexer] = value instead\n",
            "\n",
            "See the caveats in the documentation: https://pandas.pydata.org/pandas-docs/stable/user_guide/indexing.html#returning-a-view-versus-a-copy\n",
            "  val_X['pickup_datetime'] = val_X['pickup_datetime'].astype(np.int64) // 10**9\n",
            "<ipython-input-16-c4e22e1c40fe>:50: SettingWithCopyWarning: \n",
            "A value is trying to be set on a copy of a slice from a DataFrame.\n",
            "Try using .loc[row_indexer,col_indexer] = value instead\n",
            "\n",
            "See the caveats in the documentation: https://pandas.pydata.org/pandas-docs/stable/user_guide/indexing.html#returning-a-view-versus-a-copy\n",
            "  train_X['pickup_datetime'] = train_X['pickup_datetime'].astype(np.int64) // 10**9\n",
            "<ipython-input-16-c4e22e1c40fe>:51: SettingWithCopyWarning: \n",
            "A value is trying to be set on a copy of a slice from a DataFrame.\n",
            "Try using .loc[row_indexer,col_indexer] = value instead\n",
            "\n",
            "See the caveats in the documentation: https://pandas.pydata.org/pandas-docs/stable/user_guide/indexing.html#returning-a-view-versus-a-copy\n",
            "  val_X['pickup_datetime'] = val_X['pickup_datetime'].astype(np.int64) // 10**9\n"
          ]
        },
        {
          "output_type": "stream",
          "name": "stdout",
          "text": [
            "Average validation RMSE for 8 of trees is 4.658444031544304\n",
            "Calculating RMSE for tree with a depth 9...\n"
          ]
        },
        {
          "output_type": "stream",
          "name": "stderr",
          "text": [
            "<ipython-input-16-c4e22e1c40fe>:50: SettingWithCopyWarning: \n",
            "A value is trying to be set on a copy of a slice from a DataFrame.\n",
            "Try using .loc[row_indexer,col_indexer] = value instead\n",
            "\n",
            "See the caveats in the documentation: https://pandas.pydata.org/pandas-docs/stable/user_guide/indexing.html#returning-a-view-versus-a-copy\n",
            "  train_X['pickup_datetime'] = train_X['pickup_datetime'].astype(np.int64) // 10**9\n",
            "<ipython-input-16-c4e22e1c40fe>:51: SettingWithCopyWarning: \n",
            "A value is trying to be set on a copy of a slice from a DataFrame.\n",
            "Try using .loc[row_indexer,col_indexer] = value instead\n",
            "\n",
            "See the caveats in the documentation: https://pandas.pydata.org/pandas-docs/stable/user_guide/indexing.html#returning-a-view-versus-a-copy\n",
            "  val_X['pickup_datetime'] = val_X['pickup_datetime'].astype(np.int64) // 10**9\n",
            "<ipython-input-16-c4e22e1c40fe>:50: SettingWithCopyWarning: \n",
            "A value is trying to be set on a copy of a slice from a DataFrame.\n",
            "Try using .loc[row_indexer,col_indexer] = value instead\n",
            "\n",
            "See the caveats in the documentation: https://pandas.pydata.org/pandas-docs/stable/user_guide/indexing.html#returning-a-view-versus-a-copy\n",
            "  train_X['pickup_datetime'] = train_X['pickup_datetime'].astype(np.int64) // 10**9\n",
            "<ipython-input-16-c4e22e1c40fe>:51: SettingWithCopyWarning: \n",
            "A value is trying to be set on a copy of a slice from a DataFrame.\n",
            "Try using .loc[row_indexer,col_indexer] = value instead\n",
            "\n",
            "See the caveats in the documentation: https://pandas.pydata.org/pandas-docs/stable/user_guide/indexing.html#returning-a-view-versus-a-copy\n",
            "  val_X['pickup_datetime'] = val_X['pickup_datetime'].astype(np.int64) // 10**9\n",
            "<ipython-input-16-c4e22e1c40fe>:50: SettingWithCopyWarning: \n",
            "A value is trying to be set on a copy of a slice from a DataFrame.\n",
            "Try using .loc[row_indexer,col_indexer] = value instead\n",
            "\n",
            "See the caveats in the documentation: https://pandas.pydata.org/pandas-docs/stable/user_guide/indexing.html#returning-a-view-versus-a-copy\n",
            "  train_X['pickup_datetime'] = train_X['pickup_datetime'].astype(np.int64) // 10**9\n",
            "<ipython-input-16-c4e22e1c40fe>:51: SettingWithCopyWarning: \n",
            "A value is trying to be set on a copy of a slice from a DataFrame.\n",
            "Try using .loc[row_indexer,col_indexer] = value instead\n",
            "\n",
            "See the caveats in the documentation: https://pandas.pydata.org/pandas-docs/stable/user_guide/indexing.html#returning-a-view-versus-a-copy\n",
            "  val_X['pickup_datetime'] = val_X['pickup_datetime'].astype(np.int64) // 10**9\n",
            "<ipython-input-16-c4e22e1c40fe>:50: SettingWithCopyWarning: \n",
            "A value is trying to be set on a copy of a slice from a DataFrame.\n",
            "Try using .loc[row_indexer,col_indexer] = value instead\n",
            "\n",
            "See the caveats in the documentation: https://pandas.pydata.org/pandas-docs/stable/user_guide/indexing.html#returning-a-view-versus-a-copy\n",
            "  train_X['pickup_datetime'] = train_X['pickup_datetime'].astype(np.int64) // 10**9\n",
            "<ipython-input-16-c4e22e1c40fe>:51: SettingWithCopyWarning: \n",
            "A value is trying to be set on a copy of a slice from a DataFrame.\n",
            "Try using .loc[row_indexer,col_indexer] = value instead\n",
            "\n",
            "See the caveats in the documentation: https://pandas.pydata.org/pandas-docs/stable/user_guide/indexing.html#returning-a-view-versus-a-copy\n",
            "  val_X['pickup_datetime'] = val_X['pickup_datetime'].astype(np.int64) // 10**9\n"
          ]
        },
        {
          "output_type": "stream",
          "name": "stdout",
          "text": [
            "Average validation RMSE for 9 of trees is 4.649907282459095\n",
            "Calculating RMSE for tree with a depth 10...\n"
          ]
        },
        {
          "output_type": "stream",
          "name": "stderr",
          "text": [
            "<ipython-input-16-c4e22e1c40fe>:50: SettingWithCopyWarning: \n",
            "A value is trying to be set on a copy of a slice from a DataFrame.\n",
            "Try using .loc[row_indexer,col_indexer] = value instead\n",
            "\n",
            "See the caveats in the documentation: https://pandas.pydata.org/pandas-docs/stable/user_guide/indexing.html#returning-a-view-versus-a-copy\n",
            "  train_X['pickup_datetime'] = train_X['pickup_datetime'].astype(np.int64) // 10**9\n",
            "<ipython-input-16-c4e22e1c40fe>:51: SettingWithCopyWarning: \n",
            "A value is trying to be set on a copy of a slice from a DataFrame.\n",
            "Try using .loc[row_indexer,col_indexer] = value instead\n",
            "\n",
            "See the caveats in the documentation: https://pandas.pydata.org/pandas-docs/stable/user_guide/indexing.html#returning-a-view-versus-a-copy\n",
            "  val_X['pickup_datetime'] = val_X['pickup_datetime'].astype(np.int64) // 10**9\n",
            "<ipython-input-16-c4e22e1c40fe>:50: SettingWithCopyWarning: \n",
            "A value is trying to be set on a copy of a slice from a DataFrame.\n",
            "Try using .loc[row_indexer,col_indexer] = value instead\n",
            "\n",
            "See the caveats in the documentation: https://pandas.pydata.org/pandas-docs/stable/user_guide/indexing.html#returning-a-view-versus-a-copy\n",
            "  train_X['pickup_datetime'] = train_X['pickup_datetime'].astype(np.int64) // 10**9\n",
            "<ipython-input-16-c4e22e1c40fe>:51: SettingWithCopyWarning: \n",
            "A value is trying to be set on a copy of a slice from a DataFrame.\n",
            "Try using .loc[row_indexer,col_indexer] = value instead\n",
            "\n",
            "See the caveats in the documentation: https://pandas.pydata.org/pandas-docs/stable/user_guide/indexing.html#returning-a-view-versus-a-copy\n",
            "  val_X['pickup_datetime'] = val_X['pickup_datetime'].astype(np.int64) // 10**9\n",
            "<ipython-input-16-c4e22e1c40fe>:50: SettingWithCopyWarning: \n",
            "A value is trying to be set on a copy of a slice from a DataFrame.\n",
            "Try using .loc[row_indexer,col_indexer] = value instead\n",
            "\n",
            "See the caveats in the documentation: https://pandas.pydata.org/pandas-docs/stable/user_guide/indexing.html#returning-a-view-versus-a-copy\n",
            "  train_X['pickup_datetime'] = train_X['pickup_datetime'].astype(np.int64) // 10**9\n",
            "<ipython-input-16-c4e22e1c40fe>:51: SettingWithCopyWarning: \n",
            "A value is trying to be set on a copy of a slice from a DataFrame.\n",
            "Try using .loc[row_indexer,col_indexer] = value instead\n",
            "\n",
            "See the caveats in the documentation: https://pandas.pydata.org/pandas-docs/stable/user_guide/indexing.html#returning-a-view-versus-a-copy\n",
            "  val_X['pickup_datetime'] = val_X['pickup_datetime'].astype(np.int64) // 10**9\n",
            "<ipython-input-16-c4e22e1c40fe>:50: SettingWithCopyWarning: \n",
            "A value is trying to be set on a copy of a slice from a DataFrame.\n",
            "Try using .loc[row_indexer,col_indexer] = value instead\n",
            "\n",
            "See the caveats in the documentation: https://pandas.pydata.org/pandas-docs/stable/user_guide/indexing.html#returning-a-view-versus-a-copy\n",
            "  train_X['pickup_datetime'] = train_X['pickup_datetime'].astype(np.int64) // 10**9\n",
            "<ipython-input-16-c4e22e1c40fe>:51: SettingWithCopyWarning: \n",
            "A value is trying to be set on a copy of a slice from a DataFrame.\n",
            "Try using .loc[row_indexer,col_indexer] = value instead\n",
            "\n",
            "See the caveats in the documentation: https://pandas.pydata.org/pandas-docs/stable/user_guide/indexing.html#returning-a-view-versus-a-copy\n",
            "  val_X['pickup_datetime'] = val_X['pickup_datetime'].astype(np.int64) // 10**9\n"
          ]
        },
        {
          "output_type": "stream",
          "name": "stdout",
          "text": [
            "Average validation RMSE for 10 of trees is 4.653776170510022\n",
            "Calculating RMSE for tree with a depth 11...\n"
          ]
        },
        {
          "output_type": "stream",
          "name": "stderr",
          "text": [
            "<ipython-input-16-c4e22e1c40fe>:50: SettingWithCopyWarning: \n",
            "A value is trying to be set on a copy of a slice from a DataFrame.\n",
            "Try using .loc[row_indexer,col_indexer] = value instead\n",
            "\n",
            "See the caveats in the documentation: https://pandas.pydata.org/pandas-docs/stable/user_guide/indexing.html#returning-a-view-versus-a-copy\n",
            "  train_X['pickup_datetime'] = train_X['pickup_datetime'].astype(np.int64) // 10**9\n",
            "<ipython-input-16-c4e22e1c40fe>:51: SettingWithCopyWarning: \n",
            "A value is trying to be set on a copy of a slice from a DataFrame.\n",
            "Try using .loc[row_indexer,col_indexer] = value instead\n",
            "\n",
            "See the caveats in the documentation: https://pandas.pydata.org/pandas-docs/stable/user_guide/indexing.html#returning-a-view-versus-a-copy\n",
            "  val_X['pickup_datetime'] = val_X['pickup_datetime'].astype(np.int64) // 10**9\n",
            "<ipython-input-16-c4e22e1c40fe>:50: SettingWithCopyWarning: \n",
            "A value is trying to be set on a copy of a slice from a DataFrame.\n",
            "Try using .loc[row_indexer,col_indexer] = value instead\n",
            "\n",
            "See the caveats in the documentation: https://pandas.pydata.org/pandas-docs/stable/user_guide/indexing.html#returning-a-view-versus-a-copy\n",
            "  train_X['pickup_datetime'] = train_X['pickup_datetime'].astype(np.int64) // 10**9\n",
            "<ipython-input-16-c4e22e1c40fe>:51: SettingWithCopyWarning: \n",
            "A value is trying to be set on a copy of a slice from a DataFrame.\n",
            "Try using .loc[row_indexer,col_indexer] = value instead\n",
            "\n",
            "See the caveats in the documentation: https://pandas.pydata.org/pandas-docs/stable/user_guide/indexing.html#returning-a-view-versus-a-copy\n",
            "  val_X['pickup_datetime'] = val_X['pickup_datetime'].astype(np.int64) // 10**9\n",
            "<ipython-input-16-c4e22e1c40fe>:50: SettingWithCopyWarning: \n",
            "A value is trying to be set on a copy of a slice from a DataFrame.\n",
            "Try using .loc[row_indexer,col_indexer] = value instead\n",
            "\n",
            "See the caveats in the documentation: https://pandas.pydata.org/pandas-docs/stable/user_guide/indexing.html#returning-a-view-versus-a-copy\n",
            "  train_X['pickup_datetime'] = train_X['pickup_datetime'].astype(np.int64) // 10**9\n",
            "<ipython-input-16-c4e22e1c40fe>:51: SettingWithCopyWarning: \n",
            "A value is trying to be set on a copy of a slice from a DataFrame.\n",
            "Try using .loc[row_indexer,col_indexer] = value instead\n",
            "\n",
            "See the caveats in the documentation: https://pandas.pydata.org/pandas-docs/stable/user_guide/indexing.html#returning-a-view-versus-a-copy\n",
            "  val_X['pickup_datetime'] = val_X['pickup_datetime'].astype(np.int64) // 10**9\n",
            "<ipython-input-16-c4e22e1c40fe>:50: SettingWithCopyWarning: \n",
            "A value is trying to be set on a copy of a slice from a DataFrame.\n",
            "Try using .loc[row_indexer,col_indexer] = value instead\n",
            "\n",
            "See the caveats in the documentation: https://pandas.pydata.org/pandas-docs/stable/user_guide/indexing.html#returning-a-view-versus-a-copy\n",
            "  train_X['pickup_datetime'] = train_X['pickup_datetime'].astype(np.int64) // 10**9\n",
            "<ipython-input-16-c4e22e1c40fe>:51: SettingWithCopyWarning: \n",
            "A value is trying to be set on a copy of a slice from a DataFrame.\n",
            "Try using .loc[row_indexer,col_indexer] = value instead\n",
            "\n",
            "See the caveats in the documentation: https://pandas.pydata.org/pandas-docs/stable/user_guide/indexing.html#returning-a-view-versus-a-copy\n",
            "  val_X['pickup_datetime'] = val_X['pickup_datetime'].astype(np.int64) // 10**9\n"
          ]
        },
        {
          "output_type": "stream",
          "name": "stdout",
          "text": [
            "Average validation RMSE for 11 of trees is 4.665113518427207\n",
            "Calculating RMSE for tree with a depth 12...\n"
          ]
        },
        {
          "output_type": "stream",
          "name": "stderr",
          "text": [
            "<ipython-input-16-c4e22e1c40fe>:50: SettingWithCopyWarning: \n",
            "A value is trying to be set on a copy of a slice from a DataFrame.\n",
            "Try using .loc[row_indexer,col_indexer] = value instead\n",
            "\n",
            "See the caveats in the documentation: https://pandas.pydata.org/pandas-docs/stable/user_guide/indexing.html#returning-a-view-versus-a-copy\n",
            "  train_X['pickup_datetime'] = train_X['pickup_datetime'].astype(np.int64) // 10**9\n",
            "<ipython-input-16-c4e22e1c40fe>:51: SettingWithCopyWarning: \n",
            "A value is trying to be set on a copy of a slice from a DataFrame.\n",
            "Try using .loc[row_indexer,col_indexer] = value instead\n",
            "\n",
            "See the caveats in the documentation: https://pandas.pydata.org/pandas-docs/stable/user_guide/indexing.html#returning-a-view-versus-a-copy\n",
            "  val_X['pickup_datetime'] = val_X['pickup_datetime'].astype(np.int64) // 10**9\n",
            "<ipython-input-16-c4e22e1c40fe>:50: SettingWithCopyWarning: \n",
            "A value is trying to be set on a copy of a slice from a DataFrame.\n",
            "Try using .loc[row_indexer,col_indexer] = value instead\n",
            "\n",
            "See the caveats in the documentation: https://pandas.pydata.org/pandas-docs/stable/user_guide/indexing.html#returning-a-view-versus-a-copy\n",
            "  train_X['pickup_datetime'] = train_X['pickup_datetime'].astype(np.int64) // 10**9\n",
            "<ipython-input-16-c4e22e1c40fe>:51: SettingWithCopyWarning: \n",
            "A value is trying to be set on a copy of a slice from a DataFrame.\n",
            "Try using .loc[row_indexer,col_indexer] = value instead\n",
            "\n",
            "See the caveats in the documentation: https://pandas.pydata.org/pandas-docs/stable/user_guide/indexing.html#returning-a-view-versus-a-copy\n",
            "  val_X['pickup_datetime'] = val_X['pickup_datetime'].astype(np.int64) // 10**9\n",
            "<ipython-input-16-c4e22e1c40fe>:50: SettingWithCopyWarning: \n",
            "A value is trying to be set on a copy of a slice from a DataFrame.\n",
            "Try using .loc[row_indexer,col_indexer] = value instead\n",
            "\n",
            "See the caveats in the documentation: https://pandas.pydata.org/pandas-docs/stable/user_guide/indexing.html#returning-a-view-versus-a-copy\n",
            "  train_X['pickup_datetime'] = train_X['pickup_datetime'].astype(np.int64) // 10**9\n",
            "<ipython-input-16-c4e22e1c40fe>:51: SettingWithCopyWarning: \n",
            "A value is trying to be set on a copy of a slice from a DataFrame.\n",
            "Try using .loc[row_indexer,col_indexer] = value instead\n",
            "\n",
            "See the caveats in the documentation: https://pandas.pydata.org/pandas-docs/stable/user_guide/indexing.html#returning-a-view-versus-a-copy\n",
            "  val_X['pickup_datetime'] = val_X['pickup_datetime'].astype(np.int64) // 10**9\n",
            "<ipython-input-16-c4e22e1c40fe>:50: SettingWithCopyWarning: \n",
            "A value is trying to be set on a copy of a slice from a DataFrame.\n",
            "Try using .loc[row_indexer,col_indexer] = value instead\n",
            "\n",
            "See the caveats in the documentation: https://pandas.pydata.org/pandas-docs/stable/user_guide/indexing.html#returning-a-view-versus-a-copy\n",
            "  train_X['pickup_datetime'] = train_X['pickup_datetime'].astype(np.int64) // 10**9\n",
            "<ipython-input-16-c4e22e1c40fe>:51: SettingWithCopyWarning: \n",
            "A value is trying to be set on a copy of a slice from a DataFrame.\n",
            "Try using .loc[row_indexer,col_indexer] = value instead\n",
            "\n",
            "See the caveats in the documentation: https://pandas.pydata.org/pandas-docs/stable/user_guide/indexing.html#returning-a-view-versus-a-copy\n",
            "  val_X['pickup_datetime'] = val_X['pickup_datetime'].astype(np.int64) // 10**9\n"
          ]
        },
        {
          "output_type": "stream",
          "name": "stdout",
          "text": [
            "Average validation RMSE for 12 of trees is 4.742536943932821\n",
            "Calculating RMSE for tree with a depth 13...\n"
          ]
        },
        {
          "output_type": "stream",
          "name": "stderr",
          "text": [
            "<ipython-input-16-c4e22e1c40fe>:50: SettingWithCopyWarning: \n",
            "A value is trying to be set on a copy of a slice from a DataFrame.\n",
            "Try using .loc[row_indexer,col_indexer] = value instead\n",
            "\n",
            "See the caveats in the documentation: https://pandas.pydata.org/pandas-docs/stable/user_guide/indexing.html#returning-a-view-versus-a-copy\n",
            "  train_X['pickup_datetime'] = train_X['pickup_datetime'].astype(np.int64) // 10**9\n",
            "<ipython-input-16-c4e22e1c40fe>:51: SettingWithCopyWarning: \n",
            "A value is trying to be set on a copy of a slice from a DataFrame.\n",
            "Try using .loc[row_indexer,col_indexer] = value instead\n",
            "\n",
            "See the caveats in the documentation: https://pandas.pydata.org/pandas-docs/stable/user_guide/indexing.html#returning-a-view-versus-a-copy\n",
            "  val_X['pickup_datetime'] = val_X['pickup_datetime'].astype(np.int64) // 10**9\n",
            "<ipython-input-16-c4e22e1c40fe>:50: SettingWithCopyWarning: \n",
            "A value is trying to be set on a copy of a slice from a DataFrame.\n",
            "Try using .loc[row_indexer,col_indexer] = value instead\n",
            "\n",
            "See the caveats in the documentation: https://pandas.pydata.org/pandas-docs/stable/user_guide/indexing.html#returning-a-view-versus-a-copy\n",
            "  train_X['pickup_datetime'] = train_X['pickup_datetime'].astype(np.int64) // 10**9\n",
            "<ipython-input-16-c4e22e1c40fe>:51: SettingWithCopyWarning: \n",
            "A value is trying to be set on a copy of a slice from a DataFrame.\n",
            "Try using .loc[row_indexer,col_indexer] = value instead\n",
            "\n",
            "See the caveats in the documentation: https://pandas.pydata.org/pandas-docs/stable/user_guide/indexing.html#returning-a-view-versus-a-copy\n",
            "  val_X['pickup_datetime'] = val_X['pickup_datetime'].astype(np.int64) // 10**9\n",
            "<ipython-input-16-c4e22e1c40fe>:50: SettingWithCopyWarning: \n",
            "A value is trying to be set on a copy of a slice from a DataFrame.\n",
            "Try using .loc[row_indexer,col_indexer] = value instead\n",
            "\n",
            "See the caveats in the documentation: https://pandas.pydata.org/pandas-docs/stable/user_guide/indexing.html#returning-a-view-versus-a-copy\n",
            "  train_X['pickup_datetime'] = train_X['pickup_datetime'].astype(np.int64) // 10**9\n",
            "<ipython-input-16-c4e22e1c40fe>:51: SettingWithCopyWarning: \n",
            "A value is trying to be set on a copy of a slice from a DataFrame.\n",
            "Try using .loc[row_indexer,col_indexer] = value instead\n",
            "\n",
            "See the caveats in the documentation: https://pandas.pydata.org/pandas-docs/stable/user_guide/indexing.html#returning-a-view-versus-a-copy\n",
            "  val_X['pickup_datetime'] = val_X['pickup_datetime'].astype(np.int64) // 10**9\n",
            "<ipython-input-16-c4e22e1c40fe>:50: SettingWithCopyWarning: \n",
            "A value is trying to be set on a copy of a slice from a DataFrame.\n",
            "Try using .loc[row_indexer,col_indexer] = value instead\n",
            "\n",
            "See the caveats in the documentation: https://pandas.pydata.org/pandas-docs/stable/user_guide/indexing.html#returning-a-view-versus-a-copy\n",
            "  train_X['pickup_datetime'] = train_X['pickup_datetime'].astype(np.int64) // 10**9\n",
            "<ipython-input-16-c4e22e1c40fe>:51: SettingWithCopyWarning: \n",
            "A value is trying to be set on a copy of a slice from a DataFrame.\n",
            "Try using .loc[row_indexer,col_indexer] = value instead\n",
            "\n",
            "See the caveats in the documentation: https://pandas.pydata.org/pandas-docs/stable/user_guide/indexing.html#returning-a-view-versus-a-copy\n",
            "  val_X['pickup_datetime'] = val_X['pickup_datetime'].astype(np.int64) // 10**9\n"
          ]
        },
        {
          "output_type": "stream",
          "name": "stdout",
          "text": [
            "Average validation RMSE for 13 of trees is 4.780409000861354\n",
            "Calculating RMSE for tree with a depth 15...\n"
          ]
        },
        {
          "output_type": "stream",
          "name": "stderr",
          "text": [
            "<ipython-input-16-c4e22e1c40fe>:50: SettingWithCopyWarning: \n",
            "A value is trying to be set on a copy of a slice from a DataFrame.\n",
            "Try using .loc[row_indexer,col_indexer] = value instead\n",
            "\n",
            "See the caveats in the documentation: https://pandas.pydata.org/pandas-docs/stable/user_guide/indexing.html#returning-a-view-versus-a-copy\n",
            "  train_X['pickup_datetime'] = train_X['pickup_datetime'].astype(np.int64) // 10**9\n",
            "<ipython-input-16-c4e22e1c40fe>:51: SettingWithCopyWarning: \n",
            "A value is trying to be set on a copy of a slice from a DataFrame.\n",
            "Try using .loc[row_indexer,col_indexer] = value instead\n",
            "\n",
            "See the caveats in the documentation: https://pandas.pydata.org/pandas-docs/stable/user_guide/indexing.html#returning-a-view-versus-a-copy\n",
            "  val_X['pickup_datetime'] = val_X['pickup_datetime'].astype(np.int64) // 10**9\n",
            "<ipython-input-16-c4e22e1c40fe>:50: SettingWithCopyWarning: \n",
            "A value is trying to be set on a copy of a slice from a DataFrame.\n",
            "Try using .loc[row_indexer,col_indexer] = value instead\n",
            "\n",
            "See the caveats in the documentation: https://pandas.pydata.org/pandas-docs/stable/user_guide/indexing.html#returning-a-view-versus-a-copy\n",
            "  train_X['pickup_datetime'] = train_X['pickup_datetime'].astype(np.int64) // 10**9\n",
            "<ipython-input-16-c4e22e1c40fe>:51: SettingWithCopyWarning: \n",
            "A value is trying to be set on a copy of a slice from a DataFrame.\n",
            "Try using .loc[row_indexer,col_indexer] = value instead\n",
            "\n",
            "See the caveats in the documentation: https://pandas.pydata.org/pandas-docs/stable/user_guide/indexing.html#returning-a-view-versus-a-copy\n",
            "  val_X['pickup_datetime'] = val_X['pickup_datetime'].astype(np.int64) // 10**9\n",
            "<ipython-input-16-c4e22e1c40fe>:50: SettingWithCopyWarning: \n",
            "A value is trying to be set on a copy of a slice from a DataFrame.\n",
            "Try using .loc[row_indexer,col_indexer] = value instead\n",
            "\n",
            "See the caveats in the documentation: https://pandas.pydata.org/pandas-docs/stable/user_guide/indexing.html#returning-a-view-versus-a-copy\n",
            "  train_X['pickup_datetime'] = train_X['pickup_datetime'].astype(np.int64) // 10**9\n",
            "<ipython-input-16-c4e22e1c40fe>:51: SettingWithCopyWarning: \n",
            "A value is trying to be set on a copy of a slice from a DataFrame.\n",
            "Try using .loc[row_indexer,col_indexer] = value instead\n",
            "\n",
            "See the caveats in the documentation: https://pandas.pydata.org/pandas-docs/stable/user_guide/indexing.html#returning-a-view-versus-a-copy\n",
            "  val_X['pickup_datetime'] = val_X['pickup_datetime'].astype(np.int64) // 10**9\n",
            "<ipython-input-16-c4e22e1c40fe>:50: SettingWithCopyWarning: \n",
            "A value is trying to be set on a copy of a slice from a DataFrame.\n",
            "Try using .loc[row_indexer,col_indexer] = value instead\n",
            "\n",
            "See the caveats in the documentation: https://pandas.pydata.org/pandas-docs/stable/user_guide/indexing.html#returning-a-view-versus-a-copy\n",
            "  train_X['pickup_datetime'] = train_X['pickup_datetime'].astype(np.int64) // 10**9\n",
            "<ipython-input-16-c4e22e1c40fe>:51: SettingWithCopyWarning: \n",
            "A value is trying to be set on a copy of a slice from a DataFrame.\n",
            "Try using .loc[row_indexer,col_indexer] = value instead\n",
            "\n",
            "See the caveats in the documentation: https://pandas.pydata.org/pandas-docs/stable/user_guide/indexing.html#returning-a-view-versus-a-copy\n",
            "  val_X['pickup_datetime'] = val_X['pickup_datetime'].astype(np.int64) // 10**9\n"
          ]
        },
        {
          "output_type": "stream",
          "name": "stdout",
          "text": [
            "Average validation RMSE for 15 of trees is 4.891315292948599\n",
            "Calculating RMSE for tree with a depth 20...\n"
          ]
        },
        {
          "output_type": "stream",
          "name": "stderr",
          "text": [
            "<ipython-input-16-c4e22e1c40fe>:50: SettingWithCopyWarning: \n",
            "A value is trying to be set on a copy of a slice from a DataFrame.\n",
            "Try using .loc[row_indexer,col_indexer] = value instead\n",
            "\n",
            "See the caveats in the documentation: https://pandas.pydata.org/pandas-docs/stable/user_guide/indexing.html#returning-a-view-versus-a-copy\n",
            "  train_X['pickup_datetime'] = train_X['pickup_datetime'].astype(np.int64) // 10**9\n",
            "<ipython-input-16-c4e22e1c40fe>:51: SettingWithCopyWarning: \n",
            "A value is trying to be set on a copy of a slice from a DataFrame.\n",
            "Try using .loc[row_indexer,col_indexer] = value instead\n",
            "\n",
            "See the caveats in the documentation: https://pandas.pydata.org/pandas-docs/stable/user_guide/indexing.html#returning-a-view-versus-a-copy\n",
            "  val_X['pickup_datetime'] = val_X['pickup_datetime'].astype(np.int64) // 10**9\n",
            "<ipython-input-16-c4e22e1c40fe>:50: SettingWithCopyWarning: \n",
            "A value is trying to be set on a copy of a slice from a DataFrame.\n",
            "Try using .loc[row_indexer,col_indexer] = value instead\n",
            "\n",
            "See the caveats in the documentation: https://pandas.pydata.org/pandas-docs/stable/user_guide/indexing.html#returning-a-view-versus-a-copy\n",
            "  train_X['pickup_datetime'] = train_X['pickup_datetime'].astype(np.int64) // 10**9\n",
            "<ipython-input-16-c4e22e1c40fe>:51: SettingWithCopyWarning: \n",
            "A value is trying to be set on a copy of a slice from a DataFrame.\n",
            "Try using .loc[row_indexer,col_indexer] = value instead\n",
            "\n",
            "See the caveats in the documentation: https://pandas.pydata.org/pandas-docs/stable/user_guide/indexing.html#returning-a-view-versus-a-copy\n",
            "  val_X['pickup_datetime'] = val_X['pickup_datetime'].astype(np.int64) // 10**9\n",
            "<ipython-input-16-c4e22e1c40fe>:50: SettingWithCopyWarning: \n",
            "A value is trying to be set on a copy of a slice from a DataFrame.\n",
            "Try using .loc[row_indexer,col_indexer] = value instead\n",
            "\n",
            "See the caveats in the documentation: https://pandas.pydata.org/pandas-docs/stable/user_guide/indexing.html#returning-a-view-versus-a-copy\n",
            "  train_X['pickup_datetime'] = train_X['pickup_datetime'].astype(np.int64) // 10**9\n",
            "<ipython-input-16-c4e22e1c40fe>:51: SettingWithCopyWarning: \n",
            "A value is trying to be set on a copy of a slice from a DataFrame.\n",
            "Try using .loc[row_indexer,col_indexer] = value instead\n",
            "\n",
            "See the caveats in the documentation: https://pandas.pydata.org/pandas-docs/stable/user_guide/indexing.html#returning-a-view-versus-a-copy\n",
            "  val_X['pickup_datetime'] = val_X['pickup_datetime'].astype(np.int64) // 10**9\n",
            "<ipython-input-16-c4e22e1c40fe>:50: SettingWithCopyWarning: \n",
            "A value is trying to be set on a copy of a slice from a DataFrame.\n",
            "Try using .loc[row_indexer,col_indexer] = value instead\n",
            "\n",
            "See the caveats in the documentation: https://pandas.pydata.org/pandas-docs/stable/user_guide/indexing.html#returning-a-view-versus-a-copy\n",
            "  train_X['pickup_datetime'] = train_X['pickup_datetime'].astype(np.int64) // 10**9\n",
            "<ipython-input-16-c4e22e1c40fe>:51: SettingWithCopyWarning: \n",
            "A value is trying to be set on a copy of a slice from a DataFrame.\n",
            "Try using .loc[row_indexer,col_indexer] = value instead\n",
            "\n",
            "See the caveats in the documentation: https://pandas.pydata.org/pandas-docs/stable/user_guide/indexing.html#returning-a-view-versus-a-copy\n",
            "  val_X['pickup_datetime'] = val_X['pickup_datetime'].astype(np.int64) // 10**9\n"
          ]
        },
        {
          "output_type": "stream",
          "name": "stdout",
          "text": [
            "Average validation RMSE for 20 of trees is 5.323786173796487\n"
          ]
        }
      ],
      "source": [
        "from sklearn.tree import DecisionTreeRegressor\n",
        "from sklearn.metrics import mean_squared_error\n",
        "\n",
        "# Fixing randomness, please do not change this line.\n",
        "np.random.seed(1111)\n",
        "\n",
        "max_depths = [1, 2, 5, 8, 9, 10, 11, 12, 13, 15, 20]\n",
        "depth_RMSEs = list()\n",
        "\n",
        "# 4-fold cross validation\n",
        "for param in max_depths:\n",
        "  print(f'Calculating RMSE for tree with a depth {param}...')\n",
        "  ##### YOUR CODE STARTS #####\n",
        "  # number of folds\n",
        "  n_folds = 4\n",
        "\n",
        "  # create a vector of fold indices\n",
        "  # with length of this vector equal to number of rows in training data\n",
        "  # you can use np.concatenate and np.repeat functions\n",
        "  folds_indx = np.repeat(np.arange(n_folds), len(train) // n_folds)\n",
        "  folds_indx = np.concatenate((folds_indx, np.arange(len(train) % n_folds)))\n",
        "\n",
        "  # for dataset with 8 entries you should get:\n",
        "  # the following vector[0, 0, 1, 1, 2, 2, 3, 3]\n",
        "  # chunks can be unequal if the number of rows is not divisible by 4\n",
        "\n",
        "  # randomly shuffle the obtained indices\n",
        "  np.random.shuffle(folds_indx)\n",
        "\n",
        "  # initialise variable that will hold RMSEs for each fold\n",
        "  fold_RMSEs = np.zeros(n_folds)\n",
        "  for fold_indx in np.arange(n_folds):\n",
        "\n",
        "    # split data into train_X, train_y and val_X, val_y depending on the fold\n",
        "    # use previously generated folds_indx to fetch the right rows\n",
        "    train_X = X[folds_indx != fold_indx]\n",
        "    train_y = y[folds_indx != fold_indx]\n",
        "    val_X = X[folds_indx == fold_indx]\n",
        "    val_y = y[folds_indx == fold_indx]\n",
        "\n",
        "    # a few tests that must pass to make sure you are doing the right thing\n",
        "    # please, do not delete these lines\n",
        "    assert len(train_X) + len(val_X) == len(X), \"Train and validation sets combined should be equal to the size of the original dataset\"\n",
        "    assert len(train_X) > len(val_X), \"Train set should be larger than validation set (at least three times)\"\n",
        "    assert len(train_X) == 748518 or len(train_X) == 748519, \"Train set should be of size 748518 or 748519\"\n",
        "\n",
        "    # train the decision tree with max_depth = param\n",
        "    dtr = DecisionTreeRegressor(max_depth=param)\n",
        "\n",
        "    train_X['pickup_datetime'] = train_X['pickup_datetime'].astype(np.int64) // 10**9\n",
        "    val_X['pickup_datetime'] = val_X['pickup_datetime'].astype(np.int64) // 10**9\n",
        "\n",
        "    # fit the decision tree on training data\n",
        "    dtr.fit(train_X,train_y)\n",
        "\n",
        "    # predict validation data\n",
        "    val_predictions = dtr.predict(val_X)\n",
        "\n",
        "    # calculate RMSE on validation for this fold\n",
        "    fold_RMSEs[fold_indx] = np.sqrt(mean_squared_error(val_y,val_predictions))\n",
        "  ##### YOUR CODE ENDS #####\n",
        "  print(f'Average validation RMSE for {param} of trees is {np.mean(fold_RMSEs)}')\n",
        "  depth_RMSEs.append(np.mean(fold_RMSEs))"
      ]
    },
    {
      "cell_type": "markdown",
      "metadata": {
        "id": "D2IOdgyVjeJr"
      },
      "source": [
        "<font color='red'> In the cell below, plot the resulting RMSEs for each max depth as a **lineplot**. Report the most optimal depth of the decision tree."
      ]
    },
    {
      "cell_type": "code",
      "execution_count": 17,
      "metadata": {
        "id": "O3UAaxU6go8M",
        "colab": {
          "base_uri": "https://localhost:8080/",
          "height": 449
        },
        "outputId": "842c41d7-ca0f-47e4-ece8-4bb7ccea7513"
      },
      "outputs": [
        {
          "output_type": "display_data",
          "data": {
            "text/plain": [
              "<Figure size 640x480 with 1 Axes>"
            ],
            "image/png": "[encoded data removed]"
          },
          "metadata": {}
        }
      ],
      "source": [
        "##### YOUR CODE STARTS #####\n",
        "plt.plot(max_depths, depth_RMSEs)\n",
        "##### YOUR CODE ENDS #####\n",
        "plt.xticks(max_depths)\n",
        "plt.xlabel(\"Max depth\")\n",
        "plt.ylabel(\"RMSE\")\n",
        "plt.show()"
      ]
    },
    {
      "cell_type": "markdown",
      "metadata": {
        "id": "d04-4LOtj9F1"
      },
      "source": [
        "According to the above figure, the most optimal decision tree depth is 9. This is because the RMSE (Root Mean Squared Error) reaches its lowest point at a maximum depth of 9."
      ]
    },
    {
      "cell_type": "markdown",
      "metadata": {
        "id": "urDuREWxK_ro"
      },
      "source": [
        "<font color='red'> **(Homework exercise 4- b)** Based on above results train the `DecisionTreeRegressor` on the entire training data. Use **the optimal number of trees** that you reported in **4 -a**. Predict the test set and submit the results to Kaggle. Check your results online and print out your new leaderboard score, which should be smaller than 4.02083. (0.5 points) </font>"
      ]
    },
    {
      "cell_type": "code",
      "execution_count": 18,
      "metadata": {
        "id": "3OfvpyJKIN_j",
        "colab": {
          "base_uri": "https://localhost:8080/"
        },
        "outputId": "fc4192a7-ec8e-4d50-ca96-f95a44d42e24"
      },
      "outputs": [
        {
          "output_type": "stream",
          "name": "stdout",
          "text": [
            "100% 335k/335k [00:00<00:00, 530kB/s]\n",
            "Successfully submitted to New York City Taxi Fare PredictionMy new score is 9.40949\n"
          ]
        }
      ],
      "source": [
        "##### YOUR CODE STARTS #####\n",
        "\n",
        "!kaggle competitions submit -c new-york-city-taxi-fare-prediction -f sample_submission.csv -m \"Sample submission test\"\n",
        "##### YOUR CODE ENDS #####\n",
        "\n",
        "# just copy paste your new score below:\n",
        "print(f\"My new score is {9.40949}\")\n",
        "##### YOUR CODE ENDS #####"
      ]
    },
    {
      "cell_type": "markdown",
      "metadata": {
        "id": "sMmhuxN4iw2L"
      },
      "source": [
        "# Bonus exercises\n",
        "**NB, these are optional exercises! These will be graded more strictly, hence you really need to impress with high quality of the solution to earn points. Add elaborate explanations and cool visuals.**"
      ]
    },
    {
      "cell_type": "markdown",
      "metadata": {
        "id": "_2T9ydozzcb-"
      },
      "source": [
        "## Bonus exercise 1 (2 bonus points):\n",
        "\n",
        "<font color='red'> Visualising misclassified examples can help to debug the classification algorithm. But misclassified examples may have different probabilities. In this bonus exercise (optional) try modifying code we have written for the homework exercise 2 so that title now would include probability of a true class and of a wrong class. You would probably need to change the code of `classify_knn` function. Describe the results. </font>"
      ]
    },
    {
      "cell_type": "markdown",
      "metadata": {
        "id": "UkOtofaRjH8P"
      },
      "source": [
        "## Bonus exercise 2 (up to 5 points): the grand challenge\n",
        "<font color='red'> Try to get into top 300 places on public leaderboard (RMSE < 3.04) using different ML algorithms with different parameters, more features, more data, better preprocessing. Here are some ideas for improvement:\n",
        "* Use more data (we only took 1M out of 2M, there are 53M more on the website)\n",
        "* Do more preprocessing (remember negative prices or unrealistic numbers of passengers?)\n",
        "* Use more/better features (e.g. euclidean distance, or google what is haversine distance)\n",
        "* Use some other regression algorithm (e.g. look into RandomForestRegressor from sklearn.ensemble)\n",
        "* Tune parameters of these algorithms\n",
        "* Try something else!\n",
        "</font>\n",
        "\n",
        "<font color='red'>You should make a small post here with code and elaborate explanations of what you have tried (do it even you did not manage to break into top 300). **Report your final leaderboard rank**. Number of points would depend on quality of your explanations and the resulting rank.</font>\n"
      ]
    },
    {
      "cell_type": "code",
      "execution_count": 19,
      "metadata": {
        "id": "d2T2eINijEhg"
      },
      "outputs": [],
      "source": [
        "# Hint:\n",
        "R = 6378\n",
        "\n",
        "def haversine_distance(lon1, lon2, lat1, lat2):\n",
        "    \"\"\"\n",
        "    Calculate the great circle distance between two points\n",
        "    on the earth (specified in decimal degrees)\n",
        "\n",
        "    All args must be of equal length.\n",
        "\n",
        "    source: https://stackoverflow.com/a/29546836\n",
        "\n",
        "    \"\"\"\n",
        "    # Convert latitude and longitude to radians\n",
        "    lon1, lat1, lon2, lat2 = map(np.radians, [lon1, lat1, lon2, lat2])\n",
        "\n",
        "    # Find the differences\n",
        "    dlon = lon2 - lon1\n",
        "    dlat = lat2 - lat1\n",
        "\n",
        "    # Apply the formula\n",
        "    a = np.sin(dlat/2.0)**2 + np.cos(lat1) * np.cos(lat2) * np.sin(dlon/2.0)**2\n",
        "    # Calculate the angle (in radians)\n",
        "    c = 2 * np.arcsin(np.sqrt(a))\n",
        "    # Convert to kilometers\n",
        "    km = R * c\n",
        "\n",
        "    return km"
      ]
    },
    {
      "cell_type": "markdown",
      "metadata": {
        "id": "6JZfcKFAs82h"
      },
      "source": [
        "# Comments (optional feedback to the course instructors)\n",
        "Here, please, leave your comments regarding the homework, possibly answering the following questions:\n",
        "* how much time did you spend on this homework?\n",
        "* was it too hard/easy for you?\n",
        "* what would you suggest to add or remove?\n",
        "* anything else you would like to tell us"
      ]
    },
    {
      "cell_type": "markdown",
      "metadata": {
        "id": "22VPt-05s-Yg"
      },
      "source": [
        "Your comments:"
      ]
    },
    {
      "cell_type": "markdown",
      "metadata": {
        "id": "_57iGEWYZ4_H"
      },
      "source": [
        "# <font color='red'>  End of the homework. Please don't delete this cell.</font>"
      ]
    }
  ],
  "metadata": {
    "colab": {
      "provenance": []
    },
    "kernelspec": {
      "display_name": "Python 3",
      "language": "python",
      "name": "python3"
    },
    "language_info": {
      "codemirror_mode": {
        "name": "ipython",
        "version": 3
      },
      "file_extension": ".py",
      "mimetype": "text/x-python",
      "name": "python",
      "nbconvert_exporter": "python",
      "pygments_lexer": "ipython3",
      "version": "3.7.3"
    }
  },
  "nbformat": 4,
  "nbformat_minor": 0
}