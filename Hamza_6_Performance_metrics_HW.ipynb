{
  "nbformat": 4,
  "nbformat_minor": 0,
  "metadata": {
    "colab": {
      "provenance": [],
      "collapsed_sections": [
        "Va-cdXRPJ0qZ"
      ]
    },
    "kernelspec": {
      "name": "python3",
      "display_name": "Python 3"
    }
  },
  "cells": [
    {
      "cell_type": "markdown",
      "metadata": {
        "id": "P0tnOpaLBcqT"
      },
      "source": [
        "# Homework #6\n",
        "\n",
        "## Performance measures\n",
        "\n",
        "This colaboratory also contains **Homework #6** of the Machine Learning course, which is due **December 8, midnight (23:59 EET time)**. To complete the homework, extract **(File -> Download .ipynb)** and submit to the course webpage.\n",
        "\n",
        "\n",
        "## Submission's rules:\n",
        "\n",
        "1.   Please, submit only .ipynb that you extract from the Colaboratory.\n",
        "2. Run your homework exercises before submitting (output should be present, preferably restart the kernel and press run all the cells).\n",
        "3. Do not change the description of tasks in red (even if there is a typo|mistake|etc).\n",
        "4. Please, make sure to avoid unnecessary long printouts.\n",
        "5. Each task should be solved right under the question of the task and not elsewhere.\n",
        "6. Solutions to both regular and bonus exercises should be submitted in one IPYNB file.\n",
        "\n",
        "Please, steer clear of copying someone else's work. If you discuss assignments with anyone in the course, please, mention their names here:\n",
        "\n",
        "Pooh"
      ]
    },
    {
      "cell_type": "markdown",
      "metadata": {
        "id": "hS5oDEimfcb6"
      },
      "source": [
        "##List of Homework's exercises:\n",
        "\n",
        "1.   [Ex1](#scrollTo=Va-cdXRPJ0qZ) - 3 points\n",
        "2.   [Ex2](#scrollTo=lbbE3lltHbA_) - 3 points\n",
        "3.   [Ex3](#scrollTo=NCdZudhH_WJc) - 4 points\n"
      ]
    },
    {
      "cell_type": "code",
      "metadata": {
        "id": "wptpa5-JBUbu"
      },
      "source": [
        "import pandas as pd\n",
        "import numpy as np\n",
        "\n",
        "import warnings\n",
        "warnings.filterwarnings('ignore')\n",
        "\n",
        "# For plotting like a pro (actually, no)\n",
        "!pip install -q plotnine\n",
        "from plotnine import *"
      ],
      "execution_count": 1,
      "outputs": []
    },
    {
      "cell_type": "markdown",
      "source": [
        "<font color='red'> **Preparing the dataset for this homework.** We will be using the 'Credit-g' dataset from OpenML. This dataset classifies people described by a set of attributes as good or bad credit risks. To prepare the data for training, we will complete several prepropressing steps: impute the missing values (we will use [`sklearn Simple Imputer`](https://scikit-learn.org/1.5/modules/impute.html )), handle numerical and categorical features (`OneHotEncoder()` for categorical features and `StandardScaler()` for numerical) and split into training and test sets. **NB! We split data into train and validation before performing other preprocessing steps, this is important to avoid data leakage.**"
      ],
      "metadata": {
        "id": "6aGY0nGyDKuX"
      }
    },
    {
      "cell_type": "code",
      "source": [
        "from sklearn.datasets import fetch_openml\n",
        "\n",
        "# Fetching 'Credit-g' dataset from OpenML\n",
        "# https://www.openml.org/search?type=data&sort=runs&id=31\n",
        "dataset = fetch_openml(name='credit-g')"
      ],
      "metadata": {
        "id": "9dDaj_0RDFik"
      },
      "execution_count": 2,
      "outputs": []
    },
    {
      "cell_type": "code",
      "source": [
        "dataset.data.describe(include = 'all') # explore the dataset"
      ],
      "metadata": {
        "id": "cmfmelXwD3Ql",
        "colab": {
          "base_uri": "https://localhost:8080/",
          "height": 414
        },
        "outputId": "229c5759-81fb-4be8-d716-dec64d25cb41"
      },
      "execution_count": 3,
      "outputs": [
        {
          "output_type": "execute_result",
          "data": {
            "text/plain": [
              "       checking_status     duration credit_history   purpose  credit_amount  \\\n",
              "count             1000  1000.000000           1000      1000    1000.000000   \n",
              "unique               4          NaN              5        10            NaN   \n",
              "top        no checking          NaN  existing paid  radio/tv            NaN   \n",
              "freq               394          NaN            530       280            NaN   \n",
              "mean               NaN    20.903000            NaN       NaN    3271.258000   \n",
              "std                NaN    12.058814            NaN       NaN    2822.736876   \n",
              "min                NaN     4.000000            NaN       NaN     250.000000   \n",
              "25%                NaN    12.000000            NaN       NaN    1365.500000   \n",
              "50%                NaN    18.000000            NaN       NaN    2319.500000   \n",
              "75%                NaN    24.000000            NaN       NaN    3972.250000   \n",
              "max                NaN    72.000000            NaN       NaN   18424.000000   \n",
              "\n",
              "       savings_status employment  installment_commitment personal_status  \\\n",
              "count            1000       1000             1000.000000            1000   \n",
              "unique              5          5                     NaN               4   \n",
              "top              <100     1<=X<4                     NaN     male single   \n",
              "freq              603        339                     NaN             548   \n",
              "mean              NaN        NaN                2.973000             NaN   \n",
              "std               NaN        NaN                1.118715             NaN   \n",
              "min               NaN        NaN                1.000000             NaN   \n",
              "25%               NaN        NaN                2.000000             NaN   \n",
              "50%               NaN        NaN                3.000000             NaN   \n",
              "75%               NaN        NaN                4.000000             NaN   \n",
              "max               NaN        NaN                4.000000             NaN   \n",
              "\n",
              "       other_parties  residence_since property_magnitude          age  \\\n",
              "count           1000      1000.000000               1000  1000.000000   \n",
              "unique             3              NaN                  4          NaN   \n",
              "top             none              NaN                car          NaN   \n",
              "freq             907              NaN                332          NaN   \n",
              "mean             NaN         2.845000                NaN    35.546000   \n",
              "std              NaN         1.103718                NaN    11.375469   \n",
              "min              NaN         1.000000                NaN    19.000000   \n",
              "25%              NaN         2.000000                NaN    27.000000   \n",
              "50%              NaN         3.000000                NaN    33.000000   \n",
              "75%              NaN         4.000000                NaN    42.000000   \n",
              "max              NaN         4.000000                NaN    75.000000   \n",
              "\n",
              "       other_payment_plans housing  existing_credits      job  num_dependents  \\\n",
              "count                 1000    1000       1000.000000     1000     1000.000000   \n",
              "unique                   3       3               NaN        4             NaN   \n",
              "top                   none     own               NaN  skilled             NaN   \n",
              "freq                   814     713               NaN      630             NaN   \n",
              "mean                   NaN     NaN          1.407000      NaN        1.155000   \n",
              "std                    NaN     NaN          0.577654      NaN        0.362086   \n",
              "min                    NaN     NaN          1.000000      NaN        1.000000   \n",
              "25%                    NaN     NaN          1.000000      NaN        1.000000   \n",
              "50%                    NaN     NaN          1.000000      NaN        1.000000   \n",
              "75%                    NaN     NaN          2.000000      NaN        1.000000   \n",
              "max                    NaN     NaN          4.000000      NaN        2.000000   \n",
              "\n",
              "       own_telephone foreign_worker  \n",
              "count           1000           1000  \n",
              "unique             2              2  \n",
              "top             none            yes  \n",
              "freq             596            963  \n",
              "mean             NaN            NaN  \n",
              "std              NaN            NaN  \n",
              "min              NaN            NaN  \n",
              "25%              NaN            NaN  \n",
              "50%              NaN            NaN  \n",
              "75%              NaN            NaN  \n",
              "max              NaN            NaN  "
            ],
            "text/html": [
              "\n",
              "  <div id=\"df-8194514a-3803-41fb-910f-60d3a535c4ec\" class=\"colab-df-container\">\n",
              "    <div>\n",
              "<style scoped>\n",
              "    .dataframe tbody tr th:only-of-type {\n",
              "        vertical-align: middle;\n",
              "    }\n",
              "\n",
              "    .dataframe tbody tr th {\n",
              "        vertical-align: top;\n",
              "    }\n",
              "\n",
              "    .dataframe thead th {\n",
              "        text-align: right;\n",
              "    }\n",
              "</style>\n",
              "<table border=\"1\" class=\"dataframe\">\n",
              "  <thead>\n",
              "    <tr style=\"text-align: right;\">\n",
              "      <th></th>\n",
              "      <th>checking_status</th>\n",
              "      <th>duration</th>\n",
              "      <th>credit_history</th>\n",
              "      <th>purpose</th>\n",
              "      <th>credit_amount</th>\n",
              "      <th>savings_status</th>\n",
              "      <th>employment</th>\n",
              "      <th>installment_commitment</th>\n",
              "      <th>personal_status</th>\n",
              "      <th>other_parties</th>\n",
              "      <th>residence_since</th>\n",
              "      <th>property_magnitude</th>\n",
              "      <th>age</th>\n",
              "      <th>other_payment_plans</th>\n",
              "      <th>housing</th>\n",
              "      <th>existing_credits</th>\n",
              "      <th>job</th>\n",
              "      <th>num_dependents</th>\n",
              "      <th>own_telephone</th>\n",
              "      <th>foreign_worker</th>\n",
              "    </tr>\n",
              "  </thead>\n",
              "  <tbody>\n",
              "    <tr>\n",
              "      <th>count</th>\n",
              "      <td>1000</td>\n",
              "      <td>1000.000000</td>\n",
              "      <td>1000</td>\n",
              "      <td>1000</td>\n",
              "      <td>1000.000000</td>\n",
              "      <td>1000</td>\n",
              "      <td>1000</td>\n",
              "      <td>1000.000000</td>\n",
              "      <td>1000</td>\n",
              "      <td>1000</td>\n",
              "      <td>1000.000000</td>\n",
              "      <td>1000</td>\n",
              "      <td>1000.000000</td>\n",
              "      <td>1000</td>\n",
              "      <td>1000</td>\n",
              "      <td>1000.000000</td>\n",
              "      <td>1000</td>\n",
              "      <td>1000.000000</td>\n",
              "      <td>1000</td>\n",
              "      <td>1000</td>\n",
              "    </tr>\n",
              "    <tr>\n",
              "      <th>unique</th>\n",
              "      <td>4</td>\n",
              "      <td>NaN</td>\n",
              "      <td>5</td>\n",
              "      <td>10</td>\n",
              "      <td>NaN</td>\n",
              "      <td>5</td>\n",
              "      <td>5</td>\n",
              "      <td>NaN</td>\n",
              "      <td>4</td>\n",
              "      <td>3</td>\n",
              "      <td>NaN</td>\n",
              "      <td>4</td>\n",
              "      <td>NaN</td>\n",
              "      <td>3</td>\n",
              "      <td>3</td>\n",
              "      <td>NaN</td>\n",
              "      <td>4</td>\n",
              "      <td>NaN</td>\n",
              "      <td>2</td>\n",
              "      <td>2</td>\n",
              "    </tr>\n",
              "    <tr>\n",
              "      <th>top</th>\n",
              "      <td>no checking</td>\n",
              "      <td>NaN</td>\n",
              "      <td>existing paid</td>\n",
              "      <td>radio/tv</td>\n",
              "      <td>NaN</td>\n",
              "      <td>&lt;100</td>\n",
              "      <td>1&lt;=X&lt;4</td>\n",
              "      <td>NaN</td>\n",
              "      <td>male single</td>\n",
              "      <td>none</td>\n",
              "      <td>NaN</td>\n",
              "      <td>car</td>\n",
              "      <td>NaN</td>\n",
              "      <td>none</td>\n",
              "      <td>own</td>\n",
              "      <td>NaN</td>\n",
              "      <td>skilled</td>\n",
              "      <td>NaN</td>\n",
              "      <td>none</td>\n",
              "      <td>yes</td>\n",
              "    </tr>\n",
              "    <tr>\n",
              "      <th>freq</th>\n",
              "      <td>394</td>\n",
              "      <td>NaN</td>\n",
              "      <td>530</td>\n",
              "      <td>280</td>\n",
              "      <td>NaN</td>\n",
              "      <td>603</td>\n",
              "      <td>339</td>\n",
              "      <td>NaN</td>\n",
              "      <td>548</td>\n",
              "      <td>907</td>\n",
              "      <td>NaN</td>\n",
              "      <td>332</td>\n",
              "      <td>NaN</td>\n",
              "      <td>814</td>\n",
              "      <td>713</td>\n",
              "      <td>NaN</td>\n",
              "      <td>630</td>\n",
              "      <td>NaN</td>\n",
              "      <td>596</td>\n",
              "      <td>963</td>\n",
              "    </tr>\n",
              "    <tr>\n",
              "      <th>mean</th>\n",
              "      <td>NaN</td>\n",
              "      <td>20.903000</td>\n",
              "      <td>NaN</td>\n",
              "      <td>NaN</td>\n",
              "      <td>3271.258000</td>\n",
              "      <td>NaN</td>\n",
              "      <td>NaN</td>\n",
              "      <td>2.973000</td>\n",
              "      <td>NaN</td>\n",
              "      <td>NaN</td>\n",
              "      <td>2.845000</td>\n",
              "      <td>NaN</td>\n",
              "      <td>35.546000</td>\n",
              "      <td>NaN</td>\n",
              "      <td>NaN</td>\n",
              "      <td>1.407000</td>\n",
              "      <td>NaN</td>\n",
              "      <td>1.155000</td>\n",
              "      <td>NaN</td>\n",
              "      <td>NaN</td>\n",
              "    </tr>\n",
              "    <tr>\n",
              "      <th>std</th>\n",
              "      <td>NaN</td>\n",
              "      <td>12.058814</td>\n",
              "      <td>NaN</td>\n",
              "      <td>NaN</td>\n",
              "      <td>2822.736876</td>\n",
              "      <td>NaN</td>\n",
              "      <td>NaN</td>\n",
              "      <td>1.118715</td>\n",
              "      <td>NaN</td>\n",
              "      <td>NaN</td>\n",
              "      <td>1.103718</td>\n",
              "      <td>NaN</td>\n",
              "      <td>11.375469</td>\n",
              "      <td>NaN</td>\n",
              "      <td>NaN</td>\n",
              "      <td>0.577654</td>\n",
              "      <td>NaN</td>\n",
              "      <td>0.362086</td>\n",
              "      <td>NaN</td>\n",
              "      <td>NaN</td>\n",
              "    </tr>\n",
              "    <tr>\n",
              "      <th>min</th>\n",
              "      <td>NaN</td>\n",
              "      <td>4.000000</td>\n",
              "      <td>NaN</td>\n",
              "      <td>NaN</td>\n",
              "      <td>250.000000</td>\n",
              "      <td>NaN</td>\n",
              "      <td>NaN</td>\n",
              "      <td>1.000000</td>\n",
              "      <td>NaN</td>\n",
              "      <td>NaN</td>\n",
              "      <td>1.000000</td>\n",
              "      <td>NaN</td>\n",
              "      <td>19.000000</td>\n",
              "      <td>NaN</td>\n",
              "      <td>NaN</td>\n",
              "      <td>1.000000</td>\n",
              "      <td>NaN</td>\n",
              "      <td>1.000000</td>\n",
              "      <td>NaN</td>\n",
              "      <td>NaN</td>\n",
              "    </tr>\n",
              "    <tr>\n",
              "      <th>25%</th>\n",
              "      <td>NaN</td>\n",
              "      <td>12.000000</td>\n",
              "      <td>NaN</td>\n",
              "      <td>NaN</td>\n",
              "      <td>1365.500000</td>\n",
              "      <td>NaN</td>\n",
              "      <td>NaN</td>\n",
              "      <td>2.000000</td>\n",
              "      <td>NaN</td>\n",
              "      <td>NaN</td>\n",
              "      <td>2.000000</td>\n",
              "      <td>NaN</td>\n",
              "      <td>27.000000</td>\n",
              "      <td>NaN</td>\n",
              "      <td>NaN</td>\n",
              "      <td>1.000000</td>\n",
              "      <td>NaN</td>\n",
              "      <td>1.000000</td>\n",
              "      <td>NaN</td>\n",
              "      <td>NaN</td>\n",
              "    </tr>\n",
              "    <tr>\n",
              "      <th>50%</th>\n",
              "      <td>NaN</td>\n",
              "      <td>18.000000</td>\n",
              "      <td>NaN</td>\n",
              "      <td>NaN</td>\n",
              "      <td>2319.500000</td>\n",
              "      <td>NaN</td>\n",
              "      <td>NaN</td>\n",
              "      <td>3.000000</td>\n",
              "      <td>NaN</td>\n",
              "      <td>NaN</td>\n",
              "      <td>3.000000</td>\n",
              "      <td>NaN</td>\n",
              "      <td>33.000000</td>\n",
              "      <td>NaN</td>\n",
              "      <td>NaN</td>\n",
              "      <td>1.000000</td>\n",
              "      <td>NaN</td>\n",
              "      <td>1.000000</td>\n",
              "      <td>NaN</td>\n",
              "      <td>NaN</td>\n",
              "    </tr>\n",
              "    <tr>\n",
              "      <th>75%</th>\n",
              "      <td>NaN</td>\n",
              "      <td>24.000000</td>\n",
              "      <td>NaN</td>\n",
              "      <td>NaN</td>\n",
              "      <td>3972.250000</td>\n",
              "      <td>NaN</td>\n",
              "      <td>NaN</td>\n",
              "      <td>4.000000</td>\n",
              "      <td>NaN</td>\n",
              "      <td>NaN</td>\n",
              "      <td>4.000000</td>\n",
              "      <td>NaN</td>\n",
              "      <td>42.000000</td>\n",
              "      <td>NaN</td>\n",
              "      <td>NaN</td>\n",
              "      <td>2.000000</td>\n",
              "      <td>NaN</td>\n",
              "      <td>1.000000</td>\n",
              "      <td>NaN</td>\n",
              "      <td>NaN</td>\n",
              "    </tr>\n",
              "    <tr>\n",
              "      <th>max</th>\n",
              "      <td>NaN</td>\n",
              "      <td>72.000000</td>\n",
              "      <td>NaN</td>\n",
              "      <td>NaN</td>\n",
              "      <td>18424.000000</td>\n",
              "      <td>NaN</td>\n",
              "      <td>NaN</td>\n",
              "      <td>4.000000</td>\n",
              "      <td>NaN</td>\n",
              "      <td>NaN</td>\n",
              "      <td>4.000000</td>\n",
              "      <td>NaN</td>\n",
              "      <td>75.000000</td>\n",
              "      <td>NaN</td>\n",
              "      <td>NaN</td>\n",
              "      <td>4.000000</td>\n",
              "      <td>NaN</td>\n",
              "      <td>2.000000</td>\n",
              "      <td>NaN</td>\n",
              "      <td>NaN</td>\n",
              "    </tr>\n",
              "  </tbody>\n",
              "</table>\n",
              "</div>\n",
              "    <div class=\"colab-df-buttons\">\n",
              "\n",
              "  <div class=\"colab-df-container\">\n",
              "    <button class=\"colab-df-convert\" onclick=\"convertToInteractive('df-8194514a-3803-41fb-910f-60d3a535c4ec')\"\n",
              "            title=\"Convert this dataframe to an interactive table.\"\n",
              "            style=\"display:none;\">\n",
              "\n",
              "  <svg xmlns=\"http://www.w3.org/2000/svg\" height=\"24px\" viewBox=\"0 -960 960 960\">\n",
              "    <path d=\"M120-120v-720h720v720H120Zm60-500h600v-160H180v160Zm220 220h160v-160H400v160Zm0 220h160v-160H400v160ZM180-400h160v-160H180v160Zm440 0h160v-160H620v160ZM180-180h160v-160H180v160Zm440 0h160v-160H620v160Z\"/>\n",
              "  </svg>\n",
              "    </button>\n",
              "\n",
              "  <style>\n",
              "    .colab-df-container {\n",
              "      display:flex;\n",
              "      gap: 12px;\n",
              "    }\n",
              "\n",
              "    .colab-df-convert {\n",
              "      background-color: #E8F0FE;\n",
              "      border: none;\n",
              "      border-radius: 50%;\n",
              "      cursor: pointer;\n",
              "      display: none;\n",
              "      fill: #1967D2;\n",
              "      height: 32px;\n",
              "      padding: 0 0 0 0;\n",
              "      width: 32px;\n",
              "    }\n",
              "\n",
              "    .colab-df-convert:hover {\n",
              "      background-color: #E2EBFA;\n",
              "      box-shadow: 0px 1px 2px rgba(60, 64, 67, 0.3), 0px 1px 3px 1px rgba(60, 64, 67, 0.15);\n",
              "      fill: #174EA6;\n",
              "    }\n",
              "\n",
              "    .colab-df-buttons div {\n",
              "      margin-bottom: 4px;\n",
              "    }\n",
              "\n",
              "    [theme=dark] .colab-df-convert {\n",
              "      background-color: #3B4455;\n",
              "      fill: #D2E3FC;\n",
              "    }\n",
              "\n",
              "    [theme=dark] .colab-df-convert:hover {\n",
              "      background-color: #434B5C;\n",
              "      box-shadow: 0px 1px 3px 1px rgba(0, 0, 0, 0.15);\n",
              "      filter: drop-shadow(0px 1px 2px rgba(0, 0, 0, 0.3));\n",
              "      fill: #FFFFFF;\n",
              "    }\n",
              "  </style>\n",
              "\n",
              "    <script>\n",
              "      const buttonEl =\n",
              "        document.querySelector('#df-8194514a-3803-41fb-910f-60d3a535c4ec button.colab-df-convert');\n",
              "      buttonEl.style.display =\n",
              "        google.colab.kernel.accessAllowed ? 'block' : 'none';\n",
              "\n",
              "      async function convertToInteractive(key) {\n",
              "        const element = document.querySelector('#df-8194514a-3803-41fb-910f-60d3a535c4ec');\n",
              "        const dataTable =\n",
              "          await google.colab.kernel.invokeFunction('convertToInteractive',\n",
              "                                                    [key], {});\n",
              "        if (!dataTable) return;\n",
              "\n",
              "        const docLinkHtml = 'Like what you see? Visit the ' +\n",
              "          '<a target=\"_blank\" href=https://colab.research.google.com/notebooks/data_table.ipynb>data table notebook</a>'\n",
              "          + ' to learn more about interactive tables.';\n",
              "        element.innerHTML = '';\n",
              "        dataTable['output_type'] = 'display_data';\n",
              "        await google.colab.output.renderOutput(dataTable, element);\n",
              "        const docLink = document.createElement('div');\n",
              "        docLink.innerHTML = docLinkHtml;\n",
              "        element.appendChild(docLink);\n",
              "      }\n",
              "    </script>\n",
              "  </div>\n",
              "\n",
              "\n",
              "<div id=\"df-036d8f3a-fb95-49cd-8422-6bb2950ce749\">\n",
              "  <button class=\"colab-df-quickchart\" onclick=\"quickchart('df-036d8f3a-fb95-49cd-8422-6bb2950ce749')\"\n",
              "            title=\"Suggest charts\"\n",
              "            style=\"display:none;\">\n",
              "\n",
              "<svg xmlns=\"http://www.w3.org/2000/svg\" height=\"24px\"viewBox=\"0 0 24 24\"\n",
              "     width=\"24px\">\n",
              "    <g>\n",
              "        <path d=\"M19 3H5c-1.1 0-2 .9-2 2v14c0 1.1.9 2 2 2h14c1.1 0 2-.9 2-2V5c0-1.1-.9-2-2-2zM9 17H7v-7h2v7zm4 0h-2V7h2v10zm4 0h-2v-4h2v4z\"/>\n",
              "    </g>\n",
              "</svg>\n",
              "  </button>\n",
              "\n",
              "<style>\n",
              "  .colab-df-quickchart {\n",
              "      --bg-color: #E8F0FE;\n",
              "      --fill-color: #1967D2;\n",
              "      --hover-bg-color: #E2EBFA;\n",
              "      --hover-fill-color: #174EA6;\n",
              "      --disabled-fill-color: #AAA;\n",
              "      --disabled-bg-color: #DDD;\n",
              "  }\n",
              "\n",
              "  [theme=dark] .colab-df-quickchart {\n",
              "      --bg-color: #3B4455;\n",
              "      --fill-color: #D2E3FC;\n",
              "      --hover-bg-color: #434B5C;\n",
              "      --hover-fill-color: #FFFFFF;\n",
              "      --disabled-bg-color: #3B4455;\n",
              "      --disabled-fill-color: #666;\n",
              "  }\n",
              "\n",
              "  .colab-df-quickchart {\n",
              "    background-color: var(--bg-color);\n",
              "    border: none;\n",
              "    border-radius: 50%;\n",
              "    cursor: pointer;\n",
              "    display: none;\n",
              "    fill: var(--fill-color);\n",
              "    height: 32px;\n",
              "    padding: 0;\n",
              "    width: 32px;\n",
              "  }\n",
              "\n",
              "  .colab-df-quickchart:hover {\n",
              "    background-color: var(--hover-bg-color);\n",
              "    box-shadow: 0 1px 2px rgba(60, 64, 67, 0.3), 0 1px 3px 1px rgba(60, 64, 67, 0.15);\n",
              "    fill: var(--button-hover-fill-color);\n",
              "  }\n",
              "\n",
              "  .colab-df-quickchart-complete:disabled,\n",
              "  .colab-df-quickchart-complete:disabled:hover {\n",
              "    background-color: var(--disabled-bg-color);\n",
              "    fill: var(--disabled-fill-color);\n",
              "    box-shadow: none;\n",
              "  }\n",
              "\n",
              "  .colab-df-spinner {\n",
              "    border: 2px solid var(--fill-color);\n",
              "    border-color: transparent;\n",
              "    border-bottom-color: var(--fill-color);\n",
              "    animation:\n",
              "      spin 1s steps(1) infinite;\n",
              "  }\n",
              "\n",
              "  @keyframes spin {\n",
              "    0% {\n",
              "      border-color: transparent;\n",
              "      border-bottom-color: var(--fill-color);\n",
              "      border-left-color: var(--fill-color);\n",
              "    }\n",
              "    20% {\n",
              "      border-color: transparent;\n",
              "      border-left-color: var(--fill-color);\n",
              "      border-top-color: var(--fill-color);\n",
              "    }\n",
              "    30% {\n",
              "      border-color: transparent;\n",
              "      border-left-color: var(--fill-color);\n",
              "      border-top-color: var(--fill-color);\n",
              "      border-right-color: var(--fill-color);\n",
              "    }\n",
              "    40% {\n",
              "      border-color: transparent;\n",
              "      border-right-color: var(--fill-color);\n",
              "      border-top-color: var(--fill-color);\n",
              "    }\n",
              "    60% {\n",
              "      border-color: transparent;\n",
              "      border-right-color: var(--fill-color);\n",
              "    }\n",
              "    80% {\n",
              "      border-color: transparent;\n",
              "      border-right-color: var(--fill-color);\n",
              "      border-bottom-color: var(--fill-color);\n",
              "    }\n",
              "    90% {\n",
              "      border-color: transparent;\n",
              "      border-bottom-color: var(--fill-color);\n",
              "    }\n",
              "  }\n",
              "</style>\n",
              "\n",
              "  <script>\n",
              "    async function quickchart(key) {\n",
              "      const quickchartButtonEl =\n",
              "        document.querySelector('#' + key + ' button');\n",
              "      quickchartButtonEl.disabled = true;  // To prevent multiple clicks.\n",
              "      quickchartButtonEl.classList.add('colab-df-spinner');\n",
              "      try {\n",
              "        const charts = await google.colab.kernel.invokeFunction(\n",
              "            'suggestCharts', [key], {});\n",
              "      } catch (error) {\n",
              "        console.error('Error during call to suggestCharts:', error);\n",
              "      }\n",
              "      quickchartButtonEl.classList.remove('colab-df-spinner');\n",
              "      quickchartButtonEl.classList.add('colab-df-quickchart-complete');\n",
              "    }\n",
              "    (() => {\n",
              "      let quickchartButtonEl =\n",
              "        document.querySelector('#df-036d8f3a-fb95-49cd-8422-6bb2950ce749 button');\n",
              "      quickchartButtonEl.style.display =\n",
              "        google.colab.kernel.accessAllowed ? 'block' : 'none';\n",
              "    })();\n",
              "  </script>\n",
              "</div>\n",
              "\n",
              "    </div>\n",
              "  </div>\n"
            ],
            "application/vnd.google.colaboratory.intrinsic+json": {
              "type": "dataframe",
              "summary": "{\n  \"name\": \"dataset\",\n  \"rows\": 11,\n  \"fields\": [\n    {\n      \"column\": \"checking_status\",\n      \"properties\": {\n        \"dtype\": \"category\",\n        \"num_unique_values\": 4,\n        \"samples\": [\n          4,\n          \"394\",\n          \"1000\"\n        ],\n        \"semantic_type\": \"\",\n        \"description\": \"\"\n      }\n    },\n    {\n      \"column\": \"duration\",\n      \"properties\": {\n        \"dtype\": \"number\",\n        \"std\": 345.9492794534648,\n        \"min\": 4.0,\n        \"max\": 1000.0,\n        \"num_unique_values\": 8,\n        \"samples\": [\n          20.903,\n          18.0,\n          1000.0\n        ],\n        \"semantic_type\": \"\",\n        \"description\": \"\"\n      }\n    },\n    {\n      \"column\": \"credit_history\",\n      \"properties\": {\n        \"dtype\": \"category\",\n        \"num_unique_values\": 4,\n        \"samples\": [\n          5,\n          \"530\",\n          \"1000\"\n        ],\n        \"semantic_type\": \"\",\n        \"description\": \"\"\n      }\n    },\n    {\n      \"column\": \"purpose\",\n      \"properties\": {\n        \"dtype\": \"category\",\n        \"num_unique_values\": 4,\n        \"samples\": [\n          10,\n          \"280\",\n          \"1000\"\n        ],\n        \"semantic_type\": \"\",\n        \"description\": \"\"\n      }\n    },\n    {\n      \"column\": \"credit_amount\",\n      \"properties\": {\n        \"dtype\": \"number\",\n        \"std\": 5886.3378690311465,\n        \"min\": 250.0,\n        \"max\": 18424.0,\n        \"num_unique_values\": 8,\n        \"samples\": [\n          3271.258,\n          2319.5,\n          1000.0\n        ],\n        \"semantic_type\": \"\",\n        \"description\": \"\"\n      }\n    },\n    {\n      \"column\": \"savings_status\",\n      \"properties\": {\n        \"dtype\": \"category\",\n        \"num_unique_values\": 4,\n        \"samples\": [\n          5,\n          \"603\",\n          \"1000\"\n        ],\n        \"semantic_type\": \"\",\n        \"description\": \"\"\n      }\n    },\n    {\n      \"column\": \"employment\",\n      \"properties\": {\n        \"dtype\": \"category\",\n        \"num_unique_values\": 4,\n        \"samples\": [\n          5,\n          \"339\",\n          \"1000\"\n        ],\n        \"semantic_type\": \"\",\n        \"description\": \"\"\n      }\n    },\n    {\n      \"column\": \"installment_commitment\",\n      \"properties\": {\n        \"dtype\": \"number\",\n        \"std\": 352.6415111727615,\n        \"min\": 1.0,\n        \"max\": 1000.0,\n        \"num_unique_values\": 7,\n        \"samples\": [\n          1000.0,\n          2.973,\n          3.0\n        ],\n        \"semantic_type\": \"\",\n        \"description\": \"\"\n      }\n    },\n    {\n      \"column\": \"personal_status\",\n      \"properties\": {\n        \"dtype\": \"category\",\n        \"num_unique_values\": 4,\n        \"samples\": [\n          4,\n          \"548\",\n          \"1000\"\n        ],\n        \"semantic_type\": \"\",\n        \"description\": \"\"\n      }\n    },\n    {\n      \"column\": \"other_parties\",\n      \"properties\": {\n        \"dtype\": \"category\",\n        \"num_unique_values\": 4,\n        \"samples\": [\n          3,\n          \"907\",\n          \"1000\"\n        ],\n        \"semantic_type\": \"\",\n        \"description\": \"\"\n      }\n    },\n    {\n      \"column\": \"residence_since\",\n      \"properties\": {\n        \"dtype\": \"number\",\n        \"std\": 352.648725096441,\n        \"min\": 1.0,\n        \"max\": 1000.0,\n        \"num_unique_values\": 7,\n        \"samples\": [\n          1000.0,\n          2.845,\n          3.0\n        ],\n        \"semantic_type\": \"\",\n        \"description\": \"\"\n      }\n    },\n    {\n      \"column\": \"property_magnitude\",\n      \"properties\": {\n        \"dtype\": \"category\",\n        \"num_unique_values\": 4,\n        \"samples\": [\n          4,\n          \"332\",\n          \"1000\"\n        ],\n        \"semantic_type\": \"\",\n        \"description\": \"\"\n      }\n    },\n    {\n      \"column\": \"age\",\n      \"properties\": {\n        \"dtype\": \"number\",\n        \"std\": 341.81327343426176,\n        \"min\": 11.375468574317502,\n        \"max\": 1000.0,\n        \"num_unique_values\": 8,\n        \"samples\": [\n          35.546,\n          33.0,\n          1000.0\n        ],\n        \"semantic_type\": \"\",\n        \"description\": \"\"\n      }\n    },\n    {\n      \"column\": \"other_payment_plans\",\n      \"properties\": {\n        \"dtype\": \"category\",\n        \"num_unique_values\": 4,\n        \"samples\": [\n          3,\n          \"814\",\n          \"1000\"\n        ],\n        \"semantic_type\": \"\",\n        \"description\": \"\"\n      }\n    },\n    {\n      \"column\": \"housing\",\n      \"properties\": {\n        \"dtype\": \"category\",\n        \"num_unique_values\": 4,\n        \"samples\": [\n          3,\n          \"713\",\n          \"1000\"\n        ],\n        \"semantic_type\": \"\",\n        \"description\": \"\"\n      }\n    },\n    {\n      \"column\": \"existing_credits\",\n      \"properties\": {\n        \"dtype\": \"number\",\n        \"std\": 353.0002158816418,\n        \"min\": 0.5776544682460991,\n        \"max\": 1000.0,\n        \"num_unique_values\": 6,\n        \"samples\": [\n          1000.0,\n          1.407,\n          4.0\n        ],\n        \"semantic_type\": \"\",\n        \"description\": \"\"\n      }\n    },\n    {\n      \"column\": \"job\",\n      \"properties\": {\n        \"dtype\": \"category\",\n        \"num_unique_values\": 4,\n        \"samples\": [\n          4,\n          \"630\",\n          \"1000\"\n        ],\n        \"semantic_type\": \"\",\n        \"description\": \"\"\n      }\n    },\n    {\n      \"column\": \"num_dependents\",\n      \"properties\": {\n        \"dtype\": \"number\",\n        \"std\": 353.1740021102216,\n        \"min\": 0.36208577175319234,\n        \"max\": 1000.0,\n        \"num_unique_values\": 5,\n        \"samples\": [\n          1.155,\n          2.0,\n          0.36208577175319234\n        ],\n        \"semantic_type\": \"\",\n        \"description\": \"\"\n      }\n    },\n    {\n      \"column\": \"own_telephone\",\n      \"properties\": {\n        \"dtype\": \"category\",\n        \"num_unique_values\": 4,\n        \"samples\": [\n          2,\n          \"596\",\n          \"1000\"\n        ],\n        \"semantic_type\": \"\",\n        \"description\": \"\"\n      }\n    },\n    {\n      \"column\": \"foreign_worker\",\n      \"properties\": {\n        \"dtype\": \"category\",\n        \"num_unique_values\": 4,\n        \"samples\": [\n          2,\n          \"963\",\n          \"1000\"\n        ],\n        \"semantic_type\": \"\",\n        \"description\": \"\"\n      }\n    }\n  ]\n}"
            }
          },
          "metadata": {},
          "execution_count": 3
        }
      ]
    },
    {
      "cell_type": "code",
      "source": [
        "# Convert to DataFrame for easier analysis\n",
        "data = pd.DataFrame(data=dataset.data)\n",
        "target = pd.DataFrame(dataset.target)"
      ],
      "metadata": {
        "id": "nq3kp2kJD37s"
      },
      "execution_count": 4,
      "outputs": []
    },
    {
      "cell_type": "markdown",
      "source": [
        "<font color='red'> Splitting the dataset into training and test sets. Note that we do it before all other transformations."
      ],
      "metadata": {
        "id": "-gZZv_qvEmgv"
      }
    },
    {
      "cell_type": "code",
      "source": [
        "from sklearn.model_selection import train_test_split\n",
        "\n",
        "X_train, X_test, y_train, y_test = train_test_split(data, target, test_size=0.3, random_state=42)"
      ],
      "metadata": {
        "id": "hOOrNG-6EjJf"
      },
      "execution_count": 5,
      "outputs": []
    },
    {
      "cell_type": "code",
      "source": [
        "from sklearn.compose import ColumnTransformer\n",
        "from sklearn.impute import SimpleImputer\n",
        "from sklearn.pipeline import Pipeline\n",
        "from sklearn.preprocessing import OneHotEncoder, StandardScaler\n",
        "\n",
        "# Here we use a more fancy way to transform our data using Pipeline class\n",
        "# from sklearn https://scikit-learn.org/stable/auto_examples/compose/plot_column_transformer_mixed_types.html\n",
        "\n",
        "# First let's identify which variables are numeric and categorical\n",
        "numeric_features = data.select_dtypes(include=['int64', 'float64']).columns\n",
        "categorical_features = data.select_dtypes(include=['object', 'category']).columns\n",
        "\n",
        "# Defining a sequence of transformations for numeric variables\n",
        "# We first impute missing values using median and then standardize\n",
        "numeric_transformer = Pipeline(steps=[\n",
        "    ('imputer', SimpleImputer(strategy='median')),\n",
        "    ('scaler', StandardScaler())\n",
        "])\n",
        "\n",
        "# Then define a sequence of transformations for categorical variables...\n",
        "# Imputing missing values using the most frequent value and then convert into\n",
        "# OneHotEncoded format\n",
        "categorical_transformer = Pipeline(steps=[\n",
        "    ('imputer', SimpleImputer(strategy='most_frequent')),\n",
        "    ('encoder', OneHotEncoder(handle_unknown='ignore'))\n",
        "])\n",
        "\n",
        "# Putting transformations together for both types of variables\n",
        "preprocessor = ColumnTransformer(\n",
        "    transformers=[\n",
        "        ('num', numeric_transformer, numeric_features),\n",
        "        ('cat', categorical_transformer, categorical_features)\n",
        "    ]\n",
        ")"
      ],
      "metadata": {
        "id": "f6Bmq45Bp-GM"
      },
      "execution_count": 6,
      "outputs": []
    },
    {
      "cell_type": "markdown",
      "source": [
        "<font color='red'> Here we first configure and apply preprocessing transformations first on the train subset and only then apply these transformations to test."
      ],
      "metadata": {
        "id": "XgaYXX7tF62x"
      }
    },
    {
      "cell_type": "code",
      "source": [
        "X_train_transformed = preprocessor.fit_transform(X_train)\n",
        "X_test_transformed = preprocessor.transform(X_test)\n",
        "\n",
        "print(f\"Shape of X_train_transformed: {X_train_transformed.shape}\")\n",
        "print(f\"Shape of X_test_transformed: {X_test_transformed.shape}\")"
      ],
      "metadata": {
        "id": "KE6WlgZhF6Su",
        "colab": {
          "base_uri": "https://localhost:8080/"
        },
        "outputId": "a82dc196-6912-4806-ad5b-e9676ee0b586"
      },
      "execution_count": 7,
      "outputs": [
        {
          "output_type": "stream",
          "name": "stdout",
          "text": [
            "Shape of X_train_transformed: (700, 61)\n",
            "Shape of X_test_transformed: (300, 61)\n"
          ]
        }
      ]
    },
    {
      "cell_type": "code",
      "source": [
        "import matplotlib.pyplot as plt\n",
        "\n",
        "# We will re-use this code in the future\n",
        "def plot_class_distribution(y, title=\"Class Distribution\"):\n",
        "\n",
        "    class_counts = y.value_counts()\n",
        "\n",
        "    class_counts.plot(kind='bar', color=['skyblue', 'orange'])\n",
        "    plt.title(title, fontsize=14)\n",
        "    plt.xlabel(\"Class\", fontsize=12)\n",
        "    plt.ylabel(\"Frequency\", fontsize=12)\n",
        "    plt.xticks(rotation=0, fontsize=10)\n",
        "    plt.yticks(fontsize=10)\n",
        "    plt.tight_layout()\n",
        "    plt.show()"
      ],
      "metadata": {
        "id": "Ry7vbdT_qCxY"
      },
      "execution_count": 8,
      "outputs": []
    },
    {
      "cell_type": "code",
      "source": [],
      "metadata": {
        "id": "-r7fbPfRx30s"
      },
      "execution_count": null,
      "outputs": []
    },
    {
      "cell_type": "markdown",
      "source": [
        "<font color='red'> Let's take a look at the class distribution of this dataset."
      ],
      "metadata": {
        "id": "uJpGN6g8Ggch"
      }
    },
    {
      "cell_type": "code",
      "source": [
        "plot_class_distribution(y_train['class'], title=\"Class Distribution in Training Set\")"
      ],
      "metadata": {
        "id": "LbL-QOMkDIBO",
        "colab": {
          "base_uri": "https://localhost:8080/",
          "height": 487
        },
        "outputId": "266bafe3-f98a-4c2a-e374-17f14efe0958"
      },
      "execution_count": 9,
      "outputs": [
        {
          "output_type": "display_data",
          "data": {
            "text/plain": [
              "<Figure size 640x480 with 1 Axes>"
            ],
            "image/png": "[encoded data removed]"
          },
          "metadata": {}
        }
      ]
    },
    {
      "cell_type": "markdown",
      "source": [
        "<font color='red'> This is a classical example of the unbalanced dataset i.e. one of the classes is twice or more prevalent than the other.</font>"
      ],
      "metadata": {
        "id": "XEHu8RLExNwG"
      }
    },
    {
      "cell_type": "markdown",
      "metadata": {
        "id": "Va-cdXRPJ0qZ"
      },
      "source": [
        "\n",
        "\n",
        "---\n",
        "\n",
        "## Homework exercise 1: compute macro and weighted averages for precision, recall and f1-score on an unbalanced dataset (3 points)\n",
        "\n",
        "\n",
        "<font color='red'> In this exercise we will calculate ordinary recall, precision and f1 measures and their macro- and weighted average versions. Learn more about macro and weighted averages here: https://scikit-learn.org/stable/modules/generated/sklearn.metrics.precision_score.html  </font>\n"
      ]
    },
    {
      "cell_type": "code",
      "metadata": {
        "id": "RcbSSJEhJ0qb"
      },
      "source": [
        "# train a classifier\n",
        "from sklearn.linear_model import LogisticRegression\n",
        "logit = LogisticRegression(max_iter=10000, random_state=13)\n",
        "logit.fit(X_train_transformed, y_train['class'])\n",
        "\n",
        "# predicting on test\n",
        "predictions_logit = logit.predict(X_test_transformed)"
      ],
      "execution_count": 10,
      "outputs": []
    },
    {
      "cell_type": "code",
      "metadata": {
        "id": "emg3tuNCJ0qb"
      },
      "source": [
        "print(predictions_logit[:10])"
      ],
      "execution_count": null,
      "outputs": []
    },
    {
      "cell_type": "markdown",
      "metadata": {
        "id": "a1AZ1qvwJ0qc"
      },
      "source": [
        "<font color='red'>  **(Homework exercise 1- a)** Fill in the gaps to complete a function that calculates `tp`, `fn`, `fp`, `tn` depending on which class is considered to be `positive`.  **(1 point)**</font>"
      ]
    },
    {
      "cell_type": "code",
      "metadata": {
        "id": "bjUhT-x2J0qc"
      },
      "source": [
        "import math\n",
        "\n",
        "def compute_confusion_stats(classes, predictions, positive_class, negative_class):\n",
        "  #### YOUR CODE STARTS ####\n",
        "  tp = fn = fp = tn = 0\n",
        "\n",
        "  # Iterate through true classes and predictions\n",
        "  for true_class, predicted_class in zip(classes, predictions):\n",
        "    if true_class == positive_class and predicted_class == positive_class:\n",
        "        tp += 1  # True Positive\n",
        "    elif true_class == positive_class and predicted_class == negative_class:\n",
        "        fn += 1  # False Negative\n",
        "    elif true_class == negative_class and predicted_class == positive_class:\n",
        "        fp += 1  # False Positive\n",
        "    elif true_class == negative_class and predicted_class == negative_class:\n",
        "        tn += 1  # True Negative\n",
        "  #### YOUR CODE ENDS ####\n",
        "\n",
        "  return (tp, fn, fp, tn)\n",
        "\n",
        "def compute_rec_prec_f1(tp, fn, fp, tn):\n",
        "  recall = tp / (tp + fn)\n",
        "  precision = tp / (tp + fp)\n",
        "  f1 = 2 * recall * precision / (precision + recall)\n",
        "  if math.isnan(f1):\n",
        "    f1 = 0\n",
        "  return (recall, precision, f1)"
      ],
      "execution_count": 11,
      "outputs": []
    },
    {
      "cell_type": "markdown",
      "metadata": {
        "id": "_LLFcfq1J0qc"
      },
      "source": [
        "<font color='red'> Compute `tp`, `fn`, `fp`, `tn` and `recall`, `precision` and `f1` measures using functions `compute_confusion_stats` and `compute_rec_prec_f1` above. `recall`, `precision` and `f1` should be computed for both classes, e.g. `recall_good` is a recall when the `good` class is considered to be positive, `recall_bad` is a recall when the `bad` class is regarded as positive.</font>\n",
        "\n",
        "\n"
      ]
    },
    {
      "cell_type": "code",
      "metadata": {
        "id": "pBbG3sYyJ0qc",
        "colab": {
          "base_uri": "https://localhost:8080/"
        },
        "outputId": "1758bc7a-0ea2-4e1b-92a1-dc313f5ab889"
      },
      "source": [
        "# The 'good' class is considered positive\n",
        "#### YOUR CODE STARTS ####\n",
        "# The 'good' class is considered positive\n",
        "tp_good, fn_good, fp_good, tn_good = compute_confusion_stats(y_test['class'], predictions_logit, positive_class='good', negative_class='bad')\n",
        "recall_good, precision_good, f1_good = compute_rec_prec_f1(tp_good, fn_good, fp_good, tn_good)\n",
        "#### YOUR CODE ENDS ####\n",
        "\n",
        "print(f'Recall for the first class = {round(recall_good, 2)}')\n",
        "print(f'Precision for the first class = {round(precision_good, 2)}')\n",
        "print(f'F1 score for the first class = {round(f1_good, 2)}')"
      ],
      "execution_count": 12,
      "outputs": [
        {
          "output_type": "stream",
          "name": "stdout",
          "text": [
            "Recall for the first class = 0.9\n",
            "Precision for the first class = 0.8\n",
            "F1 score for the first class = 0.85\n"
          ]
        }
      ]
    },
    {
      "cell_type": "code",
      "metadata": {
        "id": "vnM9XMa5J0qc",
        "colab": {
          "base_uri": "https://localhost:8080/"
        },
        "outputId": "47845064-9be6-4692-ef4f-ee0a15e5c512"
      },
      "source": [
        "# The 'bad' class is considered positive\n",
        "#### YOUR CODE STARTS ####\n",
        "# The 'bad' class is considered positive\n",
        "tp_bad, fn_bad, fp_bad, tn_bad = compute_confusion_stats(y_test['class'], predictions_logit, positive_class='bad', negative_class='good')\n",
        "recall_bad, precision_bad, f1_bad = compute_rec_prec_f1(tp_bad, fn_bad, fp_bad, tn_bad)\n",
        "#### YOUR CODE ENDS ####\n",
        "\n",
        "print(f'Recall for the second class = {round(recall_bad, 2)}')\n",
        "print(f'Precision for the second class = {round(precision_bad, 2)}')\n",
        "print(f'F1 score for the second class = {round(f1_bad, 2)}')"
      ],
      "execution_count": 13,
      "outputs": [
        {
          "output_type": "stream",
          "name": "stdout",
          "text": [
            "Recall for the second class = 0.48\n",
            "Precision for the second class = 0.68\n",
            "F1 score for the second class = 0.56\n"
          ]
        }
      ]
    },
    {
      "cell_type": "markdown",
      "metadata": {
        "id": "vweIi0lVJ0qc"
      },
      "source": [
        "<font color='red'>  **(Homework exercise 1- b)** Without using any external libraries, calculate macro and weighted averages for all metrics. Run the `classification_report` function from `sklearn`, make sure that the outputs match. **(1 point)**</font>"
      ]
    },
    {
      "cell_type": "code",
      "metadata": {
        "id": "wrdYHU0yJ0qd"
      },
      "source": [
        "#### YOUR CODE STARTS ####\n",
        "# Calculate macro averages\n",
        "recall_macro = (recall_good + recall_bad) / 2\n",
        "precision_macro = (precision_good + precision_bad) / 2\n",
        "f1_macro = (f1_good + f1_bad) / 2\n",
        "\n",
        "# Calculate class-specific metrics\n",
        "metrics_good = (recall_good, precision_good, f1_good)\n",
        "metrics_bad = (recall_bad, precision_bad, f1_bad)\n",
        "\n",
        "#### YOUR CODE ENDS ####"
      ],
      "execution_count": 14,
      "outputs": []
    },
    {
      "cell_type": "code",
      "metadata": {
        "id": "l0OGQoQvJ0qd"
      },
      "source": [
        "#### YOUR CODE STARTS ####\n",
        "# Calculate class weights based on the number of instances in each class\n",
        "# Get class counts\n",
        "total_instances = len(y_test['class'])\n",
        "class_counts = {label: y_test['class'].tolist().count(label) for label in set(y_test['class'])}\n",
        "\n",
        "# Weighted averages (weighted mean of metric values)\n",
        "recall_weighted = (recall_good * class_counts['good'] + recall_bad * class_counts['bad']) / total_instances\n",
        "precision_weighted = (precision_good * class_counts['good'] + precision_bad * class_counts['bad']) / total_instances\n",
        "f1_weighted = (f1_good * class_counts['good'] + f1_bad * class_counts['bad']) / total_instances\n",
        "\n",
        "#### YOUR CODE ENDS ####"
      ],
      "execution_count": 15,
      "outputs": []
    },
    {
      "cell_type": "code",
      "source": [
        "print(f\"Macro Recall: {round(recall_macro, 2)}\")\n",
        "print(f\"Macro Precision: {round(precision_macro, 2)}\")\n",
        "print(f\"Macro F1: {round(f1_macro, 2)}\")\n",
        "print(f\"Weighted Recall: {round(recall_weighted, 2)}\")\n",
        "print(f\"Weighted Precision: {round(precision_weighted, 2)}\")\n",
        "print(f\"Weighted F1: {round(f1_weighted, 2)}\")"
      ],
      "metadata": {
        "colab": {
          "base_uri": "https://localhost:8080/"
        },
        "id": "h20Jz3g_YbEi",
        "outputId": "54c0d3a0-bb6d-4c83-9e32-afe046b007c8"
      },
      "execution_count": 16,
      "outputs": [
        {
          "output_type": "stream",
          "name": "stdout",
          "text": [
            "Macro Recall: 0.69\n",
            "Macro Precision: 0.74\n",
            "Macro F1: 0.71\n",
            "Weighted Recall: 0.77\n",
            "Weighted Precision: 0.76\n",
            "Weighted F1: 0.76\n"
          ]
        }
      ]
    },
    {
      "cell_type": "markdown",
      "metadata": {
        "id": "V7dgPnruJ0qd"
      },
      "source": [
        "<font color='red'>  Compare all your results with the output of `classification_report` function. Make sure they are the same. </font>"
      ]
    },
    {
      "cell_type": "code",
      "metadata": {
        "id": "ylPeR00TJ0qd",
        "colab": {
          "base_uri": "https://localhost:8080/"
        },
        "outputId": "aad433ba-90e8-4295-a1e1-7f8495c25f84"
      },
      "source": [
        "from sklearn.metrics import classification_report\n",
        "\n",
        "#### YOUR CODE STARTS ####\n",
        "print(classification_report(y_test['class'], predictions_logit, digits=2))\n",
        "#### YOUR CODE ENDS ####\n"
      ],
      "execution_count": 17,
      "outputs": [
        {
          "output_type": "stream",
          "name": "stdout",
          "text": [
            "              precision    recall  f1-score   support\n",
            "\n",
            "         bad       0.68      0.48      0.56        91\n",
            "        good       0.80      0.90      0.85       209\n",
            "\n",
            "    accuracy                           0.77       300\n",
            "   macro avg       0.74      0.69      0.71       300\n",
            "weighted avg       0.76      0.77      0.76       300\n",
            "\n"
          ]
        }
      ]
    },
    {
      "cell_type": "markdown",
      "source": [
        "<font color='red'>  **(Homework exercise 1- c)** Use a different classifier on the same dataset. Calculate only weighted- and macro- average f1 score as we have just done for `LogisticRegression`. Compare the obtained results to figure out which classifier is better. **(1 point)**</font>"
      ],
      "metadata": {
        "id": "Q1qhXXZmIUNO"
      }
    },
    {
      "cell_type": "code",
      "source": [
        "#### YOUR CODE STARTS ####\n",
        "from sklearn.ensemble import RandomForestClassifier\n",
        "\n",
        "# Train a different classifier (RandomForest)\n",
        "rf_clf = RandomForestClassifier(n_estimators=100, random_state=13)\n",
        "rf_clf.fit(X_train_transformed, y_train['class'])\n",
        "predictions_rf = rf_clf.predict(X_test_transformed)\n",
        "\n",
        "# Calculate metrics for the 'good' class\n",
        "tp_good_rf, fn_good_rf, fp_good_rf, tn_good_rf = compute_confusion_stats(y_test['class'], predictions_rf, positive_class='good', negative_class='bad')\n",
        "_, _, f1_good_rf = compute_rec_prec_f1(tp_good_rf, fn_good_rf, fp_good_rf, tn_good_rf)\n",
        "\n",
        "# Calculate metrics for the 'bad' class\n",
        "tp_bad_rf, fn_bad_rf, fp_bad_rf, tn_bad_rf = compute_confusion_stats(y_test['class'], predictions_rf, positive_class='bad', negative_class='good')\n",
        "_, _, f1_bad_rf = compute_rec_prec_f1(tp_bad_rf, fn_bad_rf, fp_bad_rf, tn_bad_rf)\n",
        "\n",
        "# Macro average F1\n",
        "macro_avg_f1_rf = (f1_good_rf + f1_bad_rf) / 2\n",
        "\n",
        "# Calculate weighted averages\n",
        "# Weighted average F1\n",
        "class_counts = {label: y_test['class'].tolist().count(label) for label in set(y_test['class'])}\n",
        "total_instances = len(y_test['class'])\n",
        "\n",
        "weighted_avg_f1_rf = (f1_good_rf * class_counts['good'] + f1_bad_rf * class_counts['bad']) / total_instances\n",
        "\n",
        "print(f'Weighted averaging for f1 = {np.round(weighted_avg_f1_rf, 2)}')\n",
        "#### YOUR CODE ENDS ####"
      ],
      "metadata": {
        "id": "tlyLIdx0HU2D",
        "colab": {
          "base_uri": "https://localhost:8080/"
        },
        "outputId": "ac8541be-bd50-4a5e-c21b-2f6f70346ed0"
      },
      "execution_count": 18,
      "outputs": [
        {
          "output_type": "stream",
          "name": "stdout",
          "text": [
            "Weighted averaging for f1 = 0.72\n"
          ]
        }
      ]
    },
    {
      "cell_type": "code",
      "source": [
        "# Print results for RandomForest\n",
        "print(f\"RandomForest Macro F1: {round(macro_avg_f1_rf, 2)}\")\n",
        "print(f\"RandomForest Weighted F1: {round(weighted_avg_f1_rf, 2)}\")\n",
        "\n",
        "# Comparison with Logistic Regression\n",
        "print(\"\\nComparison:\")\n",
        "print(f\"Logistic Regression Macro F1: {round(f1_macro, 2)}\")\n",
        "print(f\"Logistic Regression Weighted F1: {round(f1_weighted, 2)}\")\n",
        "\n",
        "# Decision on the better classifier\n",
        "better_classifier = \"RandomForest\" if weighted_avg_f1_rf > f1_weighted else \"Logistic Regression\"\n",
        "print(f\"\\nBetter classifier based on Weighted F1: {better_classifier}\")"
      ],
      "metadata": {
        "colab": {
          "base_uri": "https://localhost:8080/"
        },
        "id": "ulcFmGikYoJQ",
        "outputId": "f5ec2d09-9ae3-4774-8943-4d5d651737a7"
      },
      "execution_count": 19,
      "outputs": [
        {
          "output_type": "stream",
          "name": "stdout",
          "text": [
            "RandomForest Macro F1: 0.64\n",
            "RandomForest Weighted F1: 0.72\n",
            "\n",
            "Comparison:\n",
            "Logistic Regression Macro F1: 0.71\n",
            "Logistic Regression Weighted F1: 0.76\n",
            "\n",
            "Better classifier based on Weighted F1: Logistic Regression\n"
          ]
        }
      ]
    },
    {
      "cell_type": "markdown",
      "metadata": {
        "id": "lbbE3lltHbA_"
      },
      "source": [
        "\n",
        "\n",
        "---\n",
        "\n",
        "## Homework exercise 2: compare multiple classification methods using precision-recall curve (3 points)\n",
        "\n",
        "\n",
        "<font color='red'> In the lecture and practice session we have discussed how receiver operating characteristic (ROC) and the corresponding area under this curve (AUC) can be used to assess classifier's performance. Although, being super popular and in majority cases adequate, ROC AUC can be overly optimistic when used on classifiers trained on severely imbalanced data. Another metric, namely - Precision-Recall Curve (PRC) is considered more appropriate for such data. In this exercise, we will learn to build PRC and use it to evaluate already familiar classifiers. Check out [this page](https://machinelearningmastery.com/roc-curves-and-precision-recall-curves-for-imbalanced-classification/) if you want to know more about PRCs. </font>\n",
        "\n"
      ]
    },
    {
      "cell_type": "markdown",
      "metadata": {
        "id": "XOXf9NuwQYJe"
      },
      "source": [
        "<font color='red'>  **(Homework exercise 2- a)** Train three models (logistic regression, KNN and random forest) on the dataset from EX1. Calculate accuracy for each model on validation set using function `score` and model objects. Treat `good` as negative class and `bad` as positive. Separately, compute and print out the accuracy of the majority class classifier (*hint*: you can use `DummyClassifier` from `sklearn` to imitate majority class classifier).  **(1 point)**</font>"
      ]
    },
    {
      "cell_type": "code",
      "metadata": {
        "id": "obZA-7ODGq2h",
        "colab": {
          "base_uri": "https://localhost:8080/",
          "height": 80
        },
        "outputId": "2289bf9b-9fc5-4ee4-aaa3-26908715fc5f"
      },
      "source": [
        "from sklearn.dummy import DummyClassifier\n",
        "from sklearn.linear_model import LogisticRegression\n",
        "from sklearn.neighbors import KNeighborsClassifier\n",
        "from sklearn.ensemble import RandomForestClassifier\n",
        "import numpy as np\n",
        "\n",
        "np.random.seed(1111) # random seed for consistency\n",
        "\n",
        "#### YOUR CODE STARTS ####\n",
        "# Initialize classifiers\n",
        "logit = LogisticRegression(max_iter=10000, random_state=1111)\n",
        "knn = KNeighborsClassifier()\n",
        "rf = RandomForestClassifier(random_state=1111)\n",
        "dummy = DummyClassifier(strategy='most_frequent', random_state=1111)\n",
        "\n",
        "# Train classifiers on training data\n",
        "logit.fit(X_train_transformed, y_train['class'])\n",
        "knn.fit(X_train_transformed, y_train['class'])\n",
        "rf.fit(X_train_transformed, y_train['class'])\n",
        "dummy.fit(X_train_transformed, y_train['class'])\n",
        "#### YOUR CODE ENDS ####"
      ],
      "execution_count": 22,
      "outputs": [
        {
          "output_type": "execute_result",
          "data": {
            "text/plain": [
              "DummyClassifier(random_state=1111, strategy='most_frequent')"
            ],
            "text/html": [
              "<style>#sk-container-id-1 {\n",
              "  /* Definition of color scheme common for light and dark mode */\n",
              "  --sklearn-color-text: black;\n",
              "  --sklearn-color-line: gray;\n",
              "  /* Definition of color scheme for unfitted estimators */\n",
              "  --sklearn-color-unfitted-level-0: #fff5e6;\n",
              "  --sklearn-color-unfitted-level-1: #f6e4d2;\n",
              "  --sklearn-color-unfitted-level-2: #ffe0b3;\n",
              "  --sklearn-color-unfitted-level-3: chocolate;\n",
              "  /* Definition of color scheme for fitted estimators */\n",
              "  --sklearn-color-fitted-level-0: #f0f8ff;\n",
              "  --sklearn-color-fitted-level-1: #d4ebff;\n",
              "  --sklearn-color-fitted-level-2: #b3dbfd;\n",
              "  --sklearn-color-fitted-level-3: cornflowerblue;\n",
              "\n",
              "  /* Specific color for light theme */\n",
              "  --sklearn-color-text-on-default-background: var(--sg-text-color, var(--theme-code-foreground, var(--jp-content-font-color1, black)));\n",
              "  --sklearn-color-background: var(--sg-background-color, var(--theme-background, var(--jp-layout-color0, white)));\n",
              "  --sklearn-color-border-box: var(--sg-text-color, var(--theme-code-foreground, var(--jp-content-font-color1, black)));\n",
              "  --sklearn-color-icon: #696969;\n",
              "\n",
              "  @media (prefers-color-scheme: dark) {\n",
              "    /* Redefinition of color scheme for dark theme */\n",
              "    --sklearn-color-text-on-default-background: var(--sg-text-color, var(--theme-code-foreground, var(--jp-content-font-color1, white)));\n",
              "    --sklearn-color-background: var(--sg-background-color, var(--theme-background, var(--jp-layout-color0, #111)));\n",
              "    --sklearn-color-border-box: var(--sg-text-color, var(--theme-code-foreground, var(--jp-content-font-color1, white)));\n",
              "    --sklearn-color-icon: #878787;\n",
              "  }\n",
              "}\n",
              "\n",
              "#sk-container-id-1 {\n",
              "  color: var(--sklearn-color-text);\n",
              "}\n",
              "\n",
              "#sk-container-id-1 pre {\n",
              "  padding: 0;\n",
              "}\n",
              "\n",
              "#sk-container-id-1 input.sk-hidden--visually {\n",
              "  border: 0;\n",
              "  clip: rect(1px 1px 1px 1px);\n",
              "  clip: rect(1px, 1px, 1px, 1px);\n",
              "  height: 1px;\n",
              "  margin: -1px;\n",
              "  overflow: hidden;\n",
              "  padding: 0;\n",
              "  position: absolute;\n",
              "  width: 1px;\n",
              "}\n",
              "\n",
              "#sk-container-id-1 div.sk-dashed-wrapped {\n",
              "  border: 1px dashed var(--sklearn-color-line);\n",
              "  margin: 0 0.4em 0.5em 0.4em;\n",
              "  box-sizing: border-box;\n",
              "  padding-bottom: 0.4em;\n",
              "  background-color: var(--sklearn-color-background);\n",
              "}\n",
              "\n",
              "#sk-container-id-1 div.sk-container {\n",
              "  /* jupyter's `normalize.less` sets `[hidden] { display: none; }`\n",
              "     but bootstrap.min.css set `[hidden] { display: none !important; }`\n",
              "     so we also need the `!important` here to be able to override the\n",
              "     default hidden behavior on the sphinx rendered scikit-learn.org.\n",
              "     See: https://github.com/scikit-learn/scikit-learn/issues/21755 */\n",
              "  display: inline-block !important;\n",
              "  position: relative;\n",
              "}\n",
              "\n",
              "#sk-container-id-1 div.sk-text-repr-fallback {\n",
              "  display: none;\n",
              "}\n",
              "\n",
              "div.sk-parallel-item,\n",
              "div.sk-serial,\n",
              "div.sk-item {\n",
              "  /* draw centered vertical line to link estimators */\n",
              "  background-image: linear-gradient(var(--sklearn-color-text-on-default-background), var(--sklearn-color-text-on-default-background));\n",
              "  background-size: 2px 100%;\n",
              "  background-repeat: no-repeat;\n",
              "  background-position: center center;\n",
              "}\n",
              "\n",
              "/* Parallel-specific style estimator block */\n",
              "\n",
              "#sk-container-id-1 div.sk-parallel-item::after {\n",
              "  content: \"\";\n",
              "  width: 100%;\n",
              "  border-bottom: 2px solid var(--sklearn-color-text-on-default-background);\n",
              "  flex-grow: 1;\n",
              "}\n",
              "\n",
              "#sk-container-id-1 div.sk-parallel {\n",
              "  display: flex;\n",
              "  align-items: stretch;\n",
              "  justify-content: center;\n",
              "  background-color: var(--sklearn-color-background);\n",
              "  position: relative;\n",
              "}\n",
              "\n",
              "#sk-container-id-1 div.sk-parallel-item {\n",
              "  display: flex;\n",
              "  flex-direction: column;\n",
              "}\n",
              "\n",
              "#sk-container-id-1 div.sk-parallel-item:first-child::after {\n",
              "  align-self: flex-end;\n",
              "  width: 50%;\n",
              "}\n",
              "\n",
              "#sk-container-id-1 div.sk-parallel-item:last-child::after {\n",
              "  align-self: flex-start;\n",
              "  width: 50%;\n",
              "}\n",
              "\n",
              "#sk-container-id-1 div.sk-parallel-item:only-child::after {\n",
              "  width: 0;\n",
              "}\n",
              "\n",
              "/* Serial-specific style estimator block */\n",
              "\n",
              "#sk-container-id-1 div.sk-serial {\n",
              "  display: flex;\n",
              "  flex-direction: column;\n",
              "  align-items: center;\n",
              "  background-color: var(--sklearn-color-background);\n",
              "  padding-right: 1em;\n",
              "  padding-left: 1em;\n",
              "}\n",
              "\n",
              "\n",
              "/* Toggleable style: style used for estimator/Pipeline/ColumnTransformer box that is\n",
              "clickable and can be expanded/collapsed.\n",
              "- Pipeline and ColumnTransformer use this feature and define the default style\n",
              "- Estimators will overwrite some part of the style using the `sk-estimator` class\n",
              "*/\n",
              "\n",
              "/* Pipeline and ColumnTransformer style (default) */\n",
              "\n",
              "#sk-container-id-1 div.sk-toggleable {\n",
              "  /* Default theme specific background. It is overwritten whether we have a\n",
              "  specific estimator or a Pipeline/ColumnTransformer */\n",
              "  background-color: var(--sklearn-color-background);\n",
              "}\n",
              "\n",
              "/* Toggleable label */\n",
              "#sk-container-id-1 label.sk-toggleable__label {\n",
              "  cursor: pointer;\n",
              "  display: block;\n",
              "  width: 100%;\n",
              "  margin-bottom: 0;\n",
              "  padding: 0.5em;\n",
              "  box-sizing: border-box;\n",
              "  text-align: center;\n",
              "}\n",
              "\n",
              "#sk-container-id-1 label.sk-toggleable__label-arrow:before {\n",
              "  /* Arrow on the left of the label */\n",
              "  content: \"▸\";\n",
              "  float: left;\n",
              "  margin-right: 0.25em;\n",
              "  color: var(--sklearn-color-icon);\n",
              "}\n",
              "\n",
              "#sk-container-id-1 label.sk-toggleable__label-arrow:hover:before {\n",
              "  color: var(--sklearn-color-text);\n",
              "}\n",
              "\n",
              "/* Toggleable content - dropdown */\n",
              "\n",
              "#sk-container-id-1 div.sk-toggleable__content {\n",
              "  max-height: 0;\n",
              "  max-width: 0;\n",
              "  overflow: hidden;\n",
              "  text-align: left;\n",
              "  /* unfitted */\n",
              "  background-color: var(--sklearn-color-unfitted-level-0);\n",
              "}\n",
              "\n",
              "#sk-container-id-1 div.sk-toggleable__content.fitted {\n",
              "  /* fitted */\n",
              "  background-color: var(--sklearn-color-fitted-level-0);\n",
              "}\n",
              "\n",
              "#sk-container-id-1 div.sk-toggleable__content pre {\n",
              "  margin: 0.2em;\n",
              "  border-radius: 0.25em;\n",
              "  color: var(--sklearn-color-text);\n",
              "  /* unfitted */\n",
              "  background-color: var(--sklearn-color-unfitted-level-0);\n",
              "}\n",
              "\n",
              "#sk-container-id-1 div.sk-toggleable__content.fitted pre {\n",
              "  /* unfitted */\n",
              "  background-color: var(--sklearn-color-fitted-level-0);\n",
              "}\n",
              "\n",
              "#sk-container-id-1 input.sk-toggleable__control:checked~div.sk-toggleable__content {\n",
              "  /* Expand drop-down */\n",
              "  max-height: 200px;\n",
              "  max-width: 100%;\n",
              "  overflow: auto;\n",
              "}\n",
              "\n",
              "#sk-container-id-1 input.sk-toggleable__control:checked~label.sk-toggleable__label-arrow:before {\n",
              "  content: \"▾\";\n",
              "}\n",
              "\n",
              "/* Pipeline/ColumnTransformer-specific style */\n",
              "\n",
              "#sk-container-id-1 div.sk-label input.sk-toggleable__control:checked~label.sk-toggleable__label {\n",
              "  color: var(--sklearn-color-text);\n",
              "  background-color: var(--sklearn-color-unfitted-level-2);\n",
              "}\n",
              "\n",
              "#sk-container-id-1 div.sk-label.fitted input.sk-toggleable__control:checked~label.sk-toggleable__label {\n",
              "  background-color: var(--sklearn-color-fitted-level-2);\n",
              "}\n",
              "\n",
              "/* Estimator-specific style */\n",
              "\n",
              "/* Colorize estimator box */\n",
              "#sk-container-id-1 div.sk-estimator input.sk-toggleable__control:checked~label.sk-toggleable__label {\n",
              "  /* unfitted */\n",
              "  background-color: var(--sklearn-color-unfitted-level-2);\n",
              "}\n",
              "\n",
              "#sk-container-id-1 div.sk-estimator.fitted input.sk-toggleable__control:checked~label.sk-toggleable__label {\n",
              "  /* fitted */\n",
              "  background-color: var(--sklearn-color-fitted-level-2);\n",
              "}\n",
              "\n",
              "#sk-container-id-1 div.sk-label label.sk-toggleable__label,\n",
              "#sk-container-id-1 div.sk-label label {\n",
              "  /* The background is the default theme color */\n",
              "  color: var(--sklearn-color-text-on-default-background);\n",
              "}\n",
              "\n",
              "/* On hover, darken the color of the background */\n",
              "#sk-container-id-1 div.sk-label:hover label.sk-toggleable__label {\n",
              "  color: var(--sklearn-color-text);\n",
              "  background-color: var(--sklearn-color-unfitted-level-2);\n",
              "}\n",
              "\n",
              "/* Label box, darken color on hover, fitted */\n",
              "#sk-container-id-1 div.sk-label.fitted:hover label.sk-toggleable__label.fitted {\n",
              "  color: var(--sklearn-color-text);\n",
              "  background-color: var(--sklearn-color-fitted-level-2);\n",
              "}\n",
              "\n",
              "/* Estimator label */\n",
              "\n",
              "#sk-container-id-1 div.sk-label label {\n",
              "  font-family: monospace;\n",
              "  font-weight: bold;\n",
              "  display: inline-block;\n",
              "  line-height: 1.2em;\n",
              "}\n",
              "\n",
              "#sk-container-id-1 div.sk-label-container {\n",
              "  text-align: center;\n",
              "}\n",
              "\n",
              "/* Estimator-specific */\n",
              "#sk-container-id-1 div.sk-estimator {\n",
              "  font-family: monospace;\n",
              "  border: 1px dotted var(--sklearn-color-border-box);\n",
              "  border-radius: 0.25em;\n",
              "  box-sizing: border-box;\n",
              "  margin-bottom: 0.5em;\n",
              "  /* unfitted */\n",
              "  background-color: var(--sklearn-color-unfitted-level-0);\n",
              "}\n",
              "\n",
              "#sk-container-id-1 div.sk-estimator.fitted {\n",
              "  /* fitted */\n",
              "  background-color: var(--sklearn-color-fitted-level-0);\n",
              "}\n",
              "\n",
              "/* on hover */\n",
              "#sk-container-id-1 div.sk-estimator:hover {\n",
              "  /* unfitted */\n",
              "  background-color: var(--sklearn-color-unfitted-level-2);\n",
              "}\n",
              "\n",
              "#sk-container-id-1 div.sk-estimator.fitted:hover {\n",
              "  /* fitted */\n",
              "  background-color: var(--sklearn-color-fitted-level-2);\n",
              "}\n",
              "\n",
              "/* Specification for estimator info (e.g. \"i\" and \"?\") */\n",
              "\n",
              "/* Common style for \"i\" and \"?\" */\n",
              "\n",
              ".sk-estimator-doc-link,\n",
              "a:link.sk-estimator-doc-link,\n",
              "a:visited.sk-estimator-doc-link {\n",
              "  float: right;\n",
              "  font-size: smaller;\n",
              "  line-height: 1em;\n",
              "  font-family: monospace;\n",
              "  background-color: var(--sklearn-color-background);\n",
              "  border-radius: 1em;\n",
              "  height: 1em;\n",
              "  width: 1em;\n",
              "  text-decoration: none !important;\n",
              "  margin-left: 1ex;\n",
              "  /* unfitted */\n",
              "  border: var(--sklearn-color-unfitted-level-1) 1pt solid;\n",
              "  color: var(--sklearn-color-unfitted-level-1);\n",
              "}\n",
              "\n",
              ".sk-estimator-doc-link.fitted,\n",
              "a:link.sk-estimator-doc-link.fitted,\n",
              "a:visited.sk-estimator-doc-link.fitted {\n",
              "  /* fitted */\n",
              "  border: var(--sklearn-color-fitted-level-1) 1pt solid;\n",
              "  color: var(--sklearn-color-fitted-level-1);\n",
              "}\n",
              "\n",
              "/* On hover */\n",
              "div.sk-estimator:hover .sk-estimator-doc-link:hover,\n",
              ".sk-estimator-doc-link:hover,\n",
              "div.sk-label-container:hover .sk-estimator-doc-link:hover,\n",
              ".sk-estimator-doc-link:hover {\n",
              "  /* unfitted */\n",
              "  background-color: var(--sklearn-color-unfitted-level-3);\n",
              "  color: var(--sklearn-color-background);\n",
              "  text-decoration: none;\n",
              "}\n",
              "\n",
              "div.sk-estimator.fitted:hover .sk-estimator-doc-link.fitted:hover,\n",
              ".sk-estimator-doc-link.fitted:hover,\n",
              "div.sk-label-container:hover .sk-estimator-doc-link.fitted:hover,\n",
              ".sk-estimator-doc-link.fitted:hover {\n",
              "  /* fitted */\n",
              "  background-color: var(--sklearn-color-fitted-level-3);\n",
              "  color: var(--sklearn-color-background);\n",
              "  text-decoration: none;\n",
              "}\n",
              "\n",
              "/* Span, style for the box shown on hovering the info icon */\n",
              ".sk-estimator-doc-link span {\n",
              "  display: none;\n",
              "  z-index: 9999;\n",
              "  position: relative;\n",
              "  font-weight: normal;\n",
              "  right: .2ex;\n",
              "  padding: .5ex;\n",
              "  margin: .5ex;\n",
              "  width: min-content;\n",
              "  min-width: 20ex;\n",
              "  max-width: 50ex;\n",
              "  color: var(--sklearn-color-text);\n",
              "  box-shadow: 2pt 2pt 4pt #999;\n",
              "  /* unfitted */\n",
              "  background: var(--sklearn-color-unfitted-level-0);\n",
              "  border: .5pt solid var(--sklearn-color-unfitted-level-3);\n",
              "}\n",
              "\n",
              ".sk-estimator-doc-link.fitted span {\n",
              "  /* fitted */\n",
              "  background: var(--sklearn-color-fitted-level-0);\n",
              "  border: var(--sklearn-color-fitted-level-3);\n",
              "}\n",
              "\n",
              ".sk-estimator-doc-link:hover span {\n",
              "  display: block;\n",
              "}\n",
              "\n",
              "/* \"?\"-specific style due to the `<a>` HTML tag */\n",
              "\n",
              "#sk-container-id-1 a.estimator_doc_link {\n",
              "  float: right;\n",
              "  font-size: 1rem;\n",
              "  line-height: 1em;\n",
              "  font-family: monospace;\n",
              "  background-color: var(--sklearn-color-background);\n",
              "  border-radius: 1rem;\n",
              "  height: 1rem;\n",
              "  width: 1rem;\n",
              "  text-decoration: none;\n",
              "  /* unfitted */\n",
              "  color: var(--sklearn-color-unfitted-level-1);\n",
              "  border: var(--sklearn-color-unfitted-level-1) 1pt solid;\n",
              "}\n",
              "\n",
              "#sk-container-id-1 a.estimator_doc_link.fitted {\n",
              "  /* fitted */\n",
              "  border: var(--sklearn-color-fitted-level-1) 1pt solid;\n",
              "  color: var(--sklearn-color-fitted-level-1);\n",
              "}\n",
              "\n",
              "/* On hover */\n",
              "#sk-container-id-1 a.estimator_doc_link:hover {\n",
              "  /* unfitted */\n",
              "  background-color: var(--sklearn-color-unfitted-level-3);\n",
              "  color: var(--sklearn-color-background);\n",
              "  text-decoration: none;\n",
              "}\n",
              "\n",
              "#sk-container-id-1 a.estimator_doc_link.fitted:hover {\n",
              "  /* fitted */\n",
              "  background-color: var(--sklearn-color-fitted-level-3);\n",
              "}\n",
              "</style><div id=\"sk-container-id-1\" class=\"sk-top-container\"><div class=\"sk-text-repr-fallback\"><pre>DummyClassifier(random_state=1111, strategy=&#x27;most_frequent&#x27;)</pre><b>In a Jupyter environment, please rerun this cell to show the HTML representation or trust the notebook. <br />On GitHub, the HTML representation is unable to render, please try loading this page with nbviewer.org.</b></div><div class=\"sk-container\" hidden><div class=\"sk-item\"><div class=\"sk-estimator fitted sk-toggleable\"><input class=\"sk-toggleable__control sk-hidden--visually\" id=\"sk-estimator-id-1\" type=\"checkbox\" checked><label for=\"sk-estimator-id-1\" class=\"sk-toggleable__label fitted sk-toggleable__label-arrow fitted\">&nbsp;&nbsp;DummyClassifier<a class=\"sk-estimator-doc-link fitted\" rel=\"noreferrer\" target=\"_blank\" href=\"https://scikit-learn.org/1.5/modules/generated/sklearn.dummy.DummyClassifier.html\">?<span>Documentation for DummyClassifier</span></a><span class=\"sk-estimator-doc-link fitted\">i<span>Fitted</span></span></label><div class=\"sk-toggleable__content fitted\"><pre>DummyClassifier(random_state=1111, strategy=&#x27;most_frequent&#x27;)</pre></div> </div></div></div></div>"
            ]
          },
          "metadata": {},
          "execution_count": 22
        }
      ]
    },
    {
      "cell_type": "code",
      "metadata": {
        "id": "RrF7GLg6G0Z-",
        "colab": {
          "base_uri": "https://localhost:8080/"
        },
        "outputId": "29e159b8-c5fc-455e-9278-e330c0b9cb51"
      },
      "source": [
        "#### YOUR CODE STARTS ####\n",
        "# Calculate accuracy on validation set\n",
        "logit_acc = logit.score(X_test_transformed, y_test['class'])\n",
        "knn_acc = knn.score(X_test_transformed, y_test['class'])\n",
        "rf_acc = rf.score(X_test_transformed, y_test['class'])\n",
        "dummy_acc = dummy.score(X_test_transformed, y_test['class'])\n",
        "\n",
        "# Print accuracies\n",
        "print(f\"Logistic Regression Accuracy: {round(logit_acc, 2)}\")\n",
        "print(f\"KNN Accuracy: {round(knn_acc, 2)}\")\n",
        "print(f\"Random Forest Accuracy: {round(rf_acc, 2)}\")\n",
        "print(f\"Majority Class Classifier Accuracy: {round(dummy_acc, 2)}\")\n",
        "#### YOUR CODE ENDS ####"
      ],
      "execution_count": 23,
      "outputs": [
        {
          "output_type": "stream",
          "name": "stdout",
          "text": [
            "Logistic Regression Accuracy: 0.77\n",
            "KNN Accuracy: 0.74\n",
            "Random Forest Accuracy: 0.74\n",
            "Majority Class Classifier Accuracy: 0.7\n"
          ]
        }
      ]
    },
    {
      "cell_type": "markdown",
      "metadata": {
        "id": "t_q2aDMzQugd"
      },
      "source": [
        "<font color='red'> Get probability scores for the positive class on the test data from all four models (including the majority class classifier). </font>"
      ]
    },
    {
      "cell_type": "code",
      "metadata": {
        "id": "bBMusLbvQm0m"
      },
      "source": [
        "#### YOUR CODE STARTS ####\n",
        "# Get probabilities for the positive class (bad) on the test set\n",
        "y_test['logit_prob'] = logit.predict_proba(X_test_transformed)[:, 1]\n",
        "y_test['knn_prob'] = knn.predict_proba(X_test_transformed)[:, 1]\n",
        "y_test['rf_prob'] = rf.predict_proba(X_test_transformed)[:, 1]\n",
        "y_test['dummy_prob'] = dummy.predict_proba(X_test_transformed)[:, 1]\n",
        "#### YOUR CODE ENDS ####"
      ],
      "execution_count": 24,
      "outputs": []
    },
    {
      "cell_type": "markdown",
      "source": [
        "<font color='red'> Take a look at the expanded `y_test` data.frame, where we added predicted probabilities by each model. </font>"
      ],
      "metadata": {
        "id": "nZJwlw5FNPjc"
      }
    },
    {
      "cell_type": "code",
      "source": [
        "y_test"
      ],
      "metadata": {
        "id": "Kj591QvdNPHG",
        "colab": {
          "base_uri": "https://localhost:8080/",
          "height": 423
        },
        "outputId": "e34c1aea-61c9-4332-8906-6cd9d237e2a7"
      },
      "execution_count": 25,
      "outputs": [
        {
          "output_type": "execute_result",
          "data": {
            "text/plain": [
              "    class  logit_prob  knn_prob  rf_prob  dummy_prob\n",
              "521   bad    0.606980       0.8     0.72         1.0\n",
              "737  good    0.464511       1.0     0.49         1.0\n",
              "740  good    0.390276       0.2     0.34         1.0\n",
              "660  good    0.706691       0.4     0.63         1.0\n",
              "411  good    0.953140       1.0     0.94         1.0\n",
              "..    ...         ...       ...      ...         ...\n",
              "468  good    0.822038       0.8     0.69         1.0\n",
              "935   bad    0.458242       0.4     0.61         1.0\n",
              "428  good    0.946910       0.6     0.68         1.0\n",
              "7    good    0.692724       0.4     0.61         1.0\n",
              "155   bad    0.506743       0.8     0.55         1.0\n",
              "\n",
              "[300 rows x 5 columns]"
            ],
            "text/html": [
              "\n",
              "  <div id=\"df-b778523d-2e67-440f-aa9e-019c189b7272\" class=\"colab-df-container\">\n",
              "    <div>\n",
              "<style scoped>\n",
              "    .dataframe tbody tr th:only-of-type {\n",
              "        vertical-align: middle;\n",
              "    }\n",
              "\n",
              "    .dataframe tbody tr th {\n",
              "        vertical-align: top;\n",
              "    }\n",
              "\n",
              "    .dataframe thead th {\n",
              "        text-align: right;\n",
              "    }\n",
              "</style>\n",
              "<table border=\"1\" class=\"dataframe\">\n",
              "  <thead>\n",
              "    <tr style=\"text-align: right;\">\n",
              "      <th></th>\n",
              "      <th>class</th>\n",
              "      <th>logit_prob</th>\n",
              "      <th>knn_prob</th>\n",
              "      <th>rf_prob</th>\n",
              "      <th>dummy_prob</th>\n",
              "    </tr>\n",
              "  </thead>\n",
              "  <tbody>\n",
              "    <tr>\n",
              "      <th>521</th>\n",
              "      <td>bad</td>\n",
              "      <td>0.606980</td>\n",
              "      <td>0.8</td>\n",
              "      <td>0.72</td>\n",
              "      <td>1.0</td>\n",
              "    </tr>\n",
              "    <tr>\n",
              "      <th>737</th>\n",
              "      <td>good</td>\n",
              "      <td>0.464511</td>\n",
              "      <td>1.0</td>\n",
              "      <td>0.49</td>\n",
              "      <td>1.0</td>\n",
              "    </tr>\n",
              "    <tr>\n",
              "      <th>740</th>\n",
              "      <td>good</td>\n",
              "      <td>0.390276</td>\n",
              "      <td>0.2</td>\n",
              "      <td>0.34</td>\n",
              "      <td>1.0</td>\n",
              "    </tr>\n",
              "    <tr>\n",
              "      <th>660</th>\n",
              "      <td>good</td>\n",
              "      <td>0.706691</td>\n",
              "      <td>0.4</td>\n",
              "      <td>0.63</td>\n",
              "      <td>1.0</td>\n",
              "    </tr>\n",
              "    <tr>\n",
              "      <th>411</th>\n",
              "      <td>good</td>\n",
              "      <td>0.953140</td>\n",
              "      <td>1.0</td>\n",
              "      <td>0.94</td>\n",
              "      <td>1.0</td>\n",
              "    </tr>\n",
              "    <tr>\n",
              "      <th>...</th>\n",
              "      <td>...</td>\n",
              "      <td>...</td>\n",
              "      <td>...</td>\n",
              "      <td>...</td>\n",
              "      <td>...</td>\n",
              "    </tr>\n",
              "    <tr>\n",
              "      <th>468</th>\n",
              "      <td>good</td>\n",
              "      <td>0.822038</td>\n",
              "      <td>0.8</td>\n",
              "      <td>0.69</td>\n",
              "      <td>1.0</td>\n",
              "    </tr>\n",
              "    <tr>\n",
              "      <th>935</th>\n",
              "      <td>bad</td>\n",
              "      <td>0.458242</td>\n",
              "      <td>0.4</td>\n",
              "      <td>0.61</td>\n",
              "      <td>1.0</td>\n",
              "    </tr>\n",
              "    <tr>\n",
              "      <th>428</th>\n",
              "      <td>good</td>\n",
              "      <td>0.946910</td>\n",
              "      <td>0.6</td>\n",
              "      <td>0.68</td>\n",
              "      <td>1.0</td>\n",
              "    </tr>\n",
              "    <tr>\n",
              "      <th>7</th>\n",
              "      <td>good</td>\n",
              "      <td>0.692724</td>\n",
              "      <td>0.4</td>\n",
              "      <td>0.61</td>\n",
              "      <td>1.0</td>\n",
              "    </tr>\n",
              "    <tr>\n",
              "      <th>155</th>\n",
              "      <td>bad</td>\n",
              "      <td>0.506743</td>\n",
              "      <td>0.8</td>\n",
              "      <td>0.55</td>\n",
              "      <td>1.0</td>\n",
              "    </tr>\n",
              "  </tbody>\n",
              "</table>\n",
              "<p>300 rows × 5 columns</p>\n",
              "</div>\n",
              "    <div class=\"colab-df-buttons\">\n",
              "\n",
              "  <div class=\"colab-df-container\">\n",
              "    <button class=\"colab-df-convert\" onclick=\"convertToInteractive('df-b778523d-2e67-440f-aa9e-019c189b7272')\"\n",
              "            title=\"Convert this dataframe to an interactive table.\"\n",
              "            style=\"display:none;\">\n",
              "\n",
              "  <svg xmlns=\"http://www.w3.org/2000/svg\" height=\"24px\" viewBox=\"0 -960 960 960\">\n",
              "    <path d=\"M120-120v-720h720v720H120Zm60-500h600v-160H180v160Zm220 220h160v-160H400v160Zm0 220h160v-160H400v160ZM180-400h160v-160H180v160Zm440 0h160v-160H620v160ZM180-180h160v-160H180v160Zm440 0h160v-160H620v160Z\"/>\n",
              "  </svg>\n",
              "    </button>\n",
              "\n",
              "  <style>\n",
              "    .colab-df-container {\n",
              "      display:flex;\n",
              "      gap: 12px;\n",
              "    }\n",
              "\n",
              "    .colab-df-convert {\n",
              "      background-color: #E8F0FE;\n",
              "      border: none;\n",
              "      border-radius: 50%;\n",
              "      cursor: pointer;\n",
              "      display: none;\n",
              "      fill: #1967D2;\n",
              "      height: 32px;\n",
              "      padding: 0 0 0 0;\n",
              "      width: 32px;\n",
              "    }\n",
              "\n",
              "    .colab-df-convert:hover {\n",
              "      background-color: #E2EBFA;\n",
              "      box-shadow: 0px 1px 2px rgba(60, 64, 67, 0.3), 0px 1px 3px 1px rgba(60, 64, 67, 0.15);\n",
              "      fill: #174EA6;\n",
              "    }\n",
              "\n",
              "    .colab-df-buttons div {\n",
              "      margin-bottom: 4px;\n",
              "    }\n",
              "\n",
              "    [theme=dark] .colab-df-convert {\n",
              "      background-color: #3B4455;\n",
              "      fill: #D2E3FC;\n",
              "    }\n",
              "\n",
              "    [theme=dark] .colab-df-convert:hover {\n",
              "      background-color: #434B5C;\n",
              "      box-shadow: 0px 1px 3px 1px rgba(0, 0, 0, 0.15);\n",
              "      filter: drop-shadow(0px 1px 2px rgba(0, 0, 0, 0.3));\n",
              "      fill: #FFFFFF;\n",
              "    }\n",
              "  </style>\n",
              "\n",
              "    <script>\n",
              "      const buttonEl =\n",
              "        document.querySelector('#df-b778523d-2e67-440f-aa9e-019c189b7272 button.colab-df-convert');\n",
              "      buttonEl.style.display =\n",
              "        google.colab.kernel.accessAllowed ? 'block' : 'none';\n",
              "\n",
              "      async function convertToInteractive(key) {\n",
              "        const element = document.querySelector('#df-b778523d-2e67-440f-aa9e-019c189b7272');\n",
              "        const dataTable =\n",
              "          await google.colab.kernel.invokeFunction('convertToInteractive',\n",
              "                                                    [key], {});\n",
              "        if (!dataTable) return;\n",
              "\n",
              "        const docLinkHtml = 'Like what you see? Visit the ' +\n",
              "          '<a target=\"_blank\" href=https://colab.research.google.com/notebooks/data_table.ipynb>data table notebook</a>'\n",
              "          + ' to learn more about interactive tables.';\n",
              "        element.innerHTML = '';\n",
              "        dataTable['output_type'] = 'display_data';\n",
              "        await google.colab.output.renderOutput(dataTable, element);\n",
              "        const docLink = document.createElement('div');\n",
              "        docLink.innerHTML = docLinkHtml;\n",
              "        element.appendChild(docLink);\n",
              "      }\n",
              "    </script>\n",
              "  </div>\n",
              "\n",
              "\n",
              "<div id=\"df-82260c22-ca6f-4282-b26a-70df30277b00\">\n",
              "  <button class=\"colab-df-quickchart\" onclick=\"quickchart('df-82260c22-ca6f-4282-b26a-70df30277b00')\"\n",
              "            title=\"Suggest charts\"\n",
              "            style=\"display:none;\">\n",
              "\n",
              "<svg xmlns=\"http://www.w3.org/2000/svg\" height=\"24px\"viewBox=\"0 0 24 24\"\n",
              "     width=\"24px\">\n",
              "    <g>\n",
              "        <path d=\"M19 3H5c-1.1 0-2 .9-2 2v14c0 1.1.9 2 2 2h14c1.1 0 2-.9 2-2V5c0-1.1-.9-2-2-2zM9 17H7v-7h2v7zm4 0h-2V7h2v10zm4 0h-2v-4h2v4z\"/>\n",
              "    </g>\n",
              "</svg>\n",
              "  </button>\n",
              "\n",
              "<style>\n",
              "  .colab-df-quickchart {\n",
              "      --bg-color: #E8F0FE;\n",
              "      --fill-color: #1967D2;\n",
              "      --hover-bg-color: #E2EBFA;\n",
              "      --hover-fill-color: #174EA6;\n",
              "      --disabled-fill-color: #AAA;\n",
              "      --disabled-bg-color: #DDD;\n",
              "  }\n",
              "\n",
              "  [theme=dark] .colab-df-quickchart {\n",
              "      --bg-color: #3B4455;\n",
              "      --fill-color: #D2E3FC;\n",
              "      --hover-bg-color: #434B5C;\n",
              "      --hover-fill-color: #FFFFFF;\n",
              "      --disabled-bg-color: #3B4455;\n",
              "      --disabled-fill-color: #666;\n",
              "  }\n",
              "\n",
              "  .colab-df-quickchart {\n",
              "    background-color: var(--bg-color);\n",
              "    border: none;\n",
              "    border-radius: 50%;\n",
              "    cursor: pointer;\n",
              "    display: none;\n",
              "    fill: var(--fill-color);\n",
              "    height: 32px;\n",
              "    padding: 0;\n",
              "    width: 32px;\n",
              "  }\n",
              "\n",
              "  .colab-df-quickchart:hover {\n",
              "    background-color: var(--hover-bg-color);\n",
              "    box-shadow: 0 1px 2px rgba(60, 64, 67, 0.3), 0 1px 3px 1px rgba(60, 64, 67, 0.15);\n",
              "    fill: var(--button-hover-fill-color);\n",
              "  }\n",
              "\n",
              "  .colab-df-quickchart-complete:disabled,\n",
              "  .colab-df-quickchart-complete:disabled:hover {\n",
              "    background-color: var(--disabled-bg-color);\n",
              "    fill: var(--disabled-fill-color);\n",
              "    box-shadow: none;\n",
              "  }\n",
              "\n",
              "  .colab-df-spinner {\n",
              "    border: 2px solid var(--fill-color);\n",
              "    border-color: transparent;\n",
              "    border-bottom-color: var(--fill-color);\n",
              "    animation:\n",
              "      spin 1s steps(1) infinite;\n",
              "  }\n",
              "\n",
              "  @keyframes spin {\n",
              "    0% {\n",
              "      border-color: transparent;\n",
              "      border-bottom-color: var(--fill-color);\n",
              "      border-left-color: var(--fill-color);\n",
              "    }\n",
              "    20% {\n",
              "      border-color: transparent;\n",
              "      border-left-color: var(--fill-color);\n",
              "      border-top-color: var(--fill-color);\n",
              "    }\n",
              "    30% {\n",
              "      border-color: transparent;\n",
              "      border-left-color: var(--fill-color);\n",
              "      border-top-color: var(--fill-color);\n",
              "      border-right-color: var(--fill-color);\n",
              "    }\n",
              "    40% {\n",
              "      border-color: transparent;\n",
              "      border-right-color: var(--fill-color);\n",
              "      border-top-color: var(--fill-color);\n",
              "    }\n",
              "    60% {\n",
              "      border-color: transparent;\n",
              "      border-right-color: var(--fill-color);\n",
              "    }\n",
              "    80% {\n",
              "      border-color: transparent;\n",
              "      border-right-color: var(--fill-color);\n",
              "      border-bottom-color: var(--fill-color);\n",
              "    }\n",
              "    90% {\n",
              "      border-color: transparent;\n",
              "      border-bottom-color: var(--fill-color);\n",
              "    }\n",
              "  }\n",
              "</style>\n",
              "\n",
              "  <script>\n",
              "    async function quickchart(key) {\n",
              "      const quickchartButtonEl =\n",
              "        document.querySelector('#' + key + ' button');\n",
              "      quickchartButtonEl.disabled = true;  // To prevent multiple clicks.\n",
              "      quickchartButtonEl.classList.add('colab-df-spinner');\n",
              "      try {\n",
              "        const charts = await google.colab.kernel.invokeFunction(\n",
              "            'suggestCharts', [key], {});\n",
              "      } catch (error) {\n",
              "        console.error('Error during call to suggestCharts:', error);\n",
              "      }\n",
              "      quickchartButtonEl.classList.remove('colab-df-spinner');\n",
              "      quickchartButtonEl.classList.add('colab-df-quickchart-complete');\n",
              "    }\n",
              "    (() => {\n",
              "      let quickchartButtonEl =\n",
              "        document.querySelector('#df-82260c22-ca6f-4282-b26a-70df30277b00 button');\n",
              "      quickchartButtonEl.style.display =\n",
              "        google.colab.kernel.accessAllowed ? 'block' : 'none';\n",
              "    })();\n",
              "  </script>\n",
              "</div>\n",
              "\n",
              "  <div id=\"id_589687c9-5063-4287-941e-1bb90047aa8c\">\n",
              "    <style>\n",
              "      .colab-df-generate {\n",
              "        background-color: #E8F0FE;\n",
              "        border: none;\n",
              "        border-radius: 50%;\n",
              "        cursor: pointer;\n",
              "        display: none;\n",
              "        fill: #1967D2;\n",
              "        height: 32px;\n",
              "        padding: 0 0 0 0;\n",
              "        width: 32px;\n",
              "      }\n",
              "\n",
              "      .colab-df-generate:hover {\n",
              "        background-color: #E2EBFA;\n",
              "        box-shadow: 0px 1px 2px rgba(60, 64, 67, 0.3), 0px 1px 3px 1px rgba(60, 64, 67, 0.15);\n",
              "        fill: #174EA6;\n",
              "      }\n",
              "\n",
              "      [theme=dark] .colab-df-generate {\n",
              "        background-color: #3B4455;\n",
              "        fill: #D2E3FC;\n",
              "      }\n",
              "\n",
              "      [theme=dark] .colab-df-generate:hover {\n",
              "        background-color: #434B5C;\n",
              "        box-shadow: 0px 1px 3px 1px rgba(0, 0, 0, 0.15);\n",
              "        filter: drop-shadow(0px 1px 2px rgba(0, 0, 0, 0.3));\n",
              "        fill: #FFFFFF;\n",
              "      }\n",
              "    </style>\n",
              "    <button class=\"colab-df-generate\" onclick=\"generateWithVariable('y_test')\"\n",
              "            title=\"Generate code using this dataframe.\"\n",
              "            style=\"display:none;\">\n",
              "\n",
              "  <svg xmlns=\"http://www.w3.org/2000/svg\" height=\"24px\"viewBox=\"0 0 24 24\"\n",
              "       width=\"24px\">\n",
              "    <path d=\"M7,19H8.4L18.45,9,17,7.55,7,17.6ZM5,21V16.75L18.45,3.32a2,2,0,0,1,2.83,0l1.4,1.43a1.91,1.91,0,0,1,.58,1.4,1.91,1.91,0,0,1-.58,1.4L9.25,21ZM18.45,9,17,7.55Zm-12,3A5.31,5.31,0,0,0,4.9,8.1,5.31,5.31,0,0,0,1,6.5,5.31,5.31,0,0,0,4.9,4.9,5.31,5.31,0,0,0,6.5,1,5.31,5.31,0,0,0,8.1,4.9,5.31,5.31,0,0,0,12,6.5,5.46,5.46,0,0,0,6.5,12Z\"/>\n",
              "  </svg>\n",
              "    </button>\n",
              "    <script>\n",
              "      (() => {\n",
              "      const buttonEl =\n",
              "        document.querySelector('#id_589687c9-5063-4287-941e-1bb90047aa8c button.colab-df-generate');\n",
              "      buttonEl.style.display =\n",
              "        google.colab.kernel.accessAllowed ? 'block' : 'none';\n",
              "\n",
              "      buttonEl.onclick = () => {\n",
              "        google.colab.notebook.generateWithVariable('y_test');\n",
              "      }\n",
              "      })();\n",
              "    </script>\n",
              "  </div>\n",
              "\n",
              "    </div>\n",
              "  </div>\n"
            ],
            "application/vnd.google.colaboratory.intrinsic+json": {
              "type": "dataframe",
              "variable_name": "y_test",
              "summary": "{\n  \"name\": \"y_test\",\n  \"rows\": 300,\n  \"fields\": [\n    {\n      \"column\": \"class\",\n      \"properties\": {\n        \"dtype\": \"category\",\n        \"num_unique_values\": 2,\n        \"samples\": [\n          \"good\",\n          \"bad\"\n        ],\n        \"semantic_type\": \"\",\n        \"description\": \"\"\n      }\n    },\n    {\n      \"column\": \"logit_prob\",\n      \"properties\": {\n        \"dtype\": \"number\",\n        \"std\": 0.23654546727646603,\n        \"min\": 0.06462849644004252,\n        \"max\": 0.9964163407496437,\n        \"num_unique_values\": 300,\n        \"samples\": [\n          0.6047575971126016,\n          0.9149127122761368\n        ],\n        \"semantic_type\": \"\",\n        \"description\": \"\"\n      }\n    },\n    {\n      \"column\": \"knn_prob\",\n      \"properties\": {\n        \"dtype\": \"number\",\n        \"std\": 0.2391167321502264,\n        \"min\": 0.0,\n        \"max\": 1.0,\n        \"num_unique_values\": 6,\n        \"samples\": [\n          0.8,\n          1.0\n        ],\n        \"semantic_type\": \"\",\n        \"description\": \"\"\n      }\n    },\n    {\n      \"column\": \"rf_prob\",\n      \"properties\": {\n        \"dtype\": \"number\",\n        \"std\": 0.18169123722848804,\n        \"min\": 0.17,\n        \"max\": 1.0,\n        \"num_unique_values\": 72,\n        \"samples\": [\n          0.94,\n          0.37\n        ],\n        \"semantic_type\": \"\",\n        \"description\": \"\"\n      }\n    },\n    {\n      \"column\": \"dummy_prob\",\n      \"properties\": {\n        \"dtype\": \"number\",\n        \"std\": 0.0,\n        \"min\": 1.0,\n        \"max\": 1.0,\n        \"num_unique_values\": 1,\n        \"samples\": [\n          1.0\n        ],\n        \"semantic_type\": \"\",\n        \"description\": \"\"\n      }\n    }\n  ]\n}"
            }
          },
          "metadata": {},
          "execution_count": 25
        }
      ]
    },
    {
      "cell_type": "markdown",
      "metadata": {
        "id": "rRyDLresSWjG"
      },
      "source": [
        "<font color='red'>  **(Homework exercise 2- b)** Here we implement and visualise PR curves for the classifiers built in the previous subtask (2-a). **(1 point)**</font>"
      ]
    },
    {
      "cell_type": "markdown",
      "source": [
        "<font color='red'>  Transform the function `generate_coordinates` from the practice session into a new function `generate_PR_coordinates` such that the latter instead of FPRs and TPRs computes Precision and Recall for each possible threshold. Note that unlike practice session we have `good` and `bad` as labels instead of 0 and 1. Make use of `positive_label` variable to compute `tp`, `fn` and `fp` metrics. </font>"
      ],
      "metadata": {
        "id": "b5PiRgwRW91n"
      }
    },
    {
      "cell_type": "code",
      "source": [
        "def generate_PR_coordinates(scores, classes, positive_label=\"good\"):\n",
        "\n",
        "  # obtain thresholds using sorted unique score values\n",
        "  thresholds = np.sort(scores.unique())[::-1]\n",
        "\n",
        "  # initialise\n",
        "  precisions = []\n",
        "  recalls = []\n",
        "\n",
        "  for threshold in thresholds:\n",
        "\n",
        "    ##### YOUR CODE STARTS #####\n",
        "    # make use of positive_label\n",
        "    # Make predictions based on the threshold\n",
        "    predicted_positive = scores >= threshold\n",
        "\n",
        "    # Calculate tp, fp, fn\n",
        "    tp = sum((predicted_positive) & (classes == positive_label))\n",
        "    fp = sum((predicted_positive) & (classes != positive_label))\n",
        "    fn = sum((~predicted_positive) & (classes == positive_label))\n",
        "\n",
        "    # Compute precision and recall\n",
        "    precision = tp / (tp + fp) if (tp + fp) > 0 else 0\n",
        "    recall = tp / (tp + fn) if (tp + fn) > 0 else 0\n",
        "    ##### YOUR CODE ENDS #####\n",
        "\n",
        "    recalls.append(recall)\n",
        "    precisions.append(precision)\n",
        "\n",
        "  pr_coordinates = pd.DataFrame({'PRECISION': np.round(precisions, 3),\n",
        "                                 'RECALL': np.round(recalls, 3)},\n",
        "                                index=thresholds)\n",
        "\n",
        "  return pr_coordinates"
      ],
      "metadata": {
        "id": "XpA0nuLceNSp"
      },
      "execution_count": 26,
      "outputs": []
    },
    {
      "cell_type": "markdown",
      "source": [
        "<font color='red'> Create PRC coordinates for each model using `generate_PR_coordinates`. </font>"
      ],
      "metadata": {
        "id": "gKMNomCuWZ72"
      }
    },
    {
      "cell_type": "code",
      "metadata": {
        "id": "vdelTb9gHIZ-"
      },
      "source": [
        "#### YOUR CODE STARTS ####\n",
        "# Generate PR coordinates for each classifier\n",
        "pr_logit = generate_PR_coordinates(y_test['logit_prob'], y_test['class'], positive_label=\"bad\")\n",
        "pr_knn = generate_PR_coordinates(y_test['knn_prob'], y_test['class'], positive_label=\"bad\")\n",
        "pr_rf = generate_PR_coordinates(y_test['rf_prob'], y_test['class'], positive_label=\"bad\")\n",
        "pr_dummy = generate_PR_coordinates(y_test['dummy_prob'], y_test['class'], positive_label=\"bad\")\n",
        "#### YOUR CODE ENDS ####"
      ],
      "execution_count": 27,
      "outputs": []
    },
    {
      "cell_type": "code",
      "metadata": {
        "id": "7YwTbxpJHnJV"
      },
      "source": [
        "# Note that our PRCs will start from 1,0 not 0,0 in case of ROCs\n",
        "top_row =  pd.DataFrame({'PRECISION':1, 'RECALL':0}, index=[1.0])\n",
        "\n",
        "#### YOUR CODE STARTS ####\n",
        "pr_logit = pd.concat([top_row, pr_logit])\n",
        "pr_knn = pd.concat([top_row, pr_knn])\n",
        "pr_rf = pd.concat([top_row, pr_rf])\n",
        "pr_dummy = pd.concat([top_row, pr_dummy])\n",
        "#### YOUR CODE ENDS ####"
      ],
      "execution_count": 28,
      "outputs": []
    },
    {
      "cell_type": "code",
      "source": [
        "# Store all PR coordinates in a dictionary\n",
        "coordinates_dict = {\n",
        "    \"Logistic Regression\": pr_logit,\n",
        "    \"KNN\": pr_knn,\n",
        "    \"Random Forest\": pr_rf,\n",
        "    \"Dummy Classifier\": pr_dummy\n",
        "}"
      ],
      "metadata": {
        "id": "JiivnxxGZUzO"
      },
      "execution_count": 29,
      "outputs": []
    },
    {
      "cell_type": "markdown",
      "source": [
        "<font color='red'> Next, use function `plot_pr` which was provided to you to visualise PRCs for all four models. </font>"
      ],
      "metadata": {
        "id": "e6iaLR4YWMC7"
      }
    },
    {
      "cell_type": "code",
      "source": [
        "def plot_pr(coordinates_dict):\n",
        "  \"\"\"\n",
        "  plot_pr function plots all models' PRCs on one plot\n",
        "  \"\"\"\n",
        "  plotting_data = pd.DataFrame(columns=['PRECISION', 'RECALL', 'Method'])\n",
        "\n",
        "  for id, name in enumerate(coordinates_dict.keys()):\n",
        "    method_data = coordinates_dict[name]\n",
        "    method_data['Method'] = name\n",
        "    plotting_data = pd.concat([plotting_data, method_data])\n",
        "\n",
        "  plotting_data['Method'] = pd.Categorical(plotting_data['Method'])\n",
        "\n",
        "  roc_plot = (\n",
        "        ggplot(data = plotting_data, # creates a canvas\n",
        "        mapping = aes(x = 'RECALL', y = 'PRECISION', colour = 'Method')) + # specifies dimensions\n",
        "        geom_path(size = 1.5) + # determines geometric primitive to be visualised (path/line in our case) and its thickness\n",
        "        labs(title ='', x = 'RECALL', y = 'PRECISION') + # labels of the x and y axes\n",
        "        theme_bw() + # colour schema\n",
        "        theme(figure_size = (5, 5), # figure size\n",
        "              axis_line = element_line(size = 0.5, colour = \"black\"),\n",
        "              panel_grid_major = element_line(size = 0.05, colour = \"black\"),\n",
        "              panel_grid_minor = element_line(size = 0.05, colour = \"black\"),\n",
        "              axis_text = element_text(colour ='black')) # more formatting details\n",
        "      )\n",
        "  return roc_plot\n"
      ],
      "metadata": {
        "id": "0UjQPBGQfGmr"
      },
      "execution_count": 30,
      "outputs": []
    },
    {
      "cell_type": "markdown",
      "source": [
        "<font color='red'>  Visualise the resulting PR curves below. </font>"
      ],
      "metadata": {
        "id": "bO0EwnfIGbjV"
      }
    },
    {
      "cell_type": "code",
      "metadata": {
        "id": "DxSv-nGxIBig",
        "colab": {
          "base_uri": "https://localhost:8080/",
          "height": 517
        },
        "outputId": "3f44185c-0cfe-425c-9835-60e1fde0319d"
      },
      "source": [
        "#### YOUR CODE STARTS ####\n",
        "pr_plot = plot_pr(coordinates_dict)\n",
        "pr_plot\n",
        "#### YOUR CODE ENDS ####"
      ],
      "execution_count": 31,
      "outputs": [
        {
          "output_type": "display_data",
          "data": {
            "image/png": "[encoded data removed]"
          },
          "metadata": {
            "image/png": {
              "width": 500,
              "height": 500
            }
          }
        }
      ]
    },
    {
      "cell_type": "markdown",
      "source": [
        "<font color='red'>  **(Homework exercise 2- c)** Use sklearn functions `PrecisionRecallDisplay` and `precision_recall_curve` and matplotlib to verify that your curves from 2-b are correct. **(0.5 points)**</font>"
      ],
      "metadata": {
        "id": "IJuw-Mg309X0"
      }
    },
    {
      "cell_type": "code",
      "source": [
        "#Importing the required libraries\n",
        "from sklearn.metrics._plot.precision_recall_curve import PrecisionRecallDisplay\n",
        "from sklearn.metrics import precision_recall_curve\n",
        "import matplotlib.pyplot as plt\n",
        "ax = plt.gca()\n",
        "\n",
        "#### YOUR CODE STARTS ####\n",
        "# Compute precision, recall, and thresholds for each model\n",
        "lr_prec, lr_recall, _ = precision_recall_curve(y_test['class'] == \"bad\", y_test['logit_prob'])\n",
        "knn_prec, knn_recall, _ = precision_recall_curve(y_test['class'] == \"bad\", y_test['knn_prob'])\n",
        "rf_prec, rf_recall, _ = precision_recall_curve(y_test['class'] == \"bad\", y_test['rf_prob'])\n",
        "dummy_prec, dummy_recall, _ = precision_recall_curve(y_test['class'] == \"bad\", y_test['dummy_prob'])\n",
        "\n",
        "# Create PrecisionRecallDisplay objects\n",
        "lr_disp = PrecisionRecallDisplay(precision=lr_prec, recall=lr_recall)\n",
        "knn_disp = PrecisionRecallDisplay(precision=knn_prec, recall=knn_recall)\n",
        "rf_disp = PrecisionRecallDisplay(precision=rf_prec, recall=rf_recall)\n",
        "majority_disp = PrecisionRecallDisplay(precision=dummy_prec, recall=dummy_recall)\n",
        "\n",
        "#### YOUR CODE ENDS ####\n",
        "rf_disp.plot(ax=ax, alpha=0.8, drawstyle = 'default', label='RF')\n",
        "lr_disp.plot(ax=ax, alpha=0.8, drawstyle = 'default', label='LR')\n",
        "knn_disp.plot(ax=ax, alpha=0.8, drawstyle = 'default', label='KNN')\n",
        "majority_disp.plot(ax=ax, alpha=0.8, drawstyle = 'default', label='Majority')\n",
        "\n",
        "ax.set_ylim(0.65, 1.05)\n",
        "plt.show()"
      ],
      "metadata": {
        "id": "lAQDbhq1p14b",
        "colab": {
          "base_uri": "https://localhost:8080/",
          "height": 274
        },
        "outputId": "8d84ebb6-a9fb-49da-e82e-2207b36bf820"
      },
      "execution_count": 32,
      "outputs": [
        {
          "output_type": "display_data",
          "data": {
            "text/plain": [
              "<Figure size 640x480 with 1 Axes>"
            ],
            "image/png": "[encoded data removed]"
          },
          "metadata": {}
        }
      ]
    },
    {
      "cell_type": "markdown",
      "metadata": {
        "id": "FUL2UsmQMjcU"
      },
      "source": [
        "<font color='red'>  **(Homework exercise 2- d)** Create two ensembles: VotingClassifier (with soft voting) and StackingClassifier using previously trained (reasonable) models. Visualise performances of the ensembles using PRCs. Add PRCs from the previous models on the same plot for the comparison. Analyse the resulting plot and provide the interpretation. **(0.5 points)**</font>"
      ]
    },
    {
      "cell_type": "code",
      "source": [
        "from sklearn.ensemble import VotingClassifier, StackingClassifier\n",
        "from sklearn.linear_model import LogisticRegression\n",
        "from sklearn.neighbors import KNeighborsClassifier\n",
        "from sklearn.ensemble import RandomForestClassifier\n",
        "from sklearn.metrics import precision_recall_curve, PrecisionRecallDisplay\n",
        "\n",
        "#### YOUR CODE STARTS ####\n",
        "# Define base models (assuming they are already trained)\n",
        "log_reg = LogisticRegression(max_iter=10000, random_state=13)\n",
        "knn = KNeighborsClassifier(n_neighbors=5)\n",
        "rf = RandomForestClassifier(random_state=13)\n",
        "\n",
        "# Voting\n",
        "voting_clf = VotingClassifier(estimators=[('lr', log_reg), ('knn', knn), ('rf', rf)], voting='soft')\n",
        "voting_clf.fit(X_train_transformed, y_train['class'])\n",
        "\n",
        "# Stacking\n",
        "stacking_clf = StackingClassifier(estimators=[('lr', log_reg), ('knn', knn), ('rf', rf)], final_estimator=LogisticRegression())\n",
        "stacking_clf.fit(X_train_transformed, y_train['class'])\n",
        "\n",
        "# Compute probabilities for PR curve\n",
        "voting_prob = voting_clf.predict_proba(X_test_transformed)[:, 1]\n",
        "stacking_prob = stacking_clf.predict_proba(X_test_transformed)[:, 1]\n",
        "#### YOUR CODE ENDS ####"
      ],
      "metadata": {
        "id": "oVnq6JeptwXA"
      },
      "execution_count": 33,
      "outputs": []
    },
    {
      "cell_type": "markdown",
      "source": [
        "<font color='red'> Create PRC coordinates for each model using `generate_PR_coordinates`. </font>"
      ],
      "metadata": {
        "id": "Fgp6p2LKucnj"
      }
    },
    {
      "cell_type": "code",
      "source": [
        "#### YOUR CODE STARTS ####\n",
        "pr_logit = generate_PR_coordinates(y_test['logit_prob'], y_test['class'], positive_label=\"bad\")\n",
        "pr_knn = generate_PR_coordinates(y_test['knn_prob'], y_test['class'], positive_label=\"bad\")\n",
        "pr_rf = generate_PR_coordinates(y_test['rf_prob'], y_test['class'], positive_label=\"bad\")\n",
        "pr_dummy = generate_PR_coordinates(y_test['dummy_prob'], y_test['class'], positive_label=\"bad\")\n",
        "pr_voting = generate_PR_coordinates(pd.Series(voting_prob), y_test['class'], positive_label=\"bad\")\n",
        "pr_stacking = generate_PR_coordinates(pd.Series(stacking_prob), y_test['class'], positive_label=\"bad\")\n",
        "\n",
        "# Add top row to PRC coordinates for all models\n",
        "top_row = pd.DataFrame({'PRECISION': 1, 'RECALL': 0}, index=[1.0])\n",
        "pr_logit = pd.concat([top_row, pr_logit])\n",
        "pr_knn = pd.concat([top_row, pr_knn])\n",
        "pr_rf = pd.concat([top_row, pr_rf])\n",
        "pr_dummy = pd.concat([top_row, pr_dummy])\n",
        "pr_voting = pd.concat([top_row, pr_voting])\n",
        "pr_stacking = pd.concat([top_row, pr_stacking])\n",
        "\n",
        "# Store all PR coordinates in a dictionary\n",
        "coordinates_dict = {\n",
        "    \"Logistic Regression\": pr_logit,\n",
        "    \"KNN\": pr_knn,\n",
        "    \"Random Forest\": pr_rf,\n",
        "    \"Dummy Classifier\": pr_dummy,\n",
        "    \"Voting Classifier\": pr_voting,\n",
        "    \"Stacking Classifier\": pr_stacking\n",
        "}\n",
        "#### YOUR CODE ENDS ####"
      ],
      "metadata": {
        "id": "ZKvU0mwVt6Cd"
      },
      "execution_count": 34,
      "outputs": []
    },
    {
      "cell_type": "markdown",
      "source": [
        "<font color='red'>  Visualise the resulting PR curves below. </font>"
      ],
      "metadata": {
        "id": "dWi5ygOBJCi8"
      }
    },
    {
      "cell_type": "code",
      "source": [
        "#### YOUR CODE STARTS ####\n",
        "pr_plot = plot_pr(coordinates_dict)\n",
        "pr_plot\n",
        "#### YOUR CODE ENDS ####"
      ],
      "metadata": {
        "id": "KyqjgNMMHqSm",
        "colab": {
          "base_uri": "https://localhost:8080/",
          "height": 517
        },
        "outputId": "5e430b2c-7240-4277-b501-572e07da07ae"
      },
      "execution_count": 35,
      "outputs": [
        {
          "output_type": "display_data",
          "data": {
            "image/png": "[encoded data removed]"
          },
          "metadata": {
            "image/png": {
              "width": 500,
              "height": 500
            }
          }
        }
      ]
    },
    {
      "cell_type": "markdown",
      "source": [
        "<font color='red'>  Analyse the above figure and explain why both stacking and voting models exhibit steep decline in the lower left corner. Your answer: </font>"
      ],
      "metadata": {
        "id": "zNHfSxKB8z1g"
      }
    },
    {
      "cell_type": "markdown",
      "source": [],
      "metadata": {
        "id": "n4xE7Xp09IkO"
      }
    },
    {
      "cell_type": "markdown",
      "source": [
        "## Homework exercise 3: improving classifier's performance with dataset balancing (4 points)"
      ],
      "metadata": {
        "id": "NCdZudhH_WJc"
      }
    },
    {
      "cell_type": "markdown",
      "source": [
        "<font color='red'>  **(Homework exercise 3- a)** Explore the class distribution of the credit dataset. Train a classifier on the original dataset. Evaluate it on the test set using several performance metrics. Use sklearn for calculating metrics, no need to implement them yourself.  **(1 point)**</font>"
      ],
      "metadata": {
        "id": "aOsMhG0hQlTh"
      }
    },
    {
      "cell_type": "markdown",
      "source": [
        "<font color='red'> Plot the histogram of the class distribution below to remind ourselves how badly unbalanced the dataset is.</font>"
      ],
      "metadata": {
        "id": "MGvXJL4CFhKg"
      }
    },
    {
      "cell_type": "code",
      "source": [
        "plot_class_distribution(y_train['class'], title=\"Class Distribution in Training Set\")"
      ],
      "metadata": {
        "id": "9mvq05hORwQF",
        "colab": {
          "base_uri": "https://localhost:8080/",
          "height": 487
        },
        "outputId": "a489d191-23d6-4950-dd7c-4e55997bbd2a"
      },
      "execution_count": 36,
      "outputs": [
        {
          "output_type": "display_data",
          "data": {
            "text/plain": [
              "<Figure size 640x480 with 1 Axes>"
            ],
            "image/png": "[encoded data removed]"
          },
          "metadata": {}
        }
      ]
    },
    {
      "cell_type": "markdown",
      "source": [
        "<font color='red'>  Choose a classifier - **don't use DecisionTreeClassifier**, it only returns 0/1 for probabilities - train it on the training data and predict customer's credict risk (`bad` or `good`) on the test. Again, treat `good` as negative class and `bad` as positive. </font>"
      ],
      "metadata": {
        "id": "ajlcQ88EEq8z"
      }
    },
    {
      "cell_type": "code",
      "source": [
        "#### YOUR CODE STARTS ####\n",
        "from sklearn.naive_bayes import GaussianNB\n",
        "\n",
        "classifier = GaussianNB()\n",
        "classifier.fit(X_train_transformed, y_train['class'])\n",
        "y_pred = classifier.predict(X_test_transformed)\n",
        "#### YOUR CODE ENDS ####"
      ],
      "metadata": {
        "id": "ypxNq3xCDX8K"
      },
      "execution_count": 37,
      "outputs": []
    },
    {
      "cell_type": "markdown",
      "source": [
        "<font color='red'> Next, write a function `compute_and_print_metrics` where include four different metrics that we have studied in the class + Matthews Correlation Coefficient (also known as Phi coefficient in statistics), here is the [link](https://en.wikipedia.org/wiki/Phi_coefficient). </font>"
      ],
      "metadata": {
        "id": "dlJlUfS1ENyP"
      }
    },
    {
      "cell_type": "code",
      "source": [
        "import pandas as pd\n",
        "from sklearn.model_selection import train_test_split\n",
        "from sklearn.linear_model import LogisticRegression\n",
        "from sklearn.metrics import accuracy_score, precision_score, recall_score, f1_score, matthews_corrcoef\n",
        "from sklearn.preprocessing import StandardScaler"
      ],
      "metadata": {
        "id": "vyNgjwTRRfCq"
      },
      "execution_count": 38,
      "outputs": []
    },
    {
      "cell_type": "code",
      "source": [
        "def compute_and_print_metrics(y_test, y_pred):\n",
        "  #### YOUR CODE STARTS ####\n",
        "    # Accuracy\n",
        "    accuracy = accuracy_score(y_test, y_pred)\n",
        "\n",
        "    # Precision (for \"bad\" class)\n",
        "    precision = precision_score(y_test, y_pred, pos_label=\"bad\")\n",
        "\n",
        "    # Recall (for \"bad\" class)\n",
        "    recall = recall_score(y_test, y_pred, pos_label=\"bad\")\n",
        "\n",
        "    # F1 Score (for \"bad\" class)\n",
        "    f1 = f1_score(y_test, y_pred, pos_label=\"bad\")\n",
        "\n",
        "    # Matthews Correlation Coefficient\n",
        "    mcc = matthews_corrcoef(y_test, y_pred)\n",
        "\n",
        "    # Print all the metrics\n",
        "    print(f\"Accuracy: {accuracy:.4f}\")\n",
        "    print(f\"Precision (bad as positive): {precision:.4f}\")\n",
        "    print(f\"Recall (bad as positive): {recall:.4f}\")\n",
        "    print(f\"F1 Score (bad as positive): {f1:.4f}\")\n",
        "    print(f\"Matthews Correlation Coefficient: {mcc:.4f}\")\n",
        "  #### YOUR CODE ENDS ####"
      ],
      "metadata": {
        "id": "NdfM74_saBrN"
      },
      "execution_count": 40,
      "outputs": []
    },
    {
      "cell_type": "markdown",
      "source": [
        "<font color='red'> Use `compute_and_print_metrics` to evaluate the model of your choice. </font>"
      ],
      "metadata": {
        "id": "FQOxdAMsD29X"
      }
    },
    {
      "cell_type": "code",
      "source": [
        "compute_and_print_metrics(y_test['class'], y_pred)"
      ],
      "metadata": {
        "id": "kZZEIEoCRqJG",
        "colab": {
          "base_uri": "https://localhost:8080/"
        },
        "outputId": "d1ec9965-8309-4860-c0e5-6a1e333500e9"
      },
      "execution_count": 41,
      "outputs": [
        {
          "output_type": "stream",
          "name": "stdout",
          "text": [
            "Accuracy: 0.7033\n",
            "Precision (bad as positive): 0.5076\n",
            "Recall (bad as positive): 0.7363\n",
            "F1 Score (bad as positive): 0.6009\n",
            "Matthews Correlation Coefficient: 0.3938\n"
          ]
        }
      ]
    },
    {
      "cell_type": "markdown",
      "source": [
        "<font color='red'>  **(Homework exercise 3- b)** Create three balanced versions of the original dataset using:\n",
        "\n",
        "*   <font color='red'> Oversampling method </font>\n",
        "*   <font color='red'> Undersampling method </font>\n",
        "*   <font color='red'> Combination of Over- and Undersampling methods </font>\n",
        "\n",
        "Select **only** over- and undersampling methods that we have discussed in the regularisation lecture part II. Retrain your chosen classifier on each of the versions and evaluate on the original test set. Store models trained on different versions of the dataset in different variables, they will be useful for the next task.  **(1 point)** </font>\n"
      ],
      "metadata": {
        "id": "f7KC1oblaIV3"
      }
    },
    {
      "cell_type": "markdown",
      "source": [
        "<font color='red'> Below use an **oversampling** approach. </font>"
      ],
      "metadata": {
        "id": "WlLGB2k3KTQw"
      }
    },
    {
      "cell_type": "code",
      "source": [
        "from imblearn.over_sampling import SMOTE\n",
        "from sklearn.linear_model import LogisticRegression"
      ],
      "metadata": {
        "id": "_mmQEpdNaKqc"
      },
      "execution_count": 42,
      "outputs": []
    },
    {
      "cell_type": "code",
      "source": [
        "#### YOUR CODE STARTS ####\n",
        "# Instantiate SMOTE object\n",
        "smote = SMOTE(random_state=42)\n",
        "X_over, y_over = smote.fit_resample(X_train_transformed, y_train['class'])\n",
        "#### YOUR CODE ENDS ####"
      ],
      "metadata": {
        "id": "YGx3S8I-FXqy"
      },
      "execution_count": 43,
      "outputs": []
    },
    {
      "cell_type": "code",
      "source": [
        "plot_class_distribution(y_over, title=\"Class Distribution in Oversampled Training Set\")"
      ],
      "metadata": {
        "id": "gMax47NmF3no",
        "colab": {
          "base_uri": "https://localhost:8080/",
          "height": 487
        },
        "outputId": "2b231d4a-6182-4100-e55f-a7bcd3bb830d"
      },
      "execution_count": 44,
      "outputs": [
        {
          "output_type": "display_data",
          "data": {
            "text/plain": [
              "<Figure size 640x480 with 1 Axes>"
            ],
            "image/png": "[encoded data removed]"
          },
          "metadata": {}
        }
      ]
    },
    {
      "cell_type": "markdown",
      "source": [
        "<font color='red'> Re-train your classifier on **oversampled** version of the dataset and use `compute_and_print_metrics` to evaluate it. </font>"
      ],
      "metadata": {
        "id": "QBoNyB7OJ61x"
      }
    },
    {
      "cell_type": "code",
      "source": [
        "#### YOUR CODE STARTS ####\n",
        "# Re-train classifier on the oversampled version\n",
        "classifier_over = LogisticRegression(random_state=42)\n",
        "classifier_over.fit(X_over, y_over)\n",
        "#### YOUR CODE ENDS ####"
      ],
      "metadata": {
        "id": "b4z3NAKjF9MZ",
        "colab": {
          "base_uri": "https://localhost:8080/",
          "height": 80
        },
        "outputId": "dc4b41b8-fce9-457d-f88c-3d09250c3d0a"
      },
      "execution_count": 45,
      "outputs": [
        {
          "output_type": "execute_result",
          "data": {
            "text/plain": [
              "LogisticRegression(random_state=42)"
            ],
            "text/html": [
              "<style>#sk-container-id-2 {\n",
              "  /* Definition of color scheme common for light and dark mode */\n",
              "  --sklearn-color-text: black;\n",
              "  --sklearn-color-line: gray;\n",
              "  /* Definition of color scheme for unfitted estimators */\n",
              "  --sklearn-color-unfitted-level-0: #fff5e6;\n",
              "  --sklearn-color-unfitted-level-1: #f6e4d2;\n",
              "  --sklearn-color-unfitted-level-2: #ffe0b3;\n",
              "  --sklearn-color-unfitted-level-3: chocolate;\n",
              "  /* Definition of color scheme for fitted estimators */\n",
              "  --sklearn-color-fitted-level-0: #f0f8ff;\n",
              "  --sklearn-color-fitted-level-1: #d4ebff;\n",
              "  --sklearn-color-fitted-level-2: #b3dbfd;\n",
              "  --sklearn-color-fitted-level-3: cornflowerblue;\n",
              "\n",
              "  /* Specific color for light theme */\n",
              "  --sklearn-color-text-on-default-background: var(--sg-text-color, var(--theme-code-foreground, var(--jp-content-font-color1, black)));\n",
              "  --sklearn-color-background: var(--sg-background-color, var(--theme-background, var(--jp-layout-color0, white)));\n",
              "  --sklearn-color-border-box: var(--sg-text-color, var(--theme-code-foreground, var(--jp-content-font-color1, black)));\n",
              "  --sklearn-color-icon: #696969;\n",
              "\n",
              "  @media (prefers-color-scheme: dark) {\n",
              "    /* Redefinition of color scheme for dark theme */\n",
              "    --sklearn-color-text-on-default-background: var(--sg-text-color, var(--theme-code-foreground, var(--jp-content-font-color1, white)));\n",
              "    --sklearn-color-background: var(--sg-background-color, var(--theme-background, var(--jp-layout-color0, #111)));\n",
              "    --sklearn-color-border-box: var(--sg-text-color, var(--theme-code-foreground, var(--jp-content-font-color1, white)));\n",
              "    --sklearn-color-icon: #878787;\n",
              "  }\n",
              "}\n",
              "\n",
              "#sk-container-id-2 {\n",
              "  color: var(--sklearn-color-text);\n",
              "}\n",
              "\n",
              "#sk-container-id-2 pre {\n",
              "  padding: 0;\n",
              "}\n",
              "\n",
              "#sk-container-id-2 input.sk-hidden--visually {\n",
              "  border: 0;\n",
              "  clip: rect(1px 1px 1px 1px);\n",
              "  clip: rect(1px, 1px, 1px, 1px);\n",
              "  height: 1px;\n",
              "  margin: -1px;\n",
              "  overflow: hidden;\n",
              "  padding: 0;\n",
              "  position: absolute;\n",
              "  width: 1px;\n",
              "}\n",
              "\n",
              "#sk-container-id-2 div.sk-dashed-wrapped {\n",
              "  border: 1px dashed var(--sklearn-color-line);\n",
              "  margin: 0 0.4em 0.5em 0.4em;\n",
              "  box-sizing: border-box;\n",
              "  padding-bottom: 0.4em;\n",
              "  background-color: var(--sklearn-color-background);\n",
              "}\n",
              "\n",
              "#sk-container-id-2 div.sk-container {\n",
              "  /* jupyter's `normalize.less` sets `[hidden] { display: none; }`\n",
              "     but bootstrap.min.css set `[hidden] { display: none !important; }`\n",
              "     so we also need the `!important` here to be able to override the\n",
              "     default hidden behavior on the sphinx rendered scikit-learn.org.\n",
              "     See: https://github.com/scikit-learn/scikit-learn/issues/21755 */\n",
              "  display: inline-block !important;\n",
              "  position: relative;\n",
              "}\n",
              "\n",
              "#sk-container-id-2 div.sk-text-repr-fallback {\n",
              "  display: none;\n",
              "}\n",
              "\n",
              "div.sk-parallel-item,\n",
              "div.sk-serial,\n",
              "div.sk-item {\n",
              "  /* draw centered vertical line to link estimators */\n",
              "  background-image: linear-gradient(var(--sklearn-color-text-on-default-background), var(--sklearn-color-text-on-default-background));\n",
              "  background-size: 2px 100%;\n",
              "  background-repeat: no-repeat;\n",
              "  background-position: center center;\n",
              "}\n",
              "\n",
              "/* Parallel-specific style estimator block */\n",
              "\n",
              "#sk-container-id-2 div.sk-parallel-item::after {\n",
              "  content: \"\";\n",
              "  width: 100%;\n",
              "  border-bottom: 2px solid var(--sklearn-color-text-on-default-background);\n",
              "  flex-grow: 1;\n",
              "}\n",
              "\n",
              "#sk-container-id-2 div.sk-parallel {\n",
              "  display: flex;\n",
              "  align-items: stretch;\n",
              "  justify-content: center;\n",
              "  background-color: var(--sklearn-color-background);\n",
              "  position: relative;\n",
              "}\n",
              "\n",
              "#sk-container-id-2 div.sk-parallel-item {\n",
              "  display: flex;\n",
              "  flex-direction: column;\n",
              "}\n",
              "\n",
              "#sk-container-id-2 div.sk-parallel-item:first-child::after {\n",
              "  align-self: flex-end;\n",
              "  width: 50%;\n",
              "}\n",
              "\n",
              "#sk-container-id-2 div.sk-parallel-item:last-child::after {\n",
              "  align-self: flex-start;\n",
              "  width: 50%;\n",
              "}\n",
              "\n",
              "#sk-container-id-2 div.sk-parallel-item:only-child::after {\n",
              "  width: 0;\n",
              "}\n",
              "\n",
              "/* Serial-specific style estimator block */\n",
              "\n",
              "#sk-container-id-2 div.sk-serial {\n",
              "  display: flex;\n",
              "  flex-direction: column;\n",
              "  align-items: center;\n",
              "  background-color: var(--sklearn-color-background);\n",
              "  padding-right: 1em;\n",
              "  padding-left: 1em;\n",
              "}\n",
              "\n",
              "\n",
              "/* Toggleable style: style used for estimator/Pipeline/ColumnTransformer box that is\n",
              "clickable and can be expanded/collapsed.\n",
              "- Pipeline and ColumnTransformer use this feature and define the default style\n",
              "- Estimators will overwrite some part of the style using the `sk-estimator` class\n",
              "*/\n",
              "\n",
              "/* Pipeline and ColumnTransformer style (default) */\n",
              "\n",
              "#sk-container-id-2 div.sk-toggleable {\n",
              "  /* Default theme specific background. It is overwritten whether we have a\n",
              "  specific estimator or a Pipeline/ColumnTransformer */\n",
              "  background-color: var(--sklearn-color-background);\n",
              "}\n",
              "\n",
              "/* Toggleable label */\n",
              "#sk-container-id-2 label.sk-toggleable__label {\n",
              "  cursor: pointer;\n",
              "  display: block;\n",
              "  width: 100%;\n",
              "  margin-bottom: 0;\n",
              "  padding: 0.5em;\n",
              "  box-sizing: border-box;\n",
              "  text-align: center;\n",
              "}\n",
              "\n",
              "#sk-container-id-2 label.sk-toggleable__label-arrow:before {\n",
              "  /* Arrow on the left of the label */\n",
              "  content: \"▸\";\n",
              "  float: left;\n",
              "  margin-right: 0.25em;\n",
              "  color: var(--sklearn-color-icon);\n",
              "}\n",
              "\n",
              "#sk-container-id-2 label.sk-toggleable__label-arrow:hover:before {\n",
              "  color: var(--sklearn-color-text);\n",
              "}\n",
              "\n",
              "/* Toggleable content - dropdown */\n",
              "\n",
              "#sk-container-id-2 div.sk-toggleable__content {\n",
              "  max-height: 0;\n",
              "  max-width: 0;\n",
              "  overflow: hidden;\n",
              "  text-align: left;\n",
              "  /* unfitted */\n",
              "  background-color: var(--sklearn-color-unfitted-level-0);\n",
              "}\n",
              "\n",
              "#sk-container-id-2 div.sk-toggleable__content.fitted {\n",
              "  /* fitted */\n",
              "  background-color: var(--sklearn-color-fitted-level-0);\n",
              "}\n",
              "\n",
              "#sk-container-id-2 div.sk-toggleable__content pre {\n",
              "  margin: 0.2em;\n",
              "  border-radius: 0.25em;\n",
              "  color: var(--sklearn-color-text);\n",
              "  /* unfitted */\n",
              "  background-color: var(--sklearn-color-unfitted-level-0);\n",
              "}\n",
              "\n",
              "#sk-container-id-2 div.sk-toggleable__content.fitted pre {\n",
              "  /* unfitted */\n",
              "  background-color: var(--sklearn-color-fitted-level-0);\n",
              "}\n",
              "\n",
              "#sk-container-id-2 input.sk-toggleable__control:checked~div.sk-toggleable__content {\n",
              "  /* Expand drop-down */\n",
              "  max-height: 200px;\n",
              "  max-width: 100%;\n",
              "  overflow: auto;\n",
              "}\n",
              "\n",
              "#sk-container-id-2 input.sk-toggleable__control:checked~label.sk-toggleable__label-arrow:before {\n",
              "  content: \"▾\";\n",
              "}\n",
              "\n",
              "/* Pipeline/ColumnTransformer-specific style */\n",
              "\n",
              "#sk-container-id-2 div.sk-label input.sk-toggleable__control:checked~label.sk-toggleable__label {\n",
              "  color: var(--sklearn-color-text);\n",
              "  background-color: var(--sklearn-color-unfitted-level-2);\n",
              "}\n",
              "\n",
              "#sk-container-id-2 div.sk-label.fitted input.sk-toggleable__control:checked~label.sk-toggleable__label {\n",
              "  background-color: var(--sklearn-color-fitted-level-2);\n",
              "}\n",
              "\n",
              "/* Estimator-specific style */\n",
              "\n",
              "/* Colorize estimator box */\n",
              "#sk-container-id-2 div.sk-estimator input.sk-toggleable__control:checked~label.sk-toggleable__label {\n",
              "  /* unfitted */\n",
              "  background-color: var(--sklearn-color-unfitted-level-2);\n",
              "}\n",
              "\n",
              "#sk-container-id-2 div.sk-estimator.fitted input.sk-toggleable__control:checked~label.sk-toggleable__label {\n",
              "  /* fitted */\n",
              "  background-color: var(--sklearn-color-fitted-level-2);\n",
              "}\n",
              "\n",
              "#sk-container-id-2 div.sk-label label.sk-toggleable__label,\n",
              "#sk-container-id-2 div.sk-label label {\n",
              "  /* The background is the default theme color */\n",
              "  color: var(--sklearn-color-text-on-default-background);\n",
              "}\n",
              "\n",
              "/* On hover, darken the color of the background */\n",
              "#sk-container-id-2 div.sk-label:hover label.sk-toggleable__label {\n",
              "  color: var(--sklearn-color-text);\n",
              "  background-color: var(--sklearn-color-unfitted-level-2);\n",
              "}\n",
              "\n",
              "/* Label box, darken color on hover, fitted */\n",
              "#sk-container-id-2 div.sk-label.fitted:hover label.sk-toggleable__label.fitted {\n",
              "  color: var(--sklearn-color-text);\n",
              "  background-color: var(--sklearn-color-fitted-level-2);\n",
              "}\n",
              "\n",
              "/* Estimator label */\n",
              "\n",
              "#sk-container-id-2 div.sk-label label {\n",
              "  font-family: monospace;\n",
              "  font-weight: bold;\n",
              "  display: inline-block;\n",
              "  line-height: 1.2em;\n",
              "}\n",
              "\n",
              "#sk-container-id-2 div.sk-label-container {\n",
              "  text-align: center;\n",
              "}\n",
              "\n",
              "/* Estimator-specific */\n",
              "#sk-container-id-2 div.sk-estimator {\n",
              "  font-family: monospace;\n",
              "  border: 1px dotted var(--sklearn-color-border-box);\n",
              "  border-radius: 0.25em;\n",
              "  box-sizing: border-box;\n",
              "  margin-bottom: 0.5em;\n",
              "  /* unfitted */\n",
              "  background-color: var(--sklearn-color-unfitted-level-0);\n",
              "}\n",
              "\n",
              "#sk-container-id-2 div.sk-estimator.fitted {\n",
              "  /* fitted */\n",
              "  background-color: var(--sklearn-color-fitted-level-0);\n",
              "}\n",
              "\n",
              "/* on hover */\n",
              "#sk-container-id-2 div.sk-estimator:hover {\n",
              "  /* unfitted */\n",
              "  background-color: var(--sklearn-color-unfitted-level-2);\n",
              "}\n",
              "\n",
              "#sk-container-id-2 div.sk-estimator.fitted:hover {\n",
              "  /* fitted */\n",
              "  background-color: var(--sklearn-color-fitted-level-2);\n",
              "}\n",
              "\n",
              "/* Specification for estimator info (e.g. \"i\" and \"?\") */\n",
              "\n",
              "/* Common style for \"i\" and \"?\" */\n",
              "\n",
              ".sk-estimator-doc-link,\n",
              "a:link.sk-estimator-doc-link,\n",
              "a:visited.sk-estimator-doc-link {\n",
              "  float: right;\n",
              "  font-size: smaller;\n",
              "  line-height: 1em;\n",
              "  font-family: monospace;\n",
              "  background-color: var(--sklearn-color-background);\n",
              "  border-radius: 1em;\n",
              "  height: 1em;\n",
              "  width: 1em;\n",
              "  text-decoration: none !important;\n",
              "  margin-left: 1ex;\n",
              "  /* unfitted */\n",
              "  border: var(--sklearn-color-unfitted-level-1) 1pt solid;\n",
              "  color: var(--sklearn-color-unfitted-level-1);\n",
              "}\n",
              "\n",
              ".sk-estimator-doc-link.fitted,\n",
              "a:link.sk-estimator-doc-link.fitted,\n",
              "a:visited.sk-estimator-doc-link.fitted {\n",
              "  /* fitted */\n",
              "  border: var(--sklearn-color-fitted-level-1) 1pt solid;\n",
              "  color: var(--sklearn-color-fitted-level-1);\n",
              "}\n",
              "\n",
              "/* On hover */\n",
              "div.sk-estimator:hover .sk-estimator-doc-link:hover,\n",
              ".sk-estimator-doc-link:hover,\n",
              "div.sk-label-container:hover .sk-estimator-doc-link:hover,\n",
              ".sk-estimator-doc-link:hover {\n",
              "  /* unfitted */\n",
              "  background-color: var(--sklearn-color-unfitted-level-3);\n",
              "  color: var(--sklearn-color-background);\n",
              "  text-decoration: none;\n",
              "}\n",
              "\n",
              "div.sk-estimator.fitted:hover .sk-estimator-doc-link.fitted:hover,\n",
              ".sk-estimator-doc-link.fitted:hover,\n",
              "div.sk-label-container:hover .sk-estimator-doc-link.fitted:hover,\n",
              ".sk-estimator-doc-link.fitted:hover {\n",
              "  /* fitted */\n",
              "  background-color: var(--sklearn-color-fitted-level-3);\n",
              "  color: var(--sklearn-color-background);\n",
              "  text-decoration: none;\n",
              "}\n",
              "\n",
              "/* Span, style for the box shown on hovering the info icon */\n",
              ".sk-estimator-doc-link span {\n",
              "  display: none;\n",
              "  z-index: 9999;\n",
              "  position: relative;\n",
              "  font-weight: normal;\n",
              "  right: .2ex;\n",
              "  padding: .5ex;\n",
              "  margin: .5ex;\n",
              "  width: min-content;\n",
              "  min-width: 20ex;\n",
              "  max-width: 50ex;\n",
              "  color: var(--sklearn-color-text);\n",
              "  box-shadow: 2pt 2pt 4pt #999;\n",
              "  /* unfitted */\n",
              "  background: var(--sklearn-color-unfitted-level-0);\n",
              "  border: .5pt solid var(--sklearn-color-unfitted-level-3);\n",
              "}\n",
              "\n",
              ".sk-estimator-doc-link.fitted span {\n",
              "  /* fitted */\n",
              "  background: var(--sklearn-color-fitted-level-0);\n",
              "  border: var(--sklearn-color-fitted-level-3);\n",
              "}\n",
              "\n",
              ".sk-estimator-doc-link:hover span {\n",
              "  display: block;\n",
              "}\n",
              "\n",
              "/* \"?\"-specific style due to the `<a>` HTML tag */\n",
              "\n",
              "#sk-container-id-2 a.estimator_doc_link {\n",
              "  float: right;\n",
              "  font-size: 1rem;\n",
              "  line-height: 1em;\n",
              "  font-family: monospace;\n",
              "  background-color: var(--sklearn-color-background);\n",
              "  border-radius: 1rem;\n",
              "  height: 1rem;\n",
              "  width: 1rem;\n",
              "  text-decoration: none;\n",
              "  /* unfitted */\n",
              "  color: var(--sklearn-color-unfitted-level-1);\n",
              "  border: var(--sklearn-color-unfitted-level-1) 1pt solid;\n",
              "}\n",
              "\n",
              "#sk-container-id-2 a.estimator_doc_link.fitted {\n",
              "  /* fitted */\n",
              "  border: var(--sklearn-color-fitted-level-1) 1pt solid;\n",
              "  color: var(--sklearn-color-fitted-level-1);\n",
              "}\n",
              "\n",
              "/* On hover */\n",
              "#sk-container-id-2 a.estimator_doc_link:hover {\n",
              "  /* unfitted */\n",
              "  background-color: var(--sklearn-color-unfitted-level-3);\n",
              "  color: var(--sklearn-color-background);\n",
              "  text-decoration: none;\n",
              "}\n",
              "\n",
              "#sk-container-id-2 a.estimator_doc_link.fitted:hover {\n",
              "  /* fitted */\n",
              "  background-color: var(--sklearn-color-fitted-level-3);\n",
              "}\n",
              "</style><div id=\"sk-container-id-2\" class=\"sk-top-container\"><div class=\"sk-text-repr-fallback\"><pre>LogisticRegression(random_state=42)</pre><b>In a Jupyter environment, please rerun this cell to show the HTML representation or trust the notebook. <br />On GitHub, the HTML representation is unable to render, please try loading this page with nbviewer.org.</b></div><div class=\"sk-container\" hidden><div class=\"sk-item\"><div class=\"sk-estimator fitted sk-toggleable\"><input class=\"sk-toggleable__control sk-hidden--visually\" id=\"sk-estimator-id-2\" type=\"checkbox\" checked><label for=\"sk-estimator-id-2\" class=\"sk-toggleable__label fitted sk-toggleable__label-arrow fitted\">&nbsp;&nbsp;LogisticRegression<a class=\"sk-estimator-doc-link fitted\" rel=\"noreferrer\" target=\"_blank\" href=\"https://scikit-learn.org/1.5/modules/generated/sklearn.linear_model.LogisticRegression.html\">?<span>Documentation for LogisticRegression</span></a><span class=\"sk-estimator-doc-link fitted\">i<span>Fitted</span></span></label><div class=\"sk-toggleable__content fitted\"><pre>LogisticRegression(random_state=42)</pre></div> </div></div></div></div>"
            ]
          },
          "metadata": {},
          "execution_count": 45
        }
      ]
    },
    {
      "cell_type": "code",
      "source": [
        "y_pred_over = classifier_over.predict(X_test_transformed)\n",
        "compute_and_print_metrics(y_test['class'], y_pred_over)"
      ],
      "metadata": {
        "colab": {
          "base_uri": "https://localhost:8080/"
        },
        "id": "oXK5-IBIaXZ2",
        "outputId": "6267f995-8e32-4588-fe41-337f65b7b17b"
      },
      "execution_count": 46,
      "outputs": [
        {
          "output_type": "stream",
          "name": "stdout",
          "text": [
            "Accuracy: 0.7500\n",
            "Precision (bad as positive): 0.5714\n",
            "Recall (bad as positive): 0.7033\n",
            "F1 Score (bad as positive): 0.6305\n",
            "Matthews Correlation Coefficient: 0.4501\n"
          ]
        }
      ]
    },
    {
      "cell_type": "markdown",
      "source": [
        "<font color='red'> Below use an **undersampling** approach. </font>"
      ],
      "metadata": {
        "id": "8CrYAnaBKfqx"
      }
    },
    {
      "cell_type": "code",
      "source": [
        "from imblearn.under_sampling import RandomUnderSampler\n",
        "from sklearn.linear_model import LogisticRegression\n",
        "#### YOUR CODE STARTS ####\n",
        "undersampler = RandomUnderSampler(random_state=42)\n",
        "X_under, y_under = undersampler.fit_resample(X_train_transformed, y_train['class'])\n",
        "#### YOUR CODE ENDS ####"
      ],
      "metadata": {
        "id": "_RYfnoYSTCGO"
      },
      "execution_count": 47,
      "outputs": []
    },
    {
      "cell_type": "code",
      "source": [
        "plot_class_distribution(y_under, title=\"Class Distribution in Undersampled Training Set\")"
      ],
      "metadata": {
        "id": "CArwVDd7TCa-",
        "colab": {
          "base_uri": "https://localhost:8080/",
          "height": 487
        },
        "outputId": "ba0ff561-0368-4b94-8679-28920e1c774c"
      },
      "execution_count": 48,
      "outputs": [
        {
          "output_type": "display_data",
          "data": {
            "text/plain": [
              "<Figure size 640x480 with 1 Axes>"
            ],
            "image/png": "[encoded data removed]"
          },
          "metadata": {}
        }
      ]
    },
    {
      "cell_type": "markdown",
      "source": [
        "<font color='red'> Re-train your classifier on **undersampled** version of the dataset and use `compute_and_print_metrics` to evaluate it. </font>\n",
        "\n"
      ],
      "metadata": {
        "id": "mGrx165hKylk"
      }
    },
    {
      "cell_type": "code",
      "source": [
        "#### YOUR CODE STARTS ####\n",
        "classifier_under = LogisticRegression(random_state=42)\n",
        "classifier_under.fit(X_under, y_under)\n",
        "#### YOUR CODE ENDS ####"
      ],
      "metadata": {
        "id": "RbKWjamuGuAS",
        "colab": {
          "base_uri": "https://localhost:8080/",
          "height": 80
        },
        "outputId": "538936b8-af39-49f6-cdd9-3d8d127eccc4"
      },
      "execution_count": 49,
      "outputs": [
        {
          "output_type": "execute_result",
          "data": {
            "text/plain": [
              "LogisticRegression(random_state=42)"
            ],
            "text/html": [
              "<style>#sk-container-id-3 {\n",
              "  /* Definition of color scheme common for light and dark mode */\n",
              "  --sklearn-color-text: black;\n",
              "  --sklearn-color-line: gray;\n",
              "  /* Definition of color scheme for unfitted estimators */\n",
              "  --sklearn-color-unfitted-level-0: #fff5e6;\n",
              "  --sklearn-color-unfitted-level-1: #f6e4d2;\n",
              "  --sklearn-color-unfitted-level-2: #ffe0b3;\n",
              "  --sklearn-color-unfitted-level-3: chocolate;\n",
              "  /* Definition of color scheme for fitted estimators */\n",
              "  --sklearn-color-fitted-level-0: #f0f8ff;\n",
              "  --sklearn-color-fitted-level-1: #d4ebff;\n",
              "  --sklearn-color-fitted-level-2: #b3dbfd;\n",
              "  --sklearn-color-fitted-level-3: cornflowerblue;\n",
              "\n",
              "  /* Specific color for light theme */\n",
              "  --sklearn-color-text-on-default-background: var(--sg-text-color, var(--theme-code-foreground, var(--jp-content-font-color1, black)));\n",
              "  --sklearn-color-background: var(--sg-background-color, var(--theme-background, var(--jp-layout-color0, white)));\n",
              "  --sklearn-color-border-box: var(--sg-text-color, var(--theme-code-foreground, var(--jp-content-font-color1, black)));\n",
              "  --sklearn-color-icon: #696969;\n",
              "\n",
              "  @media (prefers-color-scheme: dark) {\n",
              "    /* Redefinition of color scheme for dark theme */\n",
              "    --sklearn-color-text-on-default-background: var(--sg-text-color, var(--theme-code-foreground, var(--jp-content-font-color1, white)));\n",
              "    --sklearn-color-background: var(--sg-background-color, var(--theme-background, var(--jp-layout-color0, #111)));\n",
              "    --sklearn-color-border-box: var(--sg-text-color, var(--theme-code-foreground, var(--jp-content-font-color1, white)));\n",
              "    --sklearn-color-icon: #878787;\n",
              "  }\n",
              "}\n",
              "\n",
              "#sk-container-id-3 {\n",
              "  color: var(--sklearn-color-text);\n",
              "}\n",
              "\n",
              "#sk-container-id-3 pre {\n",
              "  padding: 0;\n",
              "}\n",
              "\n",
              "#sk-container-id-3 input.sk-hidden--visually {\n",
              "  border: 0;\n",
              "  clip: rect(1px 1px 1px 1px);\n",
              "  clip: rect(1px, 1px, 1px, 1px);\n",
              "  height: 1px;\n",
              "  margin: -1px;\n",
              "  overflow: hidden;\n",
              "  padding: 0;\n",
              "  position: absolute;\n",
              "  width: 1px;\n",
              "}\n",
              "\n",
              "#sk-container-id-3 div.sk-dashed-wrapped {\n",
              "  border: 1px dashed var(--sklearn-color-line);\n",
              "  margin: 0 0.4em 0.5em 0.4em;\n",
              "  box-sizing: border-box;\n",
              "  padding-bottom: 0.4em;\n",
              "  background-color: var(--sklearn-color-background);\n",
              "}\n",
              "\n",
              "#sk-container-id-3 div.sk-container {\n",
              "  /* jupyter's `normalize.less` sets `[hidden] { display: none; }`\n",
              "     but bootstrap.min.css set `[hidden] { display: none !important; }`\n",
              "     so we also need the `!important` here to be able to override the\n",
              "     default hidden behavior on the sphinx rendered scikit-learn.org.\n",
              "     See: https://github.com/scikit-learn/scikit-learn/issues/21755 */\n",
              "  display: inline-block !important;\n",
              "  position: relative;\n",
              "}\n",
              "\n",
              "#sk-container-id-3 div.sk-text-repr-fallback {\n",
              "  display: none;\n",
              "}\n",
              "\n",
              "div.sk-parallel-item,\n",
              "div.sk-serial,\n",
              "div.sk-item {\n",
              "  /* draw centered vertical line to link estimators */\n",
              "  background-image: linear-gradient(var(--sklearn-color-text-on-default-background), var(--sklearn-color-text-on-default-background));\n",
              "  background-size: 2px 100%;\n",
              "  background-repeat: no-repeat;\n",
              "  background-position: center center;\n",
              "}\n",
              "\n",
              "/* Parallel-specific style estimator block */\n",
              "\n",
              "#sk-container-id-3 div.sk-parallel-item::after {\n",
              "  content: \"\";\n",
              "  width: 100%;\n",
              "  border-bottom: 2px solid var(--sklearn-color-text-on-default-background);\n",
              "  flex-grow: 1;\n",
              "}\n",
              "\n",
              "#sk-container-id-3 div.sk-parallel {\n",
              "  display: flex;\n",
              "  align-items: stretch;\n",
              "  justify-content: center;\n",
              "  background-color: var(--sklearn-color-background);\n",
              "  position: relative;\n",
              "}\n",
              "\n",
              "#sk-container-id-3 div.sk-parallel-item {\n",
              "  display: flex;\n",
              "  flex-direction: column;\n",
              "}\n",
              "\n",
              "#sk-container-id-3 div.sk-parallel-item:first-child::after {\n",
              "  align-self: flex-end;\n",
              "  width: 50%;\n",
              "}\n",
              "\n",
              "#sk-container-id-3 div.sk-parallel-item:last-child::after {\n",
              "  align-self: flex-start;\n",
              "  width: 50%;\n",
              "}\n",
              "\n",
              "#sk-container-id-3 div.sk-parallel-item:only-child::after {\n",
              "  width: 0;\n",
              "}\n",
              "\n",
              "/* Serial-specific style estimator block */\n",
              "\n",
              "#sk-container-id-3 div.sk-serial {\n",
              "  display: flex;\n",
              "  flex-direction: column;\n",
              "  align-items: center;\n",
              "  background-color: var(--sklearn-color-background);\n",
              "  padding-right: 1em;\n",
              "  padding-left: 1em;\n",
              "}\n",
              "\n",
              "\n",
              "/* Toggleable style: style used for estimator/Pipeline/ColumnTransformer box that is\n",
              "clickable and can be expanded/collapsed.\n",
              "- Pipeline and ColumnTransformer use this feature and define the default style\n",
              "- Estimators will overwrite some part of the style using the `sk-estimator` class\n",
              "*/\n",
              "\n",
              "/* Pipeline and ColumnTransformer style (default) */\n",
              "\n",
              "#sk-container-id-3 div.sk-toggleable {\n",
              "  /* Default theme specific background. It is overwritten whether we have a\n",
              "  specific estimator or a Pipeline/ColumnTransformer */\n",
              "  background-color: var(--sklearn-color-background);\n",
              "}\n",
              "\n",
              "/* Toggleable label */\n",
              "#sk-container-id-3 label.sk-toggleable__label {\n",
              "  cursor: pointer;\n",
              "  display: block;\n",
              "  width: 100%;\n",
              "  margin-bottom: 0;\n",
              "  padding: 0.5em;\n",
              "  box-sizing: border-box;\n",
              "  text-align: center;\n",
              "}\n",
              "\n",
              "#sk-container-id-3 label.sk-toggleable__label-arrow:before {\n",
              "  /* Arrow on the left of the label */\n",
              "  content: \"▸\";\n",
              "  float: left;\n",
              "  margin-right: 0.25em;\n",
              "  color: var(--sklearn-color-icon);\n",
              "}\n",
              "\n",
              "#sk-container-id-3 label.sk-toggleable__label-arrow:hover:before {\n",
              "  color: var(--sklearn-color-text);\n",
              "}\n",
              "\n",
              "/* Toggleable content - dropdown */\n",
              "\n",
              "#sk-container-id-3 div.sk-toggleable__content {\n",
              "  max-height: 0;\n",
              "  max-width: 0;\n",
              "  overflow: hidden;\n",
              "  text-align: left;\n",
              "  /* unfitted */\n",
              "  background-color: var(--sklearn-color-unfitted-level-0);\n",
              "}\n",
              "\n",
              "#sk-container-id-3 div.sk-toggleable__content.fitted {\n",
              "  /* fitted */\n",
              "  background-color: var(--sklearn-color-fitted-level-0);\n",
              "}\n",
              "\n",
              "#sk-container-id-3 div.sk-toggleable__content pre {\n",
              "  margin: 0.2em;\n",
              "  border-radius: 0.25em;\n",
              "  color: var(--sklearn-color-text);\n",
              "  /* unfitted */\n",
              "  background-color: var(--sklearn-color-unfitted-level-0);\n",
              "}\n",
              "\n",
              "#sk-container-id-3 div.sk-toggleable__content.fitted pre {\n",
              "  /* unfitted */\n",
              "  background-color: var(--sklearn-color-fitted-level-0);\n",
              "}\n",
              "\n",
              "#sk-container-id-3 input.sk-toggleable__control:checked~div.sk-toggleable__content {\n",
              "  /* Expand drop-down */\n",
              "  max-height: 200px;\n",
              "  max-width: 100%;\n",
              "  overflow: auto;\n",
              "}\n",
              "\n",
              "#sk-container-id-3 input.sk-toggleable__control:checked~label.sk-toggleable__label-arrow:before {\n",
              "  content: \"▾\";\n",
              "}\n",
              "\n",
              "/* Pipeline/ColumnTransformer-specific style */\n",
              "\n",
              "#sk-container-id-3 div.sk-label input.sk-toggleable__control:checked~label.sk-toggleable__label {\n",
              "  color: var(--sklearn-color-text);\n",
              "  background-color: var(--sklearn-color-unfitted-level-2);\n",
              "}\n",
              "\n",
              "#sk-container-id-3 div.sk-label.fitted input.sk-toggleable__control:checked~label.sk-toggleable__label {\n",
              "  background-color: var(--sklearn-color-fitted-level-2);\n",
              "}\n",
              "\n",
              "/* Estimator-specific style */\n",
              "\n",
              "/* Colorize estimator box */\n",
              "#sk-container-id-3 div.sk-estimator input.sk-toggleable__control:checked~label.sk-toggleable__label {\n",
              "  /* unfitted */\n",
              "  background-color: var(--sklearn-color-unfitted-level-2);\n",
              "}\n",
              "\n",
              "#sk-container-id-3 div.sk-estimator.fitted input.sk-toggleable__control:checked~label.sk-toggleable__label {\n",
              "  /* fitted */\n",
              "  background-color: var(--sklearn-color-fitted-level-2);\n",
              "}\n",
              "\n",
              "#sk-container-id-3 div.sk-label label.sk-toggleable__label,\n",
              "#sk-container-id-3 div.sk-label label {\n",
              "  /* The background is the default theme color */\n",
              "  color: var(--sklearn-color-text-on-default-background);\n",
              "}\n",
              "\n",
              "/* On hover, darken the color of the background */\n",
              "#sk-container-id-3 div.sk-label:hover label.sk-toggleable__label {\n",
              "  color: var(--sklearn-color-text);\n",
              "  background-color: var(--sklearn-color-unfitted-level-2);\n",
              "}\n",
              "\n",
              "/* Label box, darken color on hover, fitted */\n",
              "#sk-container-id-3 div.sk-label.fitted:hover label.sk-toggleable__label.fitted {\n",
              "  color: var(--sklearn-color-text);\n",
              "  background-color: var(--sklearn-color-fitted-level-2);\n",
              "}\n",
              "\n",
              "/* Estimator label */\n",
              "\n",
              "#sk-container-id-3 div.sk-label label {\n",
              "  font-family: monospace;\n",
              "  font-weight: bold;\n",
              "  display: inline-block;\n",
              "  line-height: 1.2em;\n",
              "}\n",
              "\n",
              "#sk-container-id-3 div.sk-label-container {\n",
              "  text-align: center;\n",
              "}\n",
              "\n",
              "/* Estimator-specific */\n",
              "#sk-container-id-3 div.sk-estimator {\n",
              "  font-family: monospace;\n",
              "  border: 1px dotted var(--sklearn-color-border-box);\n",
              "  border-radius: 0.25em;\n",
              "  box-sizing: border-box;\n",
              "  margin-bottom: 0.5em;\n",
              "  /* unfitted */\n",
              "  background-color: var(--sklearn-color-unfitted-level-0);\n",
              "}\n",
              "\n",
              "#sk-container-id-3 div.sk-estimator.fitted {\n",
              "  /* fitted */\n",
              "  background-color: var(--sklearn-color-fitted-level-0);\n",
              "}\n",
              "\n",
              "/* on hover */\n",
              "#sk-container-id-3 div.sk-estimator:hover {\n",
              "  /* unfitted */\n",
              "  background-color: var(--sklearn-color-unfitted-level-2);\n",
              "}\n",
              "\n",
              "#sk-container-id-3 div.sk-estimator.fitted:hover {\n",
              "  /* fitted */\n",
              "  background-color: var(--sklearn-color-fitted-level-2);\n",
              "}\n",
              "\n",
              "/* Specification for estimator info (e.g. \"i\" and \"?\") */\n",
              "\n",
              "/* Common style for \"i\" and \"?\" */\n",
              "\n",
              ".sk-estimator-doc-link,\n",
              "a:link.sk-estimator-doc-link,\n",
              "a:visited.sk-estimator-doc-link {\n",
              "  float: right;\n",
              "  font-size: smaller;\n",
              "  line-height: 1em;\n",
              "  font-family: monospace;\n",
              "  background-color: var(--sklearn-color-background);\n",
              "  border-radius: 1em;\n",
              "  height: 1em;\n",
              "  width: 1em;\n",
              "  text-decoration: none !important;\n",
              "  margin-left: 1ex;\n",
              "  /* unfitted */\n",
              "  border: var(--sklearn-color-unfitted-level-1) 1pt solid;\n",
              "  color: var(--sklearn-color-unfitted-level-1);\n",
              "}\n",
              "\n",
              ".sk-estimator-doc-link.fitted,\n",
              "a:link.sk-estimator-doc-link.fitted,\n",
              "a:visited.sk-estimator-doc-link.fitted {\n",
              "  /* fitted */\n",
              "  border: var(--sklearn-color-fitted-level-1) 1pt solid;\n",
              "  color: var(--sklearn-color-fitted-level-1);\n",
              "}\n",
              "\n",
              "/* On hover */\n",
              "div.sk-estimator:hover .sk-estimator-doc-link:hover,\n",
              ".sk-estimator-doc-link:hover,\n",
              "div.sk-label-container:hover .sk-estimator-doc-link:hover,\n",
              ".sk-estimator-doc-link:hover {\n",
              "  /* unfitted */\n",
              "  background-color: var(--sklearn-color-unfitted-level-3);\n",
              "  color: var(--sklearn-color-background);\n",
              "  text-decoration: none;\n",
              "}\n",
              "\n",
              "div.sk-estimator.fitted:hover .sk-estimator-doc-link.fitted:hover,\n",
              ".sk-estimator-doc-link.fitted:hover,\n",
              "div.sk-label-container:hover .sk-estimator-doc-link.fitted:hover,\n",
              ".sk-estimator-doc-link.fitted:hover {\n",
              "  /* fitted */\n",
              "  background-color: var(--sklearn-color-fitted-level-3);\n",
              "  color: var(--sklearn-color-background);\n",
              "  text-decoration: none;\n",
              "}\n",
              "\n",
              "/* Span, style for the box shown on hovering the info icon */\n",
              ".sk-estimator-doc-link span {\n",
              "  display: none;\n",
              "  z-index: 9999;\n",
              "  position: relative;\n",
              "  font-weight: normal;\n",
              "  right: .2ex;\n",
              "  padding: .5ex;\n",
              "  margin: .5ex;\n",
              "  width: min-content;\n",
              "  min-width: 20ex;\n",
              "  max-width: 50ex;\n",
              "  color: var(--sklearn-color-text);\n",
              "  box-shadow: 2pt 2pt 4pt #999;\n",
              "  /* unfitted */\n",
              "  background: var(--sklearn-color-unfitted-level-0);\n",
              "  border: .5pt solid var(--sklearn-color-unfitted-level-3);\n",
              "}\n",
              "\n",
              ".sk-estimator-doc-link.fitted span {\n",
              "  /* fitted */\n",
              "  background: var(--sklearn-color-fitted-level-0);\n",
              "  border: var(--sklearn-color-fitted-level-3);\n",
              "}\n",
              "\n",
              ".sk-estimator-doc-link:hover span {\n",
              "  display: block;\n",
              "}\n",
              "\n",
              "/* \"?\"-specific style due to the `<a>` HTML tag */\n",
              "\n",
              "#sk-container-id-3 a.estimator_doc_link {\n",
              "  float: right;\n",
              "  font-size: 1rem;\n",
              "  line-height: 1em;\n",
              "  font-family: monospace;\n",
              "  background-color: var(--sklearn-color-background);\n",
              "  border-radius: 1rem;\n",
              "  height: 1rem;\n",
              "  width: 1rem;\n",
              "  text-decoration: none;\n",
              "  /* unfitted */\n",
              "  color: var(--sklearn-color-unfitted-level-1);\n",
              "  border: var(--sklearn-color-unfitted-level-1) 1pt solid;\n",
              "}\n",
              "\n",
              "#sk-container-id-3 a.estimator_doc_link.fitted {\n",
              "  /* fitted */\n",
              "  border: var(--sklearn-color-fitted-level-1) 1pt solid;\n",
              "  color: var(--sklearn-color-fitted-level-1);\n",
              "}\n",
              "\n",
              "/* On hover */\n",
              "#sk-container-id-3 a.estimator_doc_link:hover {\n",
              "  /* unfitted */\n",
              "  background-color: var(--sklearn-color-unfitted-level-3);\n",
              "  color: var(--sklearn-color-background);\n",
              "  text-decoration: none;\n",
              "}\n",
              "\n",
              "#sk-container-id-3 a.estimator_doc_link.fitted:hover {\n",
              "  /* fitted */\n",
              "  background-color: var(--sklearn-color-fitted-level-3);\n",
              "}\n",
              "</style><div id=\"sk-container-id-3\" class=\"sk-top-container\"><div class=\"sk-text-repr-fallback\"><pre>LogisticRegression(random_state=42)</pre><b>In a Jupyter environment, please rerun this cell to show the HTML representation or trust the notebook. <br />On GitHub, the HTML representation is unable to render, please try loading this page with nbviewer.org.</b></div><div class=\"sk-container\" hidden><div class=\"sk-item\"><div class=\"sk-estimator fitted sk-toggleable\"><input class=\"sk-toggleable__control sk-hidden--visually\" id=\"sk-estimator-id-3\" type=\"checkbox\" checked><label for=\"sk-estimator-id-3\" class=\"sk-toggleable__label fitted sk-toggleable__label-arrow fitted\">&nbsp;&nbsp;LogisticRegression<a class=\"sk-estimator-doc-link fitted\" rel=\"noreferrer\" target=\"_blank\" href=\"https://scikit-learn.org/1.5/modules/generated/sklearn.linear_model.LogisticRegression.html\">?<span>Documentation for LogisticRegression</span></a><span class=\"sk-estimator-doc-link fitted\">i<span>Fitted</span></span></label><div class=\"sk-toggleable__content fitted\"><pre>LogisticRegression(random_state=42)</pre></div> </div></div></div></div>"
            ]
          },
          "metadata": {},
          "execution_count": 49
        }
      ]
    },
    {
      "cell_type": "code",
      "source": [
        "y_pred_under = classifier_under.predict(X_test_transformed)\n",
        "compute_and_print_metrics(y_test['class'], y_pred_under)"
      ],
      "metadata": {
        "colab": {
          "base_uri": "https://localhost:8080/"
        },
        "id": "OUGIETouamQp",
        "outputId": "989733ed-daae-473b-a86b-e96ee87b8adb"
      },
      "execution_count": 50,
      "outputs": [
        {
          "output_type": "stream",
          "name": "stdout",
          "text": [
            "Accuracy: 0.7233\n",
            "Precision (bad as positive): 0.5317\n",
            "Recall (bad as positive): 0.7363\n",
            "F1 Score (bad as positive): 0.6175\n",
            "Matthews Correlation Coefficient: 0.4228\n"
          ]
        }
      ]
    },
    {
      "cell_type": "markdown",
      "source": [
        "<font color='red'> Below use an approach that combines **over-** and **undersampling**. </font>"
      ],
      "metadata": {
        "id": "mS3rSnK-LG4J"
      }
    },
    {
      "cell_type": "code",
      "source": [
        "from imblearn.combine import SMOTEENN\n",
        "from sklearn.linear_model import LogisticRegression\n",
        "\n",
        "#### YOUR CODE STARTS ####\n",
        "smoteenn = SMOTEENN(random_state=42)\n",
        "X_overunder, y_overunder = smoteenn.fit_resample(X_train_transformed, y_train['class'])\n",
        "#### YOUR CODE ENDS ####"
      ],
      "metadata": {
        "id": "U6E_vHWcUXLH"
      },
      "execution_count": 51,
      "outputs": []
    },
    {
      "cell_type": "code",
      "source": [
        "plot_class_distribution(y_overunder, title=\"Class Distribution in Over- and Undersampled Training Set\")"
      ],
      "metadata": {
        "id": "wFElNbOwUs4j",
        "colab": {
          "base_uri": "https://localhost:8080/",
          "height": 487
        },
        "outputId": "ea35c618-ead3-48de-edff-e84c60a01a99"
      },
      "execution_count": 52,
      "outputs": [
        {
          "output_type": "display_data",
          "data": {
            "text/plain": [
              "<Figure size 640x480 with 1 Axes>"
            ],
            "image/png": "[encoded data removed]"
          },
          "metadata": {}
        }
      ]
    },
    {
      "cell_type": "markdown",
      "source": [
        "<font color='red'> Re-train your classifier on **over + undersampled** version of the dataset and use `compute_and_print_metrics` to evaluate it. </font>"
      ],
      "metadata": {
        "id": "3d_aiHQ1qrcM"
      }
    },
    {
      "cell_type": "code",
      "source": [
        "#### YOUR CODE STARTS ####\n",
        "classifier_overunder = LogisticRegression(random_state=42)\n",
        "classifier_overunder.fit(X_overunder, y_overunder)\n",
        "#### YOUR CODE ENDS ####\n",
        "y_pred_overunder = classifier_overunder.predict(X_test_transformed)\n",
        "compute_and_print_metrics(y_test['class'], y_pred_overunder)"
      ],
      "metadata": {
        "id": "G8lf2YHeUzB1",
        "colab": {
          "base_uri": "https://localhost:8080/"
        },
        "outputId": "1c69d744-3eb8-4807-8368-d37b3f886623"
      },
      "execution_count": 54,
      "outputs": [
        {
          "output_type": "stream",
          "name": "stdout",
          "text": [
            "Accuracy: 0.6467\n",
            "Precision (bad as positive): 0.4540\n",
            "Recall (bad as positive): 0.8132\n",
            "F1 Score (bad as positive): 0.5827\n",
            "Matthews Correlation Coefficient: 0.3575\n"
          ]
        }
      ]
    },
    {
      "cell_type": "markdown",
      "source": [
        "<font color='red'>  **(Homework exercise 3- c)** Visualise ROC and PR curves for all four classifiers you have trained. Generate two plots, one for ROC curves and one for PR curves. **(1 point)**</font>\n"
      ],
      "metadata": {
        "id": "J_h4JYgXatMN"
      }
    },
    {
      "cell_type": "markdown",
      "source": [
        "<font color='red'> Below visualise corresponding **ROC** curves. </font>"
      ],
      "metadata": {
        "id": "5k_zx4X1PpGi"
      }
    },
    {
      "cell_type": "code",
      "source": [
        "# Define classifier names and predicted probabilities\n",
        "classifiers = [classifier_over, classifier_under, classifier_overunder]\n",
        "class_names = ['Over-sampling', 'Under-sampling', 'Combined approach']"
      ],
      "metadata": {
        "id": "Fm3NSeNHLfjT"
      },
      "execution_count": 59,
      "outputs": []
    },
    {
      "cell_type": "code",
      "source": [
        "import matplotlib.pyplot as plt\n",
        "from sklearn.metrics import roc_curve, auc # Import roc_curve and auc\n",
        "\n",
        "# Set up plot for ROC curves\n",
        "plt.figure(figsize=(8, 6))\n",
        "\n",
        "# For each classifier, calculate ROC and plot\n",
        "for classifier, name in zip(classifiers, class_names):\n",
        "    # Get the predicted probabilities for the positive class\n",
        "    y_prob = classifier.predict_proba(X_test_transformed)[:, 1]\n",
        "\n",
        "    # Calculate ROC curve, treating 'bad' as the positive class\n",
        "    fpr, tpr, _ = roc_curve(y_test['class'], y_prob, pos_label='bad')\n",
        "\n",
        "    # Calculate AUC (Area Under the Curve)\n",
        "    roc_auc = auc(fpr, tpr)\n",
        "\n",
        "    # Plot the ROC curve\n",
        "    plt.plot(fpr, tpr, label=f'{name} (AUC = {roc_auc:.2f})')\n",
        "\n",
        "# Plot the diagonal line (random classifier)\n",
        "plt.plot([0, 1], [0, 1], 'k--', label='Random Classifier (AUC = 0.50)')\n",
        "\n",
        "# Add labels and legend\n",
        "plt.title('ROC Curves')\n",
        "plt.xlabel('False Positive Rate')\n",
        "plt.ylabel('True Positive Rate')\n",
        "plt.legend(loc='lower right')\n",
        "plt.grid(True)\n",
        "plt.show()"
      ],
      "metadata": {
        "colab": {
          "base_uri": "https://localhost:8080/",
          "height": 564
        },
        "id": "5FTramDna-Cq",
        "outputId": "bbf0f2b6-cf1a-4026-92eb-2f0d8f133cab"
      },
      "execution_count": 61,
      "outputs": [
        {
          "output_type": "display_data",
          "data": {
            "text/plain": [
              "<Figure size 800x600 with 1 Axes>"
            ],
            "image/png": "[encoded data removed]"
          },
          "metadata": {}
        }
      ]
    },
    {
      "cell_type": "markdown",
      "source": [
        "<font color='red'> Below visualise corresponding **PR** curves. </font>"
      ],
      "metadata": {
        "id": "OEjTkEdkP7Cd"
      }
    },
    {
      "cell_type": "code",
      "source": [
        "#### YOUR CODE STARTS ####\n",
        "# Set up plot for PR curves\n",
        "plt.figure(figsize=(8, 6))\n",
        "\n",
        "# For each classifier, calculate Precision-Recall curve and plot\n",
        "for classifier, name in zip(classifiers, class_names):\n",
        "    # Get the predicted probabilities for the positive class\n",
        "    y_prob = classifier.predict_proba(X_test_transformed)[:, 1]\n",
        "\n",
        "    # Calculate Precision-Recall curve, treating 'bad' as the positive class\n",
        "    precision, recall, _ = precision_recall_curve(y_test['class'], y_prob, pos_label='bad')\n",
        "\n",
        "    # Plot the PR curve\n",
        "    plt.plot(recall, precision, label=f'{name} (PR curve)')\n",
        "\n",
        "# Add labels and legend\n",
        "plt.title('Precision-Recall Curves')\n",
        "plt.xlabel('Recall')\n",
        "plt.ylabel('Precision')\n",
        "plt.legend(loc='lower left')\n",
        "plt.grid(True)\n",
        "plt.show()\n",
        "#### YOUR CODE ENDS ####"
      ],
      "metadata": {
        "id": "Z6lCUnC9MO6H",
        "colab": {
          "base_uri": "https://localhost:8080/",
          "height": 564
        },
        "outputId": "ef94a093-4d33-4bc5-81d6-1d6af141084a"
      },
      "execution_count": 62,
      "outputs": [
        {
          "output_type": "display_data",
          "data": {
            "text/plain": [
              "<Figure size 800x600 with 1 Axes>"
            ],
            "image/png": "[encoded data removed]"
          },
          "metadata": {}
        }
      ]
    },
    {
      "cell_type": "markdown",
      "source": [
        "<font color='red'>  **(Homework exercise 3- d)** Answer the following questions, make sure to sufficiently but not excessively justify your reasoning (consider `good` to be a negative class):\n",
        "* <font color='red'> Which metric would you choose if you wanted to minimise the number of people you reject as characterised by `bad` credict risk (e.g. you want to avoid lawsuits)? </font>\n",
        "* <font color='red'> Which metric would you choose if you wanted to make sure that bank does not give loans to people who potentially cannot return it? </font>\n",
        "* <font color='red'> Which metrics are a good choice when both types of mistakes should be accounted for on unbalanced data? Mention at least two options. </font>\n",
        "\n",
        "**(1 point)**</font>"
      ],
      "metadata": {
        "id": "Tl9j70cDbeqg"
      }
    },
    {
      "cell_type": "markdown",
      "source": [
        "Your answers:\n",
        "Reducing rejected people who aren't bad credit risks (avoiding lawsuits):\n",
        "Use Recall. A high recall ensures most \"bad\" credit risks are correctly identified, so fewer good applicants are mistakenly rejected.\n",
        "\n",
        "Avoiding loans to people who can't repay:\n",
        "Use Precision. High precision minimizes mistakes where good applicants are wrongly flagged as bad, ensuring loans are not given to risky applicants.\n",
        "\n",
        "When both kinds of mistakes matter on unbalanced data:\n",
        "Use F1-score to balance precision and recall, or Matthews Correlation Coefficient (MCC) for a more comprehensive measure, especially with unbalanced datasets."
      ],
      "metadata": {
        "id": "9R3qi4NcIVtr"
      }
    },
    {
      "cell_type": "markdown",
      "metadata": {
        "id": "0JgT9L827Ckb"
      },
      "source": [
        "# Comments (optional feedback to the course instructors)\n",
        "Here, please, leave your comments regarding the homework, possibly answering the following questions:\n",
        "* how much time did you send on this homework?\n",
        "* was it too hard/easy for you?\n",
        "* what would you suggest to add or remove?\n",
        "* anything else you would like to tell us"
      ]
    },
    {
      "cell_type": "markdown",
      "metadata": {
        "id": "22VPt-05s-Yg"
      },
      "source": [
        "Your comments:"
      ]
    },
    {
      "cell_type": "markdown",
      "source": [
        "# <font color='red'>  End of the homework. Please don't delete this cell.</font>"
      ],
      "metadata": {
        "id": "_VXRWrUnCnyQ"
      }
    }
  ]
}